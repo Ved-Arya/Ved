{
 "cells": [
  {
   "cell_type": "markdown",
   "metadata": {},
   "source": [
    "# Assignment"
   ]
  },
  {
   "cell_type": "markdown",
   "metadata": {},
   "source": [
    "Link for Datasets\n",
    "(https://drive.google.com/drive/folders/105ftuIwN9kqyPNEEm3E6IM7LqywjyvJa?usp=sharing)"
   ]
  },
  {
   "cell_type": "markdown",
   "metadata": {},
   "source": [
    "Q21. Write a pandas program to import three datasheets from a given\n",
    "excel data (coalpublic2013.xlsx ) in to a single dataframe.\n",
    " \n",
    "Note: Structure of three datasheets are same."
   ]
  },
  {
   "cell_type": "code",
   "execution_count": 1,
   "metadata": {},
   "outputs": [
    {
     "name": "stdout",
     "output_type": "stream",
     "text": [
      "    Year  MSHA ID                       Mine_Name  Production  Labor_Hours\n",
      "0   2013   103381            Tacoa Highwall Miner       56004        22392\n",
      "1   2013   103404                Reid School Mine       28807        28447\n",
      "2   2013   100759  North River #1 Underground Min     1440115       474784\n",
      "3   2013   103246                      Bear Creek       87587        29193\n",
      "4   2013   103451                     Knight Mine      147499        46393\n",
      "5   2013   103433              Crane Central Mine       69339        47195\n",
      "6   2013   100329                    Concord Mine           0       144002\n",
      "7   2013   100851                  Oak Grove Mine     2269014      1001809\n",
      "8   2013   102901                Shoal Creek Mine           0        12396\n",
      "9   2013   102901                Shoal Creek Mine     1453024      1237415\n",
      "10  2013   103180             Sloan Mountain Mine      327780       196963\n",
      "11  2013   103182                        Fishtrap      175058        87314\n",
      "12  2013   103285                     Narley Mine      154861        90584\n",
      "13  2013   103332                   Powhatan Mine      140521        61394\n",
      "14  2013   103375                    Johnson Mine         580         1900\n",
      "15  2013   103419               Maxine-Pratt Mine      125824       107469\n",
      "16  2013   103432                   Skelton Creek        8252          220\n",
      "17  2013   103437         Black Warrior Mine No 1      145924        70926\n",
      "18  2013   102976   Piney Woods Preparation Plant           0        14828\n",
      "19  2013   102976   Piney Woods Preparation Plant           0        23193\n",
      "20  2013   103380                          Calera           0        12621\n",
      "21  2013   103380                          Calera           0         1402\n",
      "22  2013   103422                 Clark No 1 Mine      122727       140250\n",
      "23  2013   103467             Helena Surface Mine       59664        30539\n",
      "24  2013   101247                       No 4 Mine     2622528      1551141\n",
      "25  2013   101401                       No 7 Mine     5405412      2464719\n",
      "26  2013   103172  Searles Mine No. 2, 3, 4, 5, 6      258078       119542\n",
      "27  2013   103179             Fleetwood Mine No 1       75937        63745\n",
      "28  2013   103303                    Shannon Mine      317491       164388\n",
      "29  2013   103323                   Deerlick Mine      133452        46381\n",
      "..   ...      ...                             ...         ...          ...\n",
      "20  2013   103380                          Calera           0        12621\n",
      "21  2013   103380                          Calera           0         1402\n",
      "22  2013   103422                 Clark No 1 Mine      122727       140250\n",
      "23  2013   103467             Helena Surface Mine       59664        30539\n",
      "24  2013   101247                       No 4 Mine     2622528      1551141\n",
      "25  2013   101401                       No 7 Mine     5405412      2464719\n",
      "26  2013   103172  Searles Mine No. 2, 3, 4, 5, 6      258078       119542\n",
      "27  2013   103179             Fleetwood Mine No 1       75937        63745\n",
      "28  2013   103303                    Shannon Mine      317491       164388\n",
      "29  2013   103323                   Deerlick Mine      133452        46381\n",
      "30  2013   103364           Brc Alabama No. 7 Llc           0        14324\n",
      "31  2013   103436                Swann's Crossing      137511        77190\n",
      "32  2013   100347                    Choctaw Mine      537429       215295\n",
      "33  2013   101362                 Manchester Mine      219457       116914\n",
      "34  2013   102996                  Jap Creek Mine      375715       164093\n",
      "35  2013   103155              Corinth Prep Plant           0        27996\n",
      "36  2013   103155              Corinth Prep Plant           0        51994\n",
      "37  2013   103195     Mccollum/Sparks Branch Mine       71910        17411\n",
      "38  2013   103342             Reese's Branch Mine      263888       115123\n",
      "39  2013   103370             Cresent Valley Mine        2860          621\n",
      "40  2013   103372                 Cane Creek Mine       66258        32401\n",
      "41  2013   103376                      Town Creek      299167       176499\n",
      "42  2013   103389                Carbon Hill Mine       76241        84966\n",
      "43  2013   103410                Coal Valley Mine      407841       158591\n",
      "44  2013   103423                Dutton Hill Mine       37275         9162\n",
      "45  2013  1519322                         Ghm #25       25054         3108\n",
      "46  2013   103321                  Poplar Springs      189370        76366\n",
      "47  2013   103358                       Old Union      284563       161805\n",
      "48  2013  5000030                        Usibelli     1631584       286079\n",
      "49  2013   201195                    Kayenta Mine     7602722      1015333\n",
      "\n",
      "[100 rows x 5 columns]\n"
     ]
    }
   ],
   "source": [
    "def psaVedThreeDatasheets():\n",
    "    import numpy as np\n",
    "    import pandas as pd\n",
    "    fileOne = pd.read_excel('coalpublic2013.xlsx',sheet_name=0)\n",
    "    fileTwo = pd.read_excel('coalpublic2013One.xlsx',sheet_name=0)\n",
    "    fileThree = pd.read_excel('coalpublic2013.xlsx',sheet_name=0)\n",
    "    print(pd.concat([fileOne,fileTwo]))\n",
    "psaVedThreeDatasheets()"
   ]
  },
  {
   "cell_type": "markdown",
   "metadata": {},
   "source": [
    "Q 22. Write a pandas program to import three datasheets from a given\n",
    "excel data (employee.xlsx ) into a single data frame and export the\n",
    "result into new Excel file.\n",
    " \n",
    "Note: Structure of three datasheets are same."
   ]
  },
  {
   "cell_type": "code",
   "execution_count": 2,
   "metadata": {},
   "outputs": [
    {
     "name": "stdout",
     "output_type": "stream",
     "text": [
      "    Year  MSHA ID                       Mine_Name  Production  Labor_Hours\n",
      "0   2013   103381            Tacoa Highwall Miner       56004        22392\n",
      "1   2013   103404                Reid School Mine       28807        28447\n",
      "2   2013   100759  North River #1 Underground Min     1440115       474784\n",
      "3   2013   103246                      Bear Creek       87587        29193\n",
      "4   2013   103451                     Knight Mine      147499        46393\n",
      "5   2013   103433              Crane Central Mine       69339        47195\n",
      "6   2013   100329                    Concord Mine           0       144002\n",
      "7   2013   100851                  Oak Grove Mine     2269014      1001809\n",
      "8   2013   102901                Shoal Creek Mine           0        12396\n",
      "9   2013   102901                Shoal Creek Mine     1453024      1237415\n",
      "10  2013   103180             Sloan Mountain Mine      327780       196963\n",
      "11  2013   103182                        Fishtrap      175058        87314\n",
      "12  2013   103285                     Narley Mine      154861        90584\n",
      "13  2013   103332                   Powhatan Mine      140521        61394\n",
      "14  2013   103375                    Johnson Mine         580         1900\n",
      "15  2013   103419               Maxine-Pratt Mine      125824       107469\n",
      "16  2013   103432                   Skelton Creek        8252          220\n",
      "17  2013   103437         Black Warrior Mine No 1      145924        70926\n",
      "18  2013   102976   Piney Woods Preparation Plant           0        14828\n",
      "19  2013   102976   Piney Woods Preparation Plant           0        23193\n",
      "20  2013   103380                          Calera           0        12621\n",
      "21  2013   103380                          Calera           0         1402\n",
      "22  2013   103422                 Clark No 1 Mine      122727       140250\n",
      "23  2013   103467             Helena Surface Mine       59664        30539\n",
      "24  2013   101247                       No 4 Mine     2622528      1551141\n",
      "25  2013   101401                       No 7 Mine     5405412      2464719\n",
      "26  2013   103172  Searles Mine No. 2, 3, 4, 5, 6      258078       119542\n",
      "27  2013   103179             Fleetwood Mine No 1       75937        63745\n",
      "28  2013   103303                    Shannon Mine      317491       164388\n",
      "29  2013   103323                   Deerlick Mine      133452        46381\n",
      "..   ...      ...                             ...         ...          ...\n",
      "20  2013   103380                          Calera           0        12621\n",
      "21  2013   103380                          Calera           0         1402\n",
      "22  2013   103422                 Clark No 1 Mine      122727       140250\n",
      "23  2013   103467             Helena Surface Mine       59664        30539\n",
      "24  2013   101247                       No 4 Mine     2622528      1551141\n",
      "25  2013   101401                       No 7 Mine     5405412      2464719\n",
      "26  2013   103172  Searles Mine No. 2, 3, 4, 5, 6      258078       119542\n",
      "27  2013   103179             Fleetwood Mine No 1       75937        63745\n",
      "28  2013   103303                    Shannon Mine      317491       164388\n",
      "29  2013   103323                   Deerlick Mine      133452        46381\n",
      "30  2013   103364           Brc Alabama No. 7 Llc           0        14324\n",
      "31  2013   103436                Swann's Crossing      137511        77190\n",
      "32  2013   100347                    Choctaw Mine      537429       215295\n",
      "33  2013   101362                 Manchester Mine      219457       116914\n",
      "34  2013   102996                  Jap Creek Mine      375715       164093\n",
      "35  2013   103155              Corinth Prep Plant           0        27996\n",
      "36  2013   103155              Corinth Prep Plant           0        51994\n",
      "37  2013   103195     Mccollum/Sparks Branch Mine       71910        17411\n",
      "38  2013   103342             Reese's Branch Mine      263888       115123\n",
      "39  2013   103370             Cresent Valley Mine        2860          621\n",
      "40  2013   103372                 Cane Creek Mine       66258        32401\n",
      "41  2013   103376                      Town Creek      299167       176499\n",
      "42  2013   103389                Carbon Hill Mine       76241        84966\n",
      "43  2013   103410                Coal Valley Mine      407841       158591\n",
      "44  2013   103423                Dutton Hill Mine       37275         9162\n",
      "45  2013  1519322                         Ghm #25       25054         3108\n",
      "46  2013   103321                  Poplar Springs      189370        76366\n",
      "47  2013   103358                       Old Union      284563       161805\n",
      "48  2013  5000030                        Usibelli     1631584       286079\n",
      "49  2013   201195                    Kayenta Mine     7602722      1015333\n",
      "\n",
      "[100 rows x 5 columns]\n"
     ]
    }
   ],
   "source": [
    "def psaVedThreeDatasheetsExport():\n",
    "    import numpy as np\n",
    "    import pandas as pd\n",
    "    fileOne = pd.read_excel('coalpublic2013.xlsx',sheet_name=0)\n",
    "    fileTwo = pd.read_excel('coalpublic2013One.xlsx',sheet_name=0)\n",
    "    pd.concat([fileOne,fileTwo]).to_excel('newExcel.xlsx')\n",
    "    print(pd.read_excel('newExcel.xlsx'))\n",
    "psaVedThreeDatasheetsExport()"
   ]
  },
  {
   "cell_type": "markdown",
   "metadata": {},
   "source": [
    "Q23. Write a pandas program to create the Pivot table with multiple\n",
    "indexes from the data set of the titanic.csv."
   ]
  },
  {
   "cell_type": "code",
   "execution_count": 3,
   "metadata": {},
   "outputs": [
    {
     "name": "stdout",
     "output_type": "stream",
     "text": [
      "              Unnamed: 15  adult_male  alone      fare  parch  pclass  sibsp  \\\n",
      "sex    age                                                                     \n",
      "female 0.75           0.0         0.0    0.0   38.5166      2       6      4   \n",
      "       1.00           0.0         0.0    0.0   26.8750      3       6      1   \n",
      "       2.00           0.0         0.0    0.0  259.4750      9      15      9   \n",
      "       3.00           0.0         0.0    0.0   62.6542      3       5      4   \n",
      "       4.00           0.0         0.0    0.0  114.1417      6      13      4   \n",
      "       5.00           0.0         0.0    1.0   90.8708      5      11      7   \n",
      "       6.00           0.0         0.0    0.0   64.2750      3       5      4   \n",
      "       7.00           0.0         0.0    0.0   26.2500      2       2      0   \n",
      "       8.00           0.0         0.0    0.0   47.3250      3       5      3   \n",
      "       9.00           0.0         0.0    0.0  108.7958      7      12     10   \n",
      "       10.00          0.0         0.0    0.0   24.1500      2       3      0   \n",
      "       11.00          0.0         0.0    0.0   31.2750      2       3      4   \n",
      "       13.00          0.0         0.0    1.0   26.7292      1       5      0   \n",
      "       14.00          0.0         0.0    1.0  169.1667      2       9      3   \n",
      "       14.50          0.0         0.0    0.0   14.4542      0       3      1   \n",
      "       15.00          0.0         0.0    2.0  241.0459      1      10      1   \n",
      "       16.00          0.0         0.0    3.0  246.2625      4      12      5   \n",
      "       17.00          0.0         0.0    3.0  210.7833      2      12      6   \n",
      "       18.00          0.0         0.0    4.0  697.0167      9      31      6   \n",
      "       19.00          0.0         0.0    3.0  215.0959      2      13      3   \n",
      "       20.00          0.0         0.0    1.0   18.4875      0       6      1   \n",
      "       21.00          0.0         0.0    4.0  410.4333      4      16      5   \n",
      "       22.00          0.0         0.0    7.0  444.1084      6      26      3   \n",
      "       23.00          0.0         0.0    3.0  405.5417      2      10      4   \n",
      "       24.00          0.0         0.0    7.0  772.1708     15      31     10   \n",
      "       25.00          0.0         0.0    1.0  223.2500      4      11      3   \n",
      "       26.00          0.0         0.0    3.0  136.7292      1      12      2   \n",
      "       27.00          0.0         0.0    2.0   76.8916      3      15      2   \n",
      "       28.00          0.0         0.0    4.0  110.9458      1      16      3   \n",
      "       29.00          0.0         0.0    2.0  320.6208      7      16      3   \n",
      "...                   ...         ...    ...       ...    ...     ...    ...   \n",
      "male   42.00          0.0        10.0    6.0  216.1084      1      21      3   \n",
      "       43.00          0.0         3.0    2.0   40.7500      1       8      1   \n",
      "       44.00          0.0         6.0    3.0  156.1250      1      15      3   \n",
      "       45.00          0.0         6.0    5.0  187.1000      0      10      1   \n",
      "       45.50          0.0         2.0    2.0   35.7250      0       4      0   \n",
      "       46.00          0.0         3.0    2.0  166.3750      0       4      1   \n",
      "       47.00          0.0         7.0    7.0  181.3583      0      12      0   \n",
      "       48.00          0.0         5.0    3.0  176.1334      0       8      2   \n",
      "       49.00          0.0         4.0    1.0  256.9167      1       6      3   \n",
      "       50.00          0.0         5.0    2.0  317.0250      0       8      4   \n",
      "       51.00          0.0         6.0    5.0  123.3084      1      13      0   \n",
      "       52.00          0.0         4.0    3.0  136.6500      1       6      1   \n",
      "       54.00          0.0         5.0    3.0  195.1500      1       8      1   \n",
      "       55.00          0.0         1.0    1.0   30.5000      0       1      0   \n",
      "       55.50          0.0         1.0    1.0    8.0500      0       3      0   \n",
      "       56.00          0.0         3.0    3.0   92.7458      0       3      0   \n",
      "       57.00          0.0         1.0    1.0   12.3500      0       2      0   \n",
      "       58.00          0.0         2.0    1.0  142.9750      2       2      0   \n",
      "       59.00          0.0         2.0    2.0   20.7500      0       5      0   \n",
      "       60.00          0.0         3.0    1.0  144.7500      2       4      2   \n",
      "       61.00          0.0         3.0    3.0   72.0583      0       5      0   \n",
      "       62.00          0.0         3.0    3.0   63.6000      0       4      0   \n",
      "       64.00          0.0         2.0    1.0  289.0000      4       2      1   \n",
      "       65.00          0.0         3.0    2.0   96.2792      1       5      0   \n",
      "       66.00          0.0         1.0    1.0   10.5000      0       2      0   \n",
      "       70.00          0.0         2.0    1.0   81.5000      1       3      1   \n",
      "       70.50          0.0         1.0    1.0    7.7500      0       3      0   \n",
      "       71.00          0.0         2.0    2.0   84.1584      0       2      0   \n",
      "       74.00          0.0         1.0    1.0    7.7750      0       3      0   \n",
      "       80.00          0.0         1.0    1.0   30.0000      0       1      0   \n",
      "\n",
      "              survived  \n",
      "sex    age              \n",
      "female 0.75          2  \n",
      "       1.00          2  \n",
      "       2.00          2  \n",
      "       3.00          1  \n",
      "       4.00          5  \n",
      "       5.00          4  \n",
      "       6.00          1  \n",
      "       7.00          1  \n",
      "       8.00          1  \n",
      "       9.00          0  \n",
      "       10.00         0  \n",
      "       11.00         0  \n",
      "       13.00         2  \n",
      "       14.00         3  \n",
      "       14.50         0  \n",
      "       15.00         4  \n",
      "       16.00         5  \n",
      "       17.00         5  \n",
      "       18.00         8  \n",
      "       19.00         7  \n",
      "       20.00         0  \n",
      "       21.00         4  \n",
      "       22.00        10  \n",
      "       23.00         4  \n",
      "       24.00        14  \n",
      "       25.00         2  \n",
      "       26.00         3  \n",
      "       27.00         5  \n",
      "       28.00         5  \n",
      "       29.00         5  \n",
      "...                ...  \n",
      "male   42.00         3  \n",
      "       43.00         0  \n",
      "       44.00         1  \n",
      "       45.00         2  \n",
      "       45.50         0  \n",
      "       46.00         0  \n",
      "       47.00         0  \n",
      "       48.00         3  \n",
      "       49.00         2  \n",
      "       50.00         1  \n",
      "       51.00         1  \n",
      "       52.00         1  \n",
      "       54.00         0  \n",
      "       55.00         0  \n",
      "       55.50         0  \n",
      "       56.00         1  \n",
      "       57.00         0  \n",
      "       58.00         0  \n",
      "       59.00         0  \n",
      "       60.00         1  \n",
      "       61.00         0  \n",
      "       62.00         1  \n",
      "       64.00         0  \n",
      "       65.00         0  \n",
      "       66.00         0  \n",
      "       70.00         0  \n",
      "       70.50         0  \n",
      "       71.00         0  \n",
      "       74.00         0  \n",
      "       80.00         1  \n",
      "\n",
      "[145 rows x 8 columns]\n"
     ]
    }
   ],
   "source": [
    "def psaVedCreatePivotTable():\n",
    "    import numpy as np\n",
    "    import pandas as pd\n",
    "    oneFile = pd.read_csv('titanic.csv')\n",
    "    result = pd.pivot_table(oneFile, index = [\"sex\",\"age\"], aggfunc=np.sum)\n",
    "    print(result)\n",
    "psaVedCreatePivotTable()"
   ]
  },
  {
   "cell_type": "markdown",
   "metadata": {},
   "source": [
    "Q24. Write a Pandas program to create the Pivot table and find survival\n",
    "rate by gender?"
   ]
  },
  {
   "cell_type": "code",
   "execution_count": 4,
   "metadata": {},
   "outputs": [
    {
     "name": "stdout",
     "output_type": "stream",
     "text": [
      "        survived\n",
      "sex             \n",
      "female  0.742038\n",
      "male    0.188908\n"
     ]
    }
   ],
   "source": [
    "def psaVedCreatePivotTableAndFindSurvival():\n",
    "    import pandas as pd\n",
    "    import numpy as np\n",
    "    df = pd.read_csv('titanic.csv')\n",
    "    result=df.groupby('sex')[['survived']].mean()\n",
    "    print(result)\n",
    "psaVedCreatePivotTableAndFindSurvival()"
   ]
  },
  {
   "cell_type": "markdown",
   "metadata": {},
   "source": [
    "Q25. Write a pandas program to make partition each of the passengers\n",
    "into 4 categories based on their age.\n",
    " \n",
    "Note: Age categories- (0, 10), (10, 30), (30, 60), (60, 80)"
   ]
  },
  {
   "cell_type": "code",
   "execution_count": 5,
   "metadata": {},
   "outputs": [
    {
     "name": "stdout",
     "output_type": "stream",
     "text": [
      "0      (10, 30]\n",
      "1      (30, 60]\n",
      "2      (10, 30]\n",
      "3      (30, 60]\n",
      "4      (30, 60]\n",
      "5           NaN\n",
      "6      (30, 60]\n",
      "7       (0, 10]\n",
      "8      (10, 30]\n",
      "9      (10, 30]\n",
      "10      (0, 10]\n",
      "11     (30, 60]\n",
      "12     (10, 30]\n",
      "13     (30, 60]\n",
      "14     (10, 30]\n",
      "15     (30, 60]\n",
      "16      (0, 10]\n",
      "17          NaN\n",
      "18     (30, 60]\n",
      "19          NaN\n",
      "20     (30, 60]\n",
      "21     (30, 60]\n",
      "22     (10, 30]\n",
      "23     (10, 30]\n",
      "24      (0, 10]\n",
      "25     (30, 60]\n",
      "26          NaN\n",
      "27     (10, 30]\n",
      "28          NaN\n",
      "29          NaN\n",
      "         ...   \n",
      "861    (10, 30]\n",
      "862    (30, 60]\n",
      "863         NaN\n",
      "864    (10, 30]\n",
      "865    (30, 60]\n",
      "866    (10, 30]\n",
      "867    (30, 60]\n",
      "868         NaN\n",
      "869     (0, 10]\n",
      "870    (10, 30]\n",
      "871    (30, 60]\n",
      "872    (30, 60]\n",
      "873    (30, 60]\n",
      "874    (10, 30]\n",
      "875    (10, 30]\n",
      "876    (10, 30]\n",
      "877    (10, 30]\n",
      "878         NaN\n",
      "879    (30, 60]\n",
      "880    (10, 30]\n",
      "881    (30, 60]\n",
      "882    (10, 30]\n",
      "883    (10, 30]\n",
      "884    (10, 30]\n",
      "885    (30, 60]\n",
      "886    (10, 30]\n",
      "887    (10, 30]\n",
      "888         NaN\n",
      "889    (10, 30]\n",
      "890    (30, 60]\n",
      "Name: age, Length: 891, dtype: category\n",
      "Categories (4, interval[int64]): [(0, 10] < (10, 30] < (30, 60] < (60, 80]]\n"
     ]
    }
   ],
   "source": [
    "def psaVedMakePartition():\n",
    "    import pandas as pd\n",
    "    import numpy as np\n",
    "    df = pd.read_csv('titanic.csv')\n",
    "    result = pd.cut(df['age'], [0, 10, 30, 60, 80])\n",
    "    print(result)\n",
    "psaVedMakePartition()"
   ]
  },
  {
   "cell_type": "markdown",
   "metadata": {},
   "source": [
    "Q26. Write a pandas program to create the Pivot table and find survival\n",
    "rate by the gender, age of the different categories of various\n",
    "classes."
   ]
  },
  {
   "cell_type": "code",
   "execution_count": 6,
   "metadata": {},
   "outputs": [
    {
     "name": "stdout",
     "output_type": "stream",
     "text": [
      "class               First    Second     Third\n",
      "sex    age                                   \n",
      "female (0, 20]   0.928571  1.000000  0.510638\n",
      "       (20, 55]  0.968750  0.912281  0.407407\n",
      "male   (0, 20]   0.571429  0.526316  0.197368\n",
      "       (20, 55]  0.440000  0.054054  0.134503\n"
     ]
    }
   ],
   "source": [
    "def psaVedCreatePivotAndFindSurvivalRate():\n",
    "    import pandas as pd\n",
    "    import numpy as np\n",
    "    df = pd.read_csv('titanic.csv')\n",
    "    age = pd.cut(df['age'], [0, 20, 55])\n",
    "    result = df.pivot_table('survived', index=['sex', age], columns='class')\n",
    "    print(result)\n",
    "psaVedCreatePivotAndFindSurvivalRate()"
   ]
  },
  {
   "cell_type": "markdown",
   "metadata": {},
   "source": [
    "Q27. Write a pandas program to create the Pivot table and calculate\n",
    "number of women and men were in a particular cabin class.\n"
   ]
  },
  {
   "cell_type": "code",
   "execution_count": null,
   "metadata": {},
   "outputs": [],
   "source": [
    "def psaVedCreatePivotTableForMenAndWoman():\n",
    "    import pandas as pd\n",
    "    import numpy as np\n",
    "    df = pd.read_csv('titanic.csv')\n",
    "    result = df.pivot_table(index=['sex'], columns=['pclass'], aggfunc='count')\n",
    "    print(result)\n",
    "psaVedCreatePivotTableForMenAndWoman()"
   ]
  },
  {
   "cell_type": "markdown",
   "metadata": {},
   "source": [
    "Q28. Write a pandas program to create the Pivot table and separate\n",
    "the gender according to whether they travelled alone or not to get\n",
    "the probability of survival\n"
   ]
  },
  {
   "cell_type": "code",
   "execution_count": 7,
   "metadata": {},
   "outputs": [
    {
     "name": "stdout",
     "output_type": "stream",
     "text": [
      "class            First    Second     Third\n",
      "sex    alone                              \n",
      "female False  0.966667  0.931818  0.416667\n",
      "       True   0.970588  0.906250  0.616667\n",
      "male   False  0.425532  0.277778  0.180723\n",
      "       True   0.333333  0.097222  0.121212\n"
     ]
    }
   ],
   "source": [
    "def psaVedCreatePivotSeparationOfGender():\n",
    "    import pandas as pd\n",
    "    import numpy as np\n",
    "    df = pd.read_csv('titanic.csv')\n",
    "    result = df.pivot_table( 'survived' , [ 'sex' , 'alone' ] , 'class' )\n",
    "    print(result)\n",
    "psaVedCreatePivotSeparationOfGender()"
   ]
  },
  {
   "cell_type": "markdown",
   "metadata": {},
   "source": [
    "Q29. Write a pandas program to create the Pivot table and find the\n",
    "probability of survival by class, gender, solo boarding, and the port\n",
    "of embarkation."
   ]
  },
  {
   "cell_type": "code",
   "execution_count": 8,
   "metadata": {},
   "outputs": [
    {
     "name": "stdout",
     "output_type": "stream",
     "text": [
      "embark_town  Cherbourg                     Queenstown                   \\\n",
      "class            First    Second     Third      First Second     Third   \n",
      "sex    alone                                                             \n",
      "female False  1.000000  1.000000  0.611111        1.0    NaN  0.625000   \n",
      "       True   0.944444  1.000000  0.800000        NaN    1.0  0.760000   \n",
      "male   False  0.473684  0.166667  0.500000        0.0    NaN  0.100000   \n",
      "       True   0.347826  0.250000  0.151515        NaN    0.0  0.068966   \n",
      "\n",
      "embark_town  Southampton                      \n",
      "class              First    Second     Third  \n",
      "sex    alone                                  \n",
      "female False    0.941176  0.923077  0.327586  \n",
      "       True     1.000000  0.892857  0.466667  \n",
      "male   False    0.407407  0.300000  0.142857  \n",
      "       True     0.326923  0.089552  0.123762  \n"
     ]
    }
   ],
   "source": [
    "def psaVedCreatePivotFindProbability():\n",
    "    import pandas as pd\n",
    "    import numpy as np\n",
    "    df = pd.read_csv('titanic.csv')\n",
    "    result = df.pivot_table('survived', ['sex' , 'alone' ], [ 'embark_town', 'class' ])\n",
    "    print(result)\n",
    "psaVedCreatePivotFindProbability()"
   ]
  },
  {
   "cell_type": "markdown",
   "metadata": {},
   "source": [
    "Q30. Write a pandas program to get current date, oldest date and\n",
    "number of days between Current date and the oldest date of Ufo\n",
    "dataset."
   ]
  },
  {
   "cell_type": "code",
   "execution_count": 9,
   "metadata": {},
   "outputs": [
    {
     "name": "stdout",
     "output_type": "stream",
     "text": [
      "Original Dataframe:\n",
      "\n",
      "Current date of Ufo dataset:\n",
      "1960-10-10 20:00:00\n",
      "\n",
      "Oldest date of Ufo dataset:\n",
      "1949-10-10 20:30:00\n",
      "\n",
      "Number of days between Current date and oldest date of Ufo dataset:\n",
      "4017\n"
     ]
    },
    {
     "name": "stderr",
     "output_type": "stream",
     "text": [
      "D:\\Ana\\lib\\site-packages\\IPython\\core\\interactiveshell.py:3191: DtypeWarning: Columns (5,9) have mixed types. Specify dtype option on import or set low_memory=False.\n",
      "  if (yield from self.run_code(code, result)):\n"
     ]
    }
   ],
   "source": [
    "def psaVedGetCurDateOldDateInUfo():\n",
    "    import pandas as pd\n",
    "    df = pd.read_csv('ufo.csv').head()\n",
    "    df['Date_time'] = df['Date_time'].astype('datetime64[ns]')\n",
    "    print(\"Original Dataframe:\")\n",
    "    print(\"\\nCurrent date of Ufo dataset:\")\n",
    "    print(df.Date_time.max())\n",
    "    print(\"\\nOldest date of Ufo dataset:\")\n",
    "    print(df.Date_time.min())\n",
    "    print(\"\\nNumber of days between Current date and oldest date of Ufo dataset:\")\n",
    "    print((df.Date_time.max() - df.Date_time.min()).days)\n",
    "psaVedGetCurDateOldDateInUfo()"
   ]
  },
  {
   "cell_type": "markdown",
   "metadata": {},
   "source": [
    "Q31. Write a pandas program to get all sighting days of the\n",
    "unidentified flying object (ufo) between 1950-10-10 and 1960-10-\n",
    "10."
   ]
  },
  {
   "cell_type": "code",
   "execution_count": 10,
   "metadata": {},
   "outputs": [
    {
     "name": "stdout",
     "output_type": "stream",
     "text": [
      "Original Dataframe:\n",
      "            Date_time                  city state/province country UFO_shape  \\\n",
      "0 1949-10-10 20:30:00            san marcos             tx      us  cylinder   \n",
      "1 1949-10-10 21:00:00          lackland afb             tx     NaN     light   \n",
      "2 1955-10-10 17:00:00  chester (uk/england)            NaN      gb    circle   \n",
      "3 1956-10-10 21:00:00                  edna             tx      us    circle   \n",
      "4 1960-10-10 20:00:00               kaneohe             hi      us     light   \n",
      "\n",
      "  length_of_encounter_seconds described_duration_of_encounter  \\\n",
      "0                        2700                      45 minutes   \n",
      "1                        7200                         1-2 hrs   \n",
      "2                          20                      20 seconds   \n",
      "3                          20                        1/2 hour   \n",
      "4                         900                      15 minutes   \n",
      "\n",
      "                                         description date_documented  \\\n",
      "0  This event took place in early fall around 194...       4/27/2004   \n",
      "1  1949 Lackland AFB&#44 TX.  Lights racing acros...      12/16/2005   \n",
      "2  Green/Orange circular disc over Chester&#44 En...       1/21/2008   \n",
      "3  My older brother and twin sister were leaving ...       1/17/2004   \n",
      "4  AS a Marine 1st Lt. flying an FJ4B fighter/att...       1/22/2004   \n",
      "\n",
      "     latitude   longitude  \n",
      "0  29.8830556  -97.941111  \n",
      "1    29.38421  -98.581082  \n",
      "2        53.2   -2.916667  \n",
      "3  28.9783333  -96.645833  \n",
      "4  21.4180556 -157.803611  \n",
      "\n",
      "Sighting days of the unidentified flying object (ufo) between 1949-10-10 and 1960-10-10:\n",
      "            Date_time                  city state/province country UFO_shape  \\\n",
      "2 1955-10-10 17:00:00  chester (uk/england)            NaN      gb    circle   \n",
      "3 1956-10-10 21:00:00                  edna             tx      us    circle   \n",
      "4 1960-10-10 20:00:00               kaneohe             hi      us     light   \n",
      "\n",
      "  length_of_encounter_seconds described_duration_of_encounter  \\\n",
      "2                          20                      20 seconds   \n",
      "3                          20                        1/2 hour   \n",
      "4                         900                      15 minutes   \n",
      "\n",
      "                                         description date_documented  \\\n",
      "2  Green/Orange circular disc over Chester&#44 En...       1/21/2008   \n",
      "3  My older brother and twin sister were leaving ...       1/17/2004   \n",
      "4  AS a Marine 1st Lt. flying an FJ4B fighter/att...       1/22/2004   \n",
      "\n",
      "     latitude   longitude  \n",
      "2        53.2   -2.916667  \n",
      "3  28.9783333  -96.645833  \n",
      "4  21.4180556 -157.803611  \n"
     ]
    }
   ],
   "source": [
    "def psaVedGetAllSightingDays():\n",
    "    import pandas as pd\n",
    "    df = pd.read_csv('ufo.csv').head()\n",
    "    df['Date_time'] = df['Date_time'].astype('datetime64[ns]')\n",
    "    print(\"Original Dataframe:\")\n",
    "    print(df.head())\n",
    "    print(\"\\nSighting days of the unidentified flying object (ufo) between 1949-10-10 and 1960-10-10:\")\n",
    "    selected_period = df[(df['Date_time'] >= '1950-01-01 00:00:00') & (df['Date_time'] <= '1960-12-31 23:59:59')]\n",
    "    print(selected_period)\n",
    "psaVedGetAllSightingDays()"
   ]
  },
  {
   "cell_type": "markdown",
   "metadata": {},
   "source": [
    "Q32. Write a Pandas program to extract the year, month, day, hour,\n",
    "minute, second, and weekday from unidentified flying object (UFO)\n",
    "reporting date."
   ]
  },
  {
   "cell_type": "code",
   "execution_count": 11,
   "metadata": {},
   "outputs": [
    {
     "name": "stdout",
     "output_type": "stream",
     "text": [
      "Original Dataframe:\n",
      "            Date_time                  city state/province country UFO_shape  \\\n",
      "0 1949-10-10 20:30:00            san marcos             tx      us  cylinder   \n",
      "1 1949-10-10 21:00:00          lackland afb             tx     NaN     light   \n",
      "2 1955-10-10 17:00:00  chester (uk/england)            NaN      gb    circle   \n",
      "3 1956-10-10 21:00:00                  edna             tx      us    circle   \n",
      "4 1960-10-10 20:00:00               kaneohe             hi      us     light   \n",
      "\n",
      "  length_of_encounter_seconds described_duration_of_encounter  \\\n",
      "0                        2700                      45 minutes   \n",
      "1                        7200                         1-2 hrs   \n",
      "2                          20                      20 seconds   \n",
      "3                          20                        1/2 hour   \n",
      "4                         900                      15 minutes   \n",
      "\n",
      "                                         description date_documented  \\\n",
      "0  This event took place in early fall around 194...       4/27/2004   \n",
      "1  1949 Lackland AFB&#44 TX.  Lights racing acros...      12/16/2005   \n",
      "2  Green/Orange circular disc over Chester&#44 En...       1/21/2008   \n",
      "3  My older brother and twin sister were leaving ...       1/17/2004   \n",
      "4  AS a Marine 1st Lt. flying an FJ4B fighter/att...       1/22/2004   \n",
      "\n",
      "     latitude   longitude  \n",
      "0  29.8830556  -97.941111  \n",
      "1    29.38421  -98.581082  \n",
      "2        53.2   -2.916667  \n",
      "3  28.9783333  -96.645833  \n",
      "4  21.4180556 -157.803611  \n",
      "\n",
      "Year:\n",
      "0    1949\n",
      "1    1949\n",
      "2    1955\n",
      "3    1956\n",
      "4    1960\n",
      "Name: Date_time, dtype: int64\n",
      "\n",
      "Month:\n",
      "0    10\n",
      "1    10\n",
      "2    10\n",
      "3    10\n",
      "4    10\n",
      "Name: Date_time, dtype: int64\n",
      "\n",
      "Day:\n",
      "0    10\n",
      "1    10\n",
      "2    10\n",
      "3    10\n",
      "4    10\n",
      "Name: Date_time, dtype: int64\n",
      "\n",
      "Hour:\n",
      "0    20\n",
      "1    21\n",
      "2    17\n",
      "3    21\n",
      "4    20\n",
      "Name: Date_time, dtype: int64\n",
      "\n",
      "Minute:\n",
      "0    30\n",
      "1     0\n",
      "2     0\n",
      "3     0\n",
      "4     0\n",
      "Name: Date_time, dtype: int64\n",
      "\n",
      "Second:\n",
      "0    0\n",
      "1    0\n",
      "2    0\n",
      "3    0\n",
      "4    0\n",
      "Name: Date_time, dtype: int64\n",
      "\n",
      "Weekday:\n",
      "0       Monday\n",
      "1       Monday\n",
      "2       Monday\n",
      "3    Wednesday\n",
      "4       Monday\n",
      "Name: Date_time, dtype: object\n"
     ]
    }
   ],
   "source": [
    "def psaVedExtractYearMonthDay():\n",
    "    import pandas as pd\n",
    "    df = pd.read_csv('ufo.csv').head()\n",
    "    df['Date_time'] = df['Date_time'].astype('datetime64[ns]')\n",
    "    print(\"Original Dataframe:\")\n",
    "    print(df.head())\n",
    "    print(\"\\nYear:\")\n",
    "    print(df.Date_time.dt.year.head())\n",
    "    print(\"\\nMonth:\")\n",
    "    print(df.Date_time.dt.month.head())\n",
    "    print(\"\\nDay:\")\n",
    "    print(df.Date_time.dt.day.head())\n",
    "    print(\"\\nHour:\")\n",
    "    print(df.Date_time.dt.hour.head())\n",
    "    print(\"\\nMinute:\")\n",
    "    print(df.Date_time.dt.minute.head())\n",
    "    print(\"\\nSecond:\")\n",
    "    print(df.Date_time.dt.second.head())\n",
    "    print(\"\\nWeekday:\")\n",
    "    print(df.Date_time.dt.weekday_name.head())\n",
    "psaVedExtractYearMonthDay()"
   ]
  },
  {
   "cell_type": "markdown",
   "metadata": {},
   "source": [
    "Q33. Write a pandas program to count year-country wise frequency of\n",
    "reporting dates of the unidentified flying object(UFO).\n"
   ]
  },
  {
   "cell_type": "code",
   "execution_count": 12,
   "metadata": {},
   "outputs": [
    {
     "name": "stdout",
     "output_type": "stream",
     "text": [
      "Original Dataframe:\n",
      "            Date_time                  city state/province country UFO_shape  \\\n",
      "0 1949-10-10 20:30:00            san marcos             tx      us  cylinder   \n",
      "1 1949-10-10 21:00:00          lackland afb             tx     NaN     light   \n",
      "2 1955-10-10 17:00:00  chester (uk/england)            NaN      gb    circle   \n",
      "3 1956-10-10 21:00:00                  edna             tx      us    circle   \n",
      "4 1960-10-10 20:00:00               kaneohe             hi      us     light   \n",
      "\n",
      "  length_of_encounter_seconds described_duration_of_encounter  \\\n",
      "0                        2700                      45 minutes   \n",
      "1                        7200                         1-2 hrs   \n",
      "2                          20                      20 seconds   \n",
      "3                          20                        1/2 hour   \n",
      "4                         900                      15 minutes   \n",
      "\n",
      "                                         description date_documented  \\\n",
      "0  This event took place in early fall around 194...       4/27/2004   \n",
      "1  1949 Lackland AFB&#44 TX.  Lights racing acros...      12/16/2005   \n",
      "2  Green/Orange circular disc over Chester&#44 En...       1/21/2008   \n",
      "3  My older brother and twin sister were leaving ...       1/17/2004   \n",
      "4  AS a Marine 1st Lt. flying an FJ4B fighter/att...       1/22/2004   \n",
      "\n",
      "     latitude   longitude  \n",
      "0  29.8830556  -97.941111  \n",
      "1    29.38421  -98.581082  \n",
      "2        53.2   -2.916667  \n",
      "3  28.9783333  -96.645833  \n",
      "4  21.4180556 -157.803611  \n",
      "\n",
      "Country-year wise frequency of reporting dates of UFO:\n",
      "Year  country\n",
      "1949  us         1\n",
      "1955  gb         1\n",
      "1956  us         1\n",
      "1960  us         1\n",
      "dtype: int64\n"
     ]
    }
   ],
   "source": [
    "def psaVedCountYearWiseFrequency():\n",
    "    import pandas as pd\n",
    "    df = pd.read_csv('ufo.csv').head()\n",
    "    df['Date_time'] = df['Date_time'].astype('datetime64[ns]')\n",
    "    print(\"Original Dataframe:\")\n",
    "    print(df.head())\n",
    "    df['Year'] = df['Date_time'].apply(lambda x: \"%d\" % (x.year))\n",
    "    result = df.groupby(['Year', 'country']).size()\n",
    "    print(\"\\nCountry-year wise frequency of reporting dates of UFO:\")\n",
    "    print(result)\n",
    "psaVedCountYearWiseFrequency()"
   ]
  },
  {
   "cell_type": "markdown",
   "metadata": {},
   "source": [
    "Q34. Write a pandas program to get the difference (in days) between\n",
    "documented date and reporting date of unidentified flying object\n",
    "(UFO)."
   ]
  },
  {
   "cell_type": "code",
   "execution_count": 13,
   "metadata": {},
   "outputs": [
    {
     "name": "stdout",
     "output_type": "stream",
     "text": [
      "Original Dataframe:\n",
      "            Date_time                  city state/province country UFO_shape  \\\n",
      "0 1949-10-10 20:30:00            san marcos             tx      us  cylinder   \n",
      "1 1949-10-10 21:00:00          lackland afb             tx     NaN     light   \n",
      "2 1955-10-10 17:00:00  chester (uk/england)            NaN      gb    circle   \n",
      "3 1956-10-10 21:00:00                  edna             tx      us    circle   \n",
      "4 1960-10-10 20:00:00               kaneohe             hi      us     light   \n",
      "\n",
      "  length_of_encounter_seconds described_duration_of_encounter  \\\n",
      "0                        2700                      45 minutes   \n",
      "1                        7200                         1-2 hrs   \n",
      "2                          20                      20 seconds   \n",
      "3                          20                        1/2 hour   \n",
      "4                         900                      15 minutes   \n",
      "\n",
      "                                         description date_documented  \\\n",
      "0  This event took place in early fall around 194...      2004-04-27   \n",
      "1  1949 Lackland AFB&#44 TX.  Lights racing acros...      2005-12-16   \n",
      "2  Green/Orange circular disc over Chester&#44 En...      2008-01-21   \n",
      "3  My older brother and twin sister were leaving ...      2004-01-17   \n",
      "4  AS a Marine 1st Lt. flying an FJ4B fighter/att...      2004-01-22   \n",
      "\n",
      "     latitude   longitude  \n",
      "0  29.8830556  -97.941111  \n",
      "1    29.38421  -98.581082  \n",
      "2        53.2   -2.916667  \n",
      "3  28.9783333  -96.645833  \n",
      "4  21.4180556 -157.803611  \n",
      "\n",
      "Difference (in days) between documented date and reporting date of UFO:\n",
      "            Date_time                  city state/province country UFO_shape  \\\n",
      "0 1949-10-10 20:30:00            san marcos             tx      us  cylinder   \n",
      "1 1949-10-10 21:00:00          lackland afb             tx     NaN     light   \n",
      "2 1955-10-10 17:00:00  chester (uk/england)            NaN      gb    circle   \n",
      "3 1956-10-10 21:00:00                  edna             tx      us    circle   \n",
      "4 1960-10-10 20:00:00               kaneohe             hi      us     light   \n",
      "\n",
      "  length_of_encounter_seconds described_duration_of_encounter  \\\n",
      "0                        2700                      45 minutes   \n",
      "1                        7200                         1-2 hrs   \n",
      "2                          20                      20 seconds   \n",
      "3                          20                        1/2 hour   \n",
      "4                         900                      15 minutes   \n",
      "\n",
      "                                         description date_documented  \\\n",
      "0  This event took place in early fall around 194...      2004-04-27   \n",
      "1  1949 Lackland AFB&#44 TX.  Lights racing acros...      2005-12-16   \n",
      "2  Green/Orange circular disc over Chester&#44 En...      2008-01-21   \n",
      "3  My older brother and twin sister were leaving ...      2004-01-17   \n",
      "4  AS a Marine 1st Lt. flying an FJ4B fighter/att...      2004-01-22   \n",
      "\n",
      "     latitude   longitude  Difference  \n",
      "0  29.8830556  -97.941111       19922  \n",
      "1    29.38421  -98.581082       20520  \n",
      "2        53.2   -2.916667       19095  \n",
      "3  28.9783333  -96.645833       17264  \n",
      "4  21.4180556 -157.803611       15808  \n"
     ]
    }
   ],
   "source": [
    "def psaVedGetDayDifferance():\n",
    "    import pandas as pd\n",
    "    df = pd.read_csv('ufo.csv').head()\n",
    "    df['Date_time'] = df['Date_time'].astype('datetime64[ns]')\n",
    "    df['date_documented'] = df['date_documented'].astype('datetime64[ns]')\n",
    "    print(\"Original Dataframe:\")\n",
    "    print(df.head())\n",
    "    print(\"\\nDifference (in days) between documented date and reporting date of UFO:\")\n",
    "    df['Difference'] = (df['date_documented'] - df['Date_time']).dt.days\n",
    "    print(df)\n",
    "psaVedGetDayDifferance()"
   ]
  },
  {
   "cell_type": "markdown",
   "metadata": {},
   "source": [
    "Q35. Write a pandas program to generate sequences of fixedfrequency dates and time spans."
   ]
  },
  {
   "cell_type": "code",
   "execution_count": 14,
   "metadata": {},
   "outputs": [
    {
     "name": "stdout",
     "output_type": "stream",
     "text": [
      "Hourly frequency:\n",
      "DatetimeIndex(['2018-01-01 00:00:00', '2018-01-01 01:00:00',\n",
      "               '2018-01-01 02:00:00', '2018-01-01 03:00:00',\n",
      "               '2018-01-01 04:00:00', '2018-01-01 05:00:00',\n",
      "               '2018-01-01 06:00:00', '2018-01-01 07:00:00',\n",
      "               '2018-01-01 08:00:00', '2018-01-01 09:00:00',\n",
      "               '2018-01-01 10:00:00', '2018-01-01 11:00:00'],\n",
      "              dtype='datetime64[ns]', freq='H')\n",
      "\n",
      "Minutely frequency:\n",
      "DatetimeIndex(['2018-01-01 00:00:00', '2018-01-01 00:01:00',\n",
      "               '2018-01-01 00:02:00', '2018-01-01 00:03:00',\n",
      "               '2018-01-01 00:04:00', '2018-01-01 00:05:00',\n",
      "               '2018-01-01 00:06:00', '2018-01-01 00:07:00',\n",
      "               '2018-01-01 00:08:00', '2018-01-01 00:09:00',\n",
      "               '2018-01-01 00:10:00', '2018-01-01 00:11:00'],\n",
      "              dtype='datetime64[ns]', freq='T')\n",
      "\n",
      "Secondly frequency:\n",
      "DatetimeIndex(['2018-01-01 00:00:00', '2018-01-01 00:00:01',\n",
      "               '2018-01-01 00:00:02', '2018-01-01 00:00:03',\n",
      "               '2018-01-01 00:00:04', '2018-01-01 00:00:05',\n",
      "               '2018-01-01 00:00:06', '2018-01-01 00:00:07',\n",
      "               '2018-01-01 00:00:08', '2018-01-01 00:00:09',\n",
      "               '2018-01-01 00:00:10', '2018-01-01 00:00:11'],\n",
      "              dtype='datetime64[ns]', freq='S')\n",
      "nMultiple Hourly frequency:\n",
      "DatetimeIndex(['2018-01-01 00:00:00', '2018-01-01 02:00:00',\n",
      "               '2018-01-01 04:00:00', '2018-01-01 06:00:00',\n",
      "               '2018-01-01 08:00:00', '2018-01-01 10:00:00',\n",
      "               '2018-01-01 12:00:00', '2018-01-01 14:00:00',\n",
      "               '2018-01-01 16:00:00', '2018-01-01 18:00:00',\n",
      "               '2018-01-01 20:00:00', '2018-01-01 22:00:00'],\n",
      "              dtype='datetime64[ns]', freq='2H')\n",
      "\n",
      "Multiple Minutely frequency:\n",
      "DatetimeIndex(['2018-01-01 00:00:00', '2018-01-01 00:05:00',\n",
      "               '2018-01-01 00:10:00', '2018-01-01 00:15:00',\n",
      "               '2018-01-01 00:20:00', '2018-01-01 00:25:00',\n",
      "               '2018-01-01 00:30:00', '2018-01-01 00:35:00',\n",
      "               '2018-01-01 00:40:00', '2018-01-01 00:45:00',\n",
      "               '2018-01-01 00:50:00', '2018-01-01 00:55:00'],\n",
      "              dtype='datetime64[ns]', freq='5T')\n",
      "\n",
      "Multiple Secondly frequency:\n",
      "DatetimeIndex(['2018-03-30', '2018-06-29', '2018-09-28', '2018-12-31',\n",
      "               '2019-03-29', '2019-06-28', '2019-09-30', '2019-12-31',\n",
      "               '2020-03-31', '2020-06-30', '2020-09-30', '2020-12-31'],\n",
      "              dtype='datetime64[ns]', freq='BQ-DEC')\n",
      "\n",
      "Weekly frequency:\n",
      "DatetimeIndex(['2018-01-07', '2018-01-14', '2018-01-21', '2018-01-28',\n",
      "               '2018-02-04', '2018-02-11', '2018-02-18', '2018-02-25',\n",
      "               '2018-03-04', '2018-03-11', '2018-03-18', '2018-03-25'],\n",
      "              dtype='datetime64[ns]', freq='W-SUN')\n",
      "\n",
      "Combine together day and intraday offsets-1:\n",
      "DatetimeIndex(['2018-01-01 00:00:00', '2018-01-01 02:20:00',\n",
      "               '2018-01-01 04:40:00', '2018-01-01 07:00:00',\n",
      "               '2018-01-01 09:20:00', '2018-01-01 11:40:00',\n",
      "               '2018-01-01 14:00:00', '2018-01-01 16:20:00',\n",
      "               '2018-01-01 18:40:00', '2018-01-01 21:00:00',\n",
      "               '2018-01-01 23:20:00', '2018-01-02 01:40:00'],\n",
      "              dtype='datetime64[ns]', freq='140T')\n",
      "\n",
      "Combine together day and intraday offsets-2:\n",
      "DatetimeIndex([       '2018-01-01 00:00:00', '2018-01-02 00:00:00.000010',\n",
      "               '2018-01-03 00:00:00.000020', '2018-01-04 00:00:00.000030',\n",
      "               '2018-01-05 00:00:00.000040', '2018-01-06 00:00:00.000050',\n",
      "               '2018-01-07 00:00:00.000060', '2018-01-08 00:00:00.000070',\n",
      "               '2018-01-09 00:00:00.000080', '2018-01-10 00:00:00.000090',\n",
      "               '2018-01-11 00:00:00.000100', '2018-01-12 00:00:00.000110'],\n",
      "              dtype='datetime64[ns]', freq='86400000010U')\n"
     ]
    }
   ],
   "source": [
    "def psaVedGenerateSequesnceOfFixedFrequency():\n",
    "    import pandas as pd\n",
    "    dtr = pd.date_range('2018-01-01', periods=12, freq='H')\n",
    "    print(\"Hourly frequency:\")\n",
    "    print(dtr)\n",
    "    dtr = pd.date_range('2018-01-01', periods=12, freq='min')\n",
    "    print(\"\\nMinutely frequency:\")\n",
    "    print(dtr)\n",
    "    dtr = pd.date_range('2018-01-01', periods=12, freq='S')\n",
    "    print(\"\\nSecondly frequency:\")\n",
    "    print(dtr)\n",
    "    dtr = pd.date_range('2018-01-01', periods=12, freq='2H')\n",
    "    print(\"nMultiple Hourly frequency:\")\n",
    "    print(dtr)\n",
    "    dtr = pd.date_range('2018-01-01', periods=12, freq='5min')\n",
    "    print(\"\\nMultiple Minutely frequency:\")\n",
    "    print(dtr)\n",
    "    dtr = pd.date_range('2018-01-01', periods=12, freq='BQ')\n",
    "    print(\"\\nMultiple Secondly frequency:\")\n",
    "    print(dtr)\n",
    "    dtr = pd.date_range('2018-01-01', periods=12, freq='w')\n",
    "    print(\"\\nWeekly frequency:\")\n",
    "    print(dtr)\n",
    "    dtr = pd.date_range('2018-01-01', periods=12, freq='2h20min')\n",
    "    print(\"\\nCombine together day and intraday offsets-1:\")\n",
    "    print(dtr)\n",
    "    dtr = pd.date_range('2018-01-01', periods=12, freq='1D10U')\n",
    "    print(\"\\nCombine together day and intraday offsets-2:\")\n",
    "    print(dtr)\n",
    "psaVedGenerateSequesnceOfFixedFrequency()"
   ]
  },
  {
   "cell_type": "markdown",
   "metadata": {},
   "source": [
    "Q36. Write a pandas program to manipulate and convert date times\n",
    "with timezone information."
   ]
  },
  {
   "cell_type": "code",
   "execution_count": 15,
   "metadata": {},
   "outputs": [
    {
     "name": "stdout",
     "output_type": "stream",
     "text": [
      "DatetimeIndex(['2018-01-01 00:00:00+00:00', '2018-01-01 01:00:00+00:00',\n",
      "               '2018-01-01 02:00:00+00:00'],\n",
      "              dtype='datetime64[ns, UTC]', freq='H')\n",
      "\n",
      "From UTC to America/Los_Angeles:\n",
      "DatetimeIndex(['2017-12-31 16:00:00-08:00', '2017-12-31 17:00:00-08:00',\n",
      "               '2017-12-31 18:00:00-08:00'],\n",
      "              dtype='datetime64[ns, America/Los_Angeles]', freq='H')\n"
     ]
    }
   ],
   "source": [
    "def psaVedManipulateAndConvert():\n",
    "    import pandas as pd\n",
    "    dtt = pd.date_range('2018-01-01', periods=3, freq='H')\n",
    "    dtt = dtt.tz_localize('UTC')\n",
    "    print(dtt)\n",
    "    print(\"\\nFrom UTC to America/Los_Angeles:\")\n",
    "    dtt = dtt.tz_convert('America/Los_Angeles')\n",
    "    print(dtt)\n",
    "psaVedManipulateAndConvert()"
   ]
  },
  {
   "cell_type": "markdown",
   "metadata": {},
   "source": [
    "Q37. Write a pandas program to create the graphical analysis of UFO\n",
    "(unidentified flying object) Sightings year."
   ]
  },
  {
   "cell_type": "code",
   "execution_count": 20,
   "metadata": {},
   "outputs": [
    {
     "data": {
      "image/png": "[encoded data removed]",
      "text/plain": [
       "<Figure size 1080x576 with 1 Axes>"
      ]
     },
     "metadata": {
      "needs_background": "light"
     },
     "output_type": "display_data"
    }
   ],
   "source": [
    "def psaVedCreateGraphicalAnalysis():\n",
    "    import pandas as pd\n",
    "    import matplotlib.pyplot as plt\n",
    "    import seaborn as sns\n",
    "    df = pd.read_csv('ufo.csv').head(200)\n",
    "    df['Date_time'] = df['Date_time'].astype('datetime64[ns]')\n",
    "    df[\"ufo_yr\"] = df.Date_time.dt.year\n",
    "    years_data = df.ufo_yr.value_counts()\n",
    "    years_index = years_data.index # x ticks\n",
    "    years_values = years_data.get_values()\n",
    "    plt.figure(figsize=(15,8))\n",
    "    plt.xticks(rotation = 60)\n",
    "    plt.title('UFO Sightings by Year')\n",
    "    plt.xlabel(\"Year\")\n",
    "    plt.ylabel(\"Number of reports\")\n",
    "    years_plot = sns.barplot(x=years_index[:60],y=years_values[:60], palette = \"Reds\")\n",
    "psaVedCreateGraphicalAnalysis()"
   ]
  },
  {
   "cell_type": "markdown",
   "metadata": {},
   "source": [
    "Q38. Write a pandas program to create a comparison of the top 10\n",
    "years in which the (UFO) was sighted VS each Month."
   ]
  },
  {
   "cell_type": "code",
   "execution_count": 21,
   "metadata": {},
   "outputs": [
    {
     "name": "stdout",
     "output_type": "stream",
     "text": [
      "\n",
      "Comparison of the top 10 years in which the UFO was sighted vs each month:\n",
      "Date_time  10\n",
      "Date_time    \n",
      "1979        4\n",
      "1988        4\n",
      "1992        4\n",
      "1993        3\n",
      "1994        4\n",
      "1996        4\n",
      "1997        4\n",
      "1998       10\n",
      "1999       11\n",
      "2000        7\n"
     ]
    }
   ],
   "source": [
    "def psaVedComparisionOfTopYears():\n",
    "    import pandas as pd\n",
    "    df = pd.read_csv('ufo.csv').head(100)\n",
    "    df['Date_time'] = df['Date_time'].astype('datetime64[ns]')\n",
    "    most_sightings_years = df['Date_time'].dt.year.value_counts().head(10)\n",
    "    def is_top_years(year):\n",
    "        if year in most_sightings_years.index:\n",
    "            return year\n",
    "    month_vs_year = df.pivot_table(columns=df['Date_time'].dt.month,index=df['Date_time'].dt.year.apply(is_top_years),aggfunc='count',values='city')\n",
    "    month_vs_year.index = month_vs_year.index.astype(int)\n",
    "    month_vs_year.columns = month_vs_year.columns.astype(int)\n",
    "    print(\"\\nComparison of the top 10 years in which the UFO was sighted vs each month:\")\n",
    "    print(month_vs_year.head(10))\n",
    "psaVedComparisionOfTopYears()"
   ]
  },
  {
   "cell_type": "markdown",
   "metadata": {},
   "source": [
    "Q39. Write a pandas program to create a heatmap (rectangular data as\n",
    "a colour-encoded matrix) for comparison of top 10 years in\n",
    "which (UFO ) was sighted VS each Month."
   ]
  },
  {
   "cell_type": "code",
   "execution_count": 22,
   "metadata": {},
   "outputs": [
    {
     "name": "stdout",
     "output_type": "stream",
     "text": [
      "\n",
      "Heatmap for comparison of the top 10 years in which the UFO was sighted vs each month:\n"
     ]
    },
    {
     "data": {
      "image/png": "[encoded data removed]",
      "text/plain": [
       "<Figure size 720x576 with 2 Axes>"
      ]
     },
     "metadata": {
      "needs_background": "light"
     },
     "output_type": "display_data"
    }
   ],
   "source": [
    "def psaVedCreateHeatMap():\n",
    "    import pandas as pd\n",
    "    import matplotlib.pyplot as plt\n",
    "    import seaborn as sns\n",
    "    df = pd.read_csv('ufo.csv').head(380)\n",
    "    df['Date_time'] = df['Date_time'].astype('datetime64[ns]')\n",
    "    most_sightings_years = df['Date_time'].dt.year.value_counts().head(10)\n",
    "    def is_top_years(year):\n",
    "        if year in most_sightings_years.index:\n",
    "            return year\n",
    "    month_vs_year = df.pivot_table(columns=df['Date_time'].dt.month,index=df['Date_time'].dt.year.apply(is_top_years),aggfunc='count',values='city')\n",
    "    month_vs_year.columns = month_vs_year.columns.astype(int)\n",
    "    print(\"\\nHeatmap for comparison of the top 10 years in which the UFO was sighted vs each month:\")\n",
    "    plt.figure(figsize=(10,8))\n",
    "    ax = sns.heatmap(month_vs_year, vmin=0, vmax=4)\n",
    "    ax.set_xlabel('Month').set_size(20)\n",
    "    ax.set_ylabel('Year').set_size(20)\n",
    "psaVedCreateHeatMap()"
   ]
  },
  {
   "cell_type": "markdown",
   "metadata": {},
   "source": [
    "Q40. Write a pandas program to create a Timewheel of Hour VS Year\n",
    "comparison of the top 10 years in which the (UFO) was sighted"
   ]
  },
  {
   "cell_type": "code",
   "execution_count": 23,
   "metadata": {},
   "outputs": [
    {
     "name": "stdout",
     "output_type": "stream",
     "text": [
      "\n",
      "Comparison of the top 10 years in which the UFO was sighted vs each month:\n"
     ]
    },
    {
     "data": {
      "image/png": "[encoded data removed]",
      "text/plain": [
       "<Figure size 576x576 with 1 Axes>"
      ]
     },
     "metadata": {},
     "output_type": "display_data"
    }
   ],
   "source": [
    "def psaVedCreateTimeWheelOfHoursVsYear():\n",
    "    import pandas as pd\n",
    "    import matplotlib.pyplot as plt\n",
    "    import matplotlib as mpl\n",
    "    import matplotlib.cm as cm\n",
    "    df = pd.read_csv(r'ufo.csv').head(370)\n",
    "    df['Date_time'] = df['Date_time'].astype('datetime64[ns]')\n",
    "    most_sightings_years = df['Date_time'].dt.year.value_counts().head(10)\n",
    "    def is_top_years(year):\n",
    "        if year in most_sightings_years.index:\n",
    "            return year\n",
    "    month_vs_year = df.pivot_table(columns=df['Date_time'].dt.month,index=df['Date_time'].dt.year.apply(is_top_years),aggfunc='count',values='city')\n",
    "    month_vs_year.index = month_vs_year.index.astype(int)\n",
    "    month_vs_year.columns = month_vs_year.columns.astype(int)\n",
    "    print(\"\\nComparison of the top 10 years in which the UFO was sighted vs each month:\")\n",
    "    def pie_heatmap(table, cmap='coolwarm_r', vmin=None,\n",
    "    vmax=None,inner_r=0.25, pie_args={}):\n",
    "        n, m = table.shape\n",
    "        vmin= table.min().min() if vmin is None else vmin\n",
    "        vmax= table.max().max() if vmax is None else vmax\n",
    "        centre_circle = plt.Circle((0,0),inner_r,edgecolor='black',facecolor='white',fill=True,linewidth=0.25)\n",
    "        plt.gcf().gca().add_artist(centre_circle)\n",
    "        norm = mpl.colors.Normalize(vmin=vmin, vmax=vmax)\n",
    "        cmapper = cm.ScalarMappable(norm=norm, cmap=cmap)\n",
    "        for i, (row_name, row) in enumerate(table.iterrows()):\n",
    "            labels = None if i > 0 else table.columns\n",
    "            wedges = plt.pie([1] * m,radius=inner_r+float(n-i)/n,colors=[cmapper.to_rgba(x) for x in row.values],labels=labels, startangle=90, counterclock=False, wedgeprops={'linewidth':-1}, **pie_args)\n",
    "            plt.setp(wedges[0], edgecolor='grey',linewidth=1.5)\n",
    "            wedges = plt.pie([1], radius=inner_r+float(n-i-1)/n, colors=['w'],labels=[row_name], startangle=-90, wedgeprops={'linewidth':0})\n",
    "            plt.setp(wedges[0], edgecolor='grey',linewidth=1.5)\n",
    "    plt.figure(figsize=(8,8))\n",
    "    plt.title(\"Timewheel of Hour Vs Year\",y=1.08,fontsize=30)\n",
    "    pie_heatmap(month_vs_year, vmin=-20,vmax=80,inner_r=0.2)\n",
    "psaVedCreateTimeWheelOfHoursVsYear()"
   ]
  },
  {
   "cell_type": "markdown",
   "metadata": {},
   "source": [
    "## Great Job!"
   ]
  }
 ],
 "metadata": {
  "kernelspec": {
   "display_name": "Python 3",
   "language": "python",
   "name": "python3"
  },
  "language_info": {
   "codemirror_mode": {
    "name": "ipython",
    "version": 3
   },
   "file_extension": ".py",
   "mimetype": "text/x-python",
   "name": "python",
   "nbconvert_exporter": "python",
   "pygments_lexer": "ipython3",
   "version": "3.7.1"
  }
 },
 "nbformat": 4,
 "nbformat_minor": 2
}
