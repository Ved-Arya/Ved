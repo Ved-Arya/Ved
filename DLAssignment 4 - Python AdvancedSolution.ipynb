{
 "cells": [
  {
   "cell_type": "markdown",
   "metadata": {},
   "source": [
    "# Assignment 4 Questions"
   ]
  },
  {
   "cell_type": "markdown",
   "metadata": {},
   "source": [
    "## Problem Statement"
   ]
  },
  {
   "cell_type": "markdown",
   "metadata": {},
   "source": [
    "Q.1 Given a sequence of n values x1, x2, ..., xn and a window size k>0, the k-th moving average of\n",
    "the given sequence is defined as follows:\n",
    "\n",
    "The moving average sequence has n-k+1 elements as shown below.\n",
    "The moving averages with k=4 of a ten-value sequence (n=10) is shown below\n",
    "\n",
    "    i 1 2 3 4 5 6 7 8 9 10\n",
    "    ===== == == == == == == == == == ==\n",
    "    Input 10 20 30 40 50 60 70 80 90 100\n",
    "    y1 25 = (10+20+30+40)/4\n",
    "    y2 35 = (20+30+40+50)/4\n",
    "    y3 45 = (30+40+50+60)/4\n",
    "    y4 55 = (40+50+60+70)/4\n",
    "    y5 65 = (50+60+70+80)/4\n",
    "    y6 75 = (60+70+80+90)/4\n",
    "    y7 85 = (70+80+90+100)/4\n",
    "\n",
    "Thus, the moving average sequence has n-k+1=10-4+1=7 values.\n",
    "\n",
    "Write a function to find moving average in an array over a window:\n",
    "\n",
    "Test it over [3, 5, 7, 2, 8, 10, 11, 65, 72, 81, 99, 100, 150] and window of 3."
   ]
  },
  {
   "cell_type": "code",
   "execution_count": 14,
   "metadata": {},
   "outputs": [
    {
     "data": {
      "text/plain": [
       "array([  5.        ,   4.66666667,   5.66666667,   6.66666667,\n",
       "         9.66666667,  28.66666667,  49.33333333,  72.66666667,\n",
       "        84.        ,  93.33333333, 116.33333333])"
      ]
     },
     "execution_count": 14,
     "metadata": {},
     "output_type": "execute_result"
    }
   ],
   "source": [
    "import numpy as np\n",
    "def psaVedMovingAverage(first1, second1) :\n",
    "    asum = np.cumsum(first1, dtype=float)\n",
    "    asum[second1:] = asum[second1:] - asum[:-second1]\n",
    "    return asum[second1 - 1:] / second1\n",
    "np.array(psaVedMovingAverage(np.array([3, 5, 7, 2, 8, 10, 11, 65, 72, 81, 99, 100, 150]),3))"
   ]
  },
  {
   "cell_type": "markdown",
   "metadata": {},
   "source": [
    "Q.2 How-to-count-distance-to-the-previous-zero\n",
    "For each value, count the difference back to the previous zero (or the start of the Series,\n",
    "whichever is closer)\n",
    "create a new column 'Y'\n",
    "Consider a DataFrame df where there is an integer column 'X'\n",
    "    \n",
    "    import pandas as pd\n",
    "    df = pd.DataFrame({'X': [7, 2, 0, 3, 4, 2, 5, 0, 3, 4]})"
   ]
  },
  {
   "cell_type": "code",
   "execution_count": 1,
   "metadata": {},
   "outputs": [
    {
     "data": {
      "text/plain": [
       "[1, 2, 0, 1, 2, 3, 4, 0, 1, 2]"
      ]
     },
     "execution_count": 1,
     "metadata": {},
     "output_type": "execute_result"
    }
   ],
   "source": [
    "l = [7, 2, 0, 3, 4, 2, 5, 0, 3, 4]\n",
    "i = 0\n",
    "r = []\n",
    "for element in l:\n",
    "    if element != 0:\n",
    "        i += 1\n",
    "    else:\n",
    "        i = 0\n",
    "    r.append(i)\n",
    "r"
   ]
  },
  {
   "cell_type": "markdown",
   "metadata": {},
   "source": [
    "Q.3 Create a DatetimeIndex that contains each business day of 2015 and use it to index a Series of\n",
    "random numbers."
   ]
  },
  {
   "cell_type": "code",
   "execution_count": 28,
   "metadata": {},
   "outputs": [
    {
     "name": "stdout",
     "output_type": "stream",
     "text": [
      "            randomNumbers\n",
      "2015-01-01       0.000000\n",
      "2015-01-02       0.003846\n",
      "2015-01-05       0.007692\n",
      "2015-01-06       0.011538\n",
      "2015-01-07       0.015385\n",
      "2015-01-08       0.019231\n",
      "2015-01-09       0.023077\n",
      "2015-01-12       0.026923\n",
      "2015-01-13       0.030769\n",
      "2015-01-14       0.034615\n",
      "2015-01-15       0.038462\n",
      "2015-01-16       0.042308\n",
      "2015-01-19       0.046154\n",
      "2015-01-20       0.050000\n",
      "2015-01-21       0.053846\n",
      "2015-01-22       0.057692\n",
      "2015-01-23       0.061538\n",
      "2015-01-26       0.065385\n",
      "2015-01-27       0.069231\n",
      "2015-01-28       0.073077\n",
      "2015-01-29       0.076923\n",
      "2015-01-30       0.080769\n",
      "2015-02-02       0.084615\n",
      "2015-02-03       0.088462\n",
      "2015-02-04       0.092308\n",
      "2015-02-05       0.096154\n",
      "2015-02-06       0.100000\n",
      "2015-02-09       0.103846\n",
      "2015-02-10       0.107692\n",
      "2015-02-11       0.111538\n",
      "...                   ...\n",
      "2015-11-20       0.888462\n",
      "2015-11-23       0.892308\n",
      "2015-11-24       0.896154\n",
      "2015-11-25       0.900000\n",
      "2015-11-26       0.903846\n",
      "2015-11-27       0.907692\n",
      "2015-11-30       0.911538\n",
      "2015-12-01       0.915385\n",
      "2015-12-02       0.919231\n",
      "2015-12-03       0.923077\n",
      "2015-12-04       0.926923\n",
      "2015-12-07       0.930769\n",
      "2015-12-08       0.934615\n",
      "2015-12-09       0.938462\n",
      "2015-12-10       0.942308\n",
      "2015-12-11       0.946154\n",
      "2015-12-14       0.950000\n",
      "2015-12-15       0.953846\n",
      "2015-12-16       0.957692\n",
      "2015-12-17       0.961538\n",
      "2015-12-18       0.965385\n",
      "2015-12-21       0.969231\n",
      "2015-12-22       0.973077\n",
      "2015-12-23       0.976923\n",
      "2015-12-24       0.980769\n",
      "2015-12-25       0.984615\n",
      "2015-12-28       0.988462\n",
      "2015-12-29       0.992308\n",
      "2015-12-30       0.996154\n",
      "2015-12-31       1.000000\n",
      "\n",
      "[261 rows x 1 columns]\n"
     ]
    }
   ],
   "source": [
    "import pandas as pd\n",
    "import numpy as np\n",
    "dates = pd.bdate_range('2015-01-01', '2015-12-31', freq='B')\n",
    "totalDates = len(dates)\n",
    "randomNumbers = np.linspace(0,1,totalDates)\n",
    "dataFrame = pd.DataFrame(data=randomNumbers, index=dates, columns=['randomNumbers'], copy=False)\n",
    "print(dataFrame)"
   ]
  },
  {
   "cell_type": "markdown",
   "metadata": {},
   "source": [
    "Q.4 "
   ]
  }
 ],
 "metadata": {
  "kernelspec": {
   "display_name": "Python 3",
   "language": "python",
   "name": "python3"
  },
  "language_info": {
   "codemirror_mode": {
    "name": "ipython",
    "version": 3
   },
   "file_extension": ".py",
   "mimetype": "text/x-python",
   "name": "python",
   "nbconvert_exporter": "python",
   "pygments_lexer": "ipython3",
   "version": "3.7.1"
  }
 },
 "nbformat": 4,
 "nbformat_minor": 2
}
