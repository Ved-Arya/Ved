{
 "cells": [
  {
   "cell_type": "markdown",
   "metadata": {},
   "source": [
    "## Problem Statement"
   ]
  },
  {
   "cell_type": "markdown",
   "metadata": {},
   "source": [
    "Q.1 Write a Python Program to implement your own myreduce() function which works exactly like\n",
    "Python's built-in function reduce()\n"
   ]
  },
  {
   "cell_type": "code",
   "execution_count": 21,
   "metadata": {},
   "outputs": [
    {
     "data": {
      "text/plain": [
       "15"
      ]
     },
     "execution_count": 21,
     "metadata": {},
     "output_type": "execute_result"
    }
   ],
   "source": [
    "def psaVedReduce():\n",
    "    numbers = [1,2,3,4,5]\n",
    "    b=0\n",
    "    for a in numbers:\n",
    "        b += a\n",
    "    return b\n",
    "psaVedReduce()"
   ]
  },
  {
   "cell_type": "markdown",
   "metadata": {},
   "source": [
    "Q.2 Write a Python program to implement your own myfilter() function which works exactly like\n",
    "Python's built-in function filter()"
   ]
  },
  {
   "cell_type": "code",
   "execution_count": 23,
   "metadata": {},
   "outputs": [
    {
     "data": {
      "text/plain": [
       "[2, 4]"
      ]
     },
     "execution_count": 23,
     "metadata": {},
     "output_type": "execute_result"
    }
   ],
   "source": [
    "def psaVedFilter():\n",
    "    numbers = [1,2,3,4,5]\n",
    "    c=[]\n",
    "    for a in numbers:\n",
    "        if a%2==0 :\n",
    "            c.append(a)\n",
    "    return c\n",
    "psaVedFilter()"
   ]
  },
  {
   "cell_type": "markdown",
   "metadata": {},
   "source": [
    "Q.3 Implement List comprehensions to produce the following lists.\n",
    "   Write List comprehensions to produce the following Lists\n",
    "   \n",
    "    ['A', 'C', 'A', 'D', 'G', 'I', ’L’, ‘ D’]\n",
    "   \n",
    "    ['x', 'xx', 'xxx', 'xxxx', 'y', 'yy', 'yyy', 'yyyy', 'z', 'zz', 'zzz', 'zzzz']\n",
    "\n",
    "    ['x', 'y', 'z', 'xx', 'yy', 'zz', 'xx', 'yy', 'zz', 'xxxx', 'yyyy', 'zzzz']\n",
    "    \n",
    "    [[2], [3], [4], [3], [4], [5], [4], [5], [6]]\n",
    "\n",
    "    [[2, 3, 4, 5], [3, 4, 5, 6], [4, 5, 6, 7], [5, 6, 7, 8]]\n",
    "\n",
    "    [(1, 1), (2, 1), (3, 1), (1, 2), (2, 2), (3, 2), (1, 3), (2, 3), (3, 3)]"
   ]
  },
  {
   "cell_type": "code",
   "execution_count": null,
   "metadata": {},
   "outputs": [],
   "source": [
    "3.1 :- ['A', 'C', 'A', 'D', 'G', 'I', 'L', 'D']"
   ]
  },
  {
   "cell_type": "code",
   "execution_count": 27,
   "metadata": {},
   "outputs": [
    {
     "data": {
      "text/plain": [
       "['A', 'C', 'A', 'D', 'G', 'I', 'L', 'D']"
      ]
     },
     "execution_count": 27,
     "metadata": {},
     "output_type": "execute_result"
    }
   ],
   "source": [
    "def psaVedMakePatternOne():\n",
    "    test = str('ACADGILD')\n",
    "    b = []\n",
    "    for a in test:\n",
    "        b.append(a)\n",
    "    return b\n",
    "psaVedMakePatternOne()"
   ]
  },
  {
   "cell_type": "code",
   "execution_count": null,
   "metadata": {},
   "outputs": [],
   "source": [
    "3.2:- ['x', 'xx', 'xxx', 'xxxx', 'y', 'yy', 'yyy', 'yyyy', 'z', 'zz', 'zzz', 'zzzz']"
   ]
  },
  {
   "cell_type": "code",
   "execution_count": 28,
   "metadata": {},
   "outputs": [
    {
     "data": {
      "text/plain": [
       "['X', 'XX', 'XXX', 'XXXX', 'Y', 'YY', 'YYY', 'YYYY', 'Z', 'ZZ', 'ZZZ', 'ZZZZ']"
      ]
     },
     "execution_count": 28,
     "metadata": {},
     "output_type": "execute_result"
    }
   ],
   "source": [
    "def psaVedMakePatternTwo():\n",
    "    ini = str('XYZ')\n",
    "    length = len(ini)\n",
    "    e = []\n",
    "    d=''\n",
    "    for a in ini:\n",
    "        for b in range(1,length+2):\n",
    "            for c in range(0,b):\n",
    "                d += a\n",
    "            e.append(d)\n",
    "            del d\n",
    "            d=''\n",
    "    return e\n",
    "psaVedMakePatternTwo()"
   ]
  },
  {
   "cell_type": "code",
   "execution_count": null,
   "metadata": {},
   "outputs": [],
   "source": [
    "3.3 :- ['x', 'y', 'z', 'xx', 'yy', 'zz', 'xx', 'yy', 'zz', 'xxxx', 'yyyy', 'zzzz']"
   ]
  },
  {
   "cell_type": "code",
   "execution_count": 29,
   "metadata": {},
   "outputs": [
    {
     "data": {
      "text/plain": [
       "['x', 'y', 'z', 'xx', 'yy', 'zz', 'xx', 'yy', 'zz', 'xxxx', 'yyyy', 'zzzz']"
      ]
     },
     "execution_count": 29,
     "metadata": {},
     "output_type": "execute_result"
    }
   ],
   "source": [
    "def psaVedMakeXYZPatternThree():\n",
    "    string = 'xyz'\n",
    "    outputPattern = []\n",
    "    for a in range(1,5):\n",
    "        for b in string:\n",
    "            if a == 3:\n",
    "                a = 2\n",
    "                multipliedString = b*a\n",
    "                outputPattern.append(multipliedString)\n",
    "            else:\n",
    "                multipliedString = b*a\n",
    "                outputPattern.append(multipliedString)\n",
    "    return outputPattern\n",
    "psaVedMakeXYZPatternThree()"
   ]
  },
  {
   "cell_type": "code",
   "execution_count": null,
   "metadata": {},
   "outputs": [],
   "source": [
    "3.4 :- [[2], [3], [4], [3], [4], [5], [4], [5], [6]]"
   ]
  },
  {
   "cell_type": "code",
   "execution_count": 30,
   "metadata": {},
   "outputs": [
    {
     "data": {
      "text/plain": [
       "[[2], [3], [4], [3], [4], [5], [4], [5], [6]]"
      ]
     },
     "execution_count": 30,
     "metadata": {},
     "output_type": "execute_result"
    }
   ],
   "source": [
    "def PsaVedMakePatternFour():\n",
    "    ini = 2\n",
    "    targetRepeatation = 3\n",
    "    a=[]\n",
    "    for b in range(0,targetRepeatation):\n",
    "        for c in range(ini, ini+targetRepeatation):\n",
    "            d=[]\n",
    "            d.append(c)\n",
    "            a.append(d)\n",
    "            del d\n",
    "        ini +=1\n",
    "    return a\n",
    "PsaVedMakePatternFour()"
   ]
  },
  {
   "cell_type": "code",
   "execution_count": null,
   "metadata": {},
   "outputs": [],
   "source": [
    "3.5 :- [[2, 3, 4, 5], [3, 4, 5, 6], [4, 5, 6, 7], [5, 6, 7, 8]]"
   ]
  },
  {
   "cell_type": "code",
   "execution_count": 31,
   "metadata": {},
   "outputs": [
    {
     "data": {
      "text/plain": [
       "[[2, 3, 4, 5], [3, 4, 5, 6], [4, 5, 6, 7], [5, 6, 7, 8]]"
      ]
     },
     "execution_count": 31,
     "metadata": {},
     "output_type": "execute_result"
    }
   ],
   "source": [
    "def psaVedMakePatternFive():\n",
    "    ini = 2\n",
    "    targetRepeatation = 4\n",
    "    a=[]\n",
    "    for b in range(0,targetRepeatation):\n",
    "        d=[]\n",
    "        for c in range(ini, ini+targetRepeatation):\n",
    "            d.append(c)\n",
    "        ini +=1\n",
    "        a.append(d)\n",
    "        del d\n",
    "    return a\n",
    "psaVedMakePatternFive()"
   ]
  },
  {
   "cell_type": "code",
   "execution_count": null,
   "metadata": {},
   "outputs": [],
   "source": [
    "3.6 :- [(1, 1), (2, 1), (3, 1), (1, 2), (2, 2), (3, 2), (1, 3), (2, 3), (3, 3)]"
   ]
  },
  {
   "cell_type": "code",
   "execution_count": 32,
   "metadata": {},
   "outputs": [
    {
     "data": {
      "text/plain": [
       "[(1, 1), (2, 1), (3, 1), (1, 2), (2, 2), (3, 2), (1, 3), (2, 3), (3, 3)]"
      ]
     },
     "execution_count": 32,
     "metadata": {},
     "output_type": "execute_result"
    }
   ],
   "source": [
    "def psaVedMakePatternSix():\n",
    "    a=[]\n",
    "    ini=()\n",
    "    for b in range(1,4):\n",
    "        for c in range(1,4):\n",
    "            ini=(c,b)\n",
    "            a.append(ini)\n",
    "    return a\n",
    "psaVedMakePatternSix()"
   ]
  },
  {
   "cell_type": "markdown",
   "metadata": {},
   "source": [
    "Q.4 Implement a function longestWord() that takes a list of words and returns the longest one."
   ]
  },
  {
   "cell_type": "code",
   "execution_count": 12,
   "metadata": {},
   "outputs": [
    {
     "name": "stdin",
     "output_type": "stream",
     "text": [
      " a,ab,abc,abcd,abcde\n"
     ]
    },
    {
     "data": {
      "text/plain": [
       "'abcde'"
      ]
     },
     "execution_count": 12,
     "metadata": {},
     "output_type": "execute_result"
    }
   ],
   "source": [
    "def longestWord():\n",
    "    b=c=''\n",
    "    words = input()\n",
    "    splited = words.split(',')\n",
    "    for a in splited:\n",
    "        b=a\n",
    "        c=b\n",
    "        if(len(b)>len(c)):\n",
    "            big=b\n",
    "        else:\n",
    "            big=c\n",
    "    return big\n",
    "longestWord()"
   ]
  },
  {
   "cell_type": "markdown",
   "metadata": {},
   "source": [
    "Q.5 Write a Python Program(with class concepts) to find the area of the triangle using the below\n",
    "formula.\n",
    "\n",
    "area = (s*(s-a)*(s-b)*(s-c)) ** 0.5\n",
    "\n",
    "Function to take the length of the sides of triangle from user should be defined in the parent\n",
    "class and function to calculate the area should be defined in subclass."
   ]
  },
  {
   "cell_type": "code",
   "execution_count": 13,
   "metadata": {},
   "outputs": [
    {
     "data": {
      "text/plain": [
       "3.897114317029974"
      ]
     },
     "execution_count": 13,
     "metadata": {},
     "output_type": "execute_result"
    }
   ],
   "source": [
    "class Parent:\n",
    "    def __init__(self, a, b, c):\n",
    "        self.a=a\n",
    "        self.b=b\n",
    "        self.c=c\n",
    "class Subclass(Parent):\n",
    "    def __init__(self, *args):\n",
    "        super(Subclass, self).__init__( *args)\n",
    "    def calculate(self):\n",
    "        s=(self.a+self.b+self.c)/2\n",
    "        area = (s*(s-self.a)*(s-self.b)*(s-self.c)) ** 0.5\n",
    "        return area\n",
    "one = Subclass(3,3,3)\n",
    "one.calculate()"
   ]
  },
  {
   "cell_type": "markdown",
   "metadata": {},
   "source": [
    "Q.6 Write a function filter_long_words() that takes a list of words and an integer n and returns the list\n",
    "of words that are longer than n."
   ]
  },
  {
   "cell_type": "code",
   "execution_count": 14,
   "metadata": {},
   "outputs": [
    {
     "name": "stdin",
     "output_type": "stream",
     "text": [
      "Enter list of words:- one,twoo,threee\n",
      "Enter number:- 4\n"
     ]
    },
    {
     "data": {
      "text/plain": [
       "['threee']"
      ]
     },
     "execution_count": 14,
     "metadata": {},
     "output_type": "execute_result"
    }
   ],
   "source": [
    "def psaVedFilterLongWords():\n",
    "    words = input('Enter list of words:-')\n",
    "    number = int(input('Enter number:-'))\n",
    "    splited = words.split(',')\n",
    "    long_word=[]\n",
    "    for a in splited:\n",
    "        if(len(str(a)) > number):\n",
    "                long_word.append(a)\n",
    "    return long_word\n",
    "psaVedFilterLongWords()"
   ]
  },
  {
   "cell_type": "markdown",
   "metadata": {},
   "source": [
    "Q.7 Write a Python program using function concept that maps list of words into a list of integers\n",
    "representing the lengths of the corresponding words.\n",
    "    \n",
    "    Hint: If a list [ ab,cde,erty] is passed on to the python function output should come as [2,3,4]\n",
    "    Here 2,3 and 4 are the lengths of the words in the list."
   ]
  },
  {
   "cell_type": "code",
   "execution_count": 36,
   "metadata": {},
   "outputs": [
    {
     "data": {
      "text/plain": [
       "{'ab': 2, 'cde': 3, 'erty': 4}"
      ]
     },
     "execution_count": 36,
     "metadata": {},
     "output_type": "execute_result"
    }
   ],
   "source": [
    "def psaVedCustomMap():\n",
    "    words=['ab','cde','erty']\n",
    "    length=[2,3,4]\n",
    "    def make_map(first7,second7):\n",
    "        word_len = len(first7)\n",
    "        data={}\n",
    "        for a in range(0,word_len):\n",
    "            data[first7[a]]=second7[a]\n",
    "        return data\n",
    "    return make_map(words,length)\n",
    "psaVedCustomMap()"
   ]
  },
  {
   "cell_type": "markdown",
   "metadata": {},
   "source": [
    "Q.8 Write a Python function which takes a character (i.e. a string of length 1) and returns True if it is\n",
    "a vowel, False otherwise."
   ]
  },
  {
   "cell_type": "code",
   "execution_count": 37,
   "metadata": {},
   "outputs": [
    {
     "data": {
      "text/plain": [
       "'false'"
      ]
     },
     "execution_count": 37,
     "metadata": {},
     "output_type": "execute_result"
    }
   ],
   "source": [
    "def psaVedCheckVowel(first8):\n",
    "    vowels=['a','e','i','o','u']\n",
    "    if first8 in vowels:\n",
    "        return 'true'\n",
    "    else:\n",
    "        return 'false'\n",
    "psaVedCheckVowel('f')"
   ]
  },
  {
   "cell_type": "markdown",
   "metadata": {},
   "source": [
    "## Great job!"
   ]
  }
 ],
 "metadata": {
  "kernelspec": {
   "display_name": "Python 3",
   "language": "python",
   "name": "python3"
  },
  "language_info": {
   "codemirror_mode": {
    "name": "ipython",
    "version": 3
   },
   "file_extension": ".py",
   "mimetype": "text/x-python",
   "name": "python",
   "nbconvert_exporter": "python",
   "pygments_lexer": "ipython3",
   "version": "3.7.1"
  }
 },
 "nbformat": 4,
 "nbformat_minor": 2
}
