{
 "cells": [
  {
   "cell_type": "markdown",
   "metadata": {
    "colab_type": "text",
    "id": "ecz0OPMxN7eF"
   },
   "source": [
    "Q1. Write a Python program to get the string from the given string where\n",
    "all the occurrence of its first char has been changed to '$,' except first\n",
    "char itself?\n",
    "\n",
    "    Sample String: 'prospect'\n",
    "    Expected Result : 'pros$ect'\n"
   ]
  },
  {
   "cell_type": "code",
   "execution_count": 1,
   "metadata": {
    "colab": {},
    "colab_type": "code",
    "id": "yUTvV5ySN7eK"
   },
   "outputs": [
    {
     "name": "stdout",
     "output_type": "stream",
     "text": [
      "abc$de\n"
     ]
    }
   ],
   "source": [
    "def psaVedReplaceFirstRepeatedChar(first1):\n",
    "    replacedData = first1.replace(first1[0], '$')\n",
    "    first1 = first1[0] + replacedData[1:]\n",
    "    return first1\n",
    "print(psaVedReplaceFirstRepeatedChar('abcade'))"
   ]
  },
  {
   "cell_type": "markdown",
   "metadata": {
    "colab_type": "text",
    "id": "q72n7A70N7eR"
   },
   "source": [
    "Q2. Write a Python program to get the single string from the two given\n",
    "strings, and separated by the space and swap the first two characters of\n",
    "each string?\n",
    "\n",
    "    Sample String : 'abc', 'xyz'.\n",
    "    Expected Result: 'xyc abz'"
   ]
  },
  {
   "cell_type": "code",
   "execution_count": null,
   "metadata": {
    "colab": {},
    "colab_type": "code",
    "id": "cwEiwwx4N7eT"
   },
   "outputs": [],
   "source": [
    "def psaVedSwapLetter(first2, second2):\n",
    "    return second2[:2] + first2[2:] + ' ' + first2[:2] + second2[2:]\n",
    "print(psaVedSwapLetter('abc', 'def'))"
   ]
  },
  {
   "cell_type": "markdown",
   "metadata": {
    "colab_type": "text",
    "id": "zMzkmyenN7eZ"
   },
   "source": [
    "Q3. Write the Python program to add 'ing' at the end of the given string\n",
    "(length of the string should be at least 3). If given string already ends\n",
    "with 'ing,' then add 'ly' instead. If string length of the given string is less\n",
    "than 3, leave it unchanged?\n",
    "\n",
    "\n",
    "    Sample string: ' abc '\n",
    "    Expected result: ' abcing '\n",
    "    Sample string: ' string '\n",
    "    Expected result: ' stringly '\n"
   ]
  },
  {
   "cell_type": "code",
   "execution_count": 2,
   "metadata": {
    "colab": {},
    "colab_type": "code",
    "id": "BYdsbapqN7eb"
   },
   "outputs": [
    {
     "name": "stdout",
     "output_type": "stream",
     "text": [
      "ab\n",
      "abcing\n",
      "abcingly\n"
     ]
    }
   ],
   "source": [
    "def psaVedChangeWord(first3):\n",
    "    if len(first3) > 2:\n",
    "        if first3[-3:] == 'ing':\n",
    "            first3 += 'ly'\n",
    "        else:\n",
    "            first3 += 'ing'\n",
    "    return first3\n",
    "print(psaVedChangeWord('ab'))\n",
    "print(psaVedChangeWord('abc'))\n",
    "print(psaVedChangeWord('abcing'))"
   ]
  },
  {
   "cell_type": "markdown",
   "metadata": {
    "colab_type": "text",
    "id": "tAMNwAJRN7eg"
   },
   "source": [
    "Q4. Write the Python program to find the first appearance of the\n",
    "substring 'not' and 'poor' from the given string, if 'not' follows the 'poor',\n",
    "replace the whole 'not'...' poor' substring with 'good'.Return the resulting\n",
    "string.\n",
    "\n",
    "    Sample string: 'The lyrics are not that poor!'\n",
    "    'The lyrics are poor!'\n",
    "    Expected Result: 'The lyrics are good!'\n",
    "    'The lyrics are poor!'"
   ]
  },
  {
   "cell_type": "code",
   "execution_count": 3,
   "metadata": {
    "colab": {},
    "colab_type": "code",
    "id": "fwRHSV57N7ei"
   },
   "outputs": [
    {
     "name": "stdout",
     "output_type": "stream",
     "text": [
      "i am thinking i am good!\n",
      "really i am poor!\n"
     ]
    }
   ],
   "source": [
    "def psaVedAssembleWord(first4):\n",
    "    notData = first4.find('not')\n",
    "    poorData = first4.find('poor')\n",
    "    if poorData > notData and notData>0 and poorData>0:\n",
    "        first4 = first4.replace(first4[notData:(poorData+4)], 'good')\n",
    "        return first4\n",
    "    else:\n",
    "        return first4\n",
    "print(psaVedAssembleWord('i am thinking i am not so much poor!'))\n",
    "print(psaVedAssembleWord('really i am poor!'))"
   ]
  },
  {
   "cell_type": "markdown",
   "metadata": {
    "colab_type": "text",
    "id": "eLRhfBKAN7en"
   },
   "source": [
    "Q5. Write the Python program to remove the characters which have odd\n",
    "index values of a given string."
   ]
  },
  {
   "cell_type": "code",
   "execution_count": 4,
   "metadata": {
    "colab": {},
    "colab_type": "code",
    "id": "ujL_apLtN7ep"
   },
   "outputs": [
    {
     "name": "stdout",
     "output_type": "stream",
     "text": [
      "acegi\n"
     ]
    }
   ],
   "source": [
    "def psaVedRemoveOddIndex(first5):\n",
    "    data = \"\"\n",
    "    for i in range(len(first5)):\n",
    "        if i % 2 == 0:\n",
    "            data += first5[i]\n",
    "    return data\n",
    "print(psaVedRemoveOddIndex('abcdefghi'))"
   ]
  },
  {
   "cell_type": "markdown",
   "metadata": {
    "colab_type": "text",
    "id": "w9BcYaP5N7ev"
   },
   "source": [
    "Q6. Write the python program to print the following floating numbers up\n",
    "to 2 decimal places?"
   ]
  },
  {
   "cell_type": "code",
   "execution_count": 5,
   "metadata": {
    "colab": {},
    "colab_type": "code",
    "id": "iMNyE9j7N7ex"
   },
   "outputs": [
    {
     "data": {
      "text/plain": [
       "12.46"
      ]
     },
     "execution_count": 5,
     "metadata": {},
     "output_type": "execute_result"
    }
   ],
   "source": [
    "def psaVedUpToTwoFloatingValue(first8):\n",
    "    return round(float(first8),2)\n",
    "psaVedUpToTwoFloatingValue('12.4567575')"
   ]
  },
  {
   "cell_type": "markdown",
   "metadata": {
    "colab_type": "text",
    "id": "365Sp0F4N7e2"
   },
   "source": [
    "Q7. Write the Python program to format a number with a percentage?"
   ]
  },
  {
   "cell_type": "code",
   "execution_count": null,
   "metadata": {
    "colab": {},
    "colab_type": "code",
    "id": "Giz7ilVtN7e3"
   },
   "outputs": [],
   "source": [
    "def psaVedFormat(first9):\n",
    "    if(first9[1] == '.'):\n",
    "        return first9[2:4]+'%'\n",
    "    else:\n",
    "        return first9+'%'\n",
    "psaVedFormat('0.3467')"
   ]
  },
  {
   "cell_type": "markdown",
   "metadata": {
    "colab_type": "text",
    "id": "NpGFQdT8N7e8"
   },
   "source": [
    "Q8. Write the Python program to count occurrences of a substring in a\n",
    "String?"
   ]
  },
  {
   "cell_type": "code",
   "execution_count": 6,
   "metadata": {
    "colab": {},
    "colab_type": "code",
    "id": "5PEp80tMN7e-"
   },
   "outputs": [
    {
     "data": {
      "text/plain": [
       "3"
      ]
     },
     "execution_count": 6,
     "metadata": {},
     "output_type": "execute_result"
    }
   ],
   "source": [
    "def psaVedOccurenceCount(first10,second10):\n",
    "    return first10.count(second10)\n",
    "psaVedOccurenceCount('Write the Python program to count occurrences of a substring in a String','a')"
   ]
  },
  {
   "cell_type": "markdown",
   "metadata": {
    "colab_type": "text",
    "id": "aHPH2f0fN7fE"
   },
   "source": [
    "Q9. Write the Python program to count repeated characters in a string.\n",
    "\n",
    "    Sample string: ' thequickbrownjumpsoverthelazydog '\n",
    "    \n",
    "    Expected output:\n",
    "    o 3\n",
    "    e 3\n",
    "    u 2\n",
    "    h 2\n",
    "    r 2\n",
    "    t 2"
   ]
  },
  {
   "cell_type": "code",
   "execution_count": 7,
   "metadata": {
    "colab": {},
    "colab_type": "code",
    "id": "rZI8gqKkN7fG"
   },
   "outputs": [
    {
     "data": {
      "text/plain": [
       "{'n': 6,\n",
       " 'e': 4,\n",
       " 's': 3,\n",
       " 'i': 4,\n",
       " 'g': 3,\n",
       " 'h': 2,\n",
       " 'P': 1,\n",
       " 'p': 1,\n",
       " 'u': 3,\n",
       " 'y': 1,\n",
       " 'm': 1,\n",
       " 'r': 7,\n",
       " 'o': 6,\n",
       " 'c': 4,\n",
       " 'f': 1,\n",
       " 'b': 1,\n",
       " ' ': 12,\n",
       " 't': 7,\n",
       " 'S': 1,\n",
       " 'W': 1,\n",
       " 'a': 3}"
      ]
     },
     "execution_count": 7,
     "metadata": {},
     "output_type": "execute_result"
    }
   ],
   "source": [
    "def psaVedCountRepeatedChars(first11):\n",
    "    dataDictionary = {}\n",
    "    for a in list(set(first11)):\n",
    "        repeatation = 0\n",
    "        key = a\n",
    "        for b in first11:\n",
    "            if key == b:\n",
    "                repeatation += 1\n",
    "            else:\n",
    "                pass\n",
    "        dataDictionary.__setitem__(key,repeatation)\n",
    "    return dataDictionary\n",
    "psaVedCountRepeatedChars('Write the Python program to count occurrences of a substring in a String')"
   ]
  },
  {
   "cell_type": "markdown",
   "metadata": {
    "colab_type": "text",
    "id": "z8N-_OaAN7fK"
   },
   "source": [
    "Q10. Write the Python program to print the square and cube symbol in\n",
    "the area of a rectangle and volume of a cylinder?\n",
    "\n",
    "    Sample outputThe area of the rectangle is 1256.66cm2\n",
    "    The volume of the cylinder is 1254.725cm3\n"
   ]
  },
  {
   "cell_type": "code",
   "execution_count": 8,
   "metadata": {
    "colab": {},
    "colab_type": "code",
    "id": "PvN35SYxN7fM"
   },
   "outputs": [
    {
     "name": "stdout",
     "output_type": "stream",
     "text": [
      "The area of the rectangle is 10.10cm²\n",
      "The volume of the cylinder is 20.200cm³\n"
     ]
    }
   ],
   "source": [
    "area = 10.10\n",
    "volume = 20.20\n",
    "decimals = 2\n",
    "print(\"The area of the rectangle is {0:.{1}f}cm\\u00b2\".format(area, decimals))\n",
    "decimals = 3\n",
    "print(\"The volume of the cylinder is {0:.{1}f}cm\\u00b3\".format(volume, decimals))"
   ]
  },
  {
   "cell_type": "markdown",
   "metadata": {
    "colab_type": "text",
    "id": "A-JNyQcdN7fR"
   },
   "source": [
    "Q11. Write the Python program to check if a string contains all letters of\n",
    "the alphabet?"
   ]
  },
  {
   "cell_type": "code",
   "execution_count": 9,
   "metadata": {
    "colab": {},
    "colab_type": "code",
    "id": "SGBeQf14N7fS"
   },
   "outputs": [
    {
     "data": {
      "text/plain": [
       "'Policy fulfilled'"
      ]
     },
     "execution_count": 9,
     "metadata": {},
     "output_type": "execute_result"
    }
   ],
   "source": [
    "def psaVedCheckAlphabet(first13):\n",
    "    import string\n",
    "    alphabet = set(string.ascii_lowercase)\n",
    "    passed = 0\n",
    "    for a in alphabet:\n",
    "        if first13.count(a) > 0:\n",
    "            passed += 1\n",
    "        else:\n",
    "            pass\n",
    "    if passed == 26:\n",
    "        return \"Policy fulfilled\"\n",
    "    else:\n",
    "        return \"Given string has been failed to fulfill the policy\"\n",
    "psaVedCheckAlphabet('abcdefghijklmnopqrstuvwxyz')"
   ]
  },
  {
   "cell_type": "markdown",
   "metadata": {
    "colab_type": "text",
    "id": "CM431hu5N7fX"
   },
   "source": [
    "Q12. Write the Python program to find the second most repeated word\n",
    "in a given string?"
   ]
  },
  {
   "cell_type": "code",
   "execution_count": 10,
   "metadata": {
    "colab": {},
    "colab_type": "code",
    "id": "wDdu00rfN7fZ"
   },
   "outputs": [
    {
     "name": "stdout",
     "output_type": "stream",
     "text": [
      "('am', 3)\n"
     ]
    }
   ],
   "source": [
    "def psaVedSecondMostRepeatedWord(first14):\n",
    "    counts = dict()\n",
    "    words = first14.split()\n",
    "    for word in words:\n",
    "        if word in counts:\n",
    "            counts[word] += 1\n",
    "        else:\n",
    "            counts[word] = 1\n",
    "    counts_x = sorted(counts.items(), key=lambda kv: kv[1])\n",
    "    return counts_x[-2]\n",
    "print(psaVedSecondMostRepeatedWord(\"i i am am am a a a a boy.\"))"
   ]
  },
  {
   "cell_type": "markdown",
   "metadata": {
    "colab_type": "text",
    "id": "9q9KfNPeN7fg"
   },
   "source": [
    "Q13. Write the Python program to find the minimum window in the given\n",
    "string, which will contains all the characters of another given\n",
    "strings?\n",
    "\n",
    "    Example 1\n",
    "    Input : string1 = \" PRWSOERIUSFK \"\n",
    "    string2 = \" OSU \"\n",
    "    Output: Minimum window is \"OERIUS\""
   ]
  },
  {
   "cell_type": "code",
   "execution_count": 11,
   "metadata": {
    "colab": {},
    "colab_type": "code",
    "id": "xHTUZvc2N7fh"
   },
   "outputs": [
    {
     "data": {
      "text/plain": [
       "'bcdefgh'"
      ]
     },
     "execution_count": 11,
     "metadata": {},
     "output_type": "execute_result"
    }
   ],
   "source": [
    "def psaVedMinimumWindow(first15,second15):\n",
    "    splitedData = list(second15)\n",
    "    sortedIndex = []\n",
    "    for a in splitedData:\n",
    "        sortedIndex.append(first15.index(a))\n",
    "    sortedIndex = sorted(sortedIndex)\n",
    "    minimumIndex = min(sortedIndex)\n",
    "    maximumIndex = max(sortedIndex)\n",
    "    return first15[minimumIndex:maximumIndex+1]\n",
    "psaVedMinimumWindow('abcdefghi','hbfd')"
   ]
  },
  {
   "cell_type": "markdown",
   "metadata": {
    "colab_type": "text",
    "id": "WrU8JXTGN7fq"
   },
   "source": [
    "Q14. Write the Python program to count number of substrings from a\n",
    "given string of lowercase alphabets with exactly k distinct (given)\n",
    "characters?\n",
    "\n",
    "    Input a string (lowercase alphabets): wolf\n",
    "    Input k: 4\n",
    "    Number of substrings with exactly 4 distinct characters: 1"
   ]
  },
  {
   "cell_type": "code",
   "execution_count": 1,
   "metadata": {
    "colab": {},
    "colab_type": "code",
    "id": "RCqJyFcNN7fr"
   },
   "outputs": [
    {
     "name": "stdin",
     "output_type": "stream",
     "text": [
      "Enter String aabbccddee\n",
      "Enter key 4\n"
     ]
    },
    {
     "data": {
      "text/plain": [
       "2"
      ]
     },
     "execution_count": 1,
     "metadata": {},
     "output_type": "execute_result"
    }
   ],
   "source": [
    "def psaVedSubstringCount():\n",
    "    string = input('Enter String')\n",
    "    k = int(input('Enter key'))\n",
    "    count = 0\n",
    "    distinctCharacterCount = len(list(set(string)))\n",
    "    distinctCharacter = list(set(string))\n",
    "    if distinctCharacterCount < k:\n",
    "        return \"No Substring Can Be Made.\"\n",
    "    elif distinctCharacterCount == k:\n",
    "        return \"Only One Substring Can Be Made.\"\n",
    "    else:\n",
    "        joinedString = ''.join(distinctCharacter)\n",
    "        firstIndex = joinedString.find(joinedString[0])\n",
    "        lastIndex = joinedString.find(joinedString[-1])\n",
    "        incrementedFirstIndex = 0\n",
    "        while ((incrementedFirstIndex+k)<=(lastIndex+1)):\n",
    "               count += 1\n",
    "               incrementedFirstIndex += 1\n",
    "        return count\n",
    "psaVedSubstringCount()"
   ]
  },
  {
   "cell_type": "markdown",
   "metadata": {
    "colab_type": "text",
    "id": "jAXGwbEQN7fw"
   },
   "source": [
    "Q15. Write the Python program to count number of substrings with same\n",
    "first and last characters of the given string?\n",
    "\n",
    "    Input a string: abcd\n",
    "    4\n"
   ]
  },
  {
   "cell_type": "code",
   "execution_count": 4,
   "metadata": {
    "colab": {},
    "colab_type": "code",
    "id": "-glCWR0YN7fx"
   },
   "outputs": [
    {
     "name": "stdin",
     "output_type": "stream",
     "text": [
      "Enter String abcd\n"
     ]
    },
    {
     "data": {
      "text/plain": [
       "4"
      ]
     },
     "execution_count": 4,
     "metadata": {},
     "output_type": "execute_result"
    }
   ],
   "source": [
    "def psaVedSameSubString():\n",
    "    string = input('Enter String')\n",
    "    stringLength = len(string)\n",
    "    allSubStrings = []\n",
    "    subStrings = []\n",
    "    for a in range(0,stringLength):\n",
    "        for b in range(a,stringLength+1):\n",
    "            if string[a:b] != '':\n",
    "                allSubStrings.append(string[a:b])\n",
    "                check = string[a:b]\n",
    "                if(check[0] == check[-1]):\n",
    "                    subStrings.append(check)\n",
    "    return len(subStrings)\n",
    "psaVedSameSubString()"
   ]
  },
  {
   "cell_type": "markdown",
   "metadata": {
    "colab_type": "text",
    "id": "xqhdXroQN7f1"
   },
   "source": [
    "## Great Job!"
   ]
  }
 ],
 "metadata": {
  "colab": {
   "name": "Subjective Assignment - 1- Python core.ipynb",
   "provenance": []
  },
  "kernelspec": {
   "display_name": "Python 3",
   "language": "python",
   "name": "python3"
  },
  "language_info": {
   "codemirror_mode": {
    "name": "ipython",
    "version": 3
   },
   "file_extension": ".py",
   "mimetype": "text/x-python",
   "name": "python",
   "nbconvert_exporter": "python",
   "pygments_lexer": "ipython3",
   "version": "3.7.1"
  }
 },
 "nbformat": 4,
 "nbformat_minor": 2
}
