{
 "cells": [
  {
   "cell_type": "markdown",
   "metadata": {},
   "source": [
    "## Problem Statement"
   ]
  },
  {
   "cell_type": "markdown",
   "metadata": {},
   "source": [
    "#### Task 1:\n",
    "\n",
    "Read the dataset from the bellow link\n",
    "\n",
    "url = https://raw.githubusercontent.com/hadley/data-baby-names/master/baby-names.csv\n"
   ]
  },
  {
   "cell_type": "code",
   "execution_count": 2,
   "metadata": {},
   "outputs": [
    {
     "name": "stdout",
     "output_type": "stream",
     "text": [
      "   year     name   percent  sex\n",
      "0  1880     John  0.081541  boy\n",
      "1  1880  William  0.080511  boy\n",
      "2  1880    James  0.050057  boy\n",
      "3  1880  Charles  0.045167  boy\n",
      "4  1880   George  0.043292  boy\n",
      "5  1880    Frank  0.027380  boy\n",
      "6  1880   Joseph  0.022229  boy\n",
      "7  1880   Thomas  0.021401  boy\n",
      "8  1880    Henry  0.020641  boy\n",
      "9  1880   Robert  0.020404  boy\n"
     ]
    }
   ],
   "source": [
    "def psaVedreadDataset():\n",
    "    import pandas as pd\n",
    "    print(pd.read_csv('baby-names.csv').head(10))\n",
    "psaVedreadDataset()"
   ]
  },
  {
   "cell_type": "markdown",
   "metadata": {},
   "source": [
    "Questions"
   ]
  },
  {
   "cell_type": "markdown",
   "metadata": {},
   "source": [
    "1. Delete unnamed columns"
   ]
  },
  {
   "cell_type": "code",
   "execution_count": null,
   "metadata": {},
   "outputs": [],
   "source": []
  },
  {
   "cell_type": "markdown",
   "metadata": {},
   "source": [
    "2. Show the distribution of male and female"
   ]
  },
  {
   "cell_type": "code",
   "execution_count": null,
   "metadata": {},
   "outputs": [],
   "source": [
    "def psaVedShowDistribution():\n",
    "    import pandas as pd\n",
    "    print(pd.read_csv('baby-names.csv').head(10))\n",
    "psaVedreadDataset()"
   ]
  },
  {
   "cell_type": "markdown",
   "metadata": {},
   "source": [
    "3. Show the top 5 most preferred names"
   ]
  },
  {
   "cell_type": "code",
   "execution_count": 5,
   "metadata": {},
   "outputs": [
    {
     "name": "stdout",
     "output_type": "stream",
     "text": [
      "0       John\n",
      "1    William\n",
      "2      James\n",
      "3    Charles\n",
      "4     George\n",
      "Name: name, dtype: object\n"
     ]
    }
   ],
   "source": [
    "def psaVedreadDataset():\n",
    "    import pandas as pd\n",
    "    csvData = pd.read_csv('baby-names.csv')\n",
    "    nameData = csvData['name'].head(5)\n",
    "    print(nameData)\n",
    "psaVedreadDataset()"
   ]
  },
  {
   "cell_type": "markdown",
   "metadata": {},
   "source": [
    "4. What is the median name occurence in the dataset"
   ]
  },
  {
   "cell_type": "code",
   "execution_count": 35,
   "metadata": {},
   "outputs": [
    {
     "name": "stdout",
     "output_type": "stream",
     "text": [
      "Mary\n",
      "Mary\n"
     ]
    }
   ],
   "source": [
    "def psaVedMedianName():\n",
    "    import pandas as pd\n",
    "    import statistics as st\n",
    "    csvData = pd.read_csv('baby-names.csv')\n",
    "    nameData = st.median(csvData.index)\n",
    "    print(csvData.iloc[round(nameData)]['name'])\n",
    "    print(csvData.iloc[round(csvData.shape[0]/2)]['name'])\n",
    "psaVedMedianName()"
   ]
  },
  {
   "cell_type": "markdown",
   "metadata": {},
   "source": [
    "5. Distribution of male and female born count by states"
   ]
  },
  {
   "cell_type": "code",
   "execution_count": null,
   "metadata": {},
   "outputs": [],
   "source": []
  },
  {
   "cell_type": "markdown",
   "metadata": {},
   "source": [
    "#### Task 2:\n",
    "\n",
    "We have the min and max temperatures in a city In India for each months of the year. We\n",
    "would like to find a function to describe this and show it graphically, the dataset given below.\n",
    "\n",
    "    Task:\n",
    "    1. fitting it to the periodic function\n",
    "    2. plot the fit\n",
    "    \n",
    "    Data\n",
    "    Max = 39, 41, 43, 47, 49, 51, 45, 38, 37, 29, 27, 25\n",
    "    Min = 21, 23, 27, 28, 32, 35, 31, 28, 21, 19, 17, 18\n"
   ]
  },
  {
   "cell_type": "code",
   "execution_count": 21,
   "metadata": {},
   "outputs": [
    {
     "data": {
      "image/png": "[encoded data removed]",
      "text/plain": [
       "<Figure size 432x288 with 1 Axes>"
      ]
     },
     "metadata": {
      "needs_background": "light"
     },
     "output_type": "display_data"
    }
   ],
   "source": [
    "def psaVedTempreturePlot():\n",
    "    import numpy as np\n",
    "    import pandas as pd\n",
    "    import matplotlib.pyplot as plt\n",
    "    months = np.arange(1,13)\n",
    "    maxTemp = [39, 41, 43, 47, 49, 51, 45, 38, 37, 29, 27, 25]\n",
    "    minTemp = [21, 23, 27, 28, 32, 35, 31, 28, 21, 19, 17, 18]\n",
    "    plt.xlabel('months', fontsize=20)\n",
    "    plt.ylabel('Temperatures', fontsize=20)\n",
    "    plotData = pd.DataFrame([maxTemp,minTemp])\n",
    "    plt.plot(maxTemp,'-o',minTemp,'-o')\n",
    "    plt.show()\n",
    "psaVedTempreturePlot()"
   ]
  },
  {
   "cell_type": "code",
   "execution_count": null,
   "metadata": {},
   "outputs": [],
   "source": []
  }
 ],
 "metadata": {
  "kernelspec": {
   "display_name": "Python 3",
   "language": "python",
   "name": "python3"
  },
  "language_info": {
   "codemirror_mode": {
    "name": "ipython",
    "version": 3
   },
   "file_extension": ".py",
   "mimetype": "text/x-python",
   "name": "python",
   "nbconvert_exporter": "python",
   "pygments_lexer": "ipython3",
   "version": "3.7.1"
  }
 },
 "nbformat": 4,
 "nbformat_minor": 2
}
