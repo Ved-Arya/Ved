{
 "cells": [
  {
   "cell_type": "markdown",
   "metadata": {
    "colab_type": "text",
    "id": "UMSdAh-WGnsU"
   },
   "source": [
    "## Problem Statement"
   ]
  },
  {
   "cell_type": "markdown",
   "metadata": {
    "colab_type": "text",
    "id": "qjvyrhETGnse"
   },
   "source": [
    "Q.1 Write a function to compute 5/0 and use try/except to catch the exceptions."
   ]
  },
  {
   "cell_type": "code",
   "execution_count": 3,
   "metadata": {
    "colab": {},
    "colab_type": "code",
    "id": "HO3an57iGnsh"
   },
   "outputs": [
    {
     "name": "stdout",
     "output_type": "stream",
     "text": [
      "Can not divide by zero\n"
     ]
    }
   ],
   "source": [
    "def psaVedCompute(first1,second1):\n",
    "    try:\n",
    "        return a/b\n",
    "    except:\n",
    "        print('Can not divide by zero')\n",
    "psaVedCompute(5,0)"
   ]
  },
  {
   "cell_type": "markdown",
   "metadata": {
    "colab_type": "text",
    "id": "6pDmIhbCGnsv"
   },
   "source": [
    "Q.2 Implement a Python program to generate all sentences where subject is in [\"Americans\",\n",
    "\"Indians\"] and verb is in [\"Play\", \"watch\"] and the object is in [\"Baseball\",\"cricket\"].\n",
    "\n",
    "    Hint: Subject,Verb and Object should be declared in the program as shown below.\n",
    "    subjects=[\"Americans \",\"Indians\"]\n",
    "    verbs=[\"play\",\"watch\"]\n",
    "    objects=[\"Baseball\",\"Cricket\"]\n",
    "\n",
    "    Output should come as below:\n",
    "    Americans play Baseball.\n",
    "    Americans play Cricket.\n",
    "    Americans watch Baseball.\n",
    "    Americans watch Cricket.\n",
    "    Indians play Baseball.\n",
    "    Indians play Cricket.\n",
    "    Indians watch Baseball.\n",
    "    Indians watch Cricket."
   ]
  },
  {
   "cell_type": "code",
   "execution_count": 1,
   "metadata": {
    "colab": {},
    "colab_type": "code",
    "id": "enNugO42Gnsx"
   },
   "outputs": [
    {
     "name": "stdout",
     "output_type": "stream",
     "text": [
      "Americans  play Baseball \n",
      "\n",
      "Americans  play Cricket \n",
      "\n",
      "Americans  watch Baseball \n",
      "\n",
      "Americans  watch Cricket \n",
      "\n",
      "Indians play Baseball \n",
      "\n",
      "Indians play Cricket \n",
      "\n",
      "Indians watch Baseball \n",
      "\n",
      "Indians watch Cricket \n",
      "\n"
     ]
    }
   ],
   "source": [
    "def psaVedGenerateSentance():\n",
    "    subjects=[\"Americans \",\"Indians\"]\n",
    "    verbs=[\"play\",\"watch\"]\n",
    "    objects=[\"Baseball\",\"Cricket\"]\n",
    "    for a in subjects:\n",
    "        for b in verbs:\n",
    "            for c in objects:\n",
    "                print(a,b,c,end=' ')\n",
    "                print('\\n')\n",
    "psaVedGenerateSentance()"
   ]
  },
  {
   "cell_type": "markdown",
   "metadata": {
    "colab_type": "text",
    "id": "t2VGqTmkGns4"
   },
   "source": [
    "Q.3 Write a function so that the columns of the output matrix are powers of the input vector.\n",
    "The order of the powers is determined by the increasing boolean argument. Specifically, when\n",
    "increasing is False, the i-th output column is the input vector raised element-wise to the power\n",
    "of N - i - 1.\n",
    "\n",
    "    HINT: Such a matrix with a geometric progression in each row is named for Alexandre Theophile Vandermonde."
   ]
  },
  {
   "cell_type": "code",
   "execution_count": 5,
   "metadata": {},
   "outputs": [
    {
     "data": {
      "text/plain": [
       "array([[ 1,  1,  1,  1],\n",
       "       [ 8,  4,  2,  1],\n",
       "       [27,  9,  3,  1],\n",
       "       [64, 16,  4,  1]])"
      ]
     },
     "execution_count": 5,
     "metadata": {},
     "output_type": "execute_result"
    }
   ],
   "source": [
    "def psaVedGenerateMat():\n",
    "    import numpy as a\n",
    "    b = a.array([1,2,3,4])\n",
    "    no_of_col = 4\n",
    "    return a.vander(b, no_of_col)\n",
    "psaVedGenerateMat()"
   ]
  },
  {
   "cell_type": "code",
   "execution_count": null,
   "metadata": {},
   "outputs": [],
   "source": []
  }
 ],
 "metadata": {
  "colab": {
   "name": "Assignment 3 - Python function.ipynb",
   "provenance": []
  },
  "kernelspec": {
   "display_name": "Python 3",
   "language": "python",
   "name": "python3"
  },
  "language_info": {
   "codemirror_mode": {
    "name": "ipython",
    "version": 3
   },
   "file_extension": ".py",
   "mimetype": "text/x-python",
   "name": "python",
   "nbconvert_exporter": "python",
   "pygments_lexer": "ipython3",
   "version": "3.7.1"
  }
 },
 "nbformat": 4,
 "nbformat_minor": 2
}
