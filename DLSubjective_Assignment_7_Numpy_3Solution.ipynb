{
 "cells": [
  {
   "cell_type": "markdown",
   "metadata": {
    "colab_type": "text",
    "id": "7Z4Siz7fywLO"
   },
   "source": [
    "# Assignment"
   ]
  },
  {
   "cell_type": "markdown",
   "metadata": {
    "colab_type": "text",
    "id": "qzgnqUEkywLT"
   },
   "source": [
    "Q1. Create two arrays of six elements. Write the NumPy program to\n",
    "count the number of instances of a value occurring in one array on\n",
    "the condition of another array.\n",
    "\n",
    "    Sample OutputOriginal arrays-\n",
    "    [ 10 -10 10 -10 -10 10]\n",
    "    [0.85 0.45 0.9 0.8 0.12 0.6 ]\n",
    "    Number of instances of a value occurring in one array on the condition of another\n",
    "    array: 3\n"
   ]
  },
  {
   "cell_type": "code",
   "execution_count": null,
   "metadata": {
    "colab": {},
    "colab_type": "code",
    "id": "RrKxoZdNywLV"
   },
   "outputs": [],
   "source": []
  },
  {
   "cell_type": "markdown",
   "metadata": {
    "colab_type": "text",
    "id": "MlpzuFCwywLm"
   },
   "source": [
    "Q2. Write the NumPy program to convert a Python dictionary to a\n",
    "Numpy ndarray ?\n",
    "    \n",
    "    Original dictionary-\n",
    "    {'column0': {'a': 1, 'b': 0.0, 'c': 0.0, 'd': 2.0},\n",
    "    'column1': {'a': 3.0, 'b': 1, 'c': 0.0, 'd': -1.0},\n",
    "    'column2': {'a': 4, 'b': 1, 'c': 5.0, 'd': -1.0},\n",
    "    'column3': {'a': 3.0, 'b': -1.0, 'c': -1.0, 'd': -1.0}}\n",
    "    Type: <class 'dict'>\n",
    "    ndarray-\n",
    "    [[ 1. 0. 0. 2.]\n",
    "    [ 3. 1. 0. -1.]\n",
    "    [ 4. 1. 5. -1.]\n",
    "    [ 3. -1. -1. -1.]]\n",
    "    Type: <class 'numpy.ndarray'>\n"
   ]
  },
  {
   "cell_type": "code",
   "execution_count": 30,
   "metadata": {
    "colab": {},
    "colab_type": "code",
    "id": "BQTj1aKWywLp"
   },
   "outputs": [
    {
     "name": "stdout",
     "output_type": "stream",
     "text": [
      "dict_values([0.8289901004936249, 0.04913954845351598, 0.40508497933877363, 0.17600567049239702, 0.8056962054619928])\n"
     ]
    }
   ],
   "source": [
    "def psaVedDictionaryToNdarray():\n",
    "    import numpy as np\n",
    "    dtnDictionary = dict(zip(['one','two','three','four','five'],np.random.rand(5)))\n",
    "    print(dtnDictionary.values())\n",
    "psaVedDictionaryToNdarray()"
   ]
  },
  {
   "cell_type": "markdown",
   "metadata": {
    "colab_type": "text",
    "id": "jwF7qNjnywLw"
   },
   "source": [
    "Q3. Write the Numpy program to find and store the non-zero unique\n",
    "rows in an array after comparing each row with other row in the\n",
    "given matrix?\n",
    " \n",
    "    Original array-\n",
    "    [[ 1 1 0]\n",
    "    [ 0 0 0]\n",
    "    [ 0 2 3]\n",
    "    [ 0 0 0]\n",
    "    [ 0 -1 1]\n",
    "    [ 0 0 0]]\n",
    "    Non-zero unique rows-\n",
    "    [[ 1 1 0]\n",
    "    [ 0 2 3]\n",
    "    [ 0 -1 1]]"
   ]
  },
  {
   "cell_type": "code",
   "execution_count": 29,
   "metadata": {
    "colab": {},
    "colab_type": "code",
    "id": "UTUQ_bfzywLy"
   },
   "outputs": [
    {
     "name": "stdout",
     "output_type": "stream",
     "text": [
      "[[-1 -1  1]\n",
      " [ 0  0  0]\n",
      " [ 1 -2  0]\n",
      " [ 0  0  0]\n",
      " [-1  2 -3]\n",
      " [ 0  0  0]\n",
      " [ 0 -4  5]\n",
      " [ 0  0  0]\n",
      " [ 3  2 -7]\n",
      " [ 0  0  0]\n",
      " [-1  0  0]\n",
      " [ 0  0  0]]\n",
      "[[-1, -1, 1], [1, -2, 0], [-1, 2, -3], [0, -4, 5], [3, 2, -7], [-1, 0, 0]]\n"
     ]
    }
   ],
   "source": [
    "def psaVedstoreNonZeroUnique():\n",
    "    import numpy as np\n",
    "    rowMatrix = np.array([[-1,-1,1],[0,0,0],[1,-2,0],[0,0,0],[-1,2,-3],[0,0,0],[0,-4,5],[0,0,0],[3,2,-7],[0,0,0],[-1,0,0],[0,0,0]])\n",
    "    outputMatrix = []\n",
    "    for a in rowMatrix:\n",
    "        if a[0]==0 and a[1]==0 and a[2]==0:\n",
    "            pass\n",
    "        else:\n",
    "            outputMatrix.append(list(a))\n",
    "    print(rowMatrix)\n",
    "    print(outputMatrix)\n",
    "psaVedstoreNonZeroUnique()"
   ]
  },
  {
   "cell_type": "markdown",
   "metadata": {
    "colab_type": "text",
    "id": "V3XtPKjGywL5"
   },
   "source": [
    "Q4. Write the NumPy program to multiply the matrix by another matrix\n",
    "of complex numbers and create a new matrix of complex\n",
    "numbers?\n",
    "\n",
    "    Sample outputFirst array-\n",
    "    [ 1.+2.j 3.+4.j]\n",
    "    Second array-\n",
    "    [ 5.+6.j 7.+8.j]\n",
    "    Product of above two arrays-\n",
    "    (70-8j)"
   ]
  },
  {
   "cell_type": "code",
   "execution_count": 28,
   "metadata": {
    "colab": {},
    "colab_type": "code",
    "id": "KCjK1cWYywL-"
   },
   "outputs": [
    {
     "name": "stdout",
     "output_type": "stream",
     "text": [
      "(110-16j)\n"
     ]
    }
   ],
   "source": [
    "def psaVedMatrixMultiply():\n",
    "    import numpy as np\n",
    "    oneMatrix = np.array([1+2j,3+4j])\n",
    "    twoMatrix = np.array([9+10j,11+12j])\n",
    "    output = np.vdot(oneMatrix,twoMatrix)\n",
    "    print(output)\n",
    "psaVedMatrixMultiply()"
   ]
  },
  {
   "cell_type": "markdown",
   "metadata": {
    "colab_type": "text",
    "id": "NqGvw1VPywME"
   },
   "source": [
    "Q5. Write a NumPy program to generate the matrix product of two\n",
    "Arrays?\n",
    "\n",
    "    Sample OutputMatrices and vectors.\n",
    "    x-\n",
    "    [[1, 0], [1, 1]]\n",
    "    y-\n",
    "    [[3, 1], [2, 2]]\n",
    "    Matrix product of above two arrays-\n",
    "    [[3 1]\n",
    "    [5 3]]\n"
   ]
  },
  {
   "cell_type": "code",
   "execution_count": 27,
   "metadata": {
    "colab": {},
    "colab_type": "code",
    "id": "fOJ65tPvywMH"
   },
   "outputs": [
    {
     "name": "stdout",
     "output_type": "stream",
     "text": [
      "[[1, 2], [3, 4]]\n",
      "[[19 22]\n",
      " [43 50]]\n"
     ]
    }
   ],
   "source": [
    "def psaVedMatrixProductOfTwoArray():\n",
    "    import numpy as np\n",
    "    oneArray = [[1,2],[3,4]]\n",
    "    twoArray = [[5,6],[7,8]]\n",
    "    print(oneArray)\n",
    "    print(np.matmul(oneArray,twoArray))\n",
    "psaVedMatrixProductOfTwoArray()"
   ]
  },
  {
   "cell_type": "markdown",
   "metadata": {
    "colab_type": "text",
    "id": "XSaNC04QywMO"
   },
   "source": [
    "Q6. Write the NumPy program to find roots of the following\n",
    "Polynomials?\n",
    "\n",
    "    a) (x\n",
    "    2\n",
    "    - 4x + 7)\n",
    "    b) x4\n",
    "    - 11x3 + 9x2 + 11x ? 10\n",
    "    Sample outputRoots of the first polynomial-\n",
    "    [ 1. 1.]\n",
    "    Roots of the second polynomial-\n",
    "    [ 11.04461946+0.j -0.87114210+0.j 0.91326132+0.4531004j\n",
    "    0.91326132-0.4531004j ]"
   ]
  },
  {
   "cell_type": "code",
   "execution_count": null,
   "metadata": {},
   "outputs": [],
   "source": []
  },
  {
   "cell_type": "markdown",
   "metadata": {
    "colab_type": "text",
    "id": "BDmq8VKlywMY"
   },
   "source": [
    "Q7. Write the NumPy program to calculate inverse of sine, cosine,\n",
    "and inverse tangent for all elements in a given array?\n",
    "\n",
    "    Sample outputInverse sine- [-1.57079633 0. 1.57079633]\n",
    "    Inverse cosine- [3.14159265 1.57079633 0. ]\n",
    "    Inverse tangent- [-0.78539816 0. 0.78539816]"
   ]
  },
  {
   "cell_type": "code",
   "execution_count": 26,
   "metadata": {
    "colab": {},
    "colab_type": "code",
    "id": "UnNXkGxMywMZ"
   },
   "outputs": [
    {
     "name": "stdout",
     "output_type": "stream",
     "text": [
      "[-1.57079633  0.          1.57079633]\n",
      "--------\n",
      "[3.14159265 1.57079633 0.        ]\n",
      "--------\n",
      "[-0.78539816  0.          0.78539816]\n"
     ]
    }
   ],
   "source": [
    "def psaVedCalculateInverse():\n",
    "    import numpy as np\n",
    "    mathData = np.array([-1., 0, 1.])\n",
    "    print(np.arcsin(mathData))\n",
    "    print('--------')\n",
    "    print(np.arccos(mathData))\n",
    "    print('--------')\n",
    "    print(np.arctan(mathData))\n",
    "psaVedCalculateInverse()"
   ]
  },
  {
   "cell_type": "markdown",
   "metadata": {
    "colab_type": "text",
    "id": "roCUuM8VywMh"
   },
   "source": [
    "Q8. Write the NumPy program to calculate the difference between in\n",
    "neighbouring elements, element-wise of a given array?\n",
    "\n",
    "    Sample outputOriginal array-\n",
    "    [1 3 5 7 0]\n",
    "    Difference between neighbouring elements, element-wise of the said array-\n",
    "    [ 2 2 2 -7]"
   ]
  },
  {
   "cell_type": "code",
   "execution_count": 23,
   "metadata": {
    "colab": {},
    "colab_type": "code",
    "id": "v5CpZYO0ywMk"
   },
   "outputs": [
    {
     "name": "stdout",
     "output_type": "stream",
     "text": [
      "[ 2  2  2 -7]\n"
     ]
    }
   ],
   "source": [
    "def psaVedDifferenceBetweenNeighbouring():\n",
    "    import numpy as np\n",
    "    x = np.array([1, 3, 5, 7, 0])\n",
    "    r1 = np.ediff1d(x)\n",
    "    print(r1)\n",
    "psaVedDifferenceBetweenNeighbouring()"
   ]
  },
  {
   "cell_type": "markdown",
   "metadata": {
    "colab_type": "text",
    "id": "c6_uuK9PywMp"
   },
   "source": [
    "Q9. Write the Python program to find the maximum and the minimum\n",
    "value of a given flattened array?\n",
    "\n",
    "    Expected OutputOriginal flattened array-\n",
    "    [[0 1]\n",
    "    [2 3]]\n",
    "    Maximum value of the above flattened array3\n",
    "    Minimum value of the above flattened array0"
   ]
  },
  {
   "cell_type": "code",
   "execution_count": 22,
   "metadata": {
    "colab": {},
    "colab_type": "code",
    "id": "dZ33DWW2ywMr"
   },
   "outputs": [
    {
     "name": "stdout",
     "output_type": "stream",
     "text": [
      "[[0 1]\n",
      " [2 3]]\n",
      "3\n",
      "0\n"
     ]
    }
   ],
   "source": [
    "def psaVedFindMinmumAndMaximum():\n",
    "    import numpy as np\n",
    "    flattenedArray = np.arange(4).reshape(2,2)\n",
    "    print(flattenedArray)\n",
    "    print(np.max(flattenedArray))\n",
    "    print(np.min(flattenedArray))\n",
    "psaVedFindMinmumAndMaximum()"
   ]
  },
  {
   "cell_type": "markdown",
   "metadata": {
    "colab_type": "text",
    "id": "wsxh_r-lywMv"
   },
   "source": [
    "Q10. Write the NumPy program to calculate the difference between in\n",
    "the maximum and the minimum values of a given array along the\n",
    "second axis ?\n",
    "\n",
    "    Expected OutputOriginal array-\n",
    "    [[ 0 1 2 3 4 5]\n",
    "    [ 6 7 8 9 10 11]]\n",
    "    Difference between the maximum and the minimum values of the said array-\n",
    "    [5 5]\n"
   ]
  },
  {
   "cell_type": "code",
   "execution_count": 20,
   "metadata": {
    "colab": {},
    "colab_type": "code",
    "id": "eDE1HgqAywMx"
   },
   "outputs": [
    {
     "name": "stdout",
     "output_type": "stream",
     "text": [
      "GIVEN ARRAY:-\n",
      "[[ 0  1  2  3  4  5]\n",
      " [ 6  7  8  9 10 11]]\n",
      "MAXIMUM VALUE OF SECOND ROW OF ARRAY:-\n",
      "11\n",
      "MINIMUM VALUE OF SECOND ROW OF ARRAY:-\n",
      "6\n",
      "DIFFRENCE BETWEEN MAXIMUM AND MINIMUM VALUE OF SECOND ROW OF ARRAY:-\n",
      "5\n"
     ]
    }
   ],
   "source": [
    "def psaVedCalculateDifferenceOfMaxNMinOfArrayAlongSecondAxis():\n",
    "    import numpy as np\n",
    "    givenArray = np.arange(12).reshape(2,6)\n",
    "    print('GIVEN ARRAY:-')\n",
    "    print(givenArray)\n",
    "    print('MAXIMUM VALUE OF SECOND ROW OF ARRAY:-')\n",
    "    print(np.max(givenArray[1]))\n",
    "    print('MINIMUM VALUE OF SECOND ROW OF ARRAY:-')\n",
    "    print(np.min(givenArray[1]))\n",
    "    print('DIFFRENCE BETWEEN MAXIMUM AND MINIMUM VALUE OF SECOND ROW OF ARRAY:-')\n",
    "    print(np.max(givenArray[1])-np.min(givenArray[1]))\n",
    "psaVedCalculateDifferenceOfMaxNMinOfArrayAlongSecondAxis()"
   ]
  },
  {
   "cell_type": "markdown",
   "metadata": {
    "colab_type": "text",
    "id": "B-hbnqynywM3"
   },
   "source": [
    "Q11. Write the NumPy program to compute the weighted of the given\n",
    "array ?\n",
    "\n",
    "    Sample OutputOriginal array-\n",
    "    [0 1 2 3 4]\n",
    "    Weighted average of the said array2.6666666666666665"
   ]
  },
  {
   "cell_type": "code",
   "execution_count": 18,
   "metadata": {
    "colab": {},
    "colab_type": "code",
    "id": "lZPGimUhywM5"
   },
   "outputs": [
    {
     "name": "stdout",
     "output_type": "stream",
     "text": [
      "[0 1 2 3 4]\n",
      "2.6666666666666665\n"
     ]
    }
   ],
   "source": [
    "def psaVedComputeWeighted():\n",
    "    import numpy as np\n",
    "    x = np.arange(5)\n",
    "    weights = np.arange(1, 6)\n",
    "    r1 = np.average(x, weights=weights)\n",
    "    r2 = (x*(weights/weights.sum())).sum()\n",
    "    assert np.allclose(r1, r2)\n",
    "    print(x)\n",
    "    print(r1)\n",
    "psaVedComputeWeighted()"
   ]
  },
  {
   "cell_type": "markdown",
   "metadata": {
    "colab_type": "text",
    "id": "cq9BJGb_ywM9"
   },
   "source": [
    "Q12. Write the NumPy program to compute the mean, standard\n",
    "deviation, and the variance of a given array along the second\n",
    "axis?\n",
    "\n",
    "    Sample outputOriginal array-\n",
    "    [0 1 2 3 4 5]\n",
    "    Mean- 2.5\n",
    "    std- 1\n",
    "    variance- 2.9166666666666665"
   ]
  },
  {
   "cell_type": "code",
   "execution_count": 11,
   "metadata": {
    "colab": {},
    "colab_type": "code",
    "id": "IyPJ7up1ywNA"
   },
   "outputs": [
    {
     "name": "stdout",
     "output_type": "stream",
     "text": [
      "sample array\n",
      "[0 1 2 3 4 5]\n",
      "mean\n",
      "2.5\n",
      "standard deviation\n",
      "1.8708286933869707\n",
      "variance\n",
      "3.5\n"
     ]
    }
   ],
   "source": [
    "def psaVedMeanSDVariance():\n",
    "    import numpy as np\n",
    "    import pandas as pd\n",
    "    import statistics \n",
    "    array95 = np.arange(6)\n",
    "    a1 = pd.Series(array95)\n",
    "    print('sample array')\n",
    "    print(array95)\n",
    "    print('mean')\n",
    "    print(a1.mean())\n",
    "    print('standard deviation')\n",
    "    print(statistics.stdev(a1))\n",
    "    print('variance')\n",
    "    print(statistics.variance(a1))\n",
    "psaVedMeanSDVariance()"
   ]
  },
  {
   "cell_type": "markdown",
   "metadata": {
    "colab_type": "text",
    "id": "lnmrNLkkywNG"
   },
   "source": [
    "Q13. Write the Numpy program to compute the covariance matrix of the\n",
    "two given arrays?\n",
    "    \n",
    "    Sample OutputOriginal array1-\n",
    "    [0 1 2]\n",
    "    Original array1-\n",
    "    [2 1 0]\n",
    "    Covariance matrix of the said arrays-\n",
    "    [[ 1. -1.]\n",
    "    [-1. 1.]]"
   ]
  },
  {
   "cell_type": "code",
   "execution_count": 9,
   "metadata": {
    "colab": {},
    "colab_type": "code",
    "id": "DGaczCGVywNH"
   },
   "outputs": [
    {
     "name": "stdout",
     "output_type": "stream",
     "text": [
      "[[ 1. -1.]\n",
      " [-1.  1.]]\n"
     ]
    }
   ],
   "source": [
    "#          k\n",
    "# G[i,j]=  E  h[u,v]F[i-u][j-v]\n",
    "#        u=-k\n",
    "def psaVedCovariance():\n",
    "    import numpy as np\n",
    "    arrayA = np.array([0,1,2])\n",
    "    arrayB = np.array([2,1,0])\n",
    "    print(np.cov(arrayA,arrayB))\n",
    "psaVedCovariance()"
   ]
  },
  {
   "cell_type": "markdown",
   "metadata": {
    "colab_type": "text",
    "id": "mFaL2-Z8ywNN"
   },
   "source": [
    "Q14. Write a NumPy program to compute the cross-correlation of two\n",
    "given arrays ?\n",
    "\n",
    "    Sample OutputOriginal array1-\n",
    "    [0 1 3]\n",
    "    Original array1-\n",
    "    [2 4 5]\n",
    "    Cross-correlation of the said arrays-\n",
    "    [ [ 2.33333333 2.16666667 ]\n",
    "     [ 2.16666667 2.33333333 ] ]"
   ]
  },
  {
   "cell_type": "code",
   "execution_count": 10,
   "metadata": {
    "colab": {},
    "colab_type": "code",
    "id": "0k-uA1-OywNP"
   },
   "outputs": [
    {
     "name": "stdout",
     "output_type": "stream",
     "text": [
      "[[2.33333333 2.16666667]\n",
      " [2.16666667 2.33333333]]\n"
     ]
    }
   ],
   "source": [
    "#          k\n",
    "# G[i,j]=  E  h[u,v]F[i+u][j+v]\n",
    "#        u=-k\n",
    "def psaVedCrossCorrelation():\n",
    "    import numpy as np\n",
    "    import pandas as pd\n",
    "    arrayA = np.array([0,1,3])\n",
    "    arrayB = np.array([2,4,5])\n",
    "#     dataFrame = pd.DataFrame(data = {'one':arrayA,'two':arrayB})\n",
    "#     print(dataFrame.corr())\n",
    "    print(np.cov(arrayA,arrayB))\n",
    "psaVedCrossCorrelation()"
   ]
  },
  {
   "cell_type": "markdown",
   "metadata": {
    "colab_type": "text",
    "id": "kXbdAzBWywNW"
   },
   "source": [
    "Q15. Write the NumPy program to compute Pearson product-moment\n",
    "correlation coefficients of two given arrays?\n",
    "\n",
    "    Sample OutputOriginal array1-\n",
    "    [0 1 3]\n",
    "    Original array1-\n",
    "    [2 4 5]\n",
    "    Pearson product-moment correlation coefficients of the said arrays-\n",
    "    [[1. 0.92857143]\n",
    "    [0.92857143 1. ]]"
   ]
  },
  {
   "cell_type": "code",
   "execution_count": 7,
   "metadata": {
    "colab": {},
    "colab_type": "code",
    "id": "8FzD7NgJywNX"
   },
   "outputs": [
    {
     "name": "stdout",
     "output_type": "stream",
     "text": [
      "[[1.         0.92857143]\n",
      " [0.92857143 1.        ]]\n"
     ]
    }
   ],
   "source": [
    "def psaVedComputePersonProductMomentCorrelationCoefficient():\n",
    "    import numpy as np\n",
    "    arrayA = np.array([0,1,3])\n",
    "    arrayB = np.array([2,4,5])\n",
    "    print(np.corrcoef(arrayA,arrayB))\n",
    "psaVedComputePersonProductMomentCorrelationCoefficient()"
   ]
  },
  {
   "cell_type": "markdown",
   "metadata": {
    "colab_type": "text",
    "id": "RF4YqfL6ywNc"
   },
   "source": [
    "Q16. Write the python program to count the number of occurrences of\n",
    "each value in a given array of non-negative integers?\n",
    " \n",
    "Note: bincount() Function- It count the occurrence of each value in an array of the\n",
    "non- negative integers in the range of the array between the minimum and maximum values\n",
    "including the values that did not occur.\n",
    "\n",
    "    Sample OutputOriginal array-\n",
    "    [0, 1, 6, 1, 4, 1, 2, 2, 7]\n",
    "    Number of occurrences of each value in array-\n",
    "    [1 3 2 0 1 0 1 1]"
   ]
  },
  {
   "cell_type": "code",
   "execution_count": 6,
   "metadata": {
    "colab": {},
    "colab_type": "code",
    "id": "RFkawV9zywNd"
   },
   "outputs": [
    {
     "name": "stdout",
     "output_type": "stream",
     "text": [
      "[0, 1, 6, 1, 4, 1, 2, 2, 7]\n",
      "{0: 1, 1: 3, 2: 2, 4: 1, 6: 1, 7: 1}\n"
     ]
    }
   ],
   "source": [
    "def psaVedCountOfNonNegativeElement():\n",
    "    import numpy as np\n",
    "    arrayContainingNegative = [0, 1, 6, 1, 4, 1, 2, 2, 7]\n",
    "    dataDictionary = {}\n",
    "    for a in list(set(arrayContainingNegative)):\n",
    "        repeatation = 0\n",
    "        key = a\n",
    "        for b in arrayContainingNegative:\n",
    "            if key == b:\n",
    "                repeatation += 1\n",
    "            else:\n",
    "                pass\n",
    "        dataDictionary.__setitem__(key,repeatation)\n",
    "    print(arrayContainingNegative)\n",
    "    print(dataDictionary)\n",
    "psaVedCountOfNonNegativeElement()"
   ]
  },
  {
   "cell_type": "markdown",
   "metadata": {
    "colab_type": "text",
    "id": "daCMsgbqywNj"
   },
   "source": [
    "Q17. Write a Numpy program to compute the histogram of nums\n",
    "against the bins?\n",
    "\n",
    "    Sample Outputnums- [0.5 0.7 1. 1.2 1.3 2.1]\n",
    "    bins- [0 1 2 3]\n",
    "    Result- (array([2, 3, 1], dtype=int64), array([0, 1, 2, 3]))"
   ]
  },
  {
   "cell_type": "code",
   "execution_count": 2,
   "metadata": {
    "colab": {},
    "colab_type": "code",
    "id": "oHnX_AjzywNl"
   },
   "outputs": [
    {
     "data": {
      "image/png": "[encoded data removed]",
      "text/plain": [
       "<Figure size 432x288 with 1 Axes>"
      ]
     },
     "metadata": {
      "needs_background": "light"
     },
     "output_type": "display_data"
    }
   ],
   "source": [
    "def psaVedComputeHistogramAgainstBins():\n",
    "    import numpy as np\n",
    "    import matplotlib.pyplot as plt\n",
    "    xAxis = np.array([0.5, 0.7, 1.0, 1.2, 1.3, 2.1])\n",
    "    yAxis = np.array([1,2,3,4,5])\n",
    "    plt.hist(xAxis,bins=yAxis)\n",
    "    plt.show()\n",
    "psaVedComputeHistogramAgainstBins()"
   ]
  },
  {
   "cell_type": "markdown",
   "metadata": {
    "colab_type": "text",
    "id": "cCMucrfYywNq"
   },
   "source": [
    "## Great Job!"
   ]
  }
 ],
 "metadata": {
  "colab": {
   "name": "Subjective Assignment - 7 - Numpy 3.ipynb",
   "provenance": []
  },
  "kernelspec": {
   "display_name": "Python 3",
   "language": "python",
   "name": "python3"
  },
  "language_info": {
   "codemirror_mode": {
    "name": "ipython",
    "version": 3
   },
   "file_extension": ".py",
   "mimetype": "text/x-python",
   "name": "python",
   "nbconvert_exporter": "python",
   "pygments_lexer": "ipython3",
   "version": "3.7.1"
  }
 },
 "nbformat": 4,
 "nbformat_minor": 2
}
