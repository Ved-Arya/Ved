{
 "cells": [
  {
   "cell_type": "markdown",
   "metadata": {
    "colab_type": "text",
    "id": "fdWZdMfrLVMu"
   },
   "source": [
    "# Assignment"
   ]
  },
  {
   "cell_type": "markdown",
   "metadata": {
    "colab_type": "text",
    "id": "vzIIPAgLLVMz"
   },
   "source": [
    "Q1. Write the Python class to convert an integer to a roman numeral?"
   ]
  },
  {
   "cell_type": "code",
   "execution_count": null,
   "metadata": {
    "colab": {},
    "colab_type": "code",
    "id": "nvN0hTneLVM1",
    "outputId": "c2e2648a-ceca-438a-8894-dd63ec2c8bff"
   },
   "outputs": [
    {
     "name": "stdout",
     "output_type": "stream",
     "text": [
      "CX\n",
      "VIII\n"
     ]
    }
   ],
   "source": [
    "class psaVedIntToRomanClass():\n",
    "    def psaVedIntToRomanMethod(self, num):\n",
    "        val = [1000, 900, 500, 400, 100, 90, 50, 40, 10, 9, 5, 4, 1]\n",
    "        syb = [\"M\", \"CM\", \"D\", \"CD\", \"C\", \"XC\", \"L\", \"XL\", \"X\", \"IX\", \"V\", \"IV\", \"I\"]\n",
    "        romanNum = ''\n",
    "        i = 0\n",
    "        while num > 0:\n",
    "            for _ in range(num // val[i]):\n",
    "                romanNum += syb[i]\n",
    "                num -= val[i]\n",
    "            i += 1\n",
    "        return romanNum\n",
    "print(psaVedIntToRomanClass().psaVedIntToRomanMethod(110))\n",
    "print(psaVedIntToRomanClass().psaVedIntToRomanMethod(8))"
   ]
  },
  {
   "cell_type": "markdown",
   "metadata": {
    "colab_type": "text",
    "id": "pq1tf14HLVM8"
   },
   "source": [
    "Q2 Write the Python class to convert a Roman numeral to an integer?\n"
   ]
  },
  {
   "cell_type": "code",
   "execution_count": null,
   "metadata": {
    "colab": {
     "base_uri": "https://localhost:8080/",
     "height": 68
    },
    "colab_type": "code",
    "id": "HA48UQFMLVM-",
    "outputId": "f83dd843-f9a4-434c-be12-6611ee1d7f0b"
   },
   "outputs": [
    {
     "name": "stdout",
     "output_type": "stream",
     "text": [
      "3990\n",
      "8\n",
      "110\n"
     ]
    }
   ],
   "source": [
    "class psaVedRomanToIntClass():\n",
    "    def psaVedRomanToIntMethod(self, s):\n",
    "        romanVal = {'I': 1, 'V': 5, 'X': 10, 'L': 50, 'C': 100, 'D': 500, 'M': 1000}\n",
    "        integerVal = 0\n",
    "        for i in range(len(s)):\n",
    "            if i > 0 and romanVal[s[i]] > romanVal[s[i - 1]]:\n",
    "                integerVal += romanVal[s[i]] - 2 * romanVal[s[i - 1]]\n",
    "            else:\n",
    "                integerVal += romanVal[s[i]]\n",
    "        return integerVal\n",
    "print(psaVedRomanToIntClass().psaVedRomanToIntMethod('MMMCMLXXXX'))\n",
    "print(psaVedRomanToIntClass().psaVedRomanToIntMethod('VIII'))\n",
    "print(psaVedRomanToIntClass().psaVedRomanToIntMethod('CX'))"
   ]
  },
  {
   "cell_type": "markdown",
   "metadata": {
    "colab_type": "text",
    "id": "fkuhQqvLLVNE"
   },
   "source": [
    "Q3. Write the Python class to find the validity of the string of the parentheses, '(', ')', '{', '}', '[' and '] and the brackets must be closed\n",
    "in the correct order, example - \"()\" and \"()[]{}\" are valid but \"[)\", \"({[)]\" and \"{{{\" are invalid.\n"
   ]
  },
  {
   "cell_type": "code",
   "execution_count": 1,
   "metadata": {
    "colab": {},
    "colab_type": "code",
    "id": "eLzVlRKRLVNG"
   },
   "outputs": [
    {
     "name": "stdout",
     "output_type": "stream",
     "text": [
      "True\n",
      "False\n",
      "True\n"
     ]
    }
   ],
   "source": [
    "class psaVedClosePrenthesisClass():\n",
    "    def psaVedClosePrenthesisMethod(self, str1):\n",
    "        stack, pchar = [], {\"(\": \")\", \"{\": \"}\", \"[\": \"]\"}\n",
    "        for parenthese in str1:\n",
    "            if parenthese in pchar:\n",
    "                stack.append(parenthese)\n",
    "            elif len(stack) == 0 or pchar[stack.pop()] != parenthese:\n",
    "                return False\n",
    "        return len(stack) == 0\n",
    "print(psaVedClosePrenthesisClass().psaVedClosePrenthesisMethod(\"(){}[]\"))\n",
    "print(psaVedClosePrenthesisClass().psaVedClosePrenthesisMethod(\"()[{)}\"))\n",
    "print(psaVedClosePrenthesisClass().psaVedClosePrenthesisMethod(\"()\"))"
   ]
  },
  {
   "cell_type": "markdown",
   "metadata": {
    "colab_type": "text",
    "id": "I8-QL2FgLVNM"
   },
   "source": [
    "Q4. Write the Python class to get all possible unique subsets from a set\n",
    "of distinct integers?\n",
    "\n",
    "    Input - [4, 5, 6]\n",
    "    Output - [[], [6], [5], [5, 6], [4], [4, 6], [4, 5], [4, 5, 6]]"
   ]
  },
  {
   "cell_type": "code",
   "execution_count": 2,
   "metadata": {
    "colab": {},
    "colab_type": "code",
    "id": "8AeN2-SALVNO"
   },
   "outputs": [
    {
     "name": "stdout",
     "output_type": "stream",
     "text": [
      "[[], [4], [4, 5], [4, 5, 6], [], [5], [5, 6], [], [6], []]\n"
     ]
    }
   ],
   "source": [
    "class psaVedPossibleUniqueSubsetClass():\n",
    "    def psaVedPossibleUniqueSubset(self,first30):\n",
    "        string = first30\n",
    "        stringLength = len(string)\n",
    "        allSubStrings = []\n",
    "        subStrings = []\n",
    "        for a in range(0,stringLength+1):\n",
    "            for b in range(a,stringLength+1):\n",
    "                allSubStrings.append(string[a:b])\n",
    "        return allSubStrings\n",
    "print(psaVedPossibleUniqueSubsetClass().psaVedPossibleUniqueSubset([4,5,6]))"
   ]
  },
  {
   "cell_type": "markdown",
   "metadata": {
    "colab_type": "text",
    "id": "DzGR46LyLVNT"
   },
   "source": [
    "Q5. Write the Python class to find a pair of elements (indices of the two\n",
    "numbers) from a given array whose sum equals the specific target\n",
    "number?\n",
    "\n",
    "    Input: numbers- [10,20,10,40,50,60,70], target=50\n",
    "    Output- 3, 4"
   ]
  },
  {
   "cell_type": "code",
   "execution_count": 3,
   "metadata": {
    "colab": {},
    "colab_type": "code",
    "id": "lfDIMs0_LVNV"
   },
   "outputs": [
    {
     "name": "stdout",
     "output_type": "stream",
     "text": [
      "index1=2, index2=3\n"
     ]
    }
   ],
   "source": [
    "class psaVedSumAsTargetNumberClass():\n",
    "    def psaVedSumAsTargetNumber(self, first31, second31):\n",
    "        lookup = {}\n",
    "        for i, num in enumerate(first31):\n",
    "            if second31 - num in lookup:\n",
    "                return (lookup[second31 - num], i )\n",
    "            lookup[num] = i\n",
    "print(\"index1=%d, index2=%d\" %\n",
    "psaVedSumAsTargetNumberClass().psaVedSumAsTargetNumber((10,20,10,40,50,60,70),50))"
   ]
  },
  {
   "cell_type": "markdown",
   "metadata": {
    "colab_type": "text",
    "id": "XXj4gU_uLVNc"
   },
   "source": [
    "Q6. Write the Python class to find the three elements that sum to zero\n",
    "from the set of n real numbers?\n",
    "\n",
    "    Input array- [-25, -10, -7, -3, 2, 4, 8, 10]\n",
    "    Output - [[-10, 2, 8], [-7, -3, 10]]\n"
   ]
  },
  {
   "cell_type": "code",
   "execution_count": 10,
   "metadata": {
    "colab": {},
    "colab_type": "code",
    "id": "XzK2cAUdLVNe"
   },
   "outputs": [
    {
     "data": {
      "text/plain": [
       "[(-10, 2, 8),\n",
       " (-10, 8, 2),\n",
       " (-7, -3, 10),\n",
       " (-7, 10, -3),\n",
       " (-3, -7, 10),\n",
       " (-3, 10, -7),\n",
       " (2, -10, 8),\n",
       " (2, 8, -10),\n",
       " (8, -10, 2),\n",
       " (8, 2, -10),\n",
       " (10, -7, -3),\n",
       " (10, -3, -7)]"
      ]
     },
     "execution_count": 10,
     "metadata": {},
     "output_type": "execute_result"
    }
   ],
   "source": [
    "class psaVedSumToZero():\n",
    "    def psaVedSumToZero(sel,first32):\n",
    "        resultElement = []\n",
    "        checkAddition = 0\n",
    "        import itertools\n",
    "        dataList = list(itertools.permutations(first32,3))\n",
    "        for a in dataList:\n",
    "            for b in a:\n",
    "                checkAddition += b\n",
    "            if checkAddition == 0:\n",
    "                resultElement.append(a)\n",
    "            checkAddition = 0\n",
    "        return resultElement\n",
    "psaVedSumToZero().psaVedSumToZero([-25, -10, -7, -3, 2, 4, 8, 10])"
   ]
  },
  {
   "cell_type": "markdown",
   "metadata": {
    "colab_type": "text",
    "id": "KSyCbkqmLVNk"
   },
   "source": [
    "Q7. Write the Python class to implement pow(x, n)?"
   ]
  },
  {
   "cell_type": "code",
   "execution_count": 7,
   "metadata": {
    "colab": {},
    "colab_type": "code",
    "id": "395i6XVhLVNm"
   },
   "outputs": [
    {
     "data": {
      "text/plain": [
       "32"
      ]
     },
     "execution_count": 7,
     "metadata": {},
     "output_type": "execute_result"
    }
   ],
   "source": [
    "class psaVedMakePowerClass():\n",
    "    def psaVedMakePower(self,first33,second33):\n",
    "        return first33**second33\n",
    "psaVedMakePowerClass().psaVedMakePower(2,5)"
   ]
  },
  {
   "cell_type": "markdown",
   "metadata": {
    "colab_type": "text",
    "id": "Ocx410K4LVNr"
   },
   "source": [
    "Q8. Write the Python class which has two methods get_String and\n",
    "print_String. get_String accept the string from the user and \n",
    "print_String print the string in upper case."
   ]
  },
  {
   "cell_type": "code",
   "execution_count": 6,
   "metadata": {
    "colab": {},
    "colab_type": "code",
    "id": "koQesWDXLVNt"
   },
   "outputs": [
    {
     "data": {
      "text/plain": [
       "'WRITE THE PYTHON CLASS'"
      ]
     },
     "execution_count": 6,
     "metadata": {},
     "output_type": "execute_result"
    }
   ],
   "source": [
    "class psaVedMakeStringUpperCaseClass():\n",
    "    def psaVedMakeStringUpperCase(self,first34):\n",
    "        return first34.upper()\n",
    "psaVedMakeStringUpperCaseClass().psaVedMakeStringUpperCase('Write the Python class')"
   ]
  },
  {
   "cell_type": "markdown",
   "metadata": {
    "colab_type": "text",
    "id": "7AwAYIT6LVNz"
   },
   "source": [
    "Q9. Write the Python class named Rectangle constructed by a length\n",
    "and width and the method which will compute the area of the\n",
    "rectangle?"
   ]
  },
  {
   "cell_type": "code",
   "execution_count": 11,
   "metadata": {
    "colab": {},
    "colab_type": "code",
    "id": "wauVT8AZLVN0"
   },
   "outputs": [
    {
     "data": {
      "text/plain": [
       "42"
      ]
     },
     "execution_count": 11,
     "metadata": {},
     "output_type": "execute_result"
    }
   ],
   "source": [
    "class psaVedAreaOfRectangleClass():\n",
    "    def __init__(self,a,b):\n",
    "        self.first35 = a\n",
    "        self.second35 = b\n",
    "    def psaVedAreaOfRectangle(self):\n",
    "        return self.first35*self.second35\n",
    "area = psaVedAreaOfRectangleClass(3, 14)\n",
    "area.psaVedAreaOfRectangle()"
   ]
  },
  {
   "cell_type": "markdown",
   "metadata": {
    "colab_type": "text",
    "id": "E639237fLVN5"
   },
   "source": [
    "Q10. Write the Python class named Circle constructed by the radius\n",
    "and two methods which will compute the area and perimeter of\n",
    "the circle?"
   ]
  },
  {
   "cell_type": "code",
   "execution_count": 12,
   "metadata": {
    "colab": {},
    "colab_type": "code",
    "id": "YdZhpkfJLVN7"
   },
   "outputs": [
    {
     "data": {
      "text/plain": [
       "18.84"
      ]
     },
     "execution_count": 12,
     "metadata": {},
     "output_type": "execute_result"
    }
   ],
   "source": [
    "class psaVedPerimeterCircleClass():\n",
    "    def __init__(self,a):\n",
    "        self.first36 = a\n",
    "    def psaVedPerimeterCircle(self):\n",
    "        return 2*3.14*self.first36\n",
    "area = psaVedPerimeterCircleClass(3)\n",
    "area.psaVedPerimeterCircle()"
   ]
  },
  {
   "cell_type": "markdown",
   "metadata": {
    "colab_type": "text",
    "id": "gDitOHXCLVOA"
   },
   "source": [
    "Q11. Write the Python program to get the class name of an instance in\n",
    "Python?"
   ]
  },
  {
   "cell_type": "code",
   "execution_count": 13,
   "metadata": {
    "colab": {},
    "colab_type": "code",
    "id": "e1iMqy80LVOC"
   },
   "outputs": [
    {
     "name": "stdout",
     "output_type": "stream",
     "text": [
      "cycle\n"
     ]
    }
   ],
   "source": [
    "import itertools\n",
    "x = itertools.cycle('psaVed')\n",
    "print(type(x).__name__)"
   ]
  },
  {
   "cell_type": "markdown",
   "metadata": {
    "colab_type": "text",
    "id": "cU9mhtM7LVOH"
   },
   "source": [
    "Q12. Write the Python program to count the number of students of\n",
    "individual class?\n",
    "\n",
    "    Sample dataclasses = (\n",
    "    ('V', 1),\n",
    "    ('VI', 1),\n",
    "    ('V', 2),\n",
    "    ('VI', 2),\n",
    "    ('VI', 3),\n",
    "    ('VII', 1),\n",
    "    )\n",
    "    Expected OutputCounter({'VI': 3, 'V': 2, 'VII': 1})"
   ]
  },
  {
   "cell_type": "code",
   "execution_count": 1,
   "metadata": {
    "colab": {},
    "colab_type": "code",
    "id": "OUwOaZqlLVOP"
   },
   "outputs": [
    {
     "data": {
      "text/plain": [
       "{'I': 1, 'VI': 12, 'II': 2, 'V': 10, 'III': 3, 'IV': 8}"
      ]
     },
     "execution_count": 1,
     "metadata": {},
     "output_type": "execute_result"
    }
   ],
   "source": [
    "def psaVedCountTotalStudent(first38):\n",
    "    studentclass = []\n",
    "    resultTuple = ()\n",
    "    resultDictionary = {}\n",
    "    \n",
    "    for a in first38:\n",
    "        if studentclass.count(a[0]) == 0:\n",
    "            studentclass.append(a[0])\n",
    "            resultDictionary.update({a[0]:a[1]})\n",
    "        else:\n",
    "            studentclassItems = 0\n",
    "            for b in first38:\n",
    "                if a[0] == b[0]:\n",
    "                    studentclassItems = b[1]\n",
    "            studentclassItems += studentclassItems\n",
    "            resultDictionary.update({a[0]:studentclassItems})\n",
    "            del studentclassItems\n",
    "    return resultDictionary\n",
    "psaVedCountTotalStudent(( ('I', 1),('VI', 6),('II', 2),('V', 5),('III', 3),('IV', 4),('IV', 4),('V', 5),('VI', 6) ))"
   ]
  },
  {
   "cell_type": "markdown",
   "metadata": {
    "colab_type": "text",
    "id": "quDkoXKjLVOU"
   },
   "source": [
    "## Great Job!"
   ]
  }
 ],
 "metadata": {
  "colab": {
   "name": "DLSubjective_Assignment_3_Python_ClassSolution.ipynb",
   "provenance": []
  },
  "kernelspec": {
   "display_name": "Python 3",
   "language": "python",
   "name": "python3"
  },
  "language_info": {
   "codemirror_mode": {
    "name": "ipython",
    "version": 3
   },
   "file_extension": ".py",
   "mimetype": "text/x-python",
   "name": "python",
   "nbconvert_exporter": "python",
   "pygments_lexer": "ipython3",
   "version": "3.7.1"
  }
 },
 "nbformat": 4,
 "nbformat_minor": 2
}
