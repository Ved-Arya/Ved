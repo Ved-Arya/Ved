{
 "cells": [
  {
   "cell_type": "code",
   "execution_count": null,
   "metadata": {
    "colab": {},
    "colab_type": "code",
    "id": "ljvWe4TDQSnb"
   },
   "outputs": [],
   "source": [
    "Q1.Write a Python program to get the string from the given string where all the occurrence of its first char has been \n",
    "changed to '$,' except first char itself?"
   ]
  },
  {
   "cell_type": "code",
   "execution_count": null,
   "metadata": {
    "colab": {},
    "colab_type": "code",
    "id": "m5aExbYGQSn9",
    "outputId": "210c91ed-fbb1-4ca0-f5db-17772f4c72a2"
   },
   "outputs": [
    {
     "name": "stdout",
     "output_type": "stream",
     "text": [
      "abc$de\n"
     ]
    }
   ],
   "source": [
    "def psaVedReplaceFirstRepeatedChar(first1):\n",
    "    replacedData = first1.replace(first1[0], '$')\n",
    "    first1 = first1[0] + replacedData[1:]\n",
    "    return first1\n",
    "print(psaVedReplaceFirstRepeatedChar('abcade'))"
   ]
  },
  {
   "cell_type": "code",
   "execution_count": null,
   "metadata": {
    "colab": {},
    "colab_type": "code",
    "id": "tHFwg2GjQSoW"
   },
   "outputs": [],
   "source": [
    "Q2.Write a Python program to get the single string from the two given strings, and separated by the space and swap the first \n",
    "two characters of each string?"
   ]
  },
  {
   "cell_type": "code",
   "execution_count": null,
   "metadata": {
    "colab": {},
    "colab_type": "code",
    "id": "ozBLqzKQQSoo",
    "outputId": "b7ca2167-266d-409b-bf4d-bd0173e02d09"
   },
   "outputs": [
    {
     "name": "stdout",
     "output_type": "stream",
     "text": [
      "dec abf\n"
     ]
    }
   ],
   "source": [
    "def psaVedSwapLetter(first2, second2):\n",
    "    return second2[:2] + first2[2:] + ' ' + first2[:2] + second2[2:]\n",
    "print(psaVedSwapLetter('abc', 'def'))"
   ]
  },
  {
   "cell_type": "code",
   "execution_count": null,
   "metadata": {
    "colab": {},
    "colab_type": "code",
    "id": "P8uJhgJ-QSo9"
   },
   "outputs": [],
   "source": [
    "Q3. Write the Python program to add 'ing' at the end of the given string (length of the string should be at least 3). \n",
    "If given string already ends with 'ing,'then add 'ly' instead. If string length of the given string is less than 3, \n",
    "leave it unchanged?"
   ]
  },
  {
   "cell_type": "code",
   "execution_count": null,
   "metadata": {
    "colab": {},
    "colab_type": "code",
    "id": "DcJ9f__VQSpc",
    "outputId": "4dfabdac-9c21-4442-80b2-51d816696ba4"
   },
   "outputs": [
    {
     "name": "stdout",
     "output_type": "stream",
     "text": [
      "ab\n",
      "abcing\n",
      "abcingly\n"
     ]
    }
   ],
   "source": [
    "def psaVedChangeWord(first3):\n",
    "    if len(first3) > 2:\n",
    "        if first3[-3:] == 'ing':\n",
    "            first3 += 'ly'\n",
    "        else:\n",
    "            first3 += 'ing'\n",
    "    return first3\n",
    "print(psaVedChangeWord('ab'))\n",
    "print(psaVedChangeWord('abc'))\n",
    "print(psaVedChangeWord('abcing'))"
   ]
  },
  {
   "cell_type": "code",
   "execution_count": null,
   "metadata": {
    "colab": {},
    "colab_type": "code",
    "id": "5K6Net5GQSpy"
   },
   "outputs": [],
   "source": [
    "Q4. Write th ePython program to find the first appearance of the substring 'not' and 'poor' from the given string, \n",
    "if 'not' follows the 'poor', replace the whole 'not'...'poor' substring with 'good'.Return the resulting string."
   ]
  },
  {
   "cell_type": "code",
   "execution_count": null,
   "metadata": {
    "colab": {},
    "colab_type": "code",
    "id": "3yKmwvCwQSqI",
    "outputId": "0eba0a91-8786-46e5-a444-874b3f04a94c"
   },
   "outputs": [
    {
     "name": "stdout",
     "output_type": "stream",
     "text": [
      "i am thinking i am good!\n",
      "really i am poor!\n"
     ]
    }
   ],
   "source": [
    "def psaVedAssembleWord(first4):\n",
    "    notData = first4.find('not')\n",
    "    poorData = first4.find('poor')\n",
    "    if poorData > notData and notData>0 and poorData>0:\n",
    "        first4 = first4.replace(first4[notData:(poorData+4)], 'good')\n",
    "        return first4\n",
    "    else:\n",
    "        return first4\n",
    "print(psaVedAssembleWord('i am thinking i am not so much poor!'))\n",
    "print(psaVedAssembleWord('really i am poor!'))"
   ]
  },
  {
   "cell_type": "code",
   "execution_count": null,
   "metadata": {
    "colab": {},
    "colab_type": "code",
    "id": "kzbNKmD5QSqb"
   },
   "outputs": [],
   "source": [
    "Q5.Write the Python program to remove the characters which have odd index values of a given string."
   ]
  },
  {
   "cell_type": "code",
   "execution_count": null,
   "metadata": {
    "colab": {},
    "colab_type": "code",
    "id": "LB5yoIraQSqq",
    "outputId": "9f9a02e3-495f-4865-ea74-ac5a5349d8bf"
   },
   "outputs": [
    {
     "name": "stdout",
     "output_type": "stream",
     "text": [
      "acegi\n"
     ]
    }
   ],
   "source": [
    "def psaVedRemoveOddIndex(first5):\n",
    "    data = \"\"\n",
    "    for i in range(len(first5)):\n",
    "        if i % 2 == 0:\n",
    "            data += first5[i]\n",
    "    return data\n",
    "print(psaVedRemoveOddIndex('abcdefghi'))"
   ]
  },
  {
   "cell_type": "code",
   "execution_count": null,
   "metadata": {
    "colab": {},
    "colab_type": "code",
    "id": "ts5cLce5QSq_"
   },
   "outputs": [],
   "source": [
    "Q6. Write the Python function to get a string made of 4 copies of the last two characters of the specified string \n",
    "(length must be at least 2)."
   ]
  },
  {
   "cell_type": "code",
   "execution_count": null,
   "metadata": {
    "colab": {},
    "colab_type": "code",
    "id": "DgsvHP7JQSrQ",
    "outputId": "ca9d4306-6207-42f1-e879-0b124f4d1bbc"
   },
   "outputs": [
    {
     "name": "stdout",
     "output_type": "stream",
     "text": [
      "a\n",
      "abababab\n",
      "bcbcbcbc\n"
     ]
    }
   ],
   "source": [
    "def psaVedCopyLastTwoLetter(first6):\n",
    "    if len(first6) >= 2:\n",
    "        return first6[-2:] * 4\n",
    "    else:\n",
    "        return first6\n",
    "print(psaVedCopyLastTwoLetter('a'))\n",
    "print(psaVedCopyLastTwoLetter('ab'))\n",
    "print(psaVedCopyLastTwoLetter('abc'))"
   ]
  },
  {
   "cell_type": "code",
   "execution_count": null,
   "metadata": {
    "colab": {},
    "colab_type": "code",
    "id": "ce84Z6Q-QSre"
   },
   "outputs": [],
   "source": [
    "Q7. Write the python function to get a string made of its first three characters of a specified string. \n",
    "If the length of the string is less than 3 then return the original string."
   ]
  },
  {
   "cell_type": "code",
   "execution_count": null,
   "metadata": {
    "colab": {},
    "colab_type": "code",
    "id": "lk68-tifQSrq",
    "outputId": "6ad70329-0bff-438b-82b8-5e127f0e93ec"
   },
   "outputs": [
    {
     "name": "stdout",
     "output_type": "stream",
     "text": [
      "abc\n",
      "abc\n",
      "ab\n"
     ]
    }
   ],
   "source": [
    "def psaVedGetFirstThree(first7):\n",
    "    if len(first7) > 3:\n",
    "        return first7[:3]\n",
    "    else:\n",
    "        return first7\n",
    "print(first_three('abc'))\n",
    "print(first_three('abcdef'))\n",
    "print(first_three('ab'))"
   ]
  },
  {
   "cell_type": "code",
   "execution_count": null,
   "metadata": {
    "colab": {},
    "colab_type": "code",
    "id": "jCqYFLtVQSr3"
   },
   "outputs": [],
   "source": [
    "Q8. Write the python program to print the following floating numbers upto 2 decimal places?\n",
    "12.4567575"
   ]
  },
  {
   "cell_type": "code",
   "execution_count": null,
   "metadata": {
    "colab": {},
    "colab_type": "code",
    "id": "7ePrzkNGQSsL",
    "outputId": "90180ffd-5120-4ce2-c771-5aafbbedd1d9"
   },
   "outputs": [
    {
     "data": {
      "text/plain": [
       "12.46"
      ]
     },
     "execution_count": 41,
     "metadata": {
      "tags": []
     },
     "output_type": "execute_result"
    }
   ],
   "source": [
    "def psaVedUpToTwoFloatingValue(first8):\n",
    "    return round(float(first8),2)\n",
    "psaVedUpToTwoFloatingValue('12.4567575')"
   ]
  },
  {
   "cell_type": "code",
   "execution_count": null,
   "metadata": {
    "colab": {},
    "colab_type": "code",
    "id": "HVjDVYMwQSsa"
   },
   "outputs": [],
   "source": [
    "Q9. Write the Python program to format a number with a percentage?"
   ]
  },
  {
   "cell_type": "code",
   "execution_count": null,
   "metadata": {
    "colab": {},
    "colab_type": "code",
    "id": "PhHgjfp1QSsn",
    "outputId": "a8b64a7b-ff04-4ae9-cac9-77f0418924bc"
   },
   "outputs": [
    {
     "data": {
      "text/plain": [
       "'34%'"
      ]
     },
     "execution_count": 64,
     "metadata": {
      "tags": []
     },
     "output_type": "execute_result"
    }
   ],
   "source": [
    "def psaVedFormat(first9):\n",
    "    if(first9[1] == '.'):\n",
    "        return first9[2:4]+'%'\n",
    "    else:\n",
    "        return first9+'%'\n",
    "psaVedFormat('0.3467')"
   ]
  },
  {
   "cell_type": "code",
   "execution_count": null,
   "metadata": {
    "colab": {},
    "colab_type": "code",
    "id": "pdE8bpSyQSsz"
   },
   "outputs": [],
   "source": [
    "Q10. Write the Python program to count occurrences of a substring in a String?"
   ]
  },
  {
   "cell_type": "code",
   "execution_count": null,
   "metadata": {
    "colab": {},
    "colab_type": "code",
    "id": "K-qGlOK9QSs-",
    "outputId": "7aff8df7-1a24-4211-dca0-ed156027c2b3"
   },
   "outputs": [
    {
     "data": {
      "text/plain": [
       "3"
      ]
     },
     "execution_count": 65,
     "metadata": {
      "tags": []
     },
     "output_type": "execute_result"
    }
   ],
   "source": [
    "def psaVedOccurenceCount(first10,second10):\n",
    "    return first10.count(second10)\n",
    "psaVedOccurenceCount('Write the Python program to count occurrences of a substring in a String','a')"
   ]
  },
  {
   "cell_type": "code",
   "execution_count": null,
   "metadata": {
    "colab": {},
    "colab_type": "code",
    "id": "l0M76i_RQStO"
   },
   "outputs": [],
   "source": [
    "Q11. Write the Python program to count repeated characters in a string."
   ]
  },
  {
   "cell_type": "code",
   "execution_count": null,
   "metadata": {
    "colab": {},
    "colab_type": "code",
    "id": "ORmgFpVwQStb",
    "outputId": "03d0535d-1cb6-4e28-f15b-be8b6d114099"
   },
   "outputs": [
    {
     "data": {
      "text/plain": [
       "{'r': 7,\n",
       " 'b': 1,\n",
       " 'a': 3,\n",
       " 'o': 6,\n",
       " 'y': 1,\n",
       " 's': 3,\n",
       " 'S': 1,\n",
       " 'c': 4,\n",
       " 'n': 6,\n",
       " ' ': 12,\n",
       " 'W': 1,\n",
       " 'P': 1,\n",
       " 'f': 1,\n",
       " 'p': 1,\n",
       " 'm': 1,\n",
       " 'i': 4,\n",
       " 'e': 4,\n",
       " 'g': 3,\n",
       " 't': 7,\n",
       " 'u': 3,\n",
       " 'h': 2}"
      ]
     },
     "execution_count": 75,
     "metadata": {
      "tags": []
     },
     "output_type": "execute_result"
    }
   ],
   "source": [
    "def psaVedCountRepeatedChars(first11):\n",
    "    dataDictionary = {}\n",
    "    for a in list(set(first11)):\n",
    "        repeatation = 0\n",
    "        key = a\n",
    "        for b in first11:\n",
    "            if key == b:\n",
    "                repeatation += 1\n",
    "            else:\n",
    "                pass\n",
    "        dataDictionary.__setitem__(key,repeatation)\n",
    "    return dataDictionary\n",
    "psaVedCountRepeatedChars('Write the Python program to count occurrences of a substring in a String')"
   ]
  },
  {
   "cell_type": "code",
   "execution_count": null,
   "metadata": {
    "colab": {},
    "colab_type": "code",
    "id": "8aoTwO_0QStp"
   },
   "outputs": [],
   "source": [
    "Q12. Write the Python program to print the square and cube symbol in the area of a rectangle and volume of a cylinder?"
   ]
  },
  {
   "cell_type": "code",
   "execution_count": null,
   "metadata": {
    "colab": {},
    "colab_type": "code",
    "id": "vKIp7GjQQSt0",
    "outputId": "8425e8de-5ab7-4348-9d30-c6ef7e6dd774"
   },
   "outputs": [
    {
     "name": "stdout",
     "output_type": "stream",
     "text": [
      "The area of the rectangle is 1256.66cm²\n",
      "The volume of the cylinder is 1254.725cm³\n"
     ]
    }
   ],
   "source": [
    "area = 1256.66\n",
    "volume = 1254.725\n",
    "decimals = 2\n",
    "print(\"The area of the rectangle is {0:.{1}f}cm\\u00b2\".format(area, decimals))\n",
    "decimals = 3\n",
    "print(\"The volume of the cylinder is {0:.{1}f}cm\\u00b3\".format(volume, decimals))"
   ]
  },
  {
   "cell_type": "code",
   "execution_count": null,
   "metadata": {
    "colab": {},
    "colab_type": "code",
    "id": "YRQWcHeqQSuH"
   },
   "outputs": [],
   "source": [
    "Q13. Write the Python program to check if a string contains all letters of the alphabet?"
   ]
  },
  {
   "cell_type": "code",
   "execution_count": null,
   "metadata": {
    "colab": {},
    "colab_type": "code",
    "id": "bOsRCTUwQSuS",
    "outputId": "165fa9f0-44dc-46ca-fdf1-64a19a1a5b75"
   },
   "outputs": [
    {
     "data": {
      "text/plain": [
       "'Policy fulfilled'"
      ]
     },
     "execution_count": 101,
     "metadata": {
      "tags": []
     },
     "output_type": "execute_result"
    }
   ],
   "source": [
    "def psaVedCheckAlphabet(first13):\n",
    "    import string\n",
    "    alphabet = set(string.ascii_lowercase)\n",
    "    passed = 0\n",
    "    for a in alphabet:\n",
    "        if first13.count(a) > 0:\n",
    "            passed += 1\n",
    "        else:\n",
    "            pass\n",
    "    if passed == 26:\n",
    "        return \"Policy fulfilled\"\n",
    "    else:\n",
    "        return \"Given string has been failed to fulfill the policy\"\n",
    "psaVedCheckAlphabet('abcdefghijklmnopqrstuvwxyz')"
   ]
  },
  {
   "cell_type": "code",
   "execution_count": null,
   "metadata": {
    "colab": {},
    "colab_type": "code",
    "id": "xzcob8X5QSue"
   },
   "outputs": [],
   "source": [
    "Q14. Write the Python program to find the second most repeated word in a given string"
   ]
  },
  {
   "cell_type": "code",
   "execution_count": null,
   "metadata": {
    "colab": {},
    "colab_type": "code",
    "id": "Kjl4h2m9QSuo",
    "outputId": "4efc0f4d-0849-40aa-97e3-7db1d2430a58"
   },
   "outputs": [
    {
     "name": "stdout",
     "output_type": "stream",
     "text": [
      "('am', 3)\n"
     ]
    }
   ],
   "source": [
    "def psaVedSecondMostRepeatedWord(first14):\n",
    "    counts = dict()\n",
    "    words = first14.split()\n",
    "    for word in words:\n",
    "        if word in counts:\n",
    "            counts[word] += 1\n",
    "        else:\n",
    "            counts[word] = 1\n",
    "    counts_x = sorted(counts.items(), key=lambda kv: kv[1])\n",
    "    return counts_x[-2]\n",
    "print(psaVedSecondMostRepeatedWord(\"i i am am am a a a a boy.\"))"
   ]
  },
  {
   "cell_type": "code",
   "execution_count": null,
   "metadata": {
    "colab": {},
    "colab_type": "code",
    "id": "roNAGHDMQSuz"
   },
   "outputs": [],
   "source": [
    "Q15. Write the Python programto find the minimum window in the given string, which will contains all the characters of \n",
    "another given strings?\n",
    "\n",
    "Example 1\n",
    "Input : string1 = \"PRWSOERIUSFK\"\n",
    "string2 = \"OSU\"\n",
    "Output: Minimum window is \"OERIUS\""
   ]
  },
  {
   "cell_type": "code",
   "execution_count": null,
   "metadata": {
    "colab": {},
    "colab_type": "code",
    "id": "JK0EKh95QSu_",
    "outputId": "42aafb64-10fa-42fc-e4e5-461fd6411801"
   },
   "outputs": [
    {
     "data": {
      "text/plain": [
       "'bcdefgh'"
      ]
     },
     "execution_count": 26,
     "metadata": {
      "tags": []
     },
     "output_type": "execute_result"
    }
   ],
   "source": [
    "def psaVedMinimumWindow(first15,second15):\n",
    "    splitedData = list(second15)\n",
    "    sortedIndex = []\n",
    "    for a in splitedData:\n",
    "        sortedIndex.append(first15.index(a))\n",
    "    sortedIndex = sorted(sortedIndex)\n",
    "    minimumIndex = min(sortedIndex)\n",
    "    maximumIndex = max(sortedIndex)\n",
    "    return first15[minimumIndex:maximumIndex+1]\n",
    "psaVedMinimumWindow('abcdefghi','hbfd')"
   ]
  },
  {
   "cell_type": "code",
   "execution_count": null,
   "metadata": {
    "colab": {},
    "colab_type": "code",
    "id": "jBlFlAueQSvQ"
   },
   "outputs": [],
   "source": [
    "Q16. Write the Python program to find smallest window that contains all characters of the given string?"
   ]
  },
  {
   "cell_type": "code",
   "execution_count": null,
   "metadata": {
    "colab": {},
    "colab_type": "code",
    "id": "ffZNBi2lQSvd"
   },
   "outputs": [],
   "source": [
    "def psaVedMinimumWindow(first3,second3):\n",
    "    splitedData = list(second3)\n",
    "    sortedIndex = []\n",
    "    for a in splitedData:\n",
    "        sortedIndex.append(first3.index(a))\n",
    "    sortedIndex = sorted(sortedIndex)\n",
    "    minimumIndex = min(sortedIndex)\n",
    "    maximumIndex = max(sortedIndex)\n",
    "    return first3[minimumIndex:maximumIndex+1]\n",
    "psaVedMinimumWindow('abcdefghi','hbfd')"
   ]
  },
  {
   "cell_type": "code",
   "execution_count": null,
   "metadata": {
    "colab": {},
    "colab_type": "code",
    "id": "_LMihtHwQSvm"
   },
   "outputs": [],
   "source": [
    "Q17. Write the Python program to count number of substrings from a given string of lowercase alphabets with exactly k \n",
    "distinct (given) characters?"
   ]
  },
  {
   "cell_type": "code",
   "execution_count": null,
   "metadata": {
    "colab": {},
    "colab_type": "code",
    "id": "mtjfY7gkQSv1",
    "outputId": "60c9b20c-1441-4c11-e73b-f9ac56683f14"
   },
   "outputs": [
    {
     "name": "stdin",
     "output_type": "stream",
     "text": [
      "Input a string (lowercase alphabets): acccb\n",
      "Input k:  2\n"
     ]
    },
    {
     "name": "stdout",
     "output_type": "stream",
     "text": [
      "Number of substrings with exactly 2 distinct characters : 6\n"
     ]
    }
   ],
   "source": [
    "def psaVedSubstringCount():\n",
    "    string = input('Enter String')\n",
    "    k = int(input('Enter key'))\n",
    "    count = 0\n",
    "    distinctCharacterCount = len(list(set(string)))\n",
    "    distinctCharacter = list(set(string))\n",
    "    if distinctCharacterCount < k:\n",
    "        return \"No Substring Can Be Made.\"\n",
    "    elif distinctCharacterCount == k:\n",
    "        return \"Only One Substring Can Be Made.\"\n",
    "    else:\n",
    "        joinedString = ''.join(distinctCharacter)\n",
    "        firstIndex = joinedString.find(joinedString[0])\n",
    "        lastIndex = joinedString.find(joinedString[-1])\n",
    "        incrementedFirstIndex = 0\n",
    "        while ((incrementedFirstIndex+k)<=(lastIndex+1)):\n",
    "               count += 1\n",
    "               incrementedFirstIndex += 1\n",
    "        return count\n",
    "psaVedSubstringCount()"
   ]
  },
  {
   "cell_type": "code",
   "execution_count": null,
   "metadata": {
    "colab": {},
    "colab_type": "code",
    "id": "U5TJ_fS4QSwF"
   },
   "outputs": [],
   "source": [
    "Q18. Write the Python program to count number of non-empty substrings of the given string?"
   ]
  },
  {
   "cell_type": "code",
   "execution_count": null,
   "metadata": {
    "colab": {},
    "colab_type": "code",
    "id": "mh2YJqL1QSwQ",
    "outputId": "8e0d1146-6111-42b2-8fd1-8e97470d664c"
   },
   "outputs": [
    {
     "name": "stdin",
     "output_type": "stream",
     "text": [
      "Input a string:  abc\n"
     ]
    },
    {
     "name": "stdout",
     "output_type": "stream",
     "text": [
      "Number of substrings:\n",
      "6\n"
     ]
    }
   ],
   "source": [
    "def psaVedNonEmptySubString(first18):\n",
    "    stringLength = len(first18);\n",
    "    return int(stringLength * (stringLength + 1) / 2);\n",
    "first18 = input(\"Input a string: \")\n",
    "print(\"Number of substrings:\")\n",
    "print(psaVedNonEmptySubString(first18))"
   ]
  },
  {
   "cell_type": "code",
   "execution_count": null,
   "metadata": {
    "colab": {},
    "colab_type": "code",
    "id": "u6Xgh7AJQSwc"
   },
   "outputs": [],
   "source": [
    "Q19.Write the Python program to count number of substrings with same first and last characters of the given string?"
   ]
  },
  {
   "cell_type": "code",
   "execution_count": null,
   "metadata": {
    "colab": {},
    "colab_type": "code",
    "id": "fJu7BE4FQSwo",
    "outputId": "e53603d0-a9bc-484b-9d29-b103c7a9650e"
   },
   "outputs": [
    {
     "name": "stdin",
     "output_type": "stream",
     "text": [
      "Enter String abcab\n"
     ]
    },
    {
     "data": {
      "text/plain": [
       "7"
      ]
     },
     "execution_count": 40,
     "metadata": {
      "tags": []
     },
     "output_type": "execute_result"
    }
   ],
   "source": [
    "def psaVedSameSubString():\n",
    "    string = input('Enter String')\n",
    "    stringLength = len(string)\n",
    "    allSubStrings = []\n",
    "    subStrings = []\n",
    "    for a in range(0,stringLength):\n",
    "        for b in range(a,stringLength+1):\n",
    "            if string[a:b] != '':\n",
    "                allSubStrings.append(string[a:b])\n",
    "                check = string[a:b]\n",
    "                if(check[0] == check[-1]):\n",
    "                    subStrings.append(check)\n",
    "    return len(subStrings)\n",
    "psaVedSameSubString()"
   ]
  },
  {
   "cell_type": "code",
   "execution_count": null,
   "metadata": {
    "colab": {},
    "colab_type": "code",
    "id": "InX3OkjyQSwz"
   },
   "outputs": [],
   "source": [
    "Q20.Write the Python program to count the number of strings where the string length is 2 or more, and first and last \n",
    "character are same from a given list of strings."
   ]
  },
  {
   "cell_type": "code",
   "execution_count": null,
   "metadata": {
    "colab": {},
    "colab_type": "code",
    "id": "BNSMnhPcQSw9",
    "outputId": "67d74ceb-00fd-4789-e209-144ecf4c9b81"
   },
   "outputs": [
    {
     "name": "stdout",
     "output_type": "stream",
     "text": [
      "3\n"
     ]
    }
   ],
   "source": [
    "def psaVedMatchWords(first20):\n",
    "    ctr = 0\n",
    "    for a in first20:\n",
    "        if len(a) > 1 and a[0] == a[-1]:\n",
    "            ctr += 1\n",
    "    return ctr\n",
    "print(psaVedMatchWords(['aam', 'baamb', 'caamc', 'daamd']))"
   ]
  },
  {
   "cell_type": "code",
   "execution_count": null,
   "metadata": {
    "colab": {},
    "colab_type": "code",
    "id": "pSngwZYJQSxP"
   },
   "outputs": [],
   "source": [
    "Q21. Write thePython program to get a list, sorted in increasing orderby the last element in each tuple from the given list of non-empty tuples?\n",
    "Sample List -[(2, 5), (1, 2), (4, 4), (2, 3), (2, 1)]\n",
    "Expected Result -[(2, 1), (1, 2), (2, 3), (4, 4), (2, 5)]"
   ]
  },
  {
   "cell_type": "code",
   "execution_count": null,
   "metadata": {
    "colab": {},
    "colab_type": "code",
    "id": "2DORxYjTQSxg",
    "outputId": "01ce0640-fa99-453d-fe4f-dd4a2abacdb6"
   },
   "outputs": [
    {
     "name": "stdout",
     "output_type": "stream",
     "text": [
      "[(2, 1), (1, 2), (2, 3), (4, 4), (2, 5)]\n"
     ]
    }
   ],
   "source": [
    "def last(n): return n[-1]\n",
    "def psaVedSotedTuple(first21):\n",
    "    return sorted(first21,key=last)\n",
    "print(psaVedSotedTuple([(2, 5), (1, 2), (4, 4), (2, 3), (2, 1)]))"
   ]
  },
  {
   "cell_type": "code",
   "execution_count": null,
   "metadata": {
    "colab": {},
    "colab_type": "code",
    "id": "DMI_t1rLQSxt"
   },
   "outputs": [],
   "source": [
    "Q22. Write the Python program to remove duplicates from a list?"
   ]
  },
  {
   "cell_type": "code",
   "execution_count": null,
   "metadata": {
    "colab": {},
    "colab_type": "code",
    "id": "zym-9XSzQSx5",
    "outputId": "56d30e34-c3db-4557-9cb7-829e0deeac62"
   },
   "outputs": [
    {
     "name": "stdout",
     "output_type": "stream",
     "text": [
      "[40, 10, 80, 50, 20, 60, 30]\n"
     ]
    }
   ],
   "source": [
    "def psaVedDuplicateList(first22):\n",
    "    return list(set(first22))\n",
    "print(psaVedDuplicateList([10,20,30,20,10,50,60,40,80,50,40]))"
   ]
  },
  {
   "cell_type": "code",
   "execution_count": null,
   "metadata": {
    "colab": {},
    "colab_type": "code",
    "id": "nno06_NhQSyF"
   },
   "outputs": [],
   "source": [
    "Q23. Write the Python program to find the list of words that are longer than n from a given list of words?"
   ]
  },
  {
   "cell_type": "code",
   "execution_count": null,
   "metadata": {
    "colab": {},
    "colab_type": "code",
    "id": "lCi-XgN5QSyW",
    "outputId": "a6fd219c-2c91-4d19-898f-300bb8fcfd70"
   },
   "outputs": [
    {
     "name": "stdout",
     "output_type": "stream",
     "text": [
      "['Python', 'program', 'longer']\n"
     ]
    }
   ],
   "source": [
    "def psaVedLongerWord(first23,second23):\n",
    "    words=first23.split()\n",
    "    data = []\n",
    "    for x in words:\n",
    "        if len(x) > second23:\n",
    "            data.append(x)\n",
    "    return data\n",
    "print(psaVedLongerWord('Write the Python program to find the list of words that are longer than n from a given list of words',5))"
   ]
  },
  {
   "cell_type": "code",
   "execution_count": null,
   "metadata": {
    "colab": {},
    "colab_type": "code",
    "id": "Q7Z9wxbwQSyq"
   },
   "outputs": [],
   "source": [
    "Q24. Write the Python program to print a specified list after removing the 0th, 4th,and 5th elements?"
   ]
  },
  {
   "cell_type": "code",
   "execution_count": null,
   "metadata": {
    "colab": {},
    "colab_type": "code",
    "id": "XJbnBR2fQSyz",
    "outputId": "57d15c7d-f669-4857-f6fa-e05a5a6057e2"
   },
   "outputs": [
    {
     "name": "stdout",
     "output_type": "stream",
     "text": [
      "['Green', 'White', 'Black']\n"
     ]
    }
   ],
   "source": [
    "def psaVedRemoveIndexValue():\n",
    "    color = ['Red', 'Green', 'White', 'Black', 'Pink', 'Yellow']\n",
    "    color = [x for (i,x) in enumerate(color) if i not in (0,4,5)]\n",
    "    return color\n",
    "print(psaVedRemoveIndexValue())"
   ]
  },
  {
   "cell_type": "code",
   "execution_count": null,
   "metadata": {
    "colab": {},
    "colab_type": "code",
    "id": "9DlSyc4pQSy6"
   },
   "outputs": [],
   "source": [
    "Q25. Write the Python program to generate all permutations of a list in Python?"
   ]
  },
  {
   "cell_type": "code",
   "execution_count": null,
   "metadata": {
    "colab": {},
    "colab_type": "code",
    "id": "5TD72s8IQSzJ",
    "outputId": "a4f15427-8319-4c30-ba45-8de3ff66afe7"
   },
   "outputs": [
    {
     "name": "stdout",
     "output_type": "stream",
     "text": [
      "[(1, 2, 3), (1, 3, 2), (2, 1, 3), (2, 3, 1), (3, 1, 2), (3, 2, 1)]\n"
     ]
    }
   ],
   "source": [
    "import itertools\n",
    "print(list(itertools.permutations([1,2,3])))"
   ]
  },
  {
   "cell_type": "code",
   "execution_count": null,
   "metadata": {
    "colab": {},
    "colab_type": "code",
    "id": "Ddj1ngKUQSzX"
   },
   "outputs": [],
   "source": [
    "Q26. Write the Python program to convert a pair of values into a sorted unique array?"
   ]
  },
  {
   "cell_type": "code",
   "execution_count": null,
   "metadata": {
    "colab": {},
    "colab_type": "code",
    "id": "UvRn3J_nQSzf",
    "outputId": "7b387bd9-8100-4d88-bb45-e74c3bfab5af"
   },
   "outputs": [
    {
     "name": "stdout",
     "output_type": "stream",
     "text": [
      "Original List:  [(1, 2), (3, 4), (1, 2), (5, 6), (7, 8), (1, 2), (3, 4), (3, 4), (7, 8), (9, 10)]\n",
      "Sorted Unique Data: [1, 2, 3, 4, 5, 6, 7, 8, 9, 10]\n"
     ]
    }
   ],
   "source": [
    "L = [(1, 2), (3, 4), (1, 2), (5, 6), (7, 8), (1, 2), (3, 4), (3, 4), (7, 8), (9, 10)]\n",
    "print(\"Original List: \", L)\n",
    "print(\"Sorted Unique Data:\",sorted(set().union(*L)))"
   ]
  },
  {
   "cell_type": "code",
   "execution_count": null,
   "metadata": {
    "colab": {},
    "colab_type": "code",
    "id": "m4hljuwZQSzp"
   },
   "outputs": [],
   "source": [
    "Q27. Write the Python class to convert an integer to a roman numeral?"
   ]
  },
  {
   "cell_type": "code",
   "execution_count": null,
   "metadata": {
    "colab": {},
    "colab_type": "code",
    "id": "_vsCNvM2QSz1",
    "outputId": "47fa4be2-6845-48ff-9818-4b6cd4958916"
   },
   "outputs": [
    {
     "name": "stdout",
     "output_type": "stream",
     "text": [
      "CX\n",
      "VIII\n"
     ]
    }
   ],
   "source": [
    "class psaVedIntToRomanClass():\n",
    "    def psaVedIntToRomanMethod(self, num):\n",
    "        val = [1000, 900, 500, 400, 100, 90, 50, 40, 10, 9, 5, 4, 1]\n",
    "        syb = [\"M\", \"CM\", \"D\", \"CD\", \"C\", \"XC\", \"L\", \"XL\", \"X\", \"IX\", \"V\", \"IV\", \"I\"]\n",
    "        romanNum = ''\n",
    "        i = 0\n",
    "        while num > 0:\n",
    "            for _ in range(num // val[i]):\n",
    "                romanNum += syb[i]\n",
    "                num -= val[i]\n",
    "            i += 1\n",
    "        return romanNum\n",
    "print(psaVedIntToRomanClass().psaVedIntToRomanMethod(110))\n",
    "print(psaVedIntToRomanClass().psaVedIntToRomanMethod(8))"
   ]
  },
  {
   "cell_type": "code",
   "execution_count": null,
   "metadata": {
    "colab": {},
    "colab_type": "code",
    "id": "4PNrAy79QSz8"
   },
   "outputs": [],
   "source": [
    "Q28 Write the Python class to convert a Roman numeral to an integer?"
   ]
  },
  {
   "cell_type": "code",
   "execution_count": null,
   "metadata": {
    "colab": {},
    "colab_type": "code",
    "id": "5xjHpP0nQS0C",
    "outputId": "637a8a85-6323-4287-ebf8-297ba4ac5862"
   },
   "outputs": [
    {
     "name": "stdout",
     "output_type": "stream",
     "text": [
      "3990\n",
      "8\n",
      "110\n"
     ]
    }
   ],
   "source": [
    "class psaVedRomanToIntClass():\n",
    "    def psaVedRomanToIntMethod(self, s):\n",
    "        romanVal = {'I': 1, 'V': 5, 'X': 10, 'L': 50, 'C': 100, 'D': 500, 'M': 1000}\n",
    "        integerVal = 0\n",
    "        for i in range(len(s)):\n",
    "            if i > 0 and romanVal[s[i]] > romanVal[s[i - 1]]:\n",
    "                integerVal += romanVal[s[i]] - 2 * romanVal[s[i - 1]]\n",
    "            else:\n",
    "                integerVal += romanVal[s[i]]\n",
    "        return integerVal\n",
    "print(psaVedRomanToIntClass().psaVedRomanToIntMethod('MMMCMLXXXX'))\n",
    "print(psaVedRomanToIntClass().psaVedRomanToIntMethod('VIII'))\n",
    "print(psaVedRomanToIntClass().psaVedRomanToIntMethod('CX'))\n"
   ]
  },
  {
   "cell_type": "code",
   "execution_count": null,
   "metadata": {
    "colab": {},
    "colab_type": "code",
    "id": "Cm2T4w8vQS0M"
   },
   "outputs": [],
   "source": [
    "Q29. Write the Python class to find the validity of the string of the parentheses, '(', ')', '{', '}', '[' and '] and \n",
    "the brackets must be closed in the correct order, example -\"()\" and \"()[]{}\" are valid but \"[)\",\"({[)]\" and \"{{{\"are invalid."
   ]
  },
  {
   "cell_type": "code",
   "execution_count": 2,
   "metadata": {
    "colab": {},
    "colab_type": "code",
    "id": "KCKQ_Hq6QS0T",
    "outputId": "752833c3-d9cb-429e-b868-9eea835021bf"
   },
   "outputs": [
    {
     "name": "stdout",
     "output_type": "stream",
     "text": [
      "True\n",
      "False\n",
      "True\n"
     ]
    }
   ],
   "source": [
    "class psaVedClosePrenthesisClass():\n",
    "    def psaVedClosePrenthesisMethod(self, str1):\n",
    "        stack, pchar = [], {\"(\": \")\", \"{\": \"}\", \"[\": \"]\"}\n",
    "        for parenthese in str1:\n",
    "            if parenthese in pchar:\n",
    "                stack.append(parenthese)\n",
    "            elif len(stack) == 0 or pchar[stack.pop()] != parenthese:\n",
    "                return False\n",
    "        return len(stack) == 0\n",
    "print(psaVedClosePrenthesisClass().psaVedClosePrenthesisMethod(\"(){}[]\"))\n",
    "print(psaVedClosePrenthesisClass().psaVedClosePrenthesisMethod(\"()[{)}\"))\n",
    "print(psaVedClosePrenthesisClass().psaVedClosePrenthesisMethod(\"()\"))"
   ]
  },
  {
   "cell_type": "code",
   "execution_count": null,
   "metadata": {
    "colab": {},
    "colab_type": "code",
    "id": "p8IMAbnVQS0c"
   },
   "outputs": [],
   "source": [
    "Q30. Write the Python class to get all possible unique subsets from a set of distinct integers?"
   ]
  },
  {
   "cell_type": "code",
   "execution_count": 4,
   "metadata": {},
   "outputs": [
    {
     "name": "stdout",
     "output_type": "stream",
     "text": [
      "[[4], [4, 5], [4, 5, 6], [5], [5, 6], [6]]\n"
     ]
    }
   ],
   "source": [
    "class psaVedPossibleUniqueSubsetClass():\n",
    "    def psaVedPossibleUniqueSubset(self,first30):\n",
    "        string = first30\n",
    "        stringLength = len(string)\n",
    "        allSubStrings = []\n",
    "        subStrings = []\n",
    "        for a in range(0,stringLength+1):\n",
    "            for b in range(a,stringLength+1):\n",
    "                if len(string[a:b]) == 0:\n",
    "                    pass\n",
    "                else:\n",
    "                    allSubStrings.append(string[a:b])\n",
    "        return allSubStrings\n",
    "print(psaVedPossibleUniqueSubsetClass().psaVedPossibleUniqueSubset([4,5,6]))"
   ]
  },
  {
   "cell_type": "code",
   "execution_count": null,
   "metadata": {
    "colab": {},
    "colab_type": "code",
    "id": "Cb-KAlyFQS0i"
   },
   "outputs": [],
   "source": [
    "Q31. Write the Python class to find a pair of elements (indices of the two numbers) from a given array whose sum equals \n",
    "the specific target number?"
   ]
  },
  {
   "cell_type": "code",
   "execution_count": 24,
   "metadata": {},
   "outputs": [
    {
     "name": "stdout",
     "output_type": "stream",
     "text": [
      "1020\n",
      "2030\n",
      "3040\n",
      "4050\n",
      "5060\n",
      "6070\n",
      "7080\n"
     ]
    }
   ],
   "source": [
    "class psaVedFindIndexClass():\n",
    "    def psaVedFindIndex(self,first31,second31):\n",
    "        dataList = ['10','20','30','40','50','60','70','80','90']\n",
    "        dataListLength = len(dataList)\n",
    "        lastIndex = dataListLength-1\n",
    "        for a in range(0,dataListLength):\n",
    "            firstIndex = a\n",
    "            secondIndex = a+1\n",
    "            if secondIndex == lastIndex:\n",
    "                break\n",
    "            else:\n",
    "                one = dataList[firstIndex]\n",
    "                two = dataList[secondIndex]\n",
    "                one += two\n",
    "                print(one)\n",
    "                \n",
    "#             if dataList[firstIndex]+dataList[secondIndex] == second31 :\n",
    "#                 resultFirstindex = firstIndex\n",
    "#                 resultSecondIndex = secondIndex\n",
    "#                 print(\"resultFirstindex:-\"+resultFirstindex+\"and resultSecondIndex:-\"+resultSecondIndex)\n",
    "#                 break\n",
    "psaVedFindIndexClass().psaVedFindIndex([10,20,30,40,50,60,70,80,90],30)"
   ]
  },
  {
   "cell_type": "code",
   "execution_count": 25,
   "metadata": {},
   "outputs": [
    {
     "name": "stdout",
     "output_type": "stream",
     "text": [
      "index1=2, index2=3\n"
     ]
    }
   ],
   "source": [
    "class psaVedSumAsTargetNumberClass():\n",
    "    def psaVedSumAsTargetNumber(self, nums, target):\n",
    "        lookup = {}\n",
    "        for i, num in enumerate(nums):\n",
    "            if target - num in lookup:\n",
    "                return (lookup[target - num], i )\n",
    "            lookup[num] = i\n",
    "print(\"index1=%d, index2=%d\" %\n",
    "psaVedSumAsTargetNumberClass().psaVedSumAsTargetNumber((10,20,10,40,50,60,70),50))"
   ]
  },
  {
   "cell_type": "code",
   "execution_count": null,
   "metadata": {
    "colab": {},
    "colab_type": "code",
    "id": "8X-BAWEvQS00"
   },
   "outputs": [],
   "source": [
    "Q32. Write the Python class to find the three elements that sum to zero from the set of n real numbers?"
   ]
  },
  {
   "cell_type": "code",
   "execution_count": 26,
   "metadata": {},
   "outputs": [
    {
     "data": {
      "text/plain": [
       "[(-10, 2, 8),\n",
       " (-10, 8, 2),\n",
       " (-7, -3, 10),\n",
       " (-7, 10, -3),\n",
       " (-3, -7, 10),\n",
       " (-3, 10, -7),\n",
       " (2, -10, 8),\n",
       " (2, 8, -10),\n",
       " (8, -10, 2),\n",
       " (8, 2, -10),\n",
       " (10, -7, -3),\n",
       " (10, -3, -7)]"
      ]
     },
     "execution_count": 26,
     "metadata": {},
     "output_type": "execute_result"
    }
   ],
   "source": [
    "class psaVedSumToZeroClass():\n",
    "    def psaVedSumToZero(self,first32):\n",
    "        resultElement = []\n",
    "        checkAddition = 0\n",
    "        import itertools\n",
    "        dataList = list(itertools.permutations(first32,3))\n",
    "        for a in dataList:\n",
    "            for b in a:\n",
    "                checkAddition += b\n",
    "            if checkAddition == 0:\n",
    "                resultElement.append(a)\n",
    "            checkAddition = 0\n",
    "        return resultElement\n",
    "psaVedSumToZeroClass().psaVedSumToZero([-25, -10, -7, -3, 2, 4, 8, 10])"
   ]
  },
  {
   "cell_type": "code",
   "execution_count": null,
   "metadata": {
    "colab": {},
    "colab_type": "code",
    "id": "7NbCo8mEQS07"
   },
   "outputs": [],
   "source": [
    "Q33. Write the Python class to implement pow(x, n)?"
   ]
  },
  {
   "cell_type": "code",
   "execution_count": 40,
   "metadata": {},
   "outputs": [
    {
     "data": {
      "text/plain": [
       "32"
      ]
     },
     "execution_count": 40,
     "metadata": {},
     "output_type": "execute_result"
    }
   ],
   "source": [
    "class psaVedMakePowerClass():\n",
    "    def psaVedMakePower(self,first33,second33):\n",
    "        return first33**second33\n",
    "psaVedMakePowerClass().psaVedMakePower(2,5)"
   ]
  },
  {
   "cell_type": "code",
   "execution_count": null,
   "metadata": {
    "colab": {},
    "colab_type": "code",
    "id": "6tXxb0pFQS1h"
   },
   "outputs": [],
   "source": [
    "Q34. Write the Python class which has two methods get_String and print_String. get_String accept thestring from the user and\n",
    "print_String print the string in upper case."
   ]
  },
  {
   "cell_type": "code",
   "execution_count": 39,
   "metadata": {},
   "outputs": [
    {
     "data": {
      "text/plain": [
       "'WRITE THE PYTHON CLASS'"
      ]
     },
     "execution_count": 39,
     "metadata": {},
     "output_type": "execute_result"
    }
   ],
   "source": [
    "class psaVedMakeStringUpperCaseClass():\n",
    "    def psaVedMakeStringUpperCase(self,first34):\n",
    "        return first34.upper()\n",
    "psaVedMakeStringUpperCaseClass().psaVedMakeStringUpperCase('Write the Python class')"
   ]
  },
  {
   "cell_type": "code",
   "execution_count": null,
   "metadata": {
    "colab": {},
    "colab_type": "code",
    "id": "MPN9ep3tQS1u"
   },
   "outputs": [],
   "source": [
    "Q35. Write the Python class named Rectangle constructed by a length and width and the method which will compute the area of \n",
    "the rectangle?"
   ]
  },
  {
   "cell_type": "code",
   "execution_count": 38,
   "metadata": {},
   "outputs": [
    {
     "data": {
      "text/plain": [
       "42"
      ]
     },
     "execution_count": 38,
     "metadata": {},
     "output_type": "execute_result"
    }
   ],
   "source": [
    "class psaVedAreaOfRectangleClass():\n",
    "    def __init__(self,a,b):\n",
    "        self.first35 = a\n",
    "        self.second35 = b\n",
    "    def psaVedAreaOfRectangle(self):\n",
    "        return self.first35*self.second35\n",
    "area = psaVedAreaOfRectangleClass(3, 14)\n",
    "area.psaVedAreaOfRectangle()"
   ]
  },
  {
   "cell_type": "code",
   "execution_count": null,
   "metadata": {
    "colab": {},
    "colab_type": "code",
    "id": "tFr3uBaRQS15"
   },
   "outputs": [],
   "source": [
    "Q36. Write the Python class named Circle constructed by theradius and two methods which will compute the area and perimeter \n",
    "of the circle?"
   ]
  },
  {
   "cell_type": "code",
   "execution_count": 43,
   "metadata": {},
   "outputs": [
    {
     "data": {
      "text/plain": [
       "18.84"
      ]
     },
     "execution_count": 43,
     "metadata": {},
     "output_type": "execute_result"
    }
   ],
   "source": [
    "class psaVedPerimeterCircleClass():\n",
    "    def __init__(self,a):\n",
    "        self.first36 = a\n",
    "    def psaVedPerimeterCircle(self):\n",
    "        return 2*3.14*self.first36\n",
    "area = psaVedPerimeterCircleClass(3)\n",
    "area.psaVedPerimeterCircle()"
   ]
  },
  {
   "cell_type": "code",
   "execution_count": null,
   "metadata": {
    "colab": {},
    "colab_type": "code",
    "id": "lFE295xHQS1_"
   },
   "outputs": [],
   "source": [
    "Q37. Write the Python program to get the class name of an instance in Python?"
   ]
  },
  {
   "cell_type": "code",
   "execution_count": 45,
   "metadata": {},
   "outputs": [
    {
     "name": "stdout",
     "output_type": "stream",
     "text": [
      "cycle\n"
     ]
    }
   ],
   "source": [
    "import itertools\n",
    "x = itertools.cycle('psaVed')\n",
    "print(type(x).__name__)"
   ]
  },
  {
   "cell_type": "code",
   "execution_count": null,
   "metadata": {
    "colab": {},
    "colab_type": "code",
    "id": "KKqsTi9LQS2F"
   },
   "outputs": [],
   "source": [
    "Q38. Write the Python program to count the number of students of individual class?\n",
    "Sample data-classes = (('V', 1),('VI', 1),('V', 2),('VI', 2),('VI', 3),('VII', 1),)Expected Output-Counter({'VI': 3, 'V': 2, 'VII': 1})"
   ]
  },
  {
   "cell_type": "code",
   "execution_count": 16,
   "metadata": {},
   "outputs": [
    {
     "data": {
      "text/plain": [
       "{'I': 1, 'VI': 12, 'II': 2, 'V': 10, 'III': 3, 'IV': 8}"
      ]
     },
     "execution_count": 16,
     "metadata": {},
     "output_type": "execute_result"
    }
   ],
   "source": [
    "def psaVedCountTotalStudent(first38):\n",
    "    studentclass = []\n",
    "    resultTuple = ()\n",
    "    resultDictionary = {}\n",
    "    \n",
    "    for a in first38:\n",
    "        if studentclass.count(a[0]) == 0:\n",
    "            studentclass.append(a[0])\n",
    "            resultDictionary.update({a[0]:a[1]})\n",
    "        else:\n",
    "            studentclassItems = 0\n",
    "            for b in first38:\n",
    "                if a[0] == b[0]:\n",
    "                    studentclassItems = b[1]\n",
    "            studentclassItems += studentclassItems\n",
    "            resultDictionary.update({a[0]:studentclassItems})\n",
    "            del studentclassItems\n",
    "    return resultDictionary\n",
    "psaVedCountTotalStudent(( ('I', 1),('VI', 6),('II', 2),('V', 5),('III', 3),('IV', 4),('IV', 4),('V', 5),('VI', 6) ))"
   ]
  },
  {
   "cell_type": "code",
   "execution_count": null,
   "metadata": {
    "colab": {},
    "colab_type": "code",
    "id": "MDeE0eJhQS2R"
   },
   "outputs": [],
   "source": [
    "Q39. Write the Python program to create an instance of an OrderedDict using the given dictionary and sort dictionary during \n",
    "the creation and print members of the dictionary in reverse order?"
   ]
  },
  {
   "cell_type": "code",
   "execution_count": 7,
   "metadata": {},
   "outputs": [
    {
     "name": "stdout",
     "output_type": "stream",
     "text": [
      "[('VI', 1), ('VII', 2), ('VIII', 3)]\n",
      "[('VIII', 3), ('VII', 2), ('VI', 1)]\n"
     ]
    }
   ],
   "source": [
    "def psaVedSmallerOne(first6):\n",
    "    reverseData = []\n",
    "    sortedDictionary = sorted(first6)\n",
    "    reverseDictionary = reversed(sortedDictionary)\n",
    "    print(sortedDictionary)\n",
    "    for a in reversed(sortedDictionary):\n",
    "        reverseData.append(a)\n",
    "    print(reverseData)\n",
    "psaVedSmallerOne( (('VII', 2),('VIII', 3),('VI', 1)) )"
   ]
  },
  {
   "cell_type": "code",
   "execution_count": null,
   "metadata": {
    "colab": {},
    "colab_type": "code",
    "id": "RybJwz3tQS2h"
   },
   "outputs": [],
   "source": [
    "Q40. Write the Python program to compare two unordered lists (not sets)?"
   ]
  },
  {
   "cell_type": "code",
   "execution_count": 8,
   "metadata": {},
   "outputs": [
    {
     "data": {
      "text/plain": [
       "'true'"
      ]
     },
     "execution_count": 8,
     "metadata": {},
     "output_type": "execute_result"
    }
   ],
   "source": [
    "def psaVedCompareUnorderedLists(first2,second2):\n",
    "    if len(first2) == len(second2):\n",
    "        if sorted(first2) == sorted(second2):\n",
    "            return 'true'\n",
    "        else:\n",
    "            return 'false'\n",
    "    else:\n",
    "        return 'false'\n",
    "psaVedCompareUnorderedLists([3,2,1],[1,2,3])"
   ]
  },
  {
   "cell_type": "code",
   "execution_count": null,
   "metadata": {
    "colab": {},
    "colab_type": "code",
    "id": "Il7l8bkuQS2r"
   },
   "outputs": [],
   "source": [
    "Q41. Write the Python program to get an array buffer information?"
   ]
  },
  {
   "cell_type": "code",
   "execution_count": 9,
   "metadata": {},
   "outputs": [
    {
     "name": "stdout",
     "output_type": "stream",
     "text": [
      "Expected OutputArray buffer start address in memory and number of elements\n",
      "(62020208, 2)\n"
     ]
    }
   ],
   "source": [
    "from array import array\n",
    "a = array(\"I\", (11,22))\n",
    "print(\"Expected OutputArray buffer start address in memory and number of elements\")\n",
    "print(a.buffer_info())"
   ]
  },
  {
   "cell_type": "code",
   "execution_count": null,
   "metadata": {
    "colab": {},
    "colab_type": "code",
    "id": "vk_ndbgbQS25"
   },
   "outputs": [],
   "source": [
    "Q42. Write the Python program to convert an array to an array of machine values and return the bytes representation?"
   ]
  },
  {
   "cell_type": "code",
   "execution_count": 10,
   "metadata": {},
   "outputs": [
    {
     "data": {
      "text/plain": [
       "b'010203040506'"
      ]
     },
     "execution_count": 10,
     "metadata": {},
     "output_type": "execute_result"
    }
   ],
   "source": [
    "def psaVedToByte():\n",
    "    import binascii\n",
    "    x = array('b', [1, 2, 3, 4, 5, 6])\n",
    "    s = x.tobytes()\n",
    "    return binascii.hexlify(s)\n",
    "psaVedToByte()"
   ]
  },
  {
   "cell_type": "code",
   "execution_count": null,
   "metadata": {
    "colab": {},
    "colab_type": "code",
    "id": "2mv1jCRoQS3C"
   },
   "outputs": [],
   "source": [
    "Q43. Write the Python program to read a string and interpreting the string as an array of machine values?"
   ]
  },
  {
   "cell_type": "code",
   "execution_count": 11,
   "metadata": {},
   "outputs": [
    {
     "data": {
      "text/plain": [
       "b'010203040506'"
      ]
     },
     "execution_count": 11,
     "metadata": {},
     "output_type": "execute_result"
    }
   ],
   "source": [
    "def psaVedToArray():\n",
    "    import binascii\n",
    "    x = array('b', [1, 2, 3, 4, 5, 6])\n",
    "    s = x.tobytes()\n",
    "    x.frombytes(s)\n",
    "    return x\n",
    "psaVedToByte()"
   ]
  },
  {
   "cell_type": "code",
   "execution_count": null,
   "metadata": {
    "colab": {},
    "colab_type": "code",
    "id": "-py5Xm9dQS3K"
   },
   "outputs": [],
   "source": [
    "Q44. Write the Python program to push three items into the heap and return the smallest item from the heap. Also, \n",
    "return and popthe smallest item from the heap?"
   ]
  },
  {
   "cell_type": "code",
   "execution_count": null,
   "metadata": {},
   "outputs": [],
   "source": [
    "def psaVedSmallerOne(first6):\n",
    "    return sorted(first6)[0]\n",
    "psaVedSmallerOne( (('VIII', 3),('VII', 2),('VI', 1)) )"
   ]
  },
  {
   "cell_type": "code",
   "execution_count": null,
   "metadata": {
    "colab": {},
    "colab_type": "code",
    "id": "NKqWJgxjQS3T"
   },
   "outputs": [],
   "source": [
    "Q45. Write the Python program to locate the left insertion point for a specified value in sorted order?"
   ]
  },
  {
   "cell_type": "code",
   "execution_count": null,
   "metadata": {},
   "outputs": [],
   "source": [
    "def psaVedGetLeftInsertionPoint(first7,second7):\n",
    "    first7.append(second7)\n",
    "    print(sorted(first7).index(second7))\n",
    "psaVedGetLeftInsertionPoint([2,5,7,10,13,17,21,23],6);"
   ]
  },
  {
   "cell_type": "code",
   "execution_count": null,
   "metadata": {
    "colab": {},
    "colab_type": "code",
    "id": "C9NbcHlQQS3a"
   },
   "outputs": [],
   "source": [
    "Q46. Write the Python program to create theFIFO queue?"
   ]
  },
  {
   "cell_type": "code",
   "execution_count": 12,
   "metadata": {},
   "outputs": [
    {
     "name": "stdout",
     "output_type": "stream",
     "text": [
      "0 1 2 3 "
     ]
    }
   ],
   "source": [
    "def psaVedFIFOQueue():\n",
    "    import queue\n",
    "    queueData = queue.Queue()\n",
    "    for x in range(4):\n",
    "        queueData.put(str(x))\n",
    "    while not queueData.empty():\n",
    "        print(queueData.get(), end=\" \")\n",
    "psaVedFIFOQueue()"
   ]
  },
  {
   "cell_type": "code",
   "execution_count": null,
   "metadata": {
    "colab": {},
    "colab_type": "code",
    "id": "bqcw9HglQS3k"
   },
   "outputs": [],
   "source": [
    "Q47. Write the Python program to calculate the harmonic sum of n-1.Note: The harmonic sum is the sum of reciprocals of \n",
    "    the positive Integers?"
   ]
  },
  {
   "cell_type": "code",
   "execution_count": 13,
   "metadata": {},
   "outputs": [
    {
     "data": {
      "text/plain": [
       "1.8333333333333333"
      ]
     },
     "execution_count": 13,
     "metadata": {},
     "output_type": "execute_result"
    }
   ],
   "source": [
    "def psaVedHarmonicSum(first9):\n",
    "  if first9 < 2:\n",
    "    return 1\n",
    "  else:\n",
    "    return 1 / first9 + (psaVedHarmonicSum(first9 - 1))\n",
    "psaVedHarmonicSum(3)"
   ]
  },
  {
   "cell_type": "code",
   "execution_count": null,
   "metadata": {
    "colab": {},
    "colab_type": "code",
    "id": "2i2aIi5-QS3s"
   },
   "outputs": [],
   "source": [
    "Q48. Write theNumPy program to create a 2d array with 6on the border and 0inside?"
   ]
  },
  {
   "cell_type": "code",
   "execution_count": 14,
   "metadata": {},
   "outputs": [
    {
     "data": {
      "text/plain": [
       "array([[6, 6, 6, 6, 6, 6],\n",
       "       [6, 0, 0, 0, 0, 6],\n",
       "       [6, 0, 0, 0, 0, 6],\n",
       "       [6, 0, 0, 0, 0, 6],\n",
       "       [6, 0, 0, 0, 0, 6],\n",
       "       [6, 6, 6, 6, 6, 6]])"
      ]
     },
     "execution_count": 14,
     "metadata": {},
     "output_type": "execute_result"
    }
   ],
   "source": [
    "def psaVedNumpyMatrixWithBorderSix():\n",
    "    import numpy as np\n",
    "    shapeMatrix = np.full(shape=[6,6],fill_value=6,dtype=np.int)\n",
    "    sixReshapeMatrix = shapeMatrix.reshape(6,6)\n",
    "    sixReshapeMatrix[1:-1,1:-1] = 0\n",
    "    return sixReshapeMatrix\n",
    "psaVedNumpyMatrixWithBorderSix()"
   ]
  },
  {
   "cell_type": "code",
   "execution_count": null,
   "metadata": {
    "colab": {},
    "colab_type": "code",
    "id": "GS2sPiZfQS3z"
   },
   "outputs": [],
   "source": [
    "Q49. Write the NumPy program to create a 8x8 matrix and fillit with the checker board pattern?"
   ]
  },
  {
   "cell_type": "code",
   "execution_count": 1,
   "metadata": {},
   "outputs": [
    {
     "data": {
      "text/plain": [
       "array([[3, 9, 3, 9, 3, 9, 3, 9],\n",
       "       [9, 3, 9, 3, 9, 3, 9, 3],\n",
       "       [3, 9, 3, 9, 3, 9, 3, 9],\n",
       "       [9, 3, 9, 3, 9, 3, 9, 3],\n",
       "       [3, 9, 3, 9, 3, 9, 3, 9],\n",
       "       [9, 3, 9, 3, 9, 3, 9, 3],\n",
       "       [3, 9, 3, 9, 3, 9, 3, 9],\n",
       "       [9, 3, 9, 3, 9, 3, 9, 3]])"
      ]
     },
     "execution_count": 1,
     "metadata": {},
     "output_type": "execute_result"
    }
   ],
   "source": [
    "def psaVedCheckerboardPattern():\n",
    "    import numpy as np\n",
    "    resultData = np.full(shape=[8,8],fill_value=3,dtype=np.int)\n",
    "    resultData[1::2,::2] = 9\n",
    "    resultData[0::2,1::2] = 9\n",
    "    return resultData\n",
    "psaVedCheckerboardPattern()"
   ]
  },
  {
   "cell_type": "code",
   "execution_count": null,
   "metadata": {
    "colab": {},
    "colab_type": "code",
    "id": "LG0ym5q6QS35"
   },
   "outputs": [],
   "source": [
    "Q50. Write the NumPy program to create an empty and a full array."
   ]
  },
  {
   "cell_type": "code",
   "execution_count": 2,
   "metadata": {},
   "outputs": [
    {
     "name": "stdout",
     "output_type": "stream",
     "text": [
      "[[3.31023983e-322 0.00000000e+000 0.00000000e+000]\n",
      " [0.00000000e+000 0.00000000e+000 6.32404027e-322]\n",
      " [3.95580758e-308 7.49770213e+247 3.63455912e+185]]\n",
      "[[9 9 9]\n",
      " [9 9 9]\n",
      " [9 9 9]]\n"
     ]
    }
   ],
   "source": [
    "def psaVedEmptyAndFullArray():\n",
    "    import numpy as np\n",
    "    empty = np.empty((3,3))\n",
    "    full = np.full((3,3),9,int)\n",
    "    print(empty)\n",
    "    print(full)\n",
    "psaVedEmptyAndFullArray()"
   ]
  },
  {
   "cell_type": "code",
   "execution_count": null,
   "metadata": {
    "colab": {},
    "colab_type": "code",
    "id": "gReRmgv5QS3-"
   },
   "outputs": [],
   "source": [
    "Q51. Write the NumPy program to convert the values of Centigrade degrees into the Fahrenheit degrees and the centigrade \n",
    "values are stored in the NumPy array."
   ]
  },
  {
   "cell_type": "code",
   "execution_count": 3,
   "metadata": {},
   "outputs": [
    {
     "name": "stdout",
     "output_type": "stream",
     "text": [
      "[ 0.   12.   45.21 34.   99.91]\n",
      "[-17.77777778 -11.11111111   7.33888889   1.11111111  37.72777778]\n"
     ]
    }
   ],
   "source": [
    "def psaVedCentigradeFahrenheit():\n",
    "    import numpy as np\n",
    "    rawData = np.array([0, 12, 45.21 ,34, 99.91])\n",
    "    print(rawData)\n",
    "    centiData = (5*rawData/9 - 5*32/9)\n",
    "    print(centiData)\n",
    "psaVedCentigradeFahrenheit()"
   ]
  },
  {
   "cell_type": "code",
   "execution_count": null,
   "metadata": {
    "colab": {},
    "colab_type": "code",
    "id": "9U-OaNouQS4H"
   },
   "outputs": [],
   "source": [
    "Q52. Write the NumPyprogram to find the real and imaginary parts of an array of complex numbers?"
   ]
  },
  {
   "cell_type": "code",
   "execution_count": 4,
   "metadata": {},
   "outputs": [
    {
     "name": "stdout",
     "output_type": "stream",
     "text": [
      "[1.]\n",
      "[0.]\n"
     ]
    }
   ],
   "source": [
    "def psaVedImaginaryPart():\n",
    "    import numpy as np\n",
    "    originalData = np.sqrt([1+0j])\n",
    "    print(originalData.real)\n",
    "    print(originalData.imag)\n",
    "psaVedImaginaryPart()"
   ]
  },
  {
   "cell_type": "code",
   "execution_count": null,
   "metadata": {
    "colab": {},
    "colab_type": "code",
    "id": "PCBSXd5ZQS4Q"
   },
   "outputs": [],
   "source": [
    "Q53. Write the NumPy program to test whether each element of a 1-D array is also present in the second array?"
   ]
  },
  {
   "cell_type": "code",
   "execution_count": 5,
   "metadata": {},
   "outputs": [
    {
     "name": "stdout",
     "output_type": "stream",
     "text": [
      "[ True False False  True False]\n"
     ]
    }
   ],
   "source": [
    "def psaVedCheckPresence(first6,second6):\n",
    "    import numpy as np\n",
    "    oneArray = np.array(first6)\n",
    "    twoArray = np.array(second6)\n",
    "    print(np.in1d(oneArray,twoArray))\n",
    "psaVedCheckPresence([0, 10, 20, 40, 60],[0, 40])"
   ]
  },
  {
   "cell_type": "code",
   "execution_count": null,
   "metadata": {
    "colab": {},
    "colab_type": "code",
    "id": "sueEqG2sQS4V"
   },
   "outputs": [],
   "source": [
    "Q54. Write the NumPy program to find common values between two arrays?"
   ]
  },
  {
   "cell_type": "code",
   "execution_count": 6,
   "metadata": {},
   "outputs": [
    {
     "name": "stdout",
     "output_type": "stream",
     "text": [
      "[ 0 40]\n"
     ]
    }
   ],
   "source": [
    "def psaVedCommanValue(first7,second7):\n",
    "    import numpy as np\n",
    "    oneArray = np.array(first7)\n",
    "    twoArray = np.array(second7)\n",
    "    print(np.intersect1d(oneArray,twoArray))\n",
    "psaVedCommanValue([0, 40],[0, 10, 20, 40, 60])"
   ]
  },
  {
   "cell_type": "code",
   "execution_count": null,
   "metadata": {
    "colab": {},
    "colab_type": "code",
    "id": "i4gwSB8ZQS4a"
   },
   "outputs": [],
   "source": [
    "Q55. Write the NumPy program to get the unique elements of an array?"
   ]
  },
  {
   "cell_type": "code",
   "execution_count": 7,
   "metadata": {},
   "outputs": [
    {
     "data": {
      "text/plain": [
       "array([1, 2, 3])"
      ]
     },
     "execution_count": 7,
     "metadata": {},
     "output_type": "execute_result"
    }
   ],
   "source": [
    "def psaVedUniqueElement(first8):\n",
    "    import numpy as np\n",
    "    oneArray = np.array(first8)\n",
    "    return np.unique(oneArray)\n",
    "psaVedUniqueElement([[1, 1],[2, 3]])"
   ]
  },
  {
   "cell_type": "code",
   "execution_count": null,
   "metadata": {
    "colab": {},
    "colab_type": "code",
    "id": "09rDvOtHQS4g"
   },
   "outputs": [],
   "source": [
    "Q56. Write the NumPy program to find the set exclusive-or of two arrays. Set exclusive-or will return the sorted, unique \n",
    "values that are in only one (not both) of the input arrays?"
   ]
  },
  {
   "cell_type": "code",
   "execution_count": 8,
   "metadata": {},
   "outputs": [
    {
     "data": {
      "text/plain": [
       "array([ 0, 20, 30, 50, 60, 70, 80])"
      ]
     },
     "execution_count": 8,
     "metadata": {},
     "output_type": "execute_result"
    }
   ],
   "source": [
    "def psaVedExor(first9,second9):\n",
    "    import numpy as np\n",
    "    oneArray = np.array(first9)\n",
    "    twoArray = np.array(second9)\n",
    "    return np.setxor1d(oneArray,twoArray)\n",
    "psaVedExor([0, 10, 20, 40, 60, 80],[10, 30, 40, 50, 70])"
   ]
  },
  {
   "cell_type": "code",
   "execution_count": null,
   "metadata": {
    "colab": {},
    "colab_type": "code",
    "id": "5YOJducQQS4m"
   },
   "outputs": [],
   "source": [
    "Q57. Write the NumPy program to test if all elements in an array evaluate to True?"
   ]
  },
  {
   "cell_type": "code",
   "execution_count": 9,
   "metadata": {},
   "outputs": [
    {
     "data": {
      "text/plain": [
       "False"
      ]
     },
     "execution_count": 9,
     "metadata": {},
     "output_type": "execute_result"
    }
   ],
   "source": [
    "def psaVedEvaluate(first10):\n",
    "    import numpy as np\n",
    "    oneArray = np.all(first10)\n",
    "    return oneArray\n",
    "psaVedEvaluate([10, 20,0, -50])"
   ]
  },
  {
   "cell_type": "code",
   "execution_count": null,
   "metadata": {
    "colab": {},
    "colab_type": "code",
    "id": "XKpaqGe-QS4u"
   },
   "outputs": [],
   "source": [
    "Q58 Write the NumPy program to test whether any array element along the given axis evaluates to True?"
   ]
  },
  {
   "cell_type": "code",
   "execution_count": 10,
   "metadata": {},
   "outputs": [
    {
     "data": {
      "text/plain": [
       "False"
      ]
     },
     "execution_count": 10,
     "metadata": {},
     "output_type": "execute_result"
    }
   ],
   "source": [
    "def psaVedEvaluateAnyFalse(first11):\n",
    "    import numpy as np\n",
    "    oneArray = np.any(first11)\n",
    "    return oneArray\n",
    "psaVedEvaluateAnyFalse([0, 0,0, 0])"
   ]
  },
  {
   "cell_type": "code",
   "execution_count": null,
   "metadata": {
    "colab": {},
    "colab_type": "code",
    "id": "XkNapqesQS42"
   },
   "outputs": [],
   "source": [
    "Q59. Write the NumPy program to construct an array by repeating?"
   ]
  },
  {
   "cell_type": "code",
   "execution_count": 11,
   "metadata": {},
   "outputs": [
    {
     "data": {
      "text/plain": [
       "array([1, 2, 3, 4, 1, 2, 3, 4, 1, 2, 3, 4])"
      ]
     },
     "execution_count": 11,
     "metadata": {},
     "output_type": "execute_result"
    }
   ],
   "source": [
    "def psaVedRepeatArrayValue(first12,second12):\n",
    "    import numpy as np\n",
    "    return np.tile(first12,second12)\n",
    "psaVedRepeatArrayValue([1, 2, 3, 4],3)"
   ]
  },
  {
   "cell_type": "code",
   "execution_count": null,
   "metadata": {
    "colab": {},
    "colab_type": "code",
    "id": "anP-BUXJQS4-"
   },
   "outputs": [],
   "source": [
    "Q60. Write the NumPy program to find the indices of the maximum and minimum values with the given axis of an array?"
   ]
  },
  {
   "cell_type": "code",
   "execution_count": 13,
   "metadata": {},
   "outputs": [
    {
     "name": "stdout",
     "output_type": "stream",
     "text": [
      "Minimum Index:- \n",
      "0\n",
      "Manimum Index:- \n",
      "5\n",
      "None\n"
     ]
    }
   ],
   "source": [
    "def psaVedCheckingIndexes(first13):\n",
    "    import numpy as np\n",
    "    print('Minimum Index:- ')\n",
    "    print(np.argmin(first13))\n",
    "    print('Manimum Index:- ')\n",
    "    print(print(np.argmax(first13)))\n",
    "psaVedCheckingIndexes([1, 2, 3, 4, 5, 6])"
   ]
  },
  {
   "cell_type": "code",
   "execution_count": null,
   "metadata": {
    "colab": {},
    "colab_type": "code",
    "id": "zdto_s0sQS5I"
   },
   "outputs": [],
   "source": [
    "Q61. Write the NumPy program compare two arrays using numpy?"
   ]
  },
  {
   "cell_type": "code",
   "execution_count": 14,
   "metadata": {},
   "outputs": [
    {
     "name": "stdout",
     "output_type": "stream",
     "text": [
      "[False False]\n",
      "[False False]\n",
      "[ True  True]\n",
      "[ True  True]\n"
     ]
    }
   ],
   "source": [
    "def psaVedCompareArray(first14,second14):\n",
    "    import numpy as np\n",
    "    oneArray = np.array(first14)\n",
    "    twoArray = np.array(second14)\n",
    "    print(np.greater(oneArray, twoArray))\n",
    "    print(np.greater_equal(oneArray, twoArray))\n",
    "    print(np.less(oneArray, twoArray))\n",
    "    print(np.less_equal(oneArray, twoArray))\n",
    "psaVedCompareArray([1, 2],[4, 5])"
   ]
  },
  {
   "cell_type": "code",
   "execution_count": null,
   "metadata": {
    "colab": {},
    "colab_type": "code",
    "id": "hP_CHXJoQS5M"
   },
   "outputs": [],
   "source": [
    "Q62. Write the NumPy program to sort an along the first, last axis of an array?"
   ]
  },
  {
   "cell_type": "code",
   "execution_count": 15,
   "metadata": {},
   "outputs": [
    {
     "name": "stdout",
     "output_type": "stream",
     "text": [
      "[[2 1]\n",
      " [4 6]]\n",
      "[[2 1]\n",
      " [4 6]]\n",
      "[[1 2]\n",
      " [4 6]]\n"
     ]
    }
   ],
   "source": [
    "def psaVedSortArrayElement(first15):\n",
    "    import numpy as np\n",
    "    oneArray = np.array(first15)\n",
    "    print(oneArray)\n",
    "    print(np.sort(oneArray,axis=0))\n",
    "    print(np.sort(oneArray,axis=1))\n",
    "psaVedSortArrayElement([[2,1],[4,6]])"
   ]
  },
  {
   "cell_type": "code",
   "execution_count": null,
   "metadata": {
    "colab": {},
    "colab_type": "code",
    "id": "Dm-E2Wj2QS5V"
   },
   "outputs": [],
   "source": [
    "Q63. Write the NumPy program to sort pairs of first name and last name return their indices\n",
    "(first by last name, then by first name)."
   ]
  },
  {
   "cell_type": "code",
   "execution_count": 16,
   "metadata": {},
   "outputs": [
    {
     "data": {
      "text/plain": [
       "array([1, 3, 2, 4, 0], dtype=int64)"
      ]
     },
     "execution_count": 16,
     "metadata": {},
     "output_type": "execute_result"
    }
   ],
   "source": [
    "def psaVedLexsortArray(first16,second16):\n",
    "    import numpy as np\n",
    "    return np.lexsort((first16, second16))\n",
    "psaVedLexsortArray(('Margery', 'Betsey', 'Shelley', 'Lanell', 'Genesis'),('Woolum', 'Battle', 'Plotner', 'Brien', 'Stahl'))"
   ]
  },
  {
   "cell_type": "code",
   "execution_count": null,
   "metadata": {
    "colab": {},
    "colab_type": "code",
    "id": "4Kjj26EMQS5a"
   },
   "outputs": [],
   "source": [
    "Q64. Write the NumPy program to get the values and indices of the elements that are bigger than 10inthegiven array?"
   ]
  },
  {
   "cell_type": "code",
   "execution_count": 17,
   "metadata": {},
   "outputs": [
    {
     "data": {
      "text/plain": [
       "(array([0, 1, 1, 1], dtype=int64), array([2, 0, 1, 2], dtype=int64))"
      ]
     },
     "execution_count": 17,
     "metadata": {},
     "output_type": "execute_result"
    }
   ],
   "source": [
    "def psaVedIndexOfBiggerValue(first17):\n",
    "    import numpy as np\n",
    "    arrayData = np.array(first17)\n",
    "    return np.where(arrayData > 10)\n",
    "psaVedIndexOfBiggerValue([[0, 10, 20],[20, 30, 40]])"
   ]
  },
  {
   "cell_type": "code",
   "execution_count": null,
   "metadata": {
    "colab": {},
    "colab_type": "code",
    "id": "3qyVpIa-QS5x"
   },
   "outputs": [],
   "source": [
    "Q65. Write the NumPy program to find the memory size of a NumPy array?"
   ]
  },
  {
   "cell_type": "code",
   "execution_count": 18,
   "metadata": {},
   "outputs": [
    {
     "name": "stdout",
     "output_type": "stream",
     "text": [
      "24\n"
     ]
    }
   ],
   "source": [
    "def psaVedMemorySizeOfArray(first18):\n",
    "    import numpy as np\n",
    "    arrayData = np.array(first18)\n",
    "    print(arrayData.size*arrayData.itemsize)\n",
    "psaVedMemorySizeOfArray([[0, 10, 20],[20, 30, 40]])"
   ]
  },
  {
   "cell_type": "code",
   "execution_count": null,
   "metadata": {
    "colab": {},
    "colab_type": "code",
    "id": "88eR0TyFQS6A"
   },
   "outputs": [],
   "source": [
    "Q66. Write the NumPy program to create an array of ones and an array of zeros?"
   ]
  },
  {
   "cell_type": "code",
   "execution_count": 32,
   "metadata": {},
   "outputs": [
    {
     "name": "stdout",
     "output_type": "stream",
     "text": [
      "[[1 1]]\n",
      "[[0 0]]\n"
     ]
    }
   ],
   "source": [
    "def psaVedZeroAndOnes():\n",
    "    import numpy as np\n",
    "    print(np.ones((1,2),dtype=int))\n",
    "    print(np.zeros((1,2),dtype=int))\n",
    "psaVedZeroAndOnes()"
   ]
  },
  {
   "cell_type": "code",
   "execution_count": null,
   "metadata": {
    "colab": {},
    "colab_type": "code",
    "id": "TBZ1rR5aQS6O"
   },
   "outputs": [],
   "source": [
    "Q67. Write the NumPy program to change the dimension of an array?"
   ]
  },
  {
   "cell_type": "code",
   "execution_count": 37,
   "metadata": {},
   "outputs": [
    {
     "name": "stdout",
     "output_type": "stream",
     "text": [
      "[0 1 2 3]\n",
      "[[0 1]\n",
      " [2 3]]\n"
     ]
    }
   ],
   "source": [
    "def psaVedDimensionChange():\n",
    "    import numpy as np\n",
    "    prevArray = np.arange(4)\n",
    "    print(prevArray)\n",
    "    print(prevArray.reshape(2, 2))\n",
    "psaVedDimensionChange()"
   ]
  },
  {
   "cell_type": "code",
   "execution_count": null,
   "metadata": {
    "colab": {},
    "colab_type": "code",
    "id": "EvnaPvuZQS6S"
   },
   "outputs": [],
   "source": [
    "Q68. Write the NumPy program to create a new shape to an array without changing its data ?"
   ]
  },
  {
   "cell_type": "code",
   "execution_count": 42,
   "metadata": {},
   "outputs": [
    {
     "data": {
      "text/plain": [
       "array([[0, 1],\n",
       "       [2, 3],\n",
       "       [4, 5],\n",
       "       [6, 7],\n",
       "       [8, 9]])"
      ]
     },
     "execution_count": 42,
     "metadata": {},
     "output_type": "execute_result"
    }
   ],
   "source": [
    "def psaVedCreateNewShape():\n",
    "    import numpy as np\n",
    "    prevArray = np.arange(10)\n",
    "    return np.reshape(prevArray,(5,2))\n",
    "psaVedCreateNewShape()"
   ]
  },
  {
   "cell_type": "code",
   "execution_count": null,
   "metadata": {
    "colab": {},
    "colab_type": "code",
    "id": "Pex2HuYIQS6X"
   },
   "outputs": [],
   "source": [
    "Q69. Write the NumPy program to create a new array of 3*5, filled with 2?"
   ]
  },
  {
   "cell_type": "code",
   "execution_count": 45,
   "metadata": {},
   "outputs": [
    {
     "data": {
      "text/plain": [
       "array([[2, 2, 2, 2, 2],\n",
       "       [2, 2, 2, 2, 2],\n",
       "       [2, 2, 2, 2, 2]])"
      ]
     },
     "execution_count": 45,
     "metadata": {},
     "output_type": "execute_result"
    }
   ],
   "source": [
    "def psaVedCreateArrayWithValue():\n",
    "    import numpy as np\n",
    "    createArray = np.full(shape=[3,5],fill_value=2,dtype=np.int)\n",
    "    return createArray\n",
    "psaVedCreateArrayWithValue()"
   ]
  },
  {
   "cell_type": "code",
   "execution_count": null,
   "metadata": {
    "colab": {},
    "colab_type": "code",
    "id": "DPNFaamTQS6b"
   },
   "outputs": [],
   "source": [
    "Q70. Write the NumPy program to create a 3-D array with ones on a diagonal and zeros else where?"
   ]
  },
  {
   "cell_type": "code",
   "execution_count": 47,
   "metadata": {},
   "outputs": [
    {
     "data": {
      "text/plain": [
       "array([[1., 0., 0., 0.],\n",
       "       [0., 1., 0., 0.],\n",
       "       [0., 0., 1., 0.],\n",
       "       [0., 0., 0., 1.]])"
      ]
     },
     "execution_count": 47,
     "metadata": {},
     "output_type": "execute_result"
    }
   ],
   "source": [
    "def psaVedMakeEye():\n",
    "    import numpy as np\n",
    "    return np.eye(4)\n",
    "psaVedMakeEye()"
   ]
  },
  {
   "cell_type": "code",
   "execution_count": null,
   "metadata": {
    "colab": {},
    "colab_type": "code",
    "id": "fhwjGQcGQS6f"
   },
   "outputs": [],
   "source": [
    "Q71. Write the NumPy program to split an array of 14 elements into the 3 arrays and each of which has 2, 4,and 8 \n",
    "elements inoriginal order?"
   ]
  },
  {
   "cell_type": "code",
   "execution_count": 61,
   "metadata": {},
   "outputs": [
    {
     "name": "stdout",
     "output_type": "stream",
     "text": [
      "[ 0  1  2  3  4  5  6  7  8  9 10 11 12 13]\n",
      "[array([0, 1]), array([2, 3, 4, 5]), array([ 6,  7,  8,  9, 10, 11, 12, 13])]\n"
     ]
    }
   ],
   "source": [
    "def psaVedSplitArray():\n",
    "    import numpy as np\n",
    "    readyArray = np.arange(14)\n",
    "    print(readyArray)\n",
    "    print(np.split(readyArray,[2,6]))\n",
    "psaVedSplitArray()"
   ]
  },
  {
   "cell_type": "code",
   "execution_count": null,
   "metadata": {
    "colab": {},
    "colab_type": "code",
    "id": "zUDV_kkKQS6j"
   },
   "outputs": [],
   "source": [
    "Q72. Write the NumPyprogram to split of an array of shape 4x4 it into two arrays along the second axis ?"
   ]
  },
  {
   "cell_type": "code",
   "execution_count": 64,
   "metadata": {},
   "outputs": [
    {
     "name": "stdout",
     "output_type": "stream",
     "text": [
      "[[ 0  1  2  3]\n",
      " [ 4  5  6  7]\n",
      " [ 8  9 10 11]\n",
      " [12 13 14 15]]\n",
      "[array([[ 0,  1],\n",
      "       [ 4,  5],\n",
      "       [ 8,  9],\n",
      "       [12, 13]]), array([[ 2,  3],\n",
      "       [ 6,  7],\n",
      "       [10, 11],\n",
      "       [14, 15]]), array([], shape=(4, 0), dtype=int32)]\n"
     ]
    }
   ],
   "source": [
    "def psaVedSplitArrayIntoTwo():\n",
    "    import numpy as np\n",
    "    readyArray = np.arange(16).reshape([4,4])\n",
    "    print(readyArray)\n",
    "    print(np.hsplit(readyArray,[2,6]))\n",
    "psaVedSplitArrayIntoTwo()"
   ]
  },
  {
   "cell_type": "code",
   "execution_count": null,
   "metadata": {
    "colab": {},
    "colab_type": "code",
    "id": "g38XDQOTQS6q"
   },
   "outputs": [],
   "source": [
    "Q73. Write the NumPy program to create a 5x5 matrix with row values ranging from 0 to 4?"
   ]
  },
  {
   "cell_type": "code",
   "execution_count": 70,
   "metadata": {},
   "outputs": [
    {
     "data": {
      "text/plain": [
       "array([[0., 1., 2., 3., 4.],\n",
       "       [0., 1., 2., 3., 4.],\n",
       "       [0., 1., 2., 3., 4.],\n",
       "       [0., 1., 2., 3., 4.],\n",
       "       [0., 1., 2., 3., 4.]])"
      ]
     },
     "execution_count": 70,
     "metadata": {},
     "output_type": "execute_result"
    }
   ],
   "source": [
    "def psaVedNumpyRangingMatrix():\n",
    "    import numpy as np\n",
    "    shapeMatrix = np.zeros((5,5))\n",
    "    shapeMatrix += np.arange(5)\n",
    "    return shapeMatrix\n",
    "psaVedNumpyRangingMatrix()"
   ]
  },
  {
   "cell_type": "code",
   "execution_count": null,
   "metadata": {
    "colab": {},
    "colab_type": "code",
    "id": "sEuqtUO2QS6u"
   },
   "outputs": [],
   "source": [
    "Q74. Write the NumPy program to create an array of zeros and three column types (integer, float, character)?"
   ]
  },
  {
   "cell_type": "code",
   "execution_count": 81,
   "metadata": {},
   "outputs": [
    {
     "name": "stdout",
     "output_type": "stream",
     "text": [
      "[(1, 1.1, 'qwerty'), (1, 1.1, 'qwerty'), (1, 1.1, 'qwerty')]\n"
     ]
    }
   ],
   "source": [
    "def psaVedCreateMultidatatypeArray():\n",
    "    import numpy as np\n",
    "    zeroArray = np.zeros([3], dtype=('i4,f4,a40'))\n",
    "    zeroArray = [(1,1.1,'qwerty'),(1,1.1,'qwerty'),(1,1.1,'qwerty')]\n",
    "    print(zeroArray)\n",
    "psaVedCreateMultidatatypeArray()"
   ]
  },
  {
   "cell_type": "code",
   "execution_count": null,
   "metadata": {
    "colab": {},
    "colab_type": "code",
    "id": "oC2hbX9SQS6x"
   },
   "outputs": [],
   "source": [
    "Q75. Write the NumPy program to remove the negative values in the numpy array with 0?"
   ]
  },
  {
   "cell_type": "code",
   "execution_count": 84,
   "metadata": {},
   "outputs": [
    {
     "data": {
      "text/plain": [
       "array([ 0,  0,  3,  4,  5,  0,  0,  8,  9, 10])"
      ]
     },
     "execution_count": 84,
     "metadata": {},
     "output_type": "execute_result"
    }
   ],
   "source": [
    "def psaVedReplaceWithZero():\n",
    "    import numpy as np\n",
    "    negativeData = np.array([-1,-2,3,4,5,-6,-7,8,9,10])\n",
    "    negativeData[negativeData<0] = 0\n",
    "    return negativeData\n",
    "psaVedReplaceWithZero()"
   ]
  },
  {
   "cell_type": "code",
   "execution_count": null,
   "metadata": {
    "colab": {},
    "colab_type": "code",
    "id": "-1cLjXH_QS61"
   },
   "outputs": [],
   "source": [
    "Q76. Write the NumPy program to compute the histogram of a set of data?"
   ]
  },
  {
   "cell_type": "code",
   "execution_count": 89,
   "metadata": {},
   "outputs": [
    {
     "data": {
      "image/png": "[encoded data removed]",
      "text/plain": [
       "<Figure size 432x288 with 1 Axes>"
      ]
     },
     "metadata": {
      "needs_background": "light"
     },
     "output_type": "display_data"
    }
   ],
   "source": [
    "def psaVedComputeHisto():\n",
    "    import numpy as np\n",
    "    import matplotlib.pyplot as plt\n",
    "    oneArray = np.arange(10)\n",
    "    twoArray = np.arange(10)\n",
    "    plt.hist(oneArray,twoArray)\n",
    "    plt.show()\n",
    "psaVedComputeHisto()"
   ]
  },
  {
   "cell_type": "code",
   "execution_count": null,
   "metadata": {
    "colab": {},
    "colab_type": "code",
    "id": "amh9U5fIQS7C"
   },
   "outputs": [],
   "source": [
    "Q77. Write the NumPy program to compute the line graph of a set of data?"
   ]
  },
  {
   "cell_type": "code",
   "execution_count": 14,
   "metadata": {},
   "outputs": [
    {
     "data": {
      "image/png": "[encoded data removed]",
      "text/plain": [
       "<Figure size 1800x360 with 1 Axes>"
      ]
     },
     "metadata": {
      "needs_background": "light"
     },
     "output_type": "display_data"
    }
   ],
   "source": [
    "def psaVedComputeLine():\n",
    "    import numpy as np\n",
    "    import pandas as pd\n",
    "    import matplotlib.pyplot as plt\n",
    "    from numpy.random import randn, randint, uniform, sample\n",
    "    ts = pd.Series(randn(2000), index = pd.date_range('2020-02-28', periods = 2000))\n",
    "    ts.plot(figsize=(25,5))\n",
    "psaVedComputeLine()"
   ]
  },
  {
   "cell_type": "code",
   "execution_count": null,
   "metadata": {
    "colab": {},
    "colab_type": "code",
    "id": "0TJX2vs_QS7H"
   },
   "outputs": [],
   "source": [
    "Q78. Write the NumPy program to extracts all the elements from second row from given (4x4) array?"
   ]
  },
  {
   "cell_type": "code",
   "execution_count": 24,
   "metadata": {},
   "outputs": [
    {
     "name": "stdout",
     "output_type": "stream",
     "text": [
      "[[ 0  1  2  3]\n",
      " [ 4  5  6  7]\n",
      " [ 8  9 10 11]\n",
      " [12 13 14 15]]\n",
      "[4 5 6 7]\n"
     ]
    }
   ],
   "source": [
    "def psaVedExtractFromArray():\n",
    "    import numpy as np\n",
    "    oldArray = np.arange(16,dtype=np.int).reshape(4,4)\n",
    "    print(oldArray)\n",
    "    print(oldArray[1,])\n",
    "psaVedExtractFromArray()"
   ]
  },
  {
   "cell_type": "code",
   "execution_count": null,
   "metadata": {
    "colab": {},
    "colab_type": "code",
    "id": "YCKzqyqTQS7N"
   },
   "outputs": [],
   "source": [
    "Q79. Write the NumPy program to extract first element of the second row and fourth element of fourth row from a given (4x4) array?"
   ]
  },
  {
   "cell_type": "code",
   "execution_count": 34,
   "metadata": {},
   "outputs": [
    {
     "name": "stdout",
     "output_type": "stream",
     "text": [
      "[[ 0  1  2  3]\n",
      " [ 4  5  6  7]\n",
      " [ 8  9 10 11]\n",
      " [12 13 14 15]]\n",
      "[ 4 15 10]\n"
     ]
    }
   ],
   "source": [
    "def psaVedExtractfirstAndFourthFromArray():\n",
    "    import numpy as np\n",
    "    ffoldArray = np.arange(16,dtype=np.int).reshape(4,4)\n",
    "    print(ffoldArray)\n",
    "    print(ffoldArray[[1,3],[0,3]])\n",
    "psaVedExtractfirstAndFourthFromArray()"
   ]
  },
  {
   "cell_type": "code",
   "execution_count": null,
   "metadata": {
    "colab": {},
    "colab_type": "code",
    "id": "tku6iXc5QS7X"
   },
   "outputs": [],
   "source": [
    "Q80. Write the NumPy program to add two arrays A and B of sizes (3,3) and (,3)?"
   ]
  },
  {
   "cell_type": "code",
   "execution_count": 40,
   "metadata": {},
   "outputs": [
    {
     "name": "stdout",
     "output_type": "stream",
     "text": [
      "[[0 1 2]\n",
      " [3 4 5]\n",
      " [6 7 8]]\n",
      "[[0 1 2]]\n",
      "[[ 0  2  4]\n",
      " [ 3  5  7]\n",
      " [ 6  8 10]]\n"
     ]
    }
   ],
   "source": [
    "def psaVedAddTwoArray():\n",
    "    import numpy as np\n",
    "    oneArray = np.arange(9,dtype=np.int).reshape(3,3)\n",
    "    twoArray = np.arange(3,dtype=np.int).reshape(1,3)\n",
    "    print(oneArray)\n",
    "    print(twoArray)\n",
    "    print(oneArray+twoArray)\n",
    "psaVedAddTwoArray()"
   ]
  },
  {
   "cell_type": "code",
   "execution_count": null,
   "metadata": {
    "colab": {},
    "colab_type": "code",
    "id": "6JWW7cHHQS7e"
   },
   "outputs": [],
   "source": [
    "Q81. Write the NumPy program to copy data from a given array to another array?"
   ]
  },
  {
   "cell_type": "code",
   "execution_count": 48,
   "metadata": {},
   "outputs": [
    {
     "name": "stdout",
     "output_type": "stream",
     "text": [
      "['a' 'b' 'c' 'd' 'e' 'f']\n",
      "['g' 'h' 'i' 'j' 'k' 'l']\n",
      "new array:-\n",
      "['a' 'b' 'c' 'd' 'e' 'f']\n"
     ]
    }
   ],
   "source": [
    "def psaVedCopyArray():\n",
    "    import numpy as np\n",
    "    oneArray = np.array(['a','b','c','d','e','f'])\n",
    "    twoArray = np.array(['g','h','i','j','k','l'])\n",
    "    print(oneArray)\n",
    "    print(twoArray)\n",
    "    twoArray[:] = oneArray\n",
    "    print('new array:-')\n",
    "    print(twoArray)\n",
    "psaVedCopyArray()"
   ]
  },
  {
   "cell_type": "code",
   "execution_count": null,
   "metadata": {
    "colab": {},
    "colab_type": "code",
    "id": "40_pEDXxQS7m"
   },
   "outputs": [],
   "source": [
    "Q82. Write the NumPy program to calculate the sum of all columns of the 2D numpy array?"
   ]
  },
  {
   "cell_type": "code",
   "execution_count": 52,
   "metadata": {},
   "outputs": [
    {
     "name": "stdout",
     "output_type": "stream",
     "text": [
      "[[ 0  1  2  3  4]\n",
      " [ 5  6  7  8  9]\n",
      " [10 11 12 13 14]\n",
      " [15 16 17 18 19]\n",
      " [20 21 22 23 24]]\n",
      "[50 55 60 65 70]\n"
     ]
    }
   ],
   "source": [
    "def psaVedAddColumnData():\n",
    "    import numpy as np\n",
    "    oneArray = np.arange(25,dtype=np.int).reshape(5,5)\n",
    "    print(oneArray)\n",
    "    print(oneArray.sum(axis=0))\n",
    "psaVedAddColumnData()"
   ]
  },
  {
   "cell_type": "code",
   "execution_count": null,
   "metadata": {
    "colab": {},
    "colab_type": "code",
    "id": "lgygKasYQS7r"
   },
   "outputs": [],
   "source": [
    "Q83. Write the NumPy program to calculate averages without NaNs along thegiven array?"
   ]
  },
  {
   "cell_type": "code",
   "execution_count": 65,
   "metadata": {},
   "outputs": [
    {
     "name": "stdout",
     "output_type": "stream",
     "text": [
      "[10.4  9.5  8.   6.5  5. ]\n"
     ]
    }
   ],
   "source": [
    "def psaVedMakeAverageWithoutNan():\n",
    "    import numpy as np\n",
    "    withNanArray = np.nanmean(np.array([[1, 2, 3, 4, 5], \n",
    "                             [6, 7, 8, 9, np.nan], \n",
    "                             [11, 12, 13, np.nan, np.nan], \n",
    "                             [16, 17, np.nan, np.nan, np.nan], \n",
    "                             [18, np.nan, np.nan, np.nan, np.nan], \n",
    "                             [np.nan , np.nan, np.nan, np.nan, np.nan]]),axis=0)\n",
    "    print(withNanArray)\n",
    "psaVedMakeAverageWithoutNan()"
   ]
  },
  {
   "cell_type": "code",
   "execution_count": null,
   "metadata": {
    "colab": {},
    "colab_type": "code",
    "id": "NTBZlMrdQS7v"
   },
   "outputs": [],
   "source": [
    "Q84. Create two arrays of six elements. Write the NumPy program to count the number of instances of a value occurring in \n",
    "one array on the condition of another array."
   ]
  },
  {
   "cell_type": "code",
   "execution_count": null,
   "metadata": {},
   "outputs": [],
   "source": []
  },
  {
   "cell_type": "code",
   "execution_count": null,
   "metadata": {
    "colab": {},
    "colab_type": "code",
    "id": "2Ygsj2W5QS72"
   },
   "outputs": [],
   "source": [
    "Q85. Write the NumPy program to convert a Python dictionary to a Numpy ndarray ?"
   ]
  },
  {
   "cell_type": "code",
   "execution_count": 30,
   "metadata": {},
   "outputs": [
    {
     "name": "stdout",
     "output_type": "stream",
     "text": [
      "dict_values([0.8821381509592272, 0.8550379295623979, 0.5418756784400619, 0.3262418169029252, 0.6098472855287905])\n"
     ]
    }
   ],
   "source": [
    "def psaVedDictionaryToNdarray():\n",
    "    import numpy as np\n",
    "    dtnDictionary = dict(zip(['one','two','three','four','five'],np.random.rand(5)))\n",
    "    print(dtnDictionary.values())\n",
    "psaVedDictionaryToNdarray()"
   ]
  },
  {
   "cell_type": "code",
   "execution_count": null,
   "metadata": {
    "colab": {},
    "colab_type": "code",
    "id": "qZ0uXeOTQS76"
   },
   "outputs": [],
   "source": [
    "Q86. Write the Numpy program to find and store the non-zero unique rows in an array after comparing each row with other row in \n",
    "the given matrix?"
   ]
  },
  {
   "cell_type": "code",
   "execution_count": 50,
   "metadata": {},
   "outputs": [
    {
     "name": "stdout",
     "output_type": "stream",
     "text": [
      "[[-1 -1  1]\n",
      " [ 0  0  0]\n",
      " [ 1 -2  0]\n",
      " [ 0  0  0]\n",
      " [-1  2 -3]\n",
      " [ 0  0  0]\n",
      " [ 0 -4  5]\n",
      " [ 0  0  0]\n",
      " [ 3  2 -7]\n",
      " [ 0  0  0]\n",
      " [-1  0  0]\n",
      " [ 0  0  0]]\n",
      "[[-1, -1, 1], [1, -2, 0], [-1, 2, -3], [0, -4, 5], [3, 2, -7], [-1, 0, 0]]\n"
     ]
    }
   ],
   "source": [
    "def psaVedstoreNonZeroUnique():\n",
    "    import numpy as np\n",
    "    rowMatrix = np.array([[-1,-1,1],[0,0,0],[1,-2,0],[0,0,0],[-1,2,-3],[0,0,0],[0,-4,5],[0,0,0],[3,2,-7],[0,0,0],[-1,0,0],[0,0,0]])\n",
    "    outputMatrix = []\n",
    "    for a in rowMatrix:\n",
    "        if a[0]==0 and a[1]==0 and a[2]==0:\n",
    "            pass\n",
    "        else:\n",
    "            outputMatrix.append(list(a))\n",
    "    print(rowMatrix)\n",
    "    print(outputMatrix)\n",
    "psaVedstoreNonZeroUnique()"
   ]
  },
  {
   "cell_type": "code",
   "execution_count": null,
   "metadata": {
    "colab": {},
    "colab_type": "code",
    "id": "PO3wQepdQS8B"
   },
   "outputs": [],
   "source": [
    "Q87. Write the NumPy program to multiply the matrix by another matrix of complex numbers and create a new matrix of \n",
    "complex numbers?"
   ]
  },
  {
   "cell_type": "code",
   "execution_count": 57,
   "metadata": {},
   "outputs": [
    {
     "name": "stdout",
     "output_type": "stream",
     "text": [
      "(110-16j)\n"
     ]
    }
   ],
   "source": [
    "def psaVedMatrixMultiply():\n",
    "    import numpy as np\n",
    "    oneMatrix = np.array([1+2j,3+4j])\n",
    "    twoMatrix = np.array([9+10j,11+12j])\n",
    "    output = np.vdot(oneMatrix,twoMatrix)\n",
    "    print(output)\n",
    "psaVedMatrixMultiply()"
   ]
  },
  {
   "cell_type": "code",
   "execution_count": null,
   "metadata": {
    "colab": {},
    "colab_type": "code",
    "id": "YVHDy7boQS8G"
   },
   "outputs": [],
   "source": [
    "Q88. Write a NumPy program to generate the matrix product of two Arrays?"
   ]
  },
  {
   "cell_type": "code",
   "execution_count": 66,
   "metadata": {},
   "outputs": [
    {
     "name": "stdout",
     "output_type": "stream",
     "text": [
      "[[1, 2], [3, 4]]\n",
      "[[19 22]\n",
      " [43 50]]\n"
     ]
    }
   ],
   "source": [
    "def psaVedMatrixProductOfTwoArray():\n",
    "    import numpy as np\n",
    "    oneArray = [[1,2],[3,4]]\n",
    "    twoArray = [[5,6],[7,8]]\n",
    "    print(oneArray)\n",
    "    print(np.matmul(oneArray,twoArray))\n",
    "psaVedMatrixProductOfTwoArray()"
   ]
  },
  {
   "cell_type": "code",
   "execution_count": null,
   "metadata": {
    "colab": {},
    "colab_type": "code",
    "id": "XXi9Zu_zQS8N"
   },
   "outputs": [],
   "source": [
    "Q89. Write the NumPy program to find roots of the following Polynomials?\n",
    "a) (x2-4x + 7)\n",
    "b) x4 -11x3 + 9x2+ 11x ? 10\n",
    "Sample output-\n",
    "Roots of the first polynomial-\n",
    "[ 1. 1.]\n",
    "Roots of the second polynomial-\n",
    "[ 11.04461946+0.j -0.87114210+0.j 0.91326132+0.4531004j0.91326132-0.4531004j]"
   ]
  },
  {
   "cell_type": "code",
   "execution_count": null,
   "metadata": {},
   "outputs": [],
   "source": []
  },
  {
   "cell_type": "code",
   "execution_count": null,
   "metadata": {
    "colab": {},
    "colab_type": "code",
    "id": "09TwjIkQQS8W"
   },
   "outputs": [],
   "source": [
    "Q90. Write the NumPy program to calculate inverse of sine, cosine,and inverse tangent for all elements in a given array?\n",
    "Sample output-\n",
    "Inverse sine-[-1.57079633 0. 1.57079633]\n",
    "Inverse cosine-[3.14159265 1.57079633 0. ]\n",
    "Inverse tangent-[-0.78539816 0. 0.78539816]"
   ]
  },
  {
   "cell_type": "code",
   "execution_count": 50,
   "metadata": {},
   "outputs": [
    {
     "name": "stdout",
     "output_type": "stream",
     "text": [
      "[-1.57079633  0.          1.57079633]\n",
      "--------\n",
      "[3.14159265 1.57079633 0.        ]\n",
      "--------\n",
      "[-0.78539816  0.          0.78539816]\n"
     ]
    }
   ],
   "source": [
    "def psaVedCalculateInverse():\n",
    "    import numpy as np\n",
    "    mathData = np.array([-1., 0, 1.])\n",
    "    print(np.arcsin(mathData))\n",
    "    print('--------')\n",
    "    print(np.arccos(mathData))\n",
    "    print('--------')\n",
    "    print(np.arctan(mathData))\n",
    "psaVedCalculateInverse()"
   ]
  },
  {
   "cell_type": "code",
   "execution_count": null,
   "metadata": {
    "colab": {},
    "colab_type": "code",
    "id": "E0hkQUpXQS8j"
   },
   "outputs": [],
   "source": [
    "Q91. Write the NumPy program to calculate the difference between in neighbouring elements, element-wise of a given array?"
   ]
  },
  {
   "cell_type": "code",
   "execution_count": 38,
   "metadata": {},
   "outputs": [
    {
     "name": "stdout",
     "output_type": "stream",
     "text": [
      "[ 2  2  2 -7]\n"
     ]
    }
   ],
   "source": [
    "def psaVedDifferenceBetweenNeighbouring():\n",
    "    import numpy as np\n",
    "    x = np.array([1, 3, 5, 7, 0])\n",
    "    r1 = np.ediff1d(x)\n",
    "    print(r1)\n",
    "psaVedDifferenceBetweenNeighbouring()"
   ]
  },
  {
   "cell_type": "code",
   "execution_count": null,
   "metadata": {
    "colab": {},
    "colab_type": "code",
    "id": "x1jqyWVqQS8p"
   },
   "outputs": [],
   "source": [
    "Q92. Write the Python program to find the maximum and the minimum value of a given flattened array?"
   ]
  },
  {
   "cell_type": "code",
   "execution_count": 42,
   "metadata": {},
   "outputs": [
    {
     "name": "stdout",
     "output_type": "stream",
     "text": [
      "[[0 1 2 3 4]\n",
      " [5 6 7 8 9]]\n",
      "9\n",
      "0\n"
     ]
    }
   ],
   "source": [
    "def psaVedFindMinmumAndMaximum():\n",
    "    import numpy as np\n",
    "    flattenedArray = np.arange(10).reshape(2,5)\n",
    "    print(flattenedArray)\n",
    "    print(np.max(flattenedArray))\n",
    "    print(np.min(flattenedArray))\n",
    "psaVedFindMinmumAndMaximum()"
   ]
  },
  {
   "cell_type": "code",
   "execution_count": null,
   "metadata": {
    "colab": {},
    "colab_type": "code",
    "id": "lCFfSXzgQS85"
   },
   "outputs": [],
   "source": [
    "Q93. Write the NumPy program to calculate the difference between in the maximum and the minimum values of a given array \n",
    "along the second axis?"
   ]
  },
  {
   "cell_type": "code",
   "execution_count": 47,
   "metadata": {},
   "outputs": [
    {
     "name": "stdout",
     "output_type": "stream",
     "text": [
      "GIVEN ARRAY:-\n",
      "[[ 0  1  2  3]\n",
      " [ 4  5  6  7]\n",
      " [ 8  9 10 11]\n",
      " [12 13 14 15]]\n",
      "MAXIMUM VALUE OF SECOND ROW OF ARRAY:-\n",
      "7\n",
      "MINIMUM VALUE OF SECOND ROW OF ARRAY:-\n",
      "4\n",
      "DIFFRENCE BETWEEN MAXIMUM AND MINIMUM VALUE OF SECOND ROW OF ARRAY:-\n",
      "3\n"
     ]
    }
   ],
   "source": [
    "def psaVedCalculateDifferenceOfMaxNMinOfArrayAlongSecondAxis():\n",
    "    import numpy as np\n",
    "    givenArray = np.arange(16).reshape(4,4)\n",
    "    print('GIVEN ARRAY:-')\n",
    "    print(givenArray)\n",
    "    print('MAXIMUM VALUE OF SECOND ROW OF ARRAY:-')\n",
    "    print(np.max(givenArray[1]))\n",
    "    print('MINIMUM VALUE OF SECOND ROW OF ARRAY:-')\n",
    "    print(np.min(givenArray[1]))\n",
    "    print('DIFFRENCE BETWEEN MAXIMUM AND MINIMUM VALUE OF SECOND ROW OF ARRAY:-')\n",
    "    print(np.max(givenArray[1])-np.min(givenArray[1]))\n",
    "psaVedCalculateDifferenceOfMaxNMinOfArrayAlongSecondAxis()"
   ]
  },
  {
   "cell_type": "code",
   "execution_count": null,
   "metadata": {
    "colab": {},
    "colab_type": "code",
    "id": "CMob_BEkQS9A"
   },
   "outputs": [],
   "source": [
    "Q94. Write the NumPy program to compute the weighted of the given array?"
   ]
  },
  {
   "cell_type": "code",
   "execution_count": 49,
   "metadata": {},
   "outputs": [
    {
     "name": "stdout",
     "output_type": "stream",
     "text": [
      "[0 1 2 3 4]\n",
      "2.6666666666666665\n"
     ]
    }
   ],
   "source": [
    "def psaVedComputeWeighted():\n",
    "    import numpy as np\n",
    "    x = np.arange(5)\n",
    "    weights = np.arange(1, 6)\n",
    "    r1 = np.average(x, weights=weights)\n",
    "    r2 = (x*(weights/weights.sum())).sum()\n",
    "    assert np.allclose(r1, r2)\n",
    "    print(x)\n",
    "    print(r1)\n",
    "psaVedComputeWeighted()"
   ]
  },
  {
   "cell_type": "code",
   "execution_count": null,
   "metadata": {
    "colab": {},
    "colab_type": "code",
    "id": "tkIp6ARVQS9I"
   },
   "outputs": [],
   "source": [
    "Q95. Write the NumPy program to compute the mean, standard deviation, and the variance of a given array along the second axis?"
   ]
  },
  {
   "cell_type": "code",
   "execution_count": 18,
   "metadata": {},
   "outputs": [
    {
     "name": "stdout",
     "output_type": "stream",
     "text": [
      "sample array\n",
      "[0 1 2 3 4 5]\n",
      "mean\n",
      "2.5\n",
      "standard deviation\n",
      "1.8708286933869707\n",
      "variance\n",
      "3.5\n"
     ]
    }
   ],
   "source": [
    "def psaVedMeanSDVariance():\n",
    "    import numpy as np\n",
    "    import pandas as pd\n",
    "    import statistics \n",
    "    array95 = np.arange(6)\n",
    "    a1 = pd.Series(array95)\n",
    "    print('sample array')\n",
    "    print(array95)\n",
    "    print('mean')\n",
    "    print(a1.mean())\n",
    "    print('standard deviation')\n",
    "    print(statistics.stdev(a1))\n",
    "    print('variance')\n",
    "    print(statistics.variance(a1))\n",
    "psaVedMeanSDVariance()"
   ]
  },
  {
   "cell_type": "code",
   "execution_count": null,
   "metadata": {
    "colab": {},
    "colab_type": "code",
    "id": "lXgQp-XvQS9S"
   },
   "outputs": [],
   "source": [
    "Q96. Write the Numpy program to compute the covariance matrix of the two given arrays?"
   ]
  },
  {
   "cell_type": "code",
   "execution_count": 23,
   "metadata": {},
   "outputs": [
    {
     "name": "stdout",
     "output_type": "stream",
     "text": [
      "[[2.5 2.5]\n",
      " [2.5 2.5]]\n"
     ]
    }
   ],
   "source": [
    "#          k\n",
    "# G[i,j]=  E  h[u,v]F[i-u][j-v]\n",
    "#        u=-k\n",
    "def psaVedCovariance():\n",
    "    import numpy as np\n",
    "    arrayA = np.array([1,2,3,4,5])\n",
    "    arrayB = np.array([6,7,8,9,10])\n",
    "    print(np.cov(arrayA,arrayB))\n",
    "psaVedCovariance()"
   ]
  },
  {
   "cell_type": "code",
   "execution_count": null,
   "metadata": {
    "colab": {},
    "colab_type": "code",
    "id": "gCwJR_YIQS9X"
   },
   "outputs": [],
   "source": [
    "Q97. Write a NumPy program to compute the cross-correlation of two given arrays ?"
   ]
  },
  {
   "cell_type": "code",
   "execution_count": 21,
   "metadata": {},
   "outputs": [
    {
     "name": "stdout",
     "output_type": "stream",
     "text": [
      "     one  two\n",
      "one  1.0  1.0\n",
      "two  1.0  1.0\n"
     ]
    }
   ],
   "source": [
    "#          k\n",
    "# G[i,j]=  E  h[u,v]F[i+u][j+v]\n",
    "#        u=-k\n",
    "def psaVedCrossCorrelation():\n",
    "    import numpy as np\n",
    "    import pandas as pd\n",
    "    arrayA = np.array([1,2,3,4,5])\n",
    "    arrayB = np.array([6,7,8,9,10])\n",
    "    dataFrame = pd.DataFrame(data = {'one':arrayA,'two':arrayB})\n",
    "    print(dataFrame.corr())\n",
    "psaVedCrossCorrelation()"
   ]
  },
  {
   "cell_type": "code",
   "execution_count": null,
   "metadata": {
    "colab": {},
    "colab_type": "code",
    "id": "y8912nuzQS9b"
   },
   "outputs": [],
   "source": [
    "Q98. Write the NumPy program to compute Pearson product-moment correlation coefficients of two given arrays?"
   ]
  },
  {
   "cell_type": "code",
   "execution_count": 24,
   "metadata": {},
   "outputs": [
    {
     "name": "stdout",
     "output_type": "stream",
     "text": [
      "[[1. 1.]\n",
      " [1. 1.]]\n"
     ]
    }
   ],
   "source": [
    "def psaVedComputePersonProductMomentCorrelationCoefficient():\n",
    "    import numpy as np\n",
    "    arrayA = np.array([1,2,3,4,5])\n",
    "    arrayB = np.array([6,7,8,9,10])\n",
    "    print(np.corrcoef(arrayA,arrayB))\n",
    "psaVedComputePersonProductMomentCorrelationCoefficient()"
   ]
  },
  {
   "cell_type": "code",
   "execution_count": null,
   "metadata": {
    "colab": {},
    "colab_type": "code",
    "id": "-5LNYRc9QS9g"
   },
   "outputs": [],
   "source": [
    "Q99. Write the python program to count the number of occurrences of each value in a given array of non-negative integers?"
   ]
  },
  {
   "cell_type": "code",
   "execution_count": 41,
   "metadata": {},
   "outputs": [
    {
     "name": "stdout",
     "output_type": "stream",
     "text": [
      "[0, 3, 1, 2, 0, 1, 6, 3, 0, 8, 0, 3, 6]\n",
      "{0: 4, 1: 2, 2: 1, 3: 3, 6: 2, 8: 1}\n"
     ]
    }
   ],
   "source": [
    "def psaVedCountOfNonNegativeElement():\n",
    "    import numpy as np\n",
    "    arrayContainingNegative = [0,3,1,2,0,1,6,3,0,8,0,3,6]\n",
    "    dataDictionary = {}\n",
    "    for a in list(set(arrayContainingNegative)):\n",
    "        repeatation = 0\n",
    "        key = a\n",
    "        for b in arrayContainingNegative:\n",
    "            if key == b:\n",
    "                repeatation += 1\n",
    "            else:\n",
    "                pass\n",
    "        dataDictionary.__setitem__(key,repeatation)\n",
    "    print(arrayContainingNegative)\n",
    "    print(dataDictionary)\n",
    "psaVedCountOfNonNegativeElement()"
   ]
  },
  {
   "cell_type": "code",
   "execution_count": null,
   "metadata": {
    "colab": {},
    "colab_type": "code",
    "id": "bgfXQeMjQS9k"
   },
   "outputs": [],
   "source": [
    "Q100. Write a Numpy program to compute the histogram of nums against the bins?"
   ]
  },
  {
   "cell_type": "code",
   "execution_count": 48,
   "metadata": {},
   "outputs": [
    {
     "data": {
      "image/png": "[encoded data removed]",
      "text/plain": [
       "<Figure size 432x288 with 1 Axes>"
      ]
     },
     "metadata": {
      "needs_background": "light"
     },
     "output_type": "display_data"
    }
   ],
   "source": [
    "def psaVedComputeHistogramAgainstBins():\n",
    "    import numpy as np\n",
    "    import matplotlib.pyplot as plt\n",
    "    xAxis = np.array([1.2,2.3,1.6,3.5,6.4,3.5,6.8,6.9,10.5])\n",
    "    yAxis = np.array([1,2,3,4,5])\n",
    "    plt.hist(xAxis,bins=yAxis)\n",
    "    plt.show()\n",
    "psaVedComputeHistogramAgainstBins()"
   ]
  },
  {
   "cell_type": "code",
   "execution_count": null,
   "metadata": {
    "colab": {},
    "colab_type": "code",
    "id": "jleDIJBxQS9o"
   },
   "outputs": [],
   "source": [
    "Q101. Write the Python program to add, subtract, multiplyand divide two pandas series?\n",
    "Sample Series- [2, 4, 6, 8, 10], [1, 3, 5, 7, 9]"
   ]
  },
  {
   "cell_type": "code",
   "execution_count": 1,
   "metadata": {},
   "outputs": [
    {
     "name": "stdout",
     "output_type": "stream",
     "text": [
      "ADDITION---\n",
      "   addResult\n",
      "0          3\n",
      "1          7\n",
      "2         11\n",
      "3         15\n",
      "4         19\n",
      "SUBSTRACTION---\n",
      "   subResult\n",
      "0          1\n",
      "1          1\n",
      "2          1\n",
      "3          1\n",
      "4          1\n",
      "multiplication---\n",
      "   mulResult\n",
      "0          2\n",
      "1         12\n",
      "2         30\n",
      "3         56\n",
      "4         90\n",
      "DIVISION---\n",
      "   divResult\n",
      "0   2.000000\n",
      "1   1.333333\n",
      "2   1.200000\n",
      "3   1.142857\n",
      "4   1.111111\n"
     ]
    }
   ],
   "source": [
    "def psaVedMathsOperations():\n",
    "    import pandas as pd\n",
    "    one = pd.DataFrame([2, 4, 6, 8, 10])\n",
    "    two = pd.DataFrame([1, 3, 5, 7, 9])\n",
    "    print('ADDITION---')\n",
    "    addresult = one+two\n",
    "    addresult.columns = ['addResult']\n",
    "    print(addresult)\n",
    "    print('SUBSTRACTION---')\n",
    "    subResult = one-two\n",
    "    subResult.columns = ['subResult']\n",
    "    print(subResult)\n",
    "    print('multiplication---')\n",
    "    mulResult = one*two\n",
    "    mulResult.columns = ['mulResult']\n",
    "    print(mulResult)\n",
    "    print('DIVISION---')\n",
    "    divResult = one/two\n",
    "    divResult.columns = ['divResult']\n",
    "    print(divResult)\n",
    "psaVedMathsOperations()"
   ]
  },
  {
   "cell_type": "code",
   "execution_count": null,
   "metadata": {
    "colab": {},
    "colab_type": "code",
    "id": "aS4lLWXJQS9r"
   },
   "outputs": [],
   "source": [
    "Q102. Write a Python program to convert a dictionary to thePandas Series?\n",
    "Sample SeriesOriginal dictionary-\n",
    "{'a': 100, 'b': 200, 'c': 300, 'd': 400, 'e': 800}\n",
    "Converted series -\n",
    "a 100\n",
    "b 200\n",
    "c 300\n",
    "d 400\n",
    "e 800\n",
    "dtype- int64"
   ]
  },
  {
   "cell_type": "code",
   "execution_count": 2,
   "metadata": {},
   "outputs": [
    {
     "name": "stdout",
     "output_type": "stream",
     "text": [
      "a    100\n",
      "b    200\n",
      "c    300\n",
      "d    400\n",
      "e    800\n",
      "dtype: int64\n"
     ]
    }
   ],
   "source": [
    "def psaVedDictionaryToSeries():\n",
    "    import pandas as pd\n",
    "    sampleDictionary = {'a': 100, 'b': 200, 'c': 300, 'd': 400, 'e': 800}\n",
    "    convertedSeries = pd.Series(sampleDictionary)\n",
    "    print(convertedSeries)\n",
    "psaVedDictionaryToSeries()"
   ]
  },
  {
   "cell_type": "code",
   "execution_count": null,
   "metadata": {
    "colab": {},
    "colab_type": "code",
    "id": "cHey5thNQS9v"
   },
   "outputs": [],
   "source": [
    "Q103. Write a python program to change the data typeof given a column or a Series?\n",
    "Sample SeriesOriginal Data Series0 100\n",
    "    1 200\n",
    "    2 python\n",
    "    3 300.12\n",
    "    4 400\n",
    "    dtype- object\n",
    "    Change the said data type to numeric0 100.00\n",
    "    1 200.00\n",
    "    2 NaN\n",
    "    3 300.12\n",
    "    4 400.00\n",
    "    dtype- float64"
   ]
  },
  {
   "cell_type": "code",
   "execution_count": 3,
   "metadata": {},
   "outputs": [
    {
     "name": "stdout",
     "output_type": "stream",
     "text": [
      "        0\n",
      "0     200\n",
      "1  python\n",
      "2  300.12\n",
      "3     400\n",
      "0    object\n",
      "dtype: object\n",
      "        0\n",
      "0  200.00\n",
      "1     NaN\n",
      "2  300.12\n",
      "3  400.00\n"
     ]
    }
   ],
   "source": [
    "def psaVedChangeDataType():\n",
    "    import numpy as np\n",
    "    import pandas as pd\n",
    "    sampleData = pd.DataFrame(['200','python','300.12','400'])\n",
    "    print(sampleData)\n",
    "    print(sampleData.dtypes)\n",
    "    print(pd.DataFrame(pd.to_numeric(['200','python','300.12','400'], errors='coerce')))\n",
    "psaVedChangeDataType()"
   ]
  },
  {
   "cell_type": "code",
   "execution_count": null,
   "metadata": {
    "colab": {},
    "colab_type": "code",
    "id": "NLXGIaC2QS90"
   },
   "outputs": [],
   "source": [
    "Q104. Write the python pandas program to convert the first column of a DataFrame as a Series?\n",
    "Sample OutputOriginal DataFramecol1 col2 col3\n",
    "0 1 4 7\n",
    "1 2 5 5\n",
    "2 3 6 8\n",
    "3 4 9 12\n",
    "4 7 5 1\n",
    "5 11 0 11\n",
    "1st column as a Series0 1\n",
    "1 2\n",
    "2 3\n",
    "3 4\n",
    "4 7\n",
    "5 11\n",
    "Name- col1, dtype- int64\n",
    "<class 'pandas.core.series.Series'>"
   ]
  },
  {
   "cell_type": "code",
   "execution_count": 19,
   "metadata": {},
   "outputs": [
    {
     "name": "stdout",
     "output_type": "stream",
     "text": [
      "    0   1   2\n",
      "0   0   1   2\n",
      "1   3   4   5\n",
      "2   6   7   8\n",
      "3   9  10  11\n",
      "4  12  13  14\n",
      "----selected column-----\n",
      "0     0\n",
      "1     3\n",
      "2     6\n",
      "3     9\n",
      "4    12\n",
      "Name: 0, dtype: int32\n"
     ]
    }
   ],
   "source": [
    "def psaVedFirstColumnToSeries():\n",
    "    import numpy as np\n",
    "    import pandas as pd\n",
    "    sampleData = pd.DataFrame(np.arange(15).reshape(5,3))\n",
    "    print(sampleData)\n",
    "    print('----selected column-----')\n",
    "    print(sampleData.iloc[:,0])\n",
    "psaVedFirstColumnToSeries()"
   ]
  },
  {
   "cell_type": "code",
   "execution_count": null,
   "metadata": {
    "colab": {},
    "colab_type": "code",
    "id": "U7q65HlCQS94"
   },
   "outputs": [],
   "source": [
    "Q105. Write a pandas program to create the mean and standard deviation of the data of a given Series?\n",
    "Sample Output Original Data Series0 1\n",
    "1 2\n",
    "2 3\n",
    "3 4\n",
    "4 5\n",
    "5 6\n",
    "6 7\n",
    "7 8\n",
    "8 9\n",
    "9 5\n",
    "10 3\n",
    "dtype- int64\n",
    "Mean of the said Data Series4.81818181818\n",
    "Standard deviation of the said Data Series2.52262489555"
   ]
  },
  {
   "cell_type": "code",
   "execution_count": 27,
   "metadata": {},
   "outputs": [
    {
     "name": "stdout",
     "output_type": "stream",
     "text": [
      "----SAMPLE SERIES----\n",
      "0    0\n",
      "1    1\n",
      "2    2\n",
      "3    3\n",
      "4    4\n",
      "5    5\n",
      "6    6\n",
      "7    7\n",
      "8    8\n",
      "9    9\n",
      "dtype: int32\n",
      "----CALCULATE MEAN----\n",
      "4.5\n",
      "----CALCULATE STANDARD DEVIATION----\n",
      "3.0276503540974917\n"
     ]
    }
   ],
   "source": [
    "def psaVedCalculateMeanAndSD():\n",
    "    import numpy as np\n",
    "    import pandas as pd\n",
    "    sampleSeries = pd.Series(np.arange(10))\n",
    "    print('----SAMPLE SERIES----')\n",
    "    print(sampleSeries)\n",
    "    print('----CALCULATE MEAN----')\n",
    "    print(sampleSeries.mean())\n",
    "    print('----CALCULATE STANDARD DEVIATION----')\n",
    "    print(sampleSeries.std())\n",
    "psaVedCalculateMeanAndSD()"
   ]
  },
  {
   "cell_type": "code",
   "execution_count": null,
   "metadata": {
    "colab": {},
    "colab_type": "code",
    "id": "UJYMT_sjQS98"
   },
   "outputs": [],
   "source": [
    "Q106. Write a pandas program to get powers of an array values element-wise?\n",
    "Note First array elements raised the powers from the second array.\n",
    "\n",
    "Sample data: {'X ':[78,85,96,80,86], ' Y ':[84,94,89,83,86],'Z':[86,97,96,72,83]}\n",
    "Expected Output:\n",
    "X Y Z\n",
    "0 78 84 86\n",
    "1 85 94 97\n",
    "2 96 89 96\n",
    "3 80 83 72\n",
    "4 86 86 83"
   ]
  },
  {
   "cell_type": "code",
   "execution_count": 1,
   "metadata": {},
   "outputs": [
    {
     "name": "stdout",
     "output_type": "stream",
     "text": [
      "   X    Y    Z\n",
      "0  78   84  86\n",
      "1  85   94  97\n",
      "2  96   89  96\n",
      "3  80   83  72\n",
      "4  86   86  83\n"
     ]
    }
   ],
   "source": [
    "def psaVedGetPowers():\n",
    "    import numpy as np\n",
    "    import pandas as pd\n",
    "    sampleData = pd.DataFrame({'X ':[78,85,96,80,86], ' Y ':[84,94,89,83,86],'Z':[86,97,96,72,83]})\n",
    "    print(sampleData)\n",
    "psaVedGetPowers()"
   ]
  },
  {
   "cell_type": "code",
   "execution_count": null,
   "metadata": {
    "colab": {},
    "colab_type": "code",
    "id": "d3FfNKdEQS-G"
   },
   "outputs": [],
   "source": [
    "Q107. Write the pandas program to get the first 3 rows of a given DataFrame?\n",
    "Sample Python dictionary data and list labels exam_data = {'name': ['Anastasia', 'Dima', 'Katherine', 'James', 'Emily', 'Michael',\n",
    "'Matthew', 'Laura', 'Kevin', 'Jonas'],\n",
    "'score': [12.5, 9, 16.5, np.nan, 9, 20, 14.5, np.nan, 8, 19],\n",
    "'attempts'- [1, 3, 2, 3, 2, 3, 1, 1, 2, 1],\n",
    "'qualify'- [ 'yes', 'no', 'yes' , 'no', ' no ', ' yes ', 'yes', 'no', 'no', 'yes' ] }\n",
    "labels = ['a', 'b', 'c', 'd', 'e', 'f', 'g', 'h', 'i', 'j' ]\n",
    "Expected Output First three rows of the data frameattempts name qualify score\n",
    "a 1 Anastasia yes 12.5\n",
    "b 3 Dima no 9.0\n",
    "c 2 Katherine yes 16.5"
   ]
  },
  {
   "cell_type": "code",
   "execution_count": 5,
   "metadata": {},
   "outputs": [
    {
     "name": "stdout",
     "output_type": "stream",
     "text": [
      "        name  score  attempts qualify\n",
      "a  Anastasia   12.5         1     yes\n",
      "b       Dima    9.0         3      no\n",
      "c  Katherine   16.5         2     yes\n"
     ]
    }
   ],
   "source": [
    "def psaVedFirstRow():\n",
    "    import numpy as np\n",
    "    import pandas as pd\n",
    "    sampleDataFrame = pd.DataFrame({\n",
    "        'name': ['Anastasia', 'Dima', 'Katherine', 'James', 'Emily', 'Michael','Matthew', 'Laura', 'Kevin', 'Jonas'],\n",
    "        'score': [12.5, 9, 16.5, np.nan, 9, 20, 14.5, np.nan, 8, 19],\n",
    "        'attempts': [1, 3, 2, 3, 2, 3, 1, 1, 2, 1],\n",
    "        'qualify': [ 'yes', 'no', 'yes' , 'no', ' no ', ' yes ', 'yes', 'no', 'no', 'yes' ] })\n",
    "    sampleDataFrame.index = ['a', 'b', 'c', 'd', 'e', 'f', 'g', 'h', 'i', 'j' ]\n",
    "    print(sampleDataFrame.head(3))\n",
    "psaVedFirstRow()"
   ]
  },
  {
   "cell_type": "code",
   "execution_count": null,
   "metadata": {
    "colab": {},
    "colab_type": "code",
    "id": "SCl6vMWeQS-L"
   },
   "outputs": [],
   "source": [
    "Q108: Write the pandas program to select the specified columns andthe rows from a given data frame?\n",
    "    Sample Python dictionary data and list labelsSelect 'name' and 'score' columns in rows 1, 3, 5, 6 from the following data frame.\n",
    "exam_data = {'name ': [ 'Anastasia', 'Dima', 'Katherine', 'James', 'Emily', 'Michael',\n",
    "'Matthew', 'Laura', 'Kevin', 'Jonas'],\n",
    "'score'- [12.5, 9, 16.5, np.nan, 9, 20, 14.5, np.nan, 8, 19],\n",
    "'attempts'- [1, 3, 2, 3, 2, 3, 1, 1, 2, 1],\n",
    "'qualify'- ['yes', 'no', 'yes', 'no', 'no', 'yes', 'yes', 'no', 'no', 'yes'] }\n",
    "labels = ['a ', ' b ', ' c ', ' d ', ' e ', ' f ', ' g ', 'h', 'i', 'j']\n",
    "Expected OutputSelect specific columns and rowsname score\n",
    "b Dima 9.0\n",
    "d James NaN\n",
    "f Michael 20.0\n",
    "g Matthew 14.5"
   ]
  },
  {
   "cell_type": "code",
   "execution_count": 30,
   "metadata": {},
   "outputs": [
    {
     "name": "stdout",
     "output_type": "stream",
     "text": [
      "         name   score  attempts qualify\n",
      "a    Anastasia   12.5         1     yes\n",
      " b        Dima    9.0         3      no\n",
      " c   Katherine   16.5         2     yes\n",
      " d       James    NaN         3      no\n",
      " e       Emily    9.0         2      no\n",
      " f     Michael   20.0         3     yes\n",
      " g     Matthew   14.5         1     yes\n",
      "h        Laura    NaN         1      no\n",
      "i        Kevin    8.0         2      no\n",
      "j        Jonas   19.0         1     yes\n",
      "----SELECTED DATA-----\n",
      "       name   score\n",
      " b      Dima    9.0\n",
      " d     James    NaN\n",
      " f   Michael   20.0\n",
      " g   Matthew   14.5\n"
     ]
    }
   ],
   "source": [
    "def psaVedSelectSpecifiedColumn():\n",
    "    import numpy as np\n",
    "    import pandas as pd\n",
    "    sampleData = pd.DataFrame({\n",
    "        'name ': [ 'Anastasia', 'Dima', 'Katherine', 'James', 'Emily', 'Michael','Matthew', 'Laura', 'Kevin', 'Jonas'],\n",
    "        'score': [12.5, 9, 16.5, np.nan, 9, 20, 14.5, np.nan, 8, 19],\n",
    "        'attempts': [1, 3, 2, 3, 2, 3, 1, 1, 2, 1],\n",
    "        'qualify': ['yes', 'no', 'yes', 'no', 'no', 'yes', 'yes', 'no', 'no', 'yes'] })\n",
    "    sampleData.index = ['a ', ' b ', ' c ', ' d ', ' e ', ' f ', ' g ', 'h', 'i', 'j']\n",
    "    print(sampleData)\n",
    "    print('----SELECTED DATA-----')\n",
    "    print(sampleData.iloc[[1,3,5,6],:2])\n",
    "psaVedSelectSpecifiedColumn()"
   ]
  },
  {
   "cell_type": "code",
   "execution_count": null,
   "metadata": {
    "colab": {},
    "colab_type": "code",
    "id": "qK7nBt73QS-U"
   },
   "outputs": [],
   "source": [
    "Q109. Write the pandas program to calculate mean score for each different student in DataFrame?\n",
    "Sample Python dictionary data and list labelsexam_data = {'name': ['Anastasia', 'Dima', 'Katherine', 'James', 'Emily', 'Michael',\n",
    "'Matthew', 'Laura', 'Kevin', 'Jonas'],\n",
    "'score': [12.5, 9, 16.5, np.nan, 9, 20, 14.5, np.nan, 8, 19],\n",
    "'attempts'- [1, 3, 2, 3, 2, 3, 1, 1, 2, 1],\n",
    "'qualify'- ['yes', 'no', ' yes ', ' no ', ' no ', ' yes ', ' yes ', ' no ', ' no ', ' yes '] }\n",
    "labels = ['a', 'b', 'c', 'd', 'e', 'f', 'g', 'h', 'i', 'j']\n",
    "Expected OutputMean score for each different student in data frame:\n",
    "13.5625"
   ]
  },
  {
   "cell_type": "code",
   "execution_count": 34,
   "metadata": {},
   "outputs": [
    {
     "name": "stdout",
     "output_type": "stream",
     "text": [
      "        name  score  attempts qualify\n",
      "a  Anastasia   12.5         1     yes\n",
      "b       Dima    9.0         3      no\n",
      "c  Katherine   16.5         2    yes \n",
      "d      James    NaN         3     no \n",
      "e      Emily    9.0         2     no \n",
      "f    Michael   20.0         3    yes \n",
      "g    Matthew   14.5         1    yes \n",
      "h      Laura    NaN         1     no \n",
      "i      Kevin    8.0         2     no \n",
      "j      Jonas   19.0         1    yes \n",
      "-----SCORE DATA----\n",
      "a    12.5\n",
      "b     9.0\n",
      "c    16.5\n",
      "d     NaN\n",
      "e     9.0\n",
      "f    20.0\n",
      "g    14.5\n",
      "h     NaN\n",
      "i     8.0\n",
      "j    19.0\n",
      "Name: score, dtype: float64\n",
      "-----CALCULATED----\n",
      "13.5625\n"
     ]
    }
   ],
   "source": [
    "def psaVedCalculateMeanScore():\n",
    "    import numpy as np\n",
    "    import pandas as pd\n",
    "    labelsexam_data = pd.DataFrame({\n",
    "        'name': ['Anastasia', 'Dima', 'Katherine', 'James', 'Emily', 'Michael','Matthew', 'Laura', 'Kevin', 'Jonas'],\n",
    "        'score': [12.5, 9, 16.5, np.nan, 9, 20, 14.5, np.nan, 8, 19],\n",
    "        'attempts': [1, 3, 2, 3, 2, 3, 1, 1, 2, 1],\n",
    "        'qualify': ['yes', 'no', ' yes ', ' no ', ' no ', ' yes ', ' yes ', ' no ', ' no ', ' yes '] })\n",
    "    labelsexam_data.index = ['a', 'b', 'c', 'd', 'e', 'f', 'g', 'h', 'i', 'j']\n",
    "    scoreData = labelsexam_data['score']\n",
    "    print(labelsexam_data)\n",
    "    print('-----SCORE DATA----')\n",
    "    print(scoreData)\n",
    "    print('-----CALCULATED MEAN----')\n",
    "    print(scoreData.mean())\n",
    "psaVedCalculateMeanScore()"
   ]
  },
  {
   "cell_type": "code",
   "execution_count": null,
   "metadata": {
    "colab": {},
    "colab_type": "code",
    "id": "GcVIfr-ZQS-Z"
   },
   "outputs": [],
   "source": [
    "Q110. Write the Pandas program to rename columns of a given DataFrame?\n",
    "Sample dataOriginal data frame\n",
    "col1 col2 col3\n",
    "0 1 4 7\n",
    "1 2 5 8\n",
    "2 3 6 9\n",
    "New data frame after renaming columns:\n",
    "Column1 Column2 Column3\n",
    "0 1 4 7\n",
    "1 2 5 8\n",
    "2 3 6 9"
   ]
  },
  {
   "cell_type": "code",
   "execution_count": 36,
   "metadata": {},
   "outputs": [
    {
     "name": "stdout",
     "output_type": "stream",
     "text": [
      "   Col1  Col2  Col3  Col4\n",
      "0     0     1     2     3\n",
      "1     4     5     6     7\n",
      "2     8     9    10    11\n",
      "3    12    13    14    15\n",
      "   Column1  Column2  Column3  Column4\n",
      "0        0        1        2        3\n",
      "1        4        5        6        7\n",
      "2        8        9       10       11\n",
      "3       12       13       14       15\n"
     ]
    }
   ],
   "source": [
    "def psaVedRenameColumn():\n",
    "    import numpy as np\n",
    "    import pandas as pd\n",
    "    sampleData = pd.DataFrame(np.arange(16).reshape(4,4))\n",
    "    sampleData.columns = ['Col1','Col2','Col3','Col4']\n",
    "    print(sampleData)\n",
    "    sampleData.columns = ['Column1','Column2','Column3','Column4']\n",
    "    print(sampleData)\n",
    "psaVedRenameColumn()"
   ]
  },
  {
   "cell_type": "code",
   "execution_count": null,
   "metadata": {
    "colab": {},
    "colab_type": "code",
    "id": "27XSWz0xQS-d"
   },
   "outputs": [],
   "source": [
    "Q111. Write a pandas program to count city-wise number of people from a given of data set (city,name of the person)?\n",
    "Sample data-\n",
    "city Number of people\n",
    "0 California 4\n",
    "1 Georgia 2\n",
    "2 Los Angeles 4"
   ]
  },
  {
   "cell_type": "code",
   "execution_count": null,
   "metadata": {
    "colab": {},
    "colab_type": "code",
    "id": "MXYyemCMQS-i"
   },
   "outputs": [],
   "source": [
    "Q112. Write a pandas program to widen output display to see more columns?\n",
    "Sample dataOriginal data frame\n",
    "col1 col2 col3\n",
    "0 1 4 7\n",
    "1 4 5 8\n",
    "2 3 6 9\n",
    "3 4 7 0\n",
    "4 5 8 1"
   ]
  },
  {
   "cell_type": "code",
   "execution_count": 41,
   "metadata": {},
   "outputs": [
    {
     "name": "stdout",
     "output_type": "stream",
     "text": [
      "   col1  col2  col3\n",
      "0     1     4     7\n",
      "1     4     5     8\n",
      "2     3     6     9\n",
      "3     4     7     0\n",
      "4     5     8     1\n"
     ]
    }
   ],
   "source": [
    "def psaVedOutputDisplay():\n",
    "    import pandas as pd\n",
    "    sampleData = pd.DataFrame({'col1': [1, 4, 3, 4, 5], 'col2': [4, 5, 6, 7, 8], 'col3': [7, 8, 9, 0, 1]})\n",
    "    print(sampleData)\n",
    "psaVedOutputDisplay()"
   ]
  },
  {
   "cell_type": "code",
   "execution_count": null,
   "metadata": {
    "colab": {},
    "colab_type": "code",
    "id": "Ilaqt44pQS-n"
   },
   "outputs": [],
   "source": [
    "Q113. Write a pandas program to convert the dataframe column type from string to DateTime?\n",
    "Sample dataString Date0 3/11/2000\n",
    "1 3/12/2000\n",
    "2 3/13/2000\n",
    "dtype- object\n",
    "Original DataFrame (string to datetime)-\n",
    "0\n",
    "0 2000-03-11\n",
    "1 2000-03-12\n",
    "2 2000-03-13"
   ]
  },
  {
   "cell_type": "code",
   "execution_count": 40,
   "metadata": {},
   "outputs": [
    {
     "name": "stdout",
     "output_type": "stream",
     "text": [
      "String Date:\n",
      "0    3/11/2000\n",
      "1    3/12/2000\n",
      "2    3/13/2000\n",
      "dtype: object\n",
      "           0\n",
      "0 2000-03-11\n",
      "1 2000-03-12\n",
      "2 2000-03-13\n"
     ]
    }
   ],
   "source": [
    "def psaVedConvertDataFrame():\n",
    "    import pandas as pd\n",
    "    startDate = pd.Series(['3/11/2000', '3/12/2000', '3/13/2000'])\n",
    "    print(\"String Date:\")\n",
    "    print(startDate)\n",
    "    r = pd.to_datetime(pd.Series(startDate))\n",
    "    df = pd.DataFrame(r)\n",
    "    print(df)\n",
    "psaVedConvertDataFrame()"
   ]
  },
  {
   "cell_type": "code",
   "execution_count": null,
   "metadata": {
    "colab": {},
    "colab_type": "code",
    "id": "uIF9rD4FQS-q"
   },
   "outputs": [],
   "source": [
    "Q114. Write a pandas program to append the data to an empty DataFrame?\n",
    "Sample dataOriginal DataFrame- After appending some data: col1 col2 0 0 0 1 1 1 2 2 2"
   ]
  },
  {
   "cell_type": "code",
   "execution_count": 45,
   "metadata": {},
   "outputs": [
    {
     "name": "stdout",
     "output_type": "stream",
     "text": [
      "        name  score  attempts qualify\n",
      "0  Anastasia   12.5         1     yes\n",
      "1       Dima    9.0         3      no\n",
      "2  Katherine   16.5         2    yes \n",
      "3      James    1.0         3     no \n",
      "4      Emily    9.0         2     no \n",
      "5    Michael   20.0         3    yes \n",
      "6    Matthew   14.5         1    yes \n",
      "7      Laura    2.0         1     no \n",
      "8      Kevin    8.0         2     no \n",
      "9      Jonas   19.0         1    yes \n"
     ]
    }
   ],
   "source": [
    "def psaVedDataAppend():\n",
    "    import pandas as pd\n",
    "    sampleFirstDataFrame = pd.DataFrame()\n",
    "    mainData = pd.DataFrame({\n",
    "        'name': ['Anastasia', 'Dima', 'Katherine', 'James', 'Emily', 'Michael','Matthew', 'Laura', 'Kevin', 'Jonas'],\n",
    "        'score': [12.5, 9, 16.5, 1, 9, 20, 14.5, 2, 8, 19],\n",
    "        'attempts': [1, 3, 2, 3, 2, 3, 1, 1, 2, 1],\n",
    "        'qualify': ['yes', 'no', ' yes ', ' no ', ' no ', ' yes ', ' yes ', ' no ', ' no ', ' yes '] })\n",
    "    print(sampleFirstDataFrame.append(mainData))\n",
    "psaVedDataAppend()"
   ]
  },
  {
   "cell_type": "code",
   "execution_count": null,
   "metadata": {
    "colab": {},
    "colab_type": "code",
    "id": "IkfZ7Le7QS-2"
   },
   "outputs": [],
   "source": [
    "Q115. Write a pandas program to count the number of columns of a DataFrame?\n",
    "Sample OutputOriginal DataFrame\n",
    "col1 col2 col3\n",
    "0 1 4 7\n",
    "1 2 5 8\n",
    "2 3 6 12\n",
    "3 4 9 1\n",
    "4 7 5 11\n",
    "Number of columns- 3"
   ]
  },
  {
   "cell_type": "code",
   "execution_count": 51,
   "metadata": {},
   "outputs": [
    {
     "name": "stdout",
     "output_type": "stream",
     "text": [
      "        name  score  attempts qualify\n",
      "0  Anastasia   12.5         1     yes\n",
      "1       Dima    9.0         3      no\n",
      "2  Katherine   16.5         2    yes \n",
      "3      James    1.0         3     no \n",
      "4      Emily    9.0         2     no \n",
      "5    Michael   20.0         3    yes \n",
      "6    Matthew   14.5         1    yes \n",
      "7      Laura    2.0         1     no \n",
      "8      Kevin    8.0         2     no \n",
      "9      Jonas   19.0         1    yes \n",
      "----COLUMN COUNT----\n",
      "4\n"
     ]
    }
   ],
   "source": [
    "def psaVedColumnCount():\n",
    "    import pandas as pd\n",
    "    sampleDataFrame = pd.DataFrame({\n",
    "        'name': ['Anastasia', 'Dima', 'Katherine', 'James', 'Emily', 'Michael','Matthew', 'Laura', 'Kevin', 'Jonas'],\n",
    "        'score': [12.5, 9, 16.5, 1, 9, 20, 14.5, 2, 8, 19],\n",
    "        'attempts': [1, 3, 2, 3, 2, 3, 1, 1, 2, 1],\n",
    "        'qualify': ['yes', 'no', ' yes ', ' no ', ' no ', ' yes ', ' yes ', ' no ', ' no ', ' yes '] })\n",
    "    print(sampleDataFrame)\n",
    "    print('----COLUMN COUNT----')\n",
    "    print(len(sampleDataFrame.columns))\n",
    "psaVedColumnCount()"
   ]
  },
  {
   "cell_type": "code",
   "execution_count": null,
   "metadata": {
    "colab": {},
    "colab_type": "code",
    "id": "qOmHAhLyQS_D"
   },
   "outputs": [],
   "source": [
    "Q116. Write a Pandas program to remove the last n rows of a given DataFrame ?\n",
    "Sample Output:\n",
    "Original DataFrame\n",
    "col1 col2 col3\n",
    "0 1 4 7\n",
    "1 2 5 5\n",
    "2 3 6 8\n",
    "3 4 9 12\n",
    "4 7 5 1\n",
    "5 11 0 11\n",
    "After removing last 3 rows of the said DataFramecol1 col2 col3\n",
    "0 1 4 7\n",
    "1 2 5 5\n",
    "2 3 6 8\n",
    "\n",
    " Link for Datasets\n",
    " (https://drive.google.com/drive/folders/105ftuIwN9kqyPNEEm3E6IM7LqywjyvJa?usp=sharing)"
   ]
  },
  {
   "cell_type": "code",
   "execution_count": 60,
   "metadata": {},
   "outputs": [
    {
     "name": "stdout",
     "output_type": "stream",
     "text": [
      "        name  score  attempts qualify\n",
      "0  Anastasia   12.5         1     yes\n",
      "1       Dima    9.0         3      no\n",
      "2  Katherine   16.5         2    yes \n",
      "3      James    1.0         3     no \n",
      "4      Emily    9.0         2     no \n",
      "5    Michael   20.0         3    yes \n",
      "6    Matthew   14.5         1    yes \n",
      "7      Laura    2.0         1     no \n",
      "8      Kevin    8.0         2     no \n",
      "9      Jonas   19.0         1    yes \n",
      "----after removal-----\n",
      "        name  score  attempts qualify\n",
      "0  Anastasia   12.5         1     yes\n",
      "1       Dima    9.0         3      no\n",
      "2  Katherine   16.5         2    yes \n",
      "3      James    1.0         3     no \n",
      "4      Emily    9.0         2     no \n"
     ]
    }
   ],
   "source": [
    "def psaVedRemoveLastNRow():\n",
    "    import pandas as pd\n",
    "    sampleDataFrame = pd.DataFrame({\n",
    "        'name': ['Anastasia', 'Dima', 'Katherine', 'James', 'Emily', 'Michael','Matthew', 'Laura', 'Kevin', 'Jonas'],\n",
    "        'score': [12.5, 9, 16.5, 1, 9, 20, 14.5, 2, 8, 19],\n",
    "        'attempts': [1, 3, 2, 3, 2, 3, 1, 1, 2, 1],\n",
    "        'qualify': ['yes', 'no', ' yes ', ' no ', ' no ', ' yes ', ' yes ', ' no ', ' no ', ' yes '] })\n",
    "    print(sampleDataFrame)\n",
    "    print('----after removal-----')\n",
    "    print(sampleDataFrame.drop([5,6,7,8,9], axis=0))\n",
    "psaVedRemoveLastNRow()"
   ]
  },
  {
   "cell_type": "code",
   "execution_count": null,
   "metadata": {
    "colab": {},
    "colab_type": "code",
    "id": "GnoeEn6iQS_L"
   },
   "outputs": [],
   "source": [
    "Q117. Write a Pandas program to import excel data (coalpublic2013.xlsx ) into a Pandas dataframe."
   ]
  },
  {
   "cell_type": "code",
   "execution_count": 63,
   "metadata": {},
   "outputs": [
    {
     "name": "stdout",
     "output_type": "stream",
     "text": [
      "   Year  MSHA ID                       Mine_Name  Production  Labor_Hours\n",
      "0  2013   103381            Tacoa Highwall Miner       56004        22392\n",
      "1  2013   103404                Reid School Mine       28807        28447\n",
      "2  2013   100759  North River #1 Underground Min     1440115       474784\n",
      "3  2013   103246                      Bear Creek       87587        29193\n",
      "4  2013   103451                     Knight Mine      147499        46393\n"
     ]
    }
   ],
   "source": [
    "def psaVedExcelRead():\n",
    "    import pandas as pd\n",
    "    print(pd.DataFrame(pd.read_excel('coalpublic2013.xlsx').head()))\n",
    "psaVedExcelRead()"
   ]
  },
  {
   "cell_type": "code",
   "execution_count": null,
   "metadata": {
    "colab": {},
    "colab_type": "code",
    "id": "p0JcCWOMQS_R"
   },
   "outputs": [],
   "source": [
    "Q118. Write a Pandas program to import excel data (coalpublic2013.xlsx ) into a dataframe and find details \n",
    "where \"Mine Name\" starts with \"P."
   ]
  },
  {
   "cell_type": "code",
   "execution_count": 82,
   "metadata": {},
   "outputs": [
    {
     "name": "stdout",
     "output_type": "stream",
     "text": [
      "    Year  MSHA ID                      Mine_Name  Production  Labor_Hours\n",
      "13  2013   103332                  Powhatan Mine      140521        61394\n",
      "18  2013   102976  Piney Woods Preparation Plant           0        14828\n",
      "19  2013   102976  Piney Woods Preparation Plant           0        23193\n",
      "46  2013   103321                 Poplar Springs      189370        76366\n"
     ]
    }
   ],
   "source": [
    "def psaVedImportExcel():\n",
    "    import pandas as pd\n",
    "    excelData = pd.read_excel('coalpublic2013.xlsx')\n",
    "    print(excelData[excelData['Mine_Name'].str.startswith('P')])\n",
    "psaVedImportExcel()"
   ]
  },
  {
   "cell_type": "code",
   "execution_count": null,
   "metadata": {
    "colab": {},
    "colab_type": "code",
    "id": "QqIC-wQEQS_b"
   },
   "outputs": [],
   "source": [
    "Q119. Write a Pandas program to import excel data (employee.xlsx )into a Pandas dataframe and find the list of \n",
    "employees where hire_date > 01-01-07."
   ]
  },
  {
   "cell_type": "code",
   "execution_count": 86,
   "metadata": {},
   "outputs": [
    {
     "name": "stdout",
     "output_type": "stream",
     "text": [
      "    emp_id first_name   last_name  hire_date\n",
      "4      104      Bruce       Ernst 2007-05-21\n",
      "7      107      Diana     Lorentz 2007-02-07\n",
      "13     113       Luis        Popp 2007-12-07\n",
      "19     119      Karen  Colmenares 2007-08-10\n"
     ]
    }
   ],
   "source": [
    "def psaVedFindDataOnHireDate():\n",
    "    import pandas as pd\n",
    "    excelData = pd.read_excel('employee.xlsx')\n",
    "    print(excelData[excelData['hire_date'] > '01-01-07'])\n",
    "psaVedFindDataOnHireDate()"
   ]
  },
  {
   "cell_type": "code",
   "execution_count": null,
   "metadata": {
    "colab": {},
    "colab_type": "code",
    "id": "S-QYWiAFQS_f"
   },
   "outputs": [],
   "source": [
    "Q120. Write a Pandas program to import excel data (employee.xlsx ) into a Pandas dataframe and find a list of the \n",
    "employees of a specified year"
   ]
  },
  {
   "cell_type": "code",
   "execution_count": 93,
   "metadata": {},
   "outputs": [
    {
     "name": "stdout",
     "output_type": "stream",
     "text": [
      "            emp_id first_name   last_name\n",
      "hire_date                                \n",
      "2007-05-21     104      Bruce       Ernst\n",
      "2007-02-07     107      Diana     Lorentz\n",
      "2007-12-07     113       Luis        Popp\n",
      "2007-08-10     119      Karen  Colmenares\n"
     ]
    }
   ],
   "source": [
    "def psaVedFindDataOnSpecifiedYear():\n",
    "    import pandas as pd\n",
    "    excelData = pd.read_excel('employee.xlsx')\n",
    "    yearData = excelData.set_index('hire_date')\n",
    "    print(yearData['2007'])\n",
    "psaVedFindDataOnSpecifiedYear()"
   ]
  },
  {
   "cell_type": "code",
   "execution_count": null,
   "metadata": {
    "colab": {},
    "colab_type": "code",
    "id": "9rZK4xlKQS_k"
   },
   "outputs": [],
   "source": [
    "Q121. Write a pandas program to import three datasheets from a given excel data  (coalpublic2013.xlsx ) in to a single dataframe."
   ]
  },
  {
   "cell_type": "code",
   "execution_count": 12,
   "metadata": {},
   "outputs": [
    {
     "name": "stdout",
     "output_type": "stream",
     "text": [
      "    Year  MSHA ID                       Mine_Name  Production  Labor_Hours\n",
      "0   2013   103381            Tacoa Highwall Miner       56004        22392\n",
      "1   2013   103404                Reid School Mine       28807        28447\n",
      "2   2013   100759  North River #1 Underground Min     1440115       474784\n",
      "3   2013   103246                      Bear Creek       87587        29193\n",
      "4   2013   103451                     Knight Mine      147499        46393\n",
      "5   2013   103433              Crane Central Mine       69339        47195\n",
      "6   2013   100329                    Concord Mine           0       144002\n",
      "7   2013   100851                  Oak Grove Mine     2269014      1001809\n",
      "8   2013   102901                Shoal Creek Mine           0        12396\n",
      "9   2013   102901                Shoal Creek Mine     1453024      1237415\n",
      "10  2013   103180             Sloan Mountain Mine      327780       196963\n",
      "11  2013   103182                        Fishtrap      175058        87314\n",
      "12  2013   103285                     Narley Mine      154861        90584\n",
      "13  2013   103332                   Powhatan Mine      140521        61394\n",
      "14  2013   103375                    Johnson Mine         580         1900\n",
      "15  2013   103419               Maxine-Pratt Mine      125824       107469\n",
      "16  2013   103432                   Skelton Creek        8252          220\n",
      "17  2013   103437         Black Warrior Mine No 1      145924        70926\n",
      "18  2013   102976   Piney Woods Preparation Plant           0        14828\n",
      "19  2013   102976   Piney Woods Preparation Plant           0        23193\n",
      "20  2013   103380                          Calera           0        12621\n",
      "21  2013   103380                          Calera           0         1402\n",
      "22  2013   103422                 Clark No 1 Mine      122727       140250\n",
      "23  2013   103467             Helena Surface Mine       59664        30539\n",
      "24  2013   101247                       No 4 Mine     2622528      1551141\n",
      "25  2013   101401                       No 7 Mine     5405412      2464719\n",
      "26  2013   103172  Searles Mine No. 2, 3, 4, 5, 6      258078       119542\n",
      "27  2013   103179             Fleetwood Mine No 1       75937        63745\n",
      "28  2013   103303                    Shannon Mine      317491       164388\n",
      "29  2013   103323                   Deerlick Mine      133452        46381\n",
      "..   ...      ...                             ...         ...          ...\n",
      "20  2013   103380                          Calera           0        12621\n",
      "21  2013   103380                          Calera           0         1402\n",
      "22  2013   103422                 Clark No 1 Mine      122727       140250\n",
      "23  2013   103467             Helena Surface Mine       59664        30539\n",
      "24  2013   101247                       No 4 Mine     2622528      1551141\n",
      "25  2013   101401                       No 7 Mine     5405412      2464719\n",
      "26  2013   103172  Searles Mine No. 2, 3, 4, 5, 6      258078       119542\n",
      "27  2013   103179             Fleetwood Mine No 1       75937        63745\n",
      "28  2013   103303                    Shannon Mine      317491       164388\n",
      "29  2013   103323                   Deerlick Mine      133452        46381\n",
      "30  2013   103364           Brc Alabama No. 7 Llc           0        14324\n",
      "31  2013   103436                Swann's Crossing      137511        77190\n",
      "32  2013   100347                    Choctaw Mine      537429       215295\n",
      "33  2013   101362                 Manchester Mine      219457       116914\n",
      "34  2013   102996                  Jap Creek Mine      375715       164093\n",
      "35  2013   103155              Corinth Prep Plant           0        27996\n",
      "36  2013   103155              Corinth Prep Plant           0        51994\n",
      "37  2013   103195     Mccollum/Sparks Branch Mine       71910        17411\n",
      "38  2013   103342             Reese's Branch Mine      263888       115123\n",
      "39  2013   103370             Cresent Valley Mine        2860          621\n",
      "40  2013   103372                 Cane Creek Mine       66258        32401\n",
      "41  2013   103376                      Town Creek      299167       176499\n",
      "42  2013   103389                Carbon Hill Mine       76241        84966\n",
      "43  2013   103410                Coal Valley Mine      407841       158591\n",
      "44  2013   103423                Dutton Hill Mine       37275         9162\n",
      "45  2013  1519322                         Ghm #25       25054         3108\n",
      "46  2013   103321                  Poplar Springs      189370        76366\n",
      "47  2013   103358                       Old Union      284563       161805\n",
      "48  2013  5000030                        Usibelli     1631584       286079\n",
      "49  2013   201195                    Kayenta Mine     7602722      1015333\n",
      "\n",
      "[100 rows x 5 columns]\n"
     ]
    }
   ],
   "source": [
    "def psaVedThreeDatasheets():\n",
    "    import numpy as np\n",
    "    import pandas as pd\n",
    "    fileOne = pd.read_excel('coalpublic2013.xlsx',sheet_name=0)\n",
    "    fileTwo = pd.read_excel('coalpublic2013One.xlsx',sheet_name=0)\n",
    "#     fileThree = pd.read_excel('coalpublic2013.xlsx',sheet_name=2)\n",
    "    print(pd.concat([fileOne,fileTwo]))\n",
    "psaVedThreeDatasheets()"
   ]
  },
  {
   "cell_type": "code",
   "execution_count": null,
   "metadata": {
    "colab": {},
    "colab_type": "code",
    "id": "wsj43wxXQS_o"
   },
   "outputs": [],
   "source": [
    "Q122. Write a pandas program to import three datasheets from a given excel data (employee.xlsx ) into a \n",
    "single dataframe and export the result into new Excel file."
   ]
  },
  {
   "cell_type": "code",
   "execution_count": 14,
   "metadata": {},
   "outputs": [
    {
     "name": "stdout",
     "output_type": "stream",
     "text": [
      "    Year  MSHA ID                       Mine_Name  Production  Labor_Hours\n",
      "0   2013   103381            Tacoa Highwall Miner       56004        22392\n",
      "1   2013   103404                Reid School Mine       28807        28447\n",
      "2   2013   100759  North River #1 Underground Min     1440115       474784\n",
      "3   2013   103246                      Bear Creek       87587        29193\n",
      "4   2013   103451                     Knight Mine      147499        46393\n",
      "5   2013   103433              Crane Central Mine       69339        47195\n",
      "6   2013   100329                    Concord Mine           0       144002\n",
      "7   2013   100851                  Oak Grove Mine     2269014      1001809\n",
      "8   2013   102901                Shoal Creek Mine           0        12396\n",
      "9   2013   102901                Shoal Creek Mine     1453024      1237415\n",
      "10  2013   103180             Sloan Mountain Mine      327780       196963\n",
      "11  2013   103182                        Fishtrap      175058        87314\n",
      "12  2013   103285                     Narley Mine      154861        90584\n",
      "13  2013   103332                   Powhatan Mine      140521        61394\n",
      "14  2013   103375                    Johnson Mine         580         1900\n",
      "15  2013   103419               Maxine-Pratt Mine      125824       107469\n",
      "16  2013   103432                   Skelton Creek        8252          220\n",
      "17  2013   103437         Black Warrior Mine No 1      145924        70926\n",
      "18  2013   102976   Piney Woods Preparation Plant           0        14828\n",
      "19  2013   102976   Piney Woods Preparation Plant           0        23193\n",
      "20  2013   103380                          Calera           0        12621\n",
      "21  2013   103380                          Calera           0         1402\n",
      "22  2013   103422                 Clark No 1 Mine      122727       140250\n",
      "23  2013   103467             Helena Surface Mine       59664        30539\n",
      "24  2013   101247                       No 4 Mine     2622528      1551141\n",
      "25  2013   101401                       No 7 Mine     5405412      2464719\n",
      "26  2013   103172  Searles Mine No. 2, 3, 4, 5, 6      258078       119542\n",
      "27  2013   103179             Fleetwood Mine No 1       75937        63745\n",
      "28  2013   103303                    Shannon Mine      317491       164388\n",
      "29  2013   103323                   Deerlick Mine      133452        46381\n",
      "..   ...      ...                             ...         ...          ...\n",
      "20  2013   103380                          Calera           0        12621\n",
      "21  2013   103380                          Calera           0         1402\n",
      "22  2013   103422                 Clark No 1 Mine      122727       140250\n",
      "23  2013   103467             Helena Surface Mine       59664        30539\n",
      "24  2013   101247                       No 4 Mine     2622528      1551141\n",
      "25  2013   101401                       No 7 Mine     5405412      2464719\n",
      "26  2013   103172  Searles Mine No. 2, 3, 4, 5, 6      258078       119542\n",
      "27  2013   103179             Fleetwood Mine No 1       75937        63745\n",
      "28  2013   103303                    Shannon Mine      317491       164388\n",
      "29  2013   103323                   Deerlick Mine      133452        46381\n",
      "30  2013   103364           Brc Alabama No. 7 Llc           0        14324\n",
      "31  2013   103436                Swann's Crossing      137511        77190\n",
      "32  2013   100347                    Choctaw Mine      537429       215295\n",
      "33  2013   101362                 Manchester Mine      219457       116914\n",
      "34  2013   102996                  Jap Creek Mine      375715       164093\n",
      "35  2013   103155              Corinth Prep Plant           0        27996\n",
      "36  2013   103155              Corinth Prep Plant           0        51994\n",
      "37  2013   103195     Mccollum/Sparks Branch Mine       71910        17411\n",
      "38  2013   103342             Reese's Branch Mine      263888       115123\n",
      "39  2013   103370             Cresent Valley Mine        2860          621\n",
      "40  2013   103372                 Cane Creek Mine       66258        32401\n",
      "41  2013   103376                      Town Creek      299167       176499\n",
      "42  2013   103389                Carbon Hill Mine       76241        84966\n",
      "43  2013   103410                Coal Valley Mine      407841       158591\n",
      "44  2013   103423                Dutton Hill Mine       37275         9162\n",
      "45  2013  1519322                         Ghm #25       25054         3108\n",
      "46  2013   103321                  Poplar Springs      189370        76366\n",
      "47  2013   103358                       Old Union      284563       161805\n",
      "48  2013  5000030                        Usibelli     1631584       286079\n",
      "49  2013   201195                    Kayenta Mine     7602722      1015333\n",
      "\n",
      "[100 rows x 5 columns]\n"
     ]
    }
   ],
   "source": [
    "def psaVedThreeDatasheetsExport():\n",
    "    import numpy as np\n",
    "    import pandas as pd\n",
    "    fileOne = pd.read_excel('coalpublic2013.xlsx',sheet_name=0)\n",
    "    fileTwo = pd.read_excel('coalpublic2013One.xlsx',sheet_name=0)\n",
    "    pd.concat([fileOne,fileTwo]).to_excel('newExcel.xlsx')\n",
    "    print(pd.read_excel('newExcel.xlsx'))\n",
    "psaVedThreeDatasheetsExport()"
   ]
  },
  {
   "cell_type": "code",
   "execution_count": null,
   "metadata": {
    "colab": {},
    "colab_type": "code",
    "id": "V6ojITUwQS_r"
   },
   "outputs": [],
   "source": [
    "Q123. Write a pandas program to create the Pivot table with multiple indexes from the data set of the titanic.csv."
   ]
  },
  {
   "cell_type": "code",
   "execution_count": 1,
   "metadata": {},
   "outputs": [
    {
     "name": "stdout",
     "output_type": "stream",
     "text": [
      "              Unnamed: 15  adult_male  alone      fare  parch  pclass  sibsp  \\\n",
      "sex    age                                                                     \n",
      "female 0.75           0.0         0.0    0.0   38.5166      2       6      4   \n",
      "       1.00           0.0         0.0    0.0   26.8750      3       6      1   \n",
      "       2.00           0.0         0.0    0.0  259.4750      9      15      9   \n",
      "       3.00           0.0         0.0    0.0   62.6542      3       5      4   \n",
      "       4.00           0.0         0.0    0.0  114.1417      6      13      4   \n",
      "       5.00           0.0         0.0    1.0   90.8708      5      11      7   \n",
      "       6.00           0.0         0.0    0.0   64.2750      3       5      4   \n",
      "       7.00           0.0         0.0    0.0   26.2500      2       2      0   \n",
      "       8.00           0.0         0.0    0.0   47.3250      3       5      3   \n",
      "       9.00           0.0         0.0    0.0  108.7958      7      12     10   \n",
      "       10.00          0.0         0.0    0.0   24.1500      2       3      0   \n",
      "       11.00          0.0         0.0    0.0   31.2750      2       3      4   \n",
      "       13.00          0.0         0.0    1.0   26.7292      1       5      0   \n",
      "       14.00          0.0         0.0    1.0  169.1667      2       9      3   \n",
      "       14.50          0.0         0.0    0.0   14.4542      0       3      1   \n",
      "       15.00          0.0         0.0    2.0  241.0459      1      10      1   \n",
      "       16.00          0.0         0.0    3.0  246.2625      4      12      5   \n",
      "       17.00          0.0         0.0    3.0  210.7833      2      12      6   \n",
      "       18.00          0.0         0.0    4.0  697.0167      9      31      6   \n",
      "       19.00          0.0         0.0    3.0  215.0959      2      13      3   \n",
      "       20.00          0.0         0.0    1.0   18.4875      0       6      1   \n",
      "       21.00          0.0         0.0    4.0  410.4333      4      16      5   \n",
      "       22.00          0.0         0.0    7.0  444.1084      6      26      3   \n",
      "       23.00          0.0         0.0    3.0  405.5417      2      10      4   \n",
      "       24.00          0.0         0.0    7.0  772.1708     15      31     10   \n",
      "       25.00          0.0         0.0    1.0  223.2500      4      11      3   \n",
      "       26.00          0.0         0.0    3.0  136.7292      1      12      2   \n",
      "       27.00          0.0         0.0    2.0   76.8916      3      15      2   \n",
      "       28.00          0.0         0.0    4.0  110.9458      1      16      3   \n",
      "       29.00          0.0         0.0    2.0  320.6208      7      16      3   \n",
      "...                   ...         ...    ...       ...    ...     ...    ...   \n",
      "male   42.00          0.0        10.0    6.0  216.1084      1      21      3   \n",
      "       43.00          0.0         3.0    2.0   40.7500      1       8      1   \n",
      "       44.00          0.0         6.0    3.0  156.1250      1      15      3   \n",
      "       45.00          0.0         6.0    5.0  187.1000      0      10      1   \n",
      "       45.50          0.0         2.0    2.0   35.7250      0       4      0   \n",
      "       46.00          0.0         3.0    2.0  166.3750      0       4      1   \n",
      "       47.00          0.0         7.0    7.0  181.3583      0      12      0   \n",
      "       48.00          0.0         5.0    3.0  176.1334      0       8      2   \n",
      "       49.00          0.0         4.0    1.0  256.9167      1       6      3   \n",
      "       50.00          0.0         5.0    2.0  317.0250      0       8      4   \n",
      "       51.00          0.0         6.0    5.0  123.3084      1      13      0   \n",
      "       52.00          0.0         4.0    3.0  136.6500      1       6      1   \n",
      "       54.00          0.0         5.0    3.0  195.1500      1       8      1   \n",
      "       55.00          0.0         1.0    1.0   30.5000      0       1      0   \n",
      "       55.50          0.0         1.0    1.0    8.0500      0       3      0   \n",
      "       56.00          0.0         3.0    3.0   92.7458      0       3      0   \n",
      "       57.00          0.0         1.0    1.0   12.3500      0       2      0   \n",
      "       58.00          0.0         2.0    1.0  142.9750      2       2      0   \n",
      "       59.00          0.0         2.0    2.0   20.7500      0       5      0   \n",
      "       60.00          0.0         3.0    1.0  144.7500      2       4      2   \n",
      "       61.00          0.0         3.0    3.0   72.0583      0       5      0   \n",
      "       62.00          0.0         3.0    3.0   63.6000      0       4      0   \n",
      "       64.00          0.0         2.0    1.0  289.0000      4       2      1   \n",
      "       65.00          0.0         3.0    2.0   96.2792      1       5      0   \n",
      "       66.00          0.0         1.0    1.0   10.5000      0       2      0   \n",
      "       70.00          0.0         2.0    1.0   81.5000      1       3      1   \n",
      "       70.50          0.0         1.0    1.0    7.7500      0       3      0   \n",
      "       71.00          0.0         2.0    2.0   84.1584      0       2      0   \n",
      "       74.00          0.0         1.0    1.0    7.7750      0       3      0   \n",
      "       80.00          0.0         1.0    1.0   30.0000      0       1      0   \n",
      "\n",
      "              survived  \n",
      "sex    age              \n",
      "female 0.75          2  \n",
      "       1.00          2  \n",
      "       2.00          2  \n",
      "       3.00          1  \n",
      "       4.00          5  \n",
      "       5.00          4  \n",
      "       6.00          1  \n",
      "       7.00          1  \n",
      "       8.00          1  \n",
      "       9.00          0  \n",
      "       10.00         0  \n",
      "       11.00         0  \n",
      "       13.00         2  \n",
      "       14.00         3  \n",
      "       14.50         0  \n",
      "       15.00         4  \n",
      "       16.00         5  \n",
      "       17.00         5  \n",
      "       18.00         8  \n",
      "       19.00         7  \n",
      "       20.00         0  \n",
      "       21.00         4  \n",
      "       22.00        10  \n",
      "       23.00         4  \n",
      "       24.00        14  \n",
      "       25.00         2  \n",
      "       26.00         3  \n",
      "       27.00         5  \n",
      "       28.00         5  \n",
      "       29.00         5  \n",
      "...                ...  \n",
      "male   42.00         3  \n",
      "       43.00         0  \n",
      "       44.00         1  \n",
      "       45.00         2  \n",
      "       45.50         0  \n",
      "       46.00         0  \n",
      "       47.00         0  \n",
      "       48.00         3  \n",
      "       49.00         2  \n",
      "       50.00         1  \n",
      "       51.00         1  \n",
      "       52.00         1  \n",
      "       54.00         0  \n",
      "       55.00         0  \n",
      "       55.50         0  \n",
      "       56.00         1  \n",
      "       57.00         0  \n",
      "       58.00         0  \n",
      "       59.00         0  \n",
      "       60.00         1  \n",
      "       61.00         0  \n",
      "       62.00         1  \n",
      "       64.00         0  \n",
      "       65.00         0  \n",
      "       66.00         0  \n",
      "       70.00         0  \n",
      "       70.50         0  \n",
      "       71.00         0  \n",
      "       74.00         0  \n",
      "       80.00         1  \n",
      "\n",
      "[145 rows x 8 columns]\n"
     ]
    }
   ],
   "source": [
    "def psaVedCreatePivotTable():\n",
    "    import numpy as np\n",
    "    import pandas as pd\n",
    "    oneFile = pd.read_csv('titanic.csv')\n",
    "    result = pd.pivot_table(oneFile, index = [\"sex\",\"age\"], aggfunc=np.sum)\n",
    "    print(result)\n",
    "psaVedCreatePivotTable()"
   ]
  },
  {
   "cell_type": "code",
   "execution_count": null,
   "metadata": {
    "colab": {},
    "colab_type": "code",
    "id": "RhdbYRyqQS_v"
   },
   "outputs": [],
   "source": [
    "Q124. Write a Pandas program to create the Pivot table and find survival rate by gender?"
   ]
  },
  {
   "cell_type": "code",
   "execution_count": 2,
   "metadata": {},
   "outputs": [
    {
     "name": "stdout",
     "output_type": "stream",
     "text": [
      "        survived\n",
      "sex             \n",
      "female  0.742038\n",
      "male    0.188908\n"
     ]
    }
   ],
   "source": [
    "def psaVedCreatePivotTableAndFindSurvival():\n",
    "    import pandas as pd\n",
    "    import numpy as np\n",
    "    df = pd.read_csv('titanic.csv')\n",
    "    result=df.groupby('sex')[['survived']].mean()\n",
    "    print(result)\n",
    "psaVedCreatePivotTableAndFindSurvival()"
   ]
  },
  {
   "cell_type": "code",
   "execution_count": null,
   "metadata": {
    "colab": {},
    "colab_type": "code",
    "id": "OCSV9Ar7QS_5"
   },
   "outputs": [],
   "source": [
    "Q125. Write a pandas program to make partition each of the passengers into 4 categories based on their age."
   ]
  },
  {
   "cell_type": "code",
   "execution_count": 3,
   "metadata": {},
   "outputs": [
    {
     "name": "stdout",
     "output_type": "stream",
     "text": [
      "0      (10, 30]\n",
      "1      (30, 60]\n",
      "2      (10, 30]\n",
      "3      (30, 60]\n",
      "4      (30, 60]\n",
      "5           NaN\n",
      "6      (30, 60]\n",
      "7       (0, 10]\n",
      "8      (10, 30]\n",
      "9      (10, 30]\n",
      "10      (0, 10]\n",
      "11     (30, 60]\n",
      "12     (10, 30]\n",
      "13     (30, 60]\n",
      "14     (10, 30]\n",
      "15     (30, 60]\n",
      "16      (0, 10]\n",
      "17          NaN\n",
      "18     (30, 60]\n",
      "19          NaN\n",
      "20     (30, 60]\n",
      "21     (30, 60]\n",
      "22     (10, 30]\n",
      "23     (10, 30]\n",
      "24      (0, 10]\n",
      "25     (30, 60]\n",
      "26          NaN\n",
      "27     (10, 30]\n",
      "28          NaN\n",
      "29          NaN\n",
      "         ...   \n",
      "861    (10, 30]\n",
      "862    (30, 60]\n",
      "863         NaN\n",
      "864    (10, 30]\n",
      "865    (30, 60]\n",
      "866    (10, 30]\n",
      "867    (30, 60]\n",
      "868         NaN\n",
      "869     (0, 10]\n",
      "870    (10, 30]\n",
      "871    (30, 60]\n",
      "872    (30, 60]\n",
      "873    (30, 60]\n",
      "874    (10, 30]\n",
      "875    (10, 30]\n",
      "876    (10, 30]\n",
      "877    (10, 30]\n",
      "878         NaN\n",
      "879    (30, 60]\n",
      "880    (10, 30]\n",
      "881    (30, 60]\n",
      "882    (10, 30]\n",
      "883    (10, 30]\n",
      "884    (10, 30]\n",
      "885    (30, 60]\n",
      "886    (10, 30]\n",
      "887    (10, 30]\n",
      "888         NaN\n",
      "889    (10, 30]\n",
      "890    (30, 60]\n",
      "Name: age, Length: 891, dtype: category\n",
      "Categories (4, interval[int64]): [(0, 10] < (10, 30] < (30, 60] < (60, 80]]\n"
     ]
    }
   ],
   "source": [
    "def psaVedMakePartition():\n",
    "    import pandas as pd\n",
    "    import numpy as np\n",
    "    df = pd.read_csv('titanic.csv')\n",
    "    result = pd.cut(df['age'], [0, 10, 30, 60, 80])\n",
    "    print(result)\n",
    "psaVedMakePartition()"
   ]
  },
  {
   "cell_type": "code",
   "execution_count": null,
   "metadata": {
    "colab": {},
    "colab_type": "code",
    "id": "PR8LFpvoQTAD"
   },
   "outputs": [],
   "source": [
    "Q126. Write a pandas program to create the Pivot table and find survival rate by the gender, age of the different \n",
    "categories of various classes."
   ]
  },
  {
   "cell_type": "code",
   "execution_count": 4,
   "metadata": {},
   "outputs": [
    {
     "name": "stdout",
     "output_type": "stream",
     "text": [
      "class               First    Second     Third\n",
      "sex    age                                   \n",
      "female (0, 20]   0.928571  1.000000  0.510638\n",
      "       (20, 55]  0.968750  0.912281  0.407407\n",
      "male   (0, 20]   0.571429  0.526316  0.197368\n",
      "       (20, 55]  0.440000  0.054054  0.134503\n"
     ]
    }
   ],
   "source": [
    "def psaVedCreatePivotAndFindSurvivalRate():\n",
    "    import pandas as pd\n",
    "    import numpy as np\n",
    "    df = pd.read_csv('titanic.csv')\n",
    "    age = pd.cut(df['age'], [0, 20, 55])\n",
    "    result = df.pivot_table('survived', index=['sex', age], columns='class')\n",
    "    print(result)\n",
    "psaVedCreatePivotAndFindSurvivalRate()"
   ]
  },
  {
   "cell_type": "code",
   "execution_count": null,
   "metadata": {
    "colab": {},
    "colab_type": "code",
    "id": "av6Ln53jQTAI"
   },
   "outputs": [],
   "source": [
    "Q127. Write a pandas program to create the Pivot table and calculate number of women and men were in a particular cabin class."
   ]
  },
  {
   "cell_type": "code",
   "execution_count": 5,
   "metadata": {},
   "outputs": [
    {
     "name": "stdout",
     "output_type": "stream",
     "text": [
      "       Unnamed: 15       adult_male            age          alive ...  parch  \\\n",
      "pclass           1  2  3          1    2    3    1   2    3     1 ...      3   \n",
      "sex                                                               ...          \n",
      "female           0  0  0         94   76  144   85  74  102    94 ...    144   \n",
      "male             0  0  0        122  108  347  101  99  253   122 ...    347   \n",
      "\n",
      "       sibsp           survived            who            \n",
      "pclass     1    2    3        1    2    3    1    2    3  \n",
      "sex                                                       \n",
      "female    94   76  144       94   76  144   94   76  144  \n",
      "male     122  108  347      122  108  347  122  108  347  \n",
      "\n",
      "[2 rows x 42 columns]\n"
     ]
    }
   ],
   "source": [
    "def psaVedCreatePivotTableForMenAndWoman():\n",
    "    import pandas as pd\n",
    "    import numpy as np\n",
    "    df = pd.read_csv('titanic.csv')\n",
    "    result = df.pivot_table(index=['sex'], columns=['pclass'], aggfunc='count')\n",
    "    print(result)\n",
    "psaVedCreatePivotTableForMenAndWoman()"
   ]
  },
  {
   "cell_type": "code",
   "execution_count": null,
   "metadata": {
    "colab": {},
    "colab_type": "code",
    "id": "_9HMxPKUQTAP"
   },
   "outputs": [],
   "source": [
    "Q128. Write a pandas program to create the Pivot table and separate the gender according to whether they travelled \n",
    "alone or not to get the probability of survival."
   ]
  },
  {
   "cell_type": "code",
   "execution_count": 6,
   "metadata": {},
   "outputs": [
    {
     "name": "stdout",
     "output_type": "stream",
     "text": [
      "class            First    Second     Third\n",
      "sex    alone                              \n",
      "female False  0.966667  0.931818  0.416667\n",
      "       True   0.970588  0.906250  0.616667\n",
      "male   False  0.425532  0.277778  0.180723\n",
      "       True   0.333333  0.097222  0.121212\n"
     ]
    }
   ],
   "source": [
    "def psaVedCreatePivotSeparationOfGender():\n",
    "    import pandas as pd\n",
    "    import numpy as np\n",
    "    df = pd.read_csv('titanic.csv')\n",
    "    result = df.pivot_table( 'survived' , [ 'sex' , 'alone' ] , 'class' )\n",
    "    print(result)\n",
    "psaVedCreatePivotSeparationOfGender()"
   ]
  },
  {
   "cell_type": "code",
   "execution_count": null,
   "metadata": {
    "colab": {},
    "colab_type": "code",
    "id": "bJlDLOrMQTAX"
   },
   "outputs": [],
   "source": [
    "Q129. Write a pandas program to create the Pivot table and find the probability of survival by class, gender, \n",
    "solo boarding,andtheport of embarkation."
   ]
  },
  {
   "cell_type": "code",
   "execution_count": 7,
   "metadata": {},
   "outputs": [
    {
     "name": "stdout",
     "output_type": "stream",
     "text": [
      "embark_town  Cherbourg                     Queenstown                   \\\n",
      "class            First    Second     Third      First Second     Third   \n",
      "sex    alone                                                             \n",
      "female False  1.000000  1.000000  0.611111        1.0    NaN  0.625000   \n",
      "       True   0.944444  1.000000  0.800000        NaN    1.0  0.760000   \n",
      "male   False  0.473684  0.166667  0.500000        0.0    NaN  0.100000   \n",
      "       True   0.347826  0.250000  0.151515        NaN    0.0  0.068966   \n",
      "\n",
      "embark_town  Southampton                      \n",
      "class              First    Second     Third  \n",
      "sex    alone                                  \n",
      "female False    0.941176  0.923077  0.327586  \n",
      "       True     1.000000  0.892857  0.466667  \n",
      "male   False    0.407407  0.300000  0.142857  \n",
      "       True     0.326923  0.089552  0.123762  \n"
     ]
    }
   ],
   "source": [
    "def psaVedCreatePivotFindProbability():\n",
    "    import pandas as pd\n",
    "    import numpy as np\n",
    "    df = pd.read_csv('titanic.csv')\n",
    "    result = df.pivot_table('survived', ['sex' , 'alone' ], [ 'embark_town', 'class' ])\n",
    "    print(result)\n",
    "psaVedCreatePivotFindProbability()"
   ]
  },
  {
   "cell_type": "code",
   "execution_count": null,
   "metadata": {
    "colab": {},
    "colab_type": "code",
    "id": "_1Bn0mR8QTAg"
   },
   "outputs": [],
   "source": [
    "Q130. Write a pandas program to get current date, oldest date and number of days between Current date andthe oldest date \n",
    "of Ufo dataset."
   ]
  },
  {
   "cell_type": "code",
   "execution_count": 18,
   "metadata": {},
   "outputs": [
    {
     "name": "stdout",
     "output_type": "stream",
     "text": [
      "Original Dataframe:\n",
      "\n",
      "Current date of Ufo dataset:\n",
      "1960-10-10 20:00:00\n",
      "\n",
      "Oldest date of Ufo dataset:\n",
      "1949-10-10 20:30:00\n",
      "\n",
      "Number of days between Current date and oldest date of Ufo dataset:\n",
      "4017\n"
     ]
    }
   ],
   "source": [
    "def psaVedGetCurDateOldDateInUfo():\n",
    "    import pandas as pd\n",
    "    df = pd.read_csv('ufo.csv').head()\n",
    "    df['Date_time'] = df['Date_time'].astype('datetime64[ns]')\n",
    "    print(\"Original Dataframe:\")\n",
    "    print(\"\\nCurrent date of Ufo dataset:\")\n",
    "    print(df.Date_time.max())\n",
    "    print(\"\\nOldest date of Ufo dataset:\")\n",
    "    print(df.Date_time.min())\n",
    "    print(\"\\nNumber of days between Current date and oldest date of Ufo dataset:\")\n",
    "    print((df.Date_time.max() - df.Date_time.min()).days)\n",
    "psaVedGetCurDateOldDateInUfo()"
   ]
  },
  {
   "cell_type": "code",
   "execution_count": null,
   "metadata": {
    "colab": {},
    "colab_type": "code",
    "id": "Q0KLRVqsQTAm"
   },
   "outputs": [],
   "source": [
    "Q131. Write a pandas program to get all sighting days of the unidentified flying object (ufo) between 1950-10-10 and 1960-10-10."
   ]
  },
  {
   "cell_type": "code",
   "execution_count": 23,
   "metadata": {},
   "outputs": [
    {
     "name": "stdout",
     "output_type": "stream",
     "text": [
      "Original Dataframe:\n",
      "            Date_time                  city state/province country UFO_shape  \\\n",
      "0 1949-10-10 20:30:00            san marcos             tx      us  cylinder   \n",
      "1 1949-10-10 21:00:00          lackland afb             tx     NaN     light   \n",
      "2 1955-10-10 17:00:00  chester (uk/england)            NaN      gb    circle   \n",
      "3 1956-10-10 21:00:00                  edna             tx      us    circle   \n",
      "4 1960-10-10 20:00:00               kaneohe             hi      us     light   \n",
      "\n",
      "  length_of_encounter_seconds described_duration_of_encounter  \\\n",
      "0                        2700                      45 minutes   \n",
      "1                        7200                         1-2 hrs   \n",
      "2                          20                      20 seconds   \n",
      "3                          20                        1/2 hour   \n",
      "4                         900                      15 minutes   \n",
      "\n",
      "                                         description date_documented  \\\n",
      "0  This event took place in early fall around 194...       4/27/2004   \n",
      "1  1949 Lackland AFB&#44 TX.  Lights racing acros...      12/16/2005   \n",
      "2  Green/Orange circular disc over Chester&#44 En...       1/21/2008   \n",
      "3  My older brother and twin sister were leaving ...       1/17/2004   \n",
      "4  AS a Marine 1st Lt. flying an FJ4B fighter/att...       1/22/2004   \n",
      "\n",
      "     latitude   longitude  \n",
      "0  29.8830556  -97.941111  \n",
      "1    29.38421  -98.581082  \n",
      "2        53.2   -2.916667  \n",
      "3  28.9783333  -96.645833  \n",
      "4  21.4180556 -157.803611  \n",
      "\n",
      "Sighting days of the unidentified flying object (ufo) between 1949-10-10 and 1960-10-10:\n",
      "            Date_time                  city state/province country UFO_shape  \\\n",
      "2 1955-10-10 17:00:00  chester (uk/england)            NaN      gb    circle   \n",
      "3 1956-10-10 21:00:00                  edna             tx      us    circle   \n",
      "4 1960-10-10 20:00:00               kaneohe             hi      us     light   \n",
      "\n",
      "  length_of_encounter_seconds described_duration_of_encounter  \\\n",
      "2                          20                      20 seconds   \n",
      "3                          20                        1/2 hour   \n",
      "4                         900                      15 minutes   \n",
      "\n",
      "                                         description date_documented  \\\n",
      "2  Green/Orange circular disc over Chester&#44 En...       1/21/2008   \n",
      "3  My older brother and twin sister were leaving ...       1/17/2004   \n",
      "4  AS a Marine 1st Lt. flying an FJ4B fighter/att...       1/22/2004   \n",
      "\n",
      "     latitude   longitude  \n",
      "2        53.2   -2.916667  \n",
      "3  28.9783333  -96.645833  \n",
      "4  21.4180556 -157.803611  \n"
     ]
    }
   ],
   "source": [
    "def psaVedGetAllSightingDays():\n",
    "    import pandas as pd\n",
    "    df = pd.read_csv('ufo.csv').head()\n",
    "    df['Date_time'] = df['Date_time'].astype('datetime64[ns]')\n",
    "    print(\"Original Dataframe:\")\n",
    "    print(df.head())\n",
    "    print(\"\\nSighting days of the unidentified flying object (ufo) between 1949-10-10 and 1960-10-10:\")\n",
    "    selected_period = df[(df['Date_time'] >= '1950-01-01 00:00:00') & (df['Date_time'] <= '1960-12-31 23:59:59')]\n",
    "    print(selected_period)\n",
    "psaVedGetAllSightingDays()"
   ]
  },
  {
   "cell_type": "code",
   "execution_count": null,
   "metadata": {
    "colab": {},
    "colab_type": "code",
    "id": "M1908eLpQTA9"
   },
   "outputs": [],
   "source": [
    "Q132. Write a Pandas program to extract the year, month, day, hour,minute, second,and weekday from unidentified \n",
    "flying object (UFO) reporting date."
   ]
  },
  {
   "cell_type": "code",
   "execution_count": 26,
   "metadata": {},
   "outputs": [
    {
     "name": "stdout",
     "output_type": "stream",
     "text": [
      "Original Dataframe:\n",
      "            Date_time                  city state/province country UFO_shape  \\\n",
      "0 1949-10-10 20:30:00            san marcos             tx      us  cylinder   \n",
      "1 1949-10-10 21:00:00          lackland afb             tx     NaN     light   \n",
      "2 1955-10-10 17:00:00  chester (uk/england)            NaN      gb    circle   \n",
      "3 1956-10-10 21:00:00                  edna             tx      us    circle   \n",
      "4 1960-10-10 20:00:00               kaneohe             hi      us     light   \n",
      "\n",
      "  length_of_encounter_seconds described_duration_of_encounter  \\\n",
      "0                        2700                      45 minutes   \n",
      "1                        7200                         1-2 hrs   \n",
      "2                          20                      20 seconds   \n",
      "3                          20                        1/2 hour   \n",
      "4                         900                      15 minutes   \n",
      "\n",
      "                                         description date_documented  \\\n",
      "0  This event took place in early fall around 194...       4/27/2004   \n",
      "1  1949 Lackland AFB&#44 TX.  Lights racing acros...      12/16/2005   \n",
      "2  Green/Orange circular disc over Chester&#44 En...       1/21/2008   \n",
      "3  My older brother and twin sister were leaving ...       1/17/2004   \n",
      "4  AS a Marine 1st Lt. flying an FJ4B fighter/att...       1/22/2004   \n",
      "\n",
      "     latitude   longitude  \n",
      "0  29.8830556  -97.941111  \n",
      "1    29.38421  -98.581082  \n",
      "2        53.2   -2.916667  \n",
      "3  28.9783333  -96.645833  \n",
      "4  21.4180556 -157.803611  \n",
      "\n",
      "Year:\n",
      "0    1949\n",
      "1    1949\n",
      "2    1955\n",
      "3    1956\n",
      "4    1960\n",
      "Name: Date_time, dtype: int64\n",
      "\n",
      "Month:\n",
      "0    10\n",
      "1    10\n",
      "2    10\n",
      "3    10\n",
      "4    10\n",
      "Name: Date_time, dtype: int64\n",
      "\n",
      "Day:\n",
      "0    10\n",
      "1    10\n",
      "2    10\n",
      "3    10\n",
      "4    10\n",
      "Name: Date_time, dtype: int64\n",
      "\n",
      "Hour:\n",
      "0    20\n",
      "1    21\n",
      "2    17\n",
      "3    21\n",
      "4    20\n",
      "Name: Date_time, dtype: int64\n",
      "\n",
      "Minute:\n",
      "0    30\n",
      "1     0\n",
      "2     0\n",
      "3     0\n",
      "4     0\n",
      "Name: Date_time, dtype: int64\n",
      "\n",
      "Second:\n",
      "0    0\n",
      "1    0\n",
      "2    0\n",
      "3    0\n",
      "4    0\n",
      "Name: Date_time, dtype: int64\n",
      "\n",
      "Weekday:\n",
      "0       Monday\n",
      "1       Monday\n",
      "2       Monday\n",
      "3    Wednesday\n",
      "4       Monday\n",
      "Name: Date_time, dtype: object\n"
     ]
    }
   ],
   "source": [
    "def psaVedExtractYearMonthDay():\n",
    "    import pandas as pd\n",
    "    df = pd.read_csv('ufo.csv').head()\n",
    "    df['Date_time'] = df['Date_time'].astype('datetime64[ns]')\n",
    "    print(\"Original Dataframe:\")\n",
    "    print(df.head())\n",
    "    print(\"\\nYear:\")\n",
    "    print(df.Date_time.dt.year.head())\n",
    "    print(\"\\nMonth:\")\n",
    "    print(df.Date_time.dt.month.head())\n",
    "    print(\"\\nDay:\")\n",
    "    print(df.Date_time.dt.day.head())\n",
    "    print(\"\\nHour:\")\n",
    "    print(df.Date_time.dt.hour.head())\n",
    "    print(\"\\nMinute:\")\n",
    "    print(df.Date_time.dt.minute.head())\n",
    "    print(\"\\nSecond:\")\n",
    "    print(df.Date_time.dt.second.head())\n",
    "    print(\"\\nWeekday:\")\n",
    "    print(df.Date_time.dt.weekday_name.head())\n",
    "psaVedExtractYearMonthDay()"
   ]
  },
  {
   "cell_type": "code",
   "execution_count": null,
   "metadata": {
    "colab": {},
    "colab_type": "code",
    "id": "hb-cQqSvQTBI"
   },
   "outputs": [],
   "source": [
    "Q133. Write a pandas program to count year-country wise frequency ofreporting dates oftheunidentified flying object(UFO)."
   ]
  },
  {
   "cell_type": "code",
   "execution_count": 28,
   "metadata": {},
   "outputs": [
    {
     "name": "stdout",
     "output_type": "stream",
     "text": [
      "Original Dataframe:\n",
      "            Date_time                  city state/province country UFO_shape  \\\n",
      "0 1949-10-10 20:30:00            san marcos             tx      us  cylinder   \n",
      "1 1949-10-10 21:00:00          lackland afb             tx     NaN     light   \n",
      "2 1955-10-10 17:00:00  chester (uk/england)            NaN      gb    circle   \n",
      "3 1956-10-10 21:00:00                  edna             tx      us    circle   \n",
      "4 1960-10-10 20:00:00               kaneohe             hi      us     light   \n",
      "\n",
      "  length_of_encounter_seconds described_duration_of_encounter  \\\n",
      "0                        2700                      45 minutes   \n",
      "1                        7200                         1-2 hrs   \n",
      "2                          20                      20 seconds   \n",
      "3                          20                        1/2 hour   \n",
      "4                         900                      15 minutes   \n",
      "\n",
      "                                         description date_documented  \\\n",
      "0  This event took place in early fall around 194...       4/27/2004   \n",
      "1  1949 Lackland AFB&#44 TX.  Lights racing acros...      12/16/2005   \n",
      "2  Green/Orange circular disc over Chester&#44 En...       1/21/2008   \n",
      "3  My older brother and twin sister were leaving ...       1/17/2004   \n",
      "4  AS a Marine 1st Lt. flying an FJ4B fighter/att...       1/22/2004   \n",
      "\n",
      "     latitude   longitude  \n",
      "0  29.8830556  -97.941111  \n",
      "1    29.38421  -98.581082  \n",
      "2        53.2   -2.916667  \n",
      "3  28.9783333  -96.645833  \n",
      "4  21.4180556 -157.803611  \n",
      "\n",
      "Country-year wise frequency of reporting dates of UFO:\n",
      "Year  country\n",
      "1949  us         1\n",
      "1955  gb         1\n",
      "1956  us         1\n",
      "1960  us         1\n",
      "dtype: int64\n"
     ]
    }
   ],
   "source": [
    "def psaVedCountYearWiseFrequency():\n",
    "    import pandas as pd\n",
    "    df = pd.read_csv('ufo.csv').head()\n",
    "    df['Date_time'] = df['Date_time'].astype('datetime64[ns]')\n",
    "    print(\"Original Dataframe:\")\n",
    "    print(df.head())\n",
    "    df['Year'] = df['Date_time'].apply(lambda x: \"%d\" % (x.year))\n",
    "    result = df.groupby(['Year', 'country']).size()\n",
    "    print(\"\\nCountry-year wise frequency of reporting dates of UFO:\")\n",
    "    print(result)\n",
    "psaVedCountYearWiseFrequency()"
   ]
  },
  {
   "cell_type": "code",
   "execution_count": null,
   "metadata": {
    "colab": {},
    "colab_type": "code",
    "id": "vPQQWGqsQTBM"
   },
   "outputs": [],
   "source": [
    "Q134. Write a pandas program to get the difference (in days) between documented date and reporting date of unidentified\n",
    "flying object (UFO)."
   ]
  },
  {
   "cell_type": "code",
   "execution_count": 30,
   "metadata": {},
   "outputs": [
    {
     "name": "stdout",
     "output_type": "stream",
     "text": [
      "Original Dataframe:\n",
      "            Date_time                  city state/province country UFO_shape  \\\n",
      "0 1949-10-10 20:30:00            san marcos             tx      us  cylinder   \n",
      "1 1949-10-10 21:00:00          lackland afb             tx     NaN     light   \n",
      "2 1955-10-10 17:00:00  chester (uk/england)            NaN      gb    circle   \n",
      "3 1956-10-10 21:00:00                  edna             tx      us    circle   \n",
      "4 1960-10-10 20:00:00               kaneohe             hi      us     light   \n",
      "\n",
      "  length_of_encounter_seconds described_duration_of_encounter  \\\n",
      "0                        2700                      45 minutes   \n",
      "1                        7200                         1-2 hrs   \n",
      "2                          20                      20 seconds   \n",
      "3                          20                        1/2 hour   \n",
      "4                         900                      15 minutes   \n",
      "\n",
      "                                         description date_documented  \\\n",
      "0  This event took place in early fall around 194...      2004-04-27   \n",
      "1  1949 Lackland AFB&#44 TX.  Lights racing acros...      2005-12-16   \n",
      "2  Green/Orange circular disc over Chester&#44 En...      2008-01-21   \n",
      "3  My older brother and twin sister were leaving ...      2004-01-17   \n",
      "4  AS a Marine 1st Lt. flying an FJ4B fighter/att...      2004-01-22   \n",
      "\n",
      "     latitude   longitude  \n",
      "0  29.8830556  -97.941111  \n",
      "1    29.38421  -98.581082  \n",
      "2        53.2   -2.916667  \n",
      "3  28.9783333  -96.645833  \n",
      "4  21.4180556 -157.803611  \n",
      "\n",
      "Difference (in days) between documented date and reporting date of UFO:\n",
      "            Date_time                  city state/province country UFO_shape  \\\n",
      "0 1949-10-10 20:30:00            san marcos             tx      us  cylinder   \n",
      "1 1949-10-10 21:00:00          lackland afb             tx     NaN     light   \n",
      "2 1955-10-10 17:00:00  chester (uk/england)            NaN      gb    circle   \n",
      "3 1956-10-10 21:00:00                  edna             tx      us    circle   \n",
      "4 1960-10-10 20:00:00               kaneohe             hi      us     light   \n",
      "\n",
      "  length_of_encounter_seconds described_duration_of_encounter  \\\n",
      "0                        2700                      45 minutes   \n",
      "1                        7200                         1-2 hrs   \n",
      "2                          20                      20 seconds   \n",
      "3                          20                        1/2 hour   \n",
      "4                         900                      15 minutes   \n",
      "\n",
      "                                         description date_documented  \\\n",
      "0  This event took place in early fall around 194...      2004-04-27   \n",
      "1  1949 Lackland AFB&#44 TX.  Lights racing acros...      2005-12-16   \n",
      "2  Green/Orange circular disc over Chester&#44 En...      2008-01-21   \n",
      "3  My older brother and twin sister were leaving ...      2004-01-17   \n",
      "4  AS a Marine 1st Lt. flying an FJ4B fighter/att...      2004-01-22   \n",
      "\n",
      "     latitude   longitude  Difference  \n",
      "0  29.8830556  -97.941111       19922  \n",
      "1    29.38421  -98.581082       20520  \n",
      "2        53.2   -2.916667       19095  \n",
      "3  28.9783333  -96.645833       17264  \n",
      "4  21.4180556 -157.803611       15808  \n"
     ]
    }
   ],
   "source": [
    "def psaVedGetDayDifferance():\n",
    "    import pandas as pd\n",
    "    df = pd.read_csv('ufo.csv').head()\n",
    "    df['Date_time'] = df['Date_time'].astype('datetime64[ns]')\n",
    "    df['date_documented'] = df['date_documented'].astype('datetime64[ns]')\n",
    "    print(\"Original Dataframe:\")\n",
    "    print(df.head())\n",
    "    print(\"\\nDifference (in days) between documented date and reporting date of UFO:\")\n",
    "    df['Difference'] = (df['date_documented'] - df['Date_time']).dt.days\n",
    "    print(df)\n",
    "psaVedGetDayDifferance()"
   ]
  },
  {
   "cell_type": "code",
   "execution_count": null,
   "metadata": {
    "colab": {},
    "colab_type": "code",
    "id": "k65mXScTQTBR"
   },
   "outputs": [],
   "source": [
    "Q135. Write a pandas program to generate sequences of fixed-frequency dates andtime spans."
   ]
  },
  {
   "cell_type": "code",
   "execution_count": 31,
   "metadata": {},
   "outputs": [
    {
     "name": "stdout",
     "output_type": "stream",
     "text": [
      "Hourly frequency:\n",
      "DatetimeIndex(['2018-01-01 00:00:00', '2018-01-01 01:00:00',\n",
      "               '2018-01-01 02:00:00', '2018-01-01 03:00:00',\n",
      "               '2018-01-01 04:00:00', '2018-01-01 05:00:00',\n",
      "               '2018-01-01 06:00:00', '2018-01-01 07:00:00',\n",
      "               '2018-01-01 08:00:00', '2018-01-01 09:00:00',\n",
      "               '2018-01-01 10:00:00', '2018-01-01 11:00:00'],\n",
      "              dtype='datetime64[ns]', freq='H')\n",
      "\n",
      "Minutely frequency:\n",
      "DatetimeIndex(['2018-01-01 00:00:00', '2018-01-01 00:01:00',\n",
      "               '2018-01-01 00:02:00', '2018-01-01 00:03:00',\n",
      "               '2018-01-01 00:04:00', '2018-01-01 00:05:00',\n",
      "               '2018-01-01 00:06:00', '2018-01-01 00:07:00',\n",
      "               '2018-01-01 00:08:00', '2018-01-01 00:09:00',\n",
      "               '2018-01-01 00:10:00', '2018-01-01 00:11:00'],\n",
      "              dtype='datetime64[ns]', freq='T')\n",
      "\n",
      "Secondly frequency:\n",
      "DatetimeIndex(['2018-01-01 00:00:00', '2018-01-01 00:00:01',\n",
      "               '2018-01-01 00:00:02', '2018-01-01 00:00:03',\n",
      "               '2018-01-01 00:00:04', '2018-01-01 00:00:05',\n",
      "               '2018-01-01 00:00:06', '2018-01-01 00:00:07',\n",
      "               '2018-01-01 00:00:08', '2018-01-01 00:00:09',\n",
      "               '2018-01-01 00:00:10', '2018-01-01 00:00:11'],\n",
      "              dtype='datetime64[ns]', freq='S')\n",
      "nMultiple Hourly frequency:\n",
      "DatetimeIndex(['2018-01-01 00:00:00', '2018-01-01 02:00:00',\n",
      "               '2018-01-01 04:00:00', '2018-01-01 06:00:00',\n",
      "               '2018-01-01 08:00:00', '2018-01-01 10:00:00',\n",
      "               '2018-01-01 12:00:00', '2018-01-01 14:00:00',\n",
      "               '2018-01-01 16:00:00', '2018-01-01 18:00:00',\n",
      "               '2018-01-01 20:00:00', '2018-01-01 22:00:00'],\n",
      "              dtype='datetime64[ns]', freq='2H')\n",
      "\n",
      "Multiple Minutely frequency:\n",
      "DatetimeIndex(['2018-01-01 00:00:00', '2018-01-01 00:05:00',\n",
      "               '2018-01-01 00:10:00', '2018-01-01 00:15:00',\n",
      "               '2018-01-01 00:20:00', '2018-01-01 00:25:00',\n",
      "               '2018-01-01 00:30:00', '2018-01-01 00:35:00',\n",
      "               '2018-01-01 00:40:00', '2018-01-01 00:45:00',\n",
      "               '2018-01-01 00:50:00', '2018-01-01 00:55:00'],\n",
      "              dtype='datetime64[ns]', freq='5T')\n",
      "\n",
      "Multiple Secondly frequency:\n",
      "DatetimeIndex(['2018-03-30', '2018-06-29', '2018-09-28', '2018-12-31',\n",
      "               '2019-03-29', '2019-06-28', '2019-09-30', '2019-12-31',\n",
      "               '2020-03-31', '2020-06-30', '2020-09-30', '2020-12-31'],\n",
      "              dtype='datetime64[ns]', freq='BQ-DEC')\n",
      "\n",
      "Weekly frequency:\n",
      "DatetimeIndex(['2018-01-07', '2018-01-14', '2018-01-21', '2018-01-28',\n",
      "               '2018-02-04', '2018-02-11', '2018-02-18', '2018-02-25',\n",
      "               '2018-03-04', '2018-03-11', '2018-03-18', '2018-03-25'],\n",
      "              dtype='datetime64[ns]', freq='W-SUN')\n",
      "\n",
      "Combine together day and intraday offsets-1:\n",
      "DatetimeIndex(['2018-01-01 00:00:00', '2018-01-01 02:20:00',\n",
      "               '2018-01-01 04:40:00', '2018-01-01 07:00:00',\n",
      "               '2018-01-01 09:20:00', '2018-01-01 11:40:00',\n",
      "               '2018-01-01 14:00:00', '2018-01-01 16:20:00',\n",
      "               '2018-01-01 18:40:00', '2018-01-01 21:00:00',\n",
      "               '2018-01-01 23:20:00', '2018-01-02 01:40:00'],\n",
      "              dtype='datetime64[ns]', freq='140T')\n",
      "\n",
      "Combine together day and intraday offsets-2:\n",
      "DatetimeIndex([       '2018-01-01 00:00:00', '2018-01-02 00:00:00.000010',\n",
      "               '2018-01-03 00:00:00.000020', '2018-01-04 00:00:00.000030',\n",
      "               '2018-01-05 00:00:00.000040', '2018-01-06 00:00:00.000050',\n",
      "               '2018-01-07 00:00:00.000060', '2018-01-08 00:00:00.000070',\n",
      "               '2018-01-09 00:00:00.000080', '2018-01-10 00:00:00.000090',\n",
      "               '2018-01-11 00:00:00.000100', '2018-01-12 00:00:00.000110'],\n",
      "              dtype='datetime64[ns]', freq='86400000010U')\n"
     ]
    }
   ],
   "source": [
    "def psaVedGenerateSequesnceOfFixedFrequency():\n",
    "    import pandas as pd\n",
    "    dtr = pd.date_range('2018-01-01', periods=12, freq='H')\n",
    "    print(\"Hourly frequency:\")\n",
    "    print(dtr)\n",
    "    dtr = pd.date_range('2018-01-01', periods=12, freq='min')\n",
    "    print(\"\\nMinutely frequency:\")\n",
    "    print(dtr)\n",
    "    dtr = pd.date_range('2018-01-01', periods=12, freq='S')\n",
    "    print(\"\\nSecondly frequency:\")\n",
    "    print(dtr)\n",
    "    dtr = pd.date_range('2018-01-01', periods=12, freq='2H')\n",
    "    print(\"nMultiple Hourly frequency:\")\n",
    "    print(dtr)\n",
    "    dtr = pd.date_range('2018-01-01', periods=12, freq='5min')\n",
    "    print(\"\\nMultiple Minutely frequency:\")\n",
    "    print(dtr)\n",
    "    dtr = pd.date_range('2018-01-01', periods=12, freq='BQ')\n",
    "    print(\"\\nMultiple Secondly frequency:\")\n",
    "    print(dtr)\n",
    "    dtr = pd.date_range('2018-01-01', periods=12, freq='w')\n",
    "    print(\"\\nWeekly frequency:\")\n",
    "    print(dtr)\n",
    "    dtr = pd.date_range('2018-01-01', periods=12, freq='2h20min')\n",
    "    print(\"\\nCombine together day and intraday offsets-1:\")\n",
    "    print(dtr)\n",
    "    dtr = pd.date_range('2018-01-01', periods=12, freq='1D10U')\n",
    "    print(\"\\nCombine together day and intraday offsets-2:\")\n",
    "    print(dtr)\n",
    "psaVedGenerateSequesnceOfFixedFrequency()"
   ]
  },
  {
   "cell_type": "code",
   "execution_count": null,
   "metadata": {
    "colab": {},
    "colab_type": "code",
    "id": "VZiU8mz_QTBV"
   },
   "outputs": [],
   "source": [
    "Q136. Write a pandas program to manipulate and convert date times with timezone information."
   ]
  },
  {
   "cell_type": "code",
   "execution_count": 32,
   "metadata": {},
   "outputs": [
    {
     "name": "stdout",
     "output_type": "stream",
     "text": [
      "DatetimeIndex(['2018-01-01 00:00:00+00:00', '2018-01-01 01:00:00+00:00',\n",
      "               '2018-01-01 02:00:00+00:00'],\n",
      "              dtype='datetime64[ns, UTC]', freq='H')\n",
      "\n",
      "From UTC to America/Los_Angeles:\n",
      "DatetimeIndex(['2017-12-31 16:00:00-08:00', '2017-12-31 17:00:00-08:00',\n",
      "               '2017-12-31 18:00:00-08:00'],\n",
      "              dtype='datetime64[ns, America/Los_Angeles]', freq='H')\n"
     ]
    }
   ],
   "source": [
    "def psaVedManipulateAndConvert():\n",
    "    import pandas as pd\n",
    "    dtt = pd.date_range('2018-01-01', periods=3, freq='H')\n",
    "    dtt = dtt.tz_localize('UTC')\n",
    "    print(dtt)\n",
    "    print(\"\\nFrom UTC to America/Los_Angeles:\")\n",
    "    dtt = dtt.tz_convert('America/Los_Angeles')\n",
    "    print(dtt)\n",
    "psaVedManipulateAndConvert()"
   ]
  },
  {
   "cell_type": "code",
   "execution_count": null,
   "metadata": {
    "colab": {},
    "colab_type": "code",
    "id": "2tSvVg5aQTBa"
   },
   "outputs": [],
   "source": [
    "Q137. Write a pandas program to create the graphical analysis of UFO (unidentified flying object)   Sightings year."
   ]
  },
  {
   "cell_type": "code",
   "execution_count": 34,
   "metadata": {},
   "outputs": [
    {
     "data": {
      "image/png": "[encoded data removed]",
      "text/plain": [
       "<Figure size 1080x576 with 1 Axes>"
      ]
     },
     "metadata": {
      "needs_background": "light"
     },
     "output_type": "display_data"
    }
   ],
   "source": [
    "def psaVedCreateGraphicalAnalysis():\n",
    "    import pandas as pd\n",
    "    import matplotlib.pyplot as plt\n",
    "    import seaborn as sns\n",
    "    df = pd.read_csv('ufo.csv').head(100)\n",
    "    df['Date_time'] = df['Date_time'].astype('datetime64[ns]')\n",
    "    df[\"ufo_yr\"] = df.Date_time.dt.year\n",
    "    years_data = df.ufo_yr.value_counts()\n",
    "    years_index = years_data.index # x ticks\n",
    "    years_values = years_data.get_values()\n",
    "    plt.figure(figsize=(15,8))\n",
    "    plt.xticks(rotation = 60)\n",
    "    plt.title('UFO Sightings by Year')\n",
    "    plt.xlabel(\"Year\")\n",
    "    plt.ylabel(\"Number of reports\")\n",
    "    years_plot = sns.barplot(x=years_index[:60],y=years_values[:60], palette = \"Reds\")\n",
    "psaVedCreateGraphicalAnalysis()"
   ]
  },
  {
   "cell_type": "code",
   "execution_count": null,
   "metadata": {
    "colab": {},
    "colab_type": "code",
    "id": "unZuhTIHQTBe"
   },
   "outputs": [],
   "source": [
    "Q138. Write a pandas program to create a comparison of the top 10 years in which the (UFO)was sighted VS each Month."
   ]
  },
  {
   "cell_type": "code",
   "execution_count": 36,
   "metadata": {},
   "outputs": [
    {
     "name": "stdout",
     "output_type": "stream",
     "text": [
      "\n",
      "Comparison of the top 10 years in which the UFO was sighted vs each month:\n",
      "Date_time  10\n",
      "Date_time    \n",
      "1979        4\n",
      "1988        4\n",
      "1992        4\n",
      "1993        3\n",
      "1994        4\n",
      "1996        4\n",
      "1997        4\n",
      "1998       10\n",
      "1999       11\n",
      "2000        7\n"
     ]
    }
   ],
   "source": [
    "def psaVedComparisionOfTopYears():\n",
    "    import pandas as pd\n",
    "    df = pd.read_csv('ufo.csv').head(100)\n",
    "    df['Date_time'] = df['Date_time'].astype('datetime64[ns]')\n",
    "    most_sightings_years = df['Date_time'].dt.year.value_counts().head(10)\n",
    "    def is_top_years(year):\n",
    "        if year in most_sightings_years.index:\n",
    "            return year\n",
    "    month_vs_year = df.pivot_table(columns=df['Date_time'].dt.month,index=df['Date_time'].dt.year.apply(is_top_years),aggfunc='count',values='city')\n",
    "    month_vs_year.index = month_vs_year.index.astype(int)\n",
    "    month_vs_year.columns = month_vs_year.columns.astype(int)\n",
    "    print(\"\\nComparison of the top 10 years in which the UFO was sighted vs each month:\")\n",
    "    print(month_vs_year.head(10))\n",
    "psaVedComparisionOfTopYears()"
   ]
  },
  {
   "cell_type": "code",
   "execution_count": null,
   "metadata": {
    "colab": {},
    "colab_type": "code",
    "id": "3lko3-mWQTBm"
   },
   "outputs": [],
   "source": [
    "Q139. Write a pandas program to create a heatmap(rectangular data asa colour-encoded matrix) for comparison of top 10 years in which (UFO )was sighted VSeach Month."
   ]
  },
  {
   "cell_type": "code",
   "execution_count": 47,
   "metadata": {},
   "outputs": [
    {
     "name": "stdout",
     "output_type": "stream",
     "text": [
      "\n",
      "Heatmap for comparison of the top 10 years in which the UFO was sighted vs each month:\n"
     ]
    },
    {
     "data": {
      "image/png": "[encoded data removed]",
      "text/plain": [
       "<Figure size 720x576 with 2 Axes>"
      ]
     },
     "metadata": {
      "needs_background": "light"
     },
     "output_type": "display_data"
    }
   ],
   "source": [
    "def psaVedCreateHeatMap():\n",
    "    import pandas as pd\n",
    "    import matplotlib.pyplot as plt\n",
    "    import seaborn as sns\n",
    "    df = pd.read_csv('ufo.csv').head(380)\n",
    "    df['Date_time'] = df['Date_time'].astype('datetime64[ns]')\n",
    "    most_sightings_years = df['Date_time'].dt.year.value_counts().head(10)\n",
    "    def is_top_years(year):\n",
    "        if year in most_sightings_years.index:\n",
    "            return year\n",
    "    month_vs_year = df.pivot_table(columns=df['Date_time'].dt.month,index=df['Date_time'].dt.year.apply(is_top_years),aggfunc='count',values='city')\n",
    "    month_vs_year.columns = month_vs_year.columns.astype(int)\n",
    "    print(\"\\nHeatmap for comparison of the top 10 years in which the UFO was sighted vs each month:\")\n",
    "    plt.figure(figsize=(10,8))\n",
    "    ax = sns.heatmap(month_vs_year, vmin=0, vmax=4)\n",
    "    ax.set_xlabel('Month').set_size(20)\n",
    "    ax.set_ylabel('Year').set_size(20)\n",
    "psaVedCreateHeatMap()"
   ]
  },
  {
   "cell_type": "code",
   "execution_count": null,
   "metadata": {
    "colab": {},
    "colab_type": "code",
    "id": "TPsCoEMxQTBr"
   },
   "outputs": [],
   "source": [
    "Q140. Write a pandas program to create a Time wheel of Hour VS Year comparison of the top 10 years in which the (UFO)was sighted."
   ]
  },
  {
   "cell_type": "code",
   "execution_count": 49,
   "metadata": {},
   "outputs": [
    {
     "name": "stdout",
     "output_type": "stream",
     "text": [
      "\n",
      "Comparison of the top 10 years in which the UFO was sighted vs each month:\n"
     ]
    },
    {
     "data": {
      "image/png": "[encoded data removed]",
      "text/plain": [
       "<Figure size 576x576 with 1 Axes>"
      ]
     },
     "metadata": {},
     "output_type": "display_data"
    }
   ],
   "source": [
    "def psaVedCreateTimeWheelOfHoursVsYear():\n",
    "    import pandas as pd\n",
    "    import matplotlib.pyplot as plt\n",
    "    import matplotlib as mpl\n",
    "    import matplotlib.cm as cm\n",
    "    df = pd.read_csv(r'ufo.csv').head(370)\n",
    "    df['Date_time'] = df['Date_time'].astype('datetime64[ns]')\n",
    "    most_sightings_years = df['Date_time'].dt.year.value_counts().head(10)\n",
    "    def is_top_years(year):\n",
    "        if year in most_sightings_years.index:\n",
    "            return year\n",
    "    month_vs_year = df.pivot_table(columns=df['Date_time'].dt.month,index=df['Date_time'].dt.year.apply(is_top_years),aggfunc='count',values='city')\n",
    "    month_vs_year.index = month_vs_year.index.astype(int)\n",
    "    month_vs_year.columns = month_vs_year.columns.astype(int)\n",
    "    print(\"\\nComparison of the top 10 years in which the UFO was sighted vs each month:\")\n",
    "    def pie_heatmap(table, cmap='coolwarm_r', vmin=None,\n",
    "    vmax=None,inner_r=0.25, pie_args={}):\n",
    "        n, m = table.shape\n",
    "        vmin= table.min().min() if vmin is None else vmin\n",
    "        vmax= table.max().max() if vmax is None else vmax\n",
    "        centre_circle = plt.Circle((0,0),inner_r,edgecolor='black',facecolor='white',fill=True,linewidth=0.25)\n",
    "        plt.gcf().gca().add_artist(centre_circle)\n",
    "        norm = mpl.colors.Normalize(vmin=vmin, vmax=vmax)\n",
    "        cmapper = cm.ScalarMappable(norm=norm, cmap=cmap)\n",
    "        for i, (row_name, row) in enumerate(table.iterrows()):\n",
    "            labels = None if i > 0 else table.columns\n",
    "            wedges = plt.pie([1] * m,radius=inner_r+float(n-i)/n,colors=[cmapper.to_rgba(x) for x in row.values],labels=labels, startangle=90, counterclock=False, wedgeprops={'linewidth':-1}, **pie_args)\n",
    "            plt.setp(wedges[0], edgecolor='grey',linewidth=1.5)\n",
    "            wedges = plt.pie([1], radius=inner_r+float(n-i-1)/n, colors=['w'],labels=[row_name], startangle=-90, wedgeprops={'linewidth':0})\n",
    "            plt.setp(wedges[0], edgecolor='grey',linewidth=1.5)\n",
    "    plt.figure(figsize=(8,8))\n",
    "    plt.title(\"Timewheel of Hour Vs Year\",y=1.08,fontsize=30)\n",
    "    pie_heatmap(month_vs_year, vmin=-20,vmax=80,inner_r=0.2)\n",
    "psaVedCreateTimeWheelOfHoursVsYear()"
   ]
  },
  {
   "cell_type": "code",
   "execution_count": null,
   "metadata": {
    "colab": {},
    "colab_type": "code",
    "id": "PPsBT3IjQTBv"
   },
   "outputs": [],
   "source": [
    "Q141. Write a python program to draw the line using given axis values with the suitable label in the x-axis, y-axis,and a title."
   ]
  },
  {
   "cell_type": "code",
   "execution_count": 51,
   "metadata": {},
   "outputs": [
    {
     "data": {
      "image/png": "[encoded data removed]",
      "text/plain": [
       "<Figure size 432x288 with 1 Axes>"
      ]
     },
     "metadata": {
      "needs_background": "light"
     },
     "output_type": "display_data"
    }
   ],
   "source": [
    "def psaVedDrawLine():\n",
    "    import matplotlib.pyplot as plt\n",
    "    x = [1,2,3]\n",
    "    y = [2,4,1]\n",
    "    plt.plot(x, y)\n",
    "    plt.xlabel('x - axis')\n",
    "    plt.ylabel('y - axis')\n",
    "    plt.title('Sample graph!')\n",
    "    plt.show()\n",
    "psaVedDrawLine()"
   ]
  },
  {
   "cell_type": "code",
   "execution_count": null,
   "metadata": {
    "colab": {},
    "colab_type": "code",
    "id": "zYF4zksXQTBy"
   },
   "outputs": [],
   "source": [
    "Q142. Write a python program to draw the line charts of the financial data of the Alphabet Inc., between October."
   ]
  },
  {
   "cell_type": "code",
   "execution_count": 54,
   "metadata": {},
   "outputs": [],
   "source": [
    "no fdata.csv found"
   ]
  },
  {
   "cell_type": "code",
   "execution_count": null,
   "metadata": {
    "colab": {},
    "colab_type": "code",
    "id": "tSGs0ZQzQTB1"
   },
   "outputs": [],
   "source": [
    "Q143. Write a Python program to plot two or more lines on same plot with the suitable legends of each line."
   ]
  },
  {
   "cell_type": "code",
   "execution_count": 55,
   "metadata": {},
   "outputs": [
    {
     "data": {
      "image/png": "[encoded data removed]",
      "text/plain": [
       "<Figure size 432x288 with 1 Axes>"
      ]
     },
     "metadata": {
      "needs_background": "light"
     },
     "output_type": "display_data"
    }
   ],
   "source": [
    "def psaVedPlotTwoOrMoreLine():\n",
    "    import matplotlib.pyplot as plt\n",
    "    # line 1 points\n",
    "    x1 = [10,20,30]\n",
    "    y1 = [20,40,10]\n",
    "    # plotting the line 1 points\n",
    "    plt.plot(x1, y1, label = \"line 1\")\n",
    "    # line 2 points\n",
    "    x2 = [10,20,30]\n",
    "    y2 = [40,10,30]\n",
    "    # plotting the line 2 points\n",
    "    plt.plot(x2, y2, label = \"line 2\")\n",
    "    plt.xlabel('x - axis')\n",
    "    # Set the y axis label of the current axis.\n",
    "    plt.ylabel('y - axis')\n",
    "    # Set a title of the current axes.\n",
    "    plt.title('Two or more lines on same plot with suitable legends ')\n",
    "    # show a legend on the plot\n",
    "    plt.legend()\n",
    "    # Display a figure.\n",
    "    plt.show()\n",
    "psaVedPlotTwoOrMoreLine()"
   ]
  },
  {
   "cell_type": "code",
   "execution_count": null,
   "metadata": {
    "colab": {},
    "colab_type": "code",
    "id": "SEKLTHKEQTB5"
   },
   "outputs": [],
   "source": [
    "Q144. Write a python programming to display a bar chart of the popularity of programming languages."
   ]
  },
  {
   "cell_type": "code",
   "execution_count": 57,
   "metadata": {},
   "outputs": [
    {
     "data": {
      "image/png": "[encoded data removed]",
      "text/plain": [
       "<Figure size 432x288 with 1 Axes>"
      ]
     },
     "metadata": {
      "needs_background": "light"
     },
     "output_type": "display_data"
    }
   ],
   "source": [
    "def psaVedDisplayBarChart():\n",
    "    import matplotlib.pyplot as plt\n",
    "    x = ['Java', 'Python', 'PHP', 'JavaScript', 'C#', 'C++']\n",
    "    popularity = [22.2, 17.6, 8.8, 8, 7.7, 6.7]\n",
    "    x_pos = [i for i, _ in enumerate(x)]\n",
    "    plt.bar(x_pos, popularity, color='blue')\n",
    "    plt.xlabel(\"Languages\")\n",
    "    plt.ylabel(\"Popularity\")\n",
    "    plt.title(\"PopularitY of Programming Language\\n\" + \"Worldwide, Oct 2017 compared to a year ago\")\n",
    "    plt.xticks(x_pos, x)\n",
    "    # Turn on the grid\n",
    "    plt.minorticks_on()\n",
    "    plt.grid(which='major', linestyle='-', linewidth='0.5', color='red')\n",
    "    # Customize the minor grid\n",
    "    plt.grid(which='minor', linestyle=':', linewidth='0.5', color='black')\n",
    "    plt.show()\n",
    "psaVedDisplayBarChart()"
   ]
  },
  {
   "cell_type": "code",
   "execution_count": null,
   "metadata": {
    "colab": {},
    "colab_type": "code",
    "id": "NwiGeATzQTB-"
   },
   "outputs": [],
   "source": [
    "Q145. Write a python programming to display a horizontal bar chart of the popularity of programming languages."
   ]
  },
  {
   "cell_type": "code",
   "execution_count": 58,
   "metadata": {},
   "outputs": [
    {
     "data": {
      "image/png": "[encoded data removed]",
      "text/plain": [
       "<Figure size 432x288 with 1 Axes>"
      ]
     },
     "metadata": {
      "needs_background": "light"
     },
     "output_type": "display_data"
    }
   ],
   "source": [
    "def psaVedDisplayHorizontalBarChart():\n",
    "    import matplotlib.pyplot as plt\n",
    "    x = ['Java', 'Python', 'PHP', 'JS', 'C#', 'C++']\n",
    "    popularity = [22.2, 17.6, 8.8, 8, 7.7, 6.7]\n",
    "    x_pos = [i for i, _ in enumerate(x)]\n",
    "    plt.barh(x_pos, popularity, color='green')\n",
    "    plt.xlabel(\"Popularity\")\n",
    "    plt.ylabel(\"Languages\")\n",
    "    plt.title(\"PopularitY of Programming Language\\n\" + \"Worldwide, Oct 2017 compared to a year ago\")\n",
    "    plt.yticks(x_pos, x)\n",
    "    # Turn on the grid\n",
    "    plt.minorticks_on()\n",
    "    plt.grid(which='major', linestyle='-', linewidth='0.5', color='red')\n",
    "    # Customize the minor grid\n",
    "    plt.grid(which='minor', linestyle=':', linewidth='0.5', color='black')\n",
    "    plt.show()\n",
    "psaVedDisplayHorizontalBarChart()"
   ]
  },
  {
   "cell_type": "code",
   "execution_count": null,
   "metadata": {
    "colab": {},
    "colab_type": "code",
    "id": "YLdVASrnQTCC"
   },
   "outputs": [],
   "source": [
    "Q146. Write a python programming to display a bar chart of the Popularity of programming languages. Increase bottom margin."
   ]
  },
  {
   "cell_type": "code",
   "execution_count": 59,
   "metadata": {},
   "outputs": [
    {
     "data": {
      "image/png": "[encoded data removed]",
      "text/plain": [
       "<Figure size 432x288 with 1 Axes>"
      ]
     },
     "metadata": {
      "needs_background": "light"
     },
     "output_type": "display_data"
    }
   ],
   "source": [
    "def psaVedDisplayChartOfPopularityOfProgramming():\n",
    "    import matplotlib.pyplot as plt\n",
    "    x = ['Java', 'Python', 'PHP', 'JavaScript', 'C#', 'C++']\n",
    "    popularity = [22.2, 17.6, 8.8, 8, 7.7, 6.7]\n",
    "    x_pos = [i for i, _ in enumerate(x)]\n",
    "    plt.bar(x_pos, popularity, color=(0.4, 0.6, 0.8, 1.0))\n",
    "    plt.xlabel(\"Languages\")\n",
    "    plt.ylabel(\"Popularity\")\n",
    "    plt.title(\"PopularitY of Programming Language\\n\" + \"Worldwide, Oct 2017 compared to a year ago\")\n",
    "    # Rotation of the bars names\n",
    "    plt.xticks(x_pos, x, rotation=90)\n",
    "    # Custom the subplot layout\n",
    "    plt.subplots_adjust(bottom=0.4, top=.8)\n",
    "    # Turn on the grid\n",
    "    plt.minorticks_on()\n",
    "    plt.grid(which='major', linestyle='-', linewidth='0.5', color='red')\n",
    "    # Customize the minor grid\n",
    "    plt.grid(which='minor', linestyle=':', linewidth='0.5', color='black')\n",
    "    plt.show()\n",
    "psaVedDisplayChartOfPopularityOfProgramming()"
   ]
  },
  {
   "cell_type": "code",
   "execution_count": null,
   "metadata": {
    "colab": {},
    "colab_type": "code",
    "id": "V9nfqKcKQTCL"
   },
   "outputs": [],
   "source": [
    "Q147. Write a python program to create the bar plot from a DataFrame."
   ]
  },
  {
   "cell_type": "code",
   "execution_count": 60,
   "metadata": {},
   "outputs": [
    {
     "data": {
      "image/png": "[encoded data removed]",
      "text/plain": [
       "<Figure size 432x288 with 1 Axes>"
      ]
     },
     "metadata": {
      "needs_background": "light"
     },
     "output_type": "display_data"
    }
   ],
   "source": [
    "def psaVedCreateBarFromDataset():\n",
    "    from pandas import DataFrame\n",
    "    import matplotlib.pyplot as plt\n",
    "    import numpy as np\n",
    "    a=np.array([[4,8,5,7,6],[2,3,4,2,6],[4,7,4,7,8],[2,6,4,8,6],[2,4,3,3,2]])\n",
    "    df=DataFrame(a, columns=['a','b','c','d','e'], index=[2,4,6,8,10])\n",
    "    df.plot(kind='bar')\n",
    "    # Turn on the grid\n",
    "    plt.minorticks_on()\n",
    "    plt.grid(which='major', linestyle='-', linewidth='0.5', color='green')\n",
    "    plt.grid(which='minor', linestyle=':', linewidth='0.5', color='black')\n",
    "    plt.show()\n",
    "psaVedCreateBarFromDataset()"
   ]
  },
  {
   "cell_type": "code",
   "execution_count": null,
   "metadata": {
    "colab": {},
    "colab_type": "code",
    "id": "EDbJDOJ3QTCR"
   },
   "outputs": [],
   "source": [
    "Q148. Write a python program to draw the scatter plot comparing two subject marks of Mathematics and Science. \n",
    "Use marks of 10 students."
   ]
  },
  {
   "cell_type": "code",
   "execution_count": 61,
   "metadata": {},
   "outputs": [
    {
     "data": {
      "image/png": "[encoded data removed]",
      "text/plain": [
       "<Figure size 432x288 with 1 Axes>"
      ]
     },
     "metadata": {
      "needs_background": "light"
     },
     "output_type": "display_data"
    }
   ],
   "source": [
    "def psaVedScatterPlotForComparision():\n",
    "    import matplotlib.pyplot as plt\n",
    "    import pandas as pd\n",
    "    math_marks = [88, 92, 80, 89, 100, 80, 60, 100, 80, 34]\n",
    "    science_marks = [35, 79, 79, 48, 100, 88, 32, 45, 20, 30]\n",
    "    marks_range = [10, 20, 30, 40, 50, 60, 70, 80, 90, 100]\n",
    "    plt.scatter(marks_range, math_marks, label='Math marks', color='r')\n",
    "    plt.scatter(marks_range, science_marks, label='Science marks', color='g')\n",
    "    plt.title('Scatter Plot')\n",
    "    plt.xlabel('Marks Range')\n",
    "    plt.ylabel('Marks Scored')\n",
    "    plt.legend()\n",
    "    plt.show()\n",
    "psaVedScatterPlotForComparision()"
   ]
  },
  {
   "cell_type": "code",
   "execution_count": null,
   "metadata": {
    "colab": {},
    "colab_type": "code",
    "id": "-Sa2ncS6QTCV"
   },
   "outputs": [],
   "source": [
    "Q149. Write a python program to draw the scatter plot for three different groups comparing weights and heights."
   ]
  },
  {
   "cell_type": "code",
   "execution_count": 70,
   "metadata": {},
   "outputs": [
    {
     "data": {
      "image/png": "[encoded data removed]",
      "text/plain": [
       "<Figure size 432x288 with 1 Axes>"
      ]
     },
     "metadata": {
      "needs_background": "light"
     },
     "output_type": "display_data"
    }
   ],
   "source": [
    "def psaVedDrawScatterForDiffrentGroup():\n",
    "    import matplotlib.pyplot as plt\n",
    "    import numpy as np \n",
    "    weight1=[67,57.2,59.6,59.64,55.8,61.2,60.45,61,56.23,56]\n",
    "    height1=[101.7,197.6,98.3,125.1,113.7,157.7,136,148.9,125.3,114.9] \n",
    "    weight2=[61.9,64,62.1,64.2,62.3,65.4,62.4,61.4,62.5,63.6]\n",
    "    height2=[152.8,155.3,135.1,125.2,151.3,135,182.2,195.9,165.1,125.1] \n",
    "    weight3=[68.2,67.2,68.4,68.7,71,71.3,70.8,70,71.1,71.7]\n",
    "    height3=[165.8,170.9,192.8,135.4,161.4,136.1,167.1,235.1,181.1,177.3]\n",
    "    weight=np.concatenate((weight1,weight2,weight3))\n",
    "    height=np.concatenate((height1,height2,height3))\n",
    "#     plt.scatter(weight1, height1, marker='*', color=['red','green','blue'])\n",
    "    plt.scatter(weight, height)\n",
    "    plt.xlabel('weight', fontsize=16)\n",
    "    plt.ylabel('height', fontsize=16)\n",
    "    plt.title('Group wise Weight vs Height scatter plot',fontsize=20)\n",
    "    plt.show()\n",
    "psaVedDrawScatterForDiffrentGroup()"
   ]
  },
  {
   "cell_type": "code",
   "execution_count": null,
   "metadata": {
    "colab": {},
    "colab_type": "code",
    "id": "iGg-KrUMQTCf"
   },
   "outputs": [],
   "source": [
    "Q150. Write a python program to draw a scatter plot to find sea-level rise in past 100 years."
   ]
  },
  {
   "cell_type": "code",
   "execution_count": 15,
   "metadata": {},
   "outputs": [
    {
     "data": {
      "image/png": "[encoded data removed]",
      "text/plain": [
       "<Figure size 432x288 with 1 Axes>"
      ]
     },
     "metadata": {
      "needs_background": "light"
     },
     "output_type": "display_data"
    }
   ],
   "source": [
    "def psaVedFindSeeLevel():\n",
    "    import matplotlib.pyplot as plt\n",
    "    import pandas as pd\n",
    "    import numpy as np\n",
    "    data = pd.DataFrame()\n",
    "    data['year'] = np.arange(1900,2001)\n",
    "    data['CSIRO_sea_level'] = np.random.randn(101)\n",
    "    year = data['year']\n",
    "    sea_levels = data['CSIRO_sea_level']\n",
    "    plt.scatter(year, sea_levels, edgecolors='green')\n",
    "    plt.xlabel('Year')\n",
    "    plt.ylabel('Sea Level (inches)')\n",
    "    plt.title('Rise in Sealevel')\n",
    "    plt.show()\n",
    "psaVedFindSeeLevel()"
   ]
  },
  {
   "cell_type": "code",
   "execution_count": null,
   "metadata": {},
   "outputs": [],
   "source": []
  }
 ],
 "metadata": {
  "colab": {
   "name": "PythonSubjectiveAssignement.ipynb",
   "provenance": []
  },
  "kernelspec": {
   "display_name": "Python 3",
   "language": "python",
   "name": "python3"
  },
  "language_info": {
   "codemirror_mode": {
    "name": "ipython",
    "version": 3
   },
   "file_extension": ".py",
   "mimetype": "text/x-python",
   "name": "python",
   "nbconvert_exporter": "python",
   "pygments_lexer": "ipython3",
   "version": "3.7.1"
  }
 },
 "nbformat": 4,
 "nbformat_minor": 2
}
