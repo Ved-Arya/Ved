{
 "cells": [
  {
   "cell_type": "markdown",
   "metadata": {},
   "source": [
    "1.How can we create an iterator object from a list?\n",
    "ANS =>    a) Bypassing the given list to the iter() function."
   ]
  },
  {
   "cell_type": "code",
   "execution_count": null,
   "metadata": {},
   "outputs": [],
   "source": [
    "2.If the function contains at least of one “yield” statement,the nit becomes ______\n",
    "ANS => b) a generator function"
   ]
  },
  {
   "cell_type": "markdown",
   "metadata": {},
   "source": [
    "3. What is the output of the code?"
   ]
  },
  {
   "cell_type": "code",
   "execution_count": 1,
   "metadata": {},
   "outputs": [
    {
     "name": "stdout",
     "output_type": "stream",
     "text": [
      "1 9\n"
     ]
    }
   ],
   "source": [
    "mylist=[1,3,6,10]\n",
    "a=(x**2 for x in mylist)\n",
    "print(next(a),next(a))"
   ]
  },
  {
   "cell_type": "code",
   "execution_count": null,
   "metadata": {},
   "outputs": [],
   "source": [
    "ANS => b) 1 9"
   ]
  },
  {
   "cell_type": "code",
   "execution_count": null,
   "metadata": {},
   "outputs": [],
   "source": [
    "4. What are the criteria that must be met to create closure in Python? \n",
    "ANS => D) ALL\n",
    "    a) The program Must have thefunction inside thefunction.\n",
    "    b) Thenested function must refer to thevalue defined in the enclosing function.\n",
    "    c) The enclosing function must return the nested"
   ]
  },
  {
   "cell_type": "code",
   "execution_count": null,
   "metadata": {},
   "outputs": [],
   "source": [
    "5. What is the output of the code?"
   ]
  },
  {
   "cell_type": "code",
   "execution_count": 2,
   "metadata": {},
   "outputs": [
    {
     "name": "stdout",
     "output_type": "stream",
     "text": [
      "50\n"
     ]
    }
   ],
   "source": [
    "def Foo(n):\n",
    "\tdef multiplier(x):\n",
    "\t\treturn x*n \n",
    "\treturn multiplier\n",
    "a=Foo(5)\n",
    "b=Foo(5)\n",
    "print(a(b(2)))"
   ]
  },
  {
   "cell_type": "code",
   "execution_count": null,
   "metadata": {},
   "outputs": [],
   "source": [
    "ANS => d) 50"
   ]
  },
  {
   "cell_type": "code",
   "execution_count": null,
   "metadata": {},
   "outputs": [],
   "source": [
    "6. What is the output of the code?"
   ]
  },
  {
   "cell_type": "code",
   "execution_count": 3,
   "metadata": {},
   "outputs": [
    {
     "name": "stdout",
     "output_type": "stream",
     "text": [
      "Igotdecorated\n",
      "Iamordinary\n"
     ]
    }
   ],
   "source": [
    "def make_pretty(func):\n",
    "\tdef inner():\n",
    "\t\tprint(\"Igotdecorated\")\n",
    "\t\tfunc()\n",
    "\treturn inner\n",
    "\t\n",
    "def ordinary():\n",
    "\tprint(\"Iamordinary\")\n",
    "\t\n",
    "pretty=make_pretty(ordinary)\n",
    "pretty()"
   ]
  },
  {
   "cell_type": "code",
   "execution_count": null,
   "metadata": {},
   "outputs": [],
   "source": [
    "ANS => c) I got decorated\n",
    "            I am ordinary"
   ]
  },
  {
   "cell_type": "code",
   "execution_count": null,
   "metadata": {},
   "outputs": [],
   "source": [
    "7. What is the more pythonic way to use getters and setters?\n",
    "ANS => a)Decorators"
   ]
  },
  {
   "cell_type": "code",
   "execution_count": null,
   "metadata": {},
   "outputs": [],
   "source": [
    "8. In Python, there is a built-in function property() that returns a property object. The property object has which of the methods?\n",
    "ANS => b)getter(), setter() and delete()"
   ]
  },
  {
   "cell_type": "code",
   "execution_count": null,
   "metadata": {},
   "outputs": [],
   "source": [
    "9. Which of the following statement is true?\n",
    "ANS => D) NONE OF THESE\n",
    "a)You cannot chain multiple decorators in Python.\n",
    "b)Decorators don’t work with functions that take parameters.\n",
    "c)The @ symbol doesn’t have any use while using decorators."
   ]
  },
  {
   "cell_type": "code",
   "execution_count": null,
   "metadata": {},
   "outputs": [],
   "source": [
    "10. For the following codes, which of the following statements is true?"
   ]
  },
  {
   "cell_type": "code",
   "execution_count": 5,
   "metadata": {},
   "outputs": [
    {
     "name": "stdout",
     "output_type": "stream",
     "text": [
      "Hello\n"
     ]
    }
   ],
   "source": [
    "def printHello():\n",
    "\tprint(\"Hello\")\n",
    "a=printHello()"
   ]
  },
  {
   "cell_type": "code",
   "execution_count": null,
   "metadata": {},
   "outputs": [],
   "source": [
    "ANS => b)Both printHello() and thereferencetothe same object."
   ]
  },
  {
   "cell_type": "code",
   "execution_count": null,
   "metadata": {},
   "outputs": [],
   "source": [
    "11. What is the output of the program?"
   ]
  },
  {
   "cell_type": "code",
   "execution_count": 6,
   "metadata": {},
   "outputs": [
    {
     "name": "stdout",
     "output_type": "stream",
     "text": [
      "a= 20\n"
     ]
    }
   ],
   "source": [
    "def outerFunction():\n",
    "\tglobal a\n",
    "\ta=20\n",
    "\tdef innerFunction():\n",
    "\t\tglobal a \n",
    "\t\ta=30\n",
    "\t\tprint('a=',a)\n",
    "a=10\n",
    "outerFunction()\n",
    "print('a=',a)"
   ]
  },
  {
   "cell_type": "code",
   "execution_count": null,
   "metadata": {},
   "outputs": [],
   "source": [
    "12. Which of the following statements is true?\n",
    "ANS => a)A class is a blueprint for the object.\n",
    "a)A class is a blueprint for the object.\n",
    "b)You can only make thesingle object from the given class\n",
    "c)Both statements are true.\n",
    "d)Neither statement is true."
   ]
  },
  {
   "cell_type": "code",
   "execution_count": null,
   "metadata": {},
   "outputs": [],
   "source": [
    "13. What is the output of the code?"
   ]
  },
  {
   "cell_type": "code",
   "execution_count": 7,
   "metadata": {},
   "outputs": [
    {
     "name": "stdout",
     "output_type": "stream",
     "text": [
      "Java\n"
     ]
    }
   ],
   "source": [
    "class Foo:\n",
    "\tdef printLine(self,line='Python'):\n",
    "\t\tprint(line)\n",
    "\t\t\n",
    "o1=Foo()\n",
    "o1.printLine('Java')"
   ]
  },
  {
   "cell_type": "code",
   "execution_count": null,
   "metadata": {},
   "outputs": [],
   "source": [
    "ANS => c)Java"
   ]
  },
  {
   "cell_type": "code",
   "execution_count": null,
   "metadata": {},
   "outputs": [],
   "source": [
    "14. What is the function of the __init__()functionin Python?\n",
    "ANS => a)Initialises the class for use."
   ]
  },
  {
   "cell_type": "code",
   "execution_count": null,
   "metadata": {},
   "outputs": [],
   "source": [
    "15. What is the output of the code?"
   ]
  },
  {
   "cell_type": "code",
   "execution_count": 9,
   "metadata": {},
   "outputs": [
    {
     "name": "stdout",
     "output_type": "stream",
     "text": [
      "1 1\n"
     ]
    }
   ],
   "source": [
    "class Point:\n",
    "\tdef __init__(self,x=0,y=0):\n",
    "\t\tself.x=x+1\n",
    "\t\tself.y=y+1\n",
    "p1=Point()\n",
    "print(p1.x,p1.y)"
   ]
  },
  {
   "cell_type": "code",
   "execution_count": null,
   "metadata": {},
   "outputs": [],
   "source": [
    "ANS => b)1 1"
   ]
  },
  {
   "cell_type": "code",
   "execution_count": null,
   "metadata": {},
   "outputs": [],
   "source": [
    "16. Which of the following code used the inheritance feature?"
   ]
  },
  {
   "cell_type": "code",
   "execution_count": null,
   "metadata": {},
   "outputs": [],
   "source": [
    "class Foo:\n",
    "\tpass\n",
    "class Hoo(Foo):\n",
    "\tpass"
   ]
  },
  {
   "cell_type": "code",
   "execution_count": null,
   "metadata": {},
   "outputs": [],
   "source": [
    "17 If you a class is derived from two different classes, it’s called ______ \n",
    "ANS => b)Multiple Inheritance"
   ]
  },
  {
   "cell_type": "code",
   "execution_count": null,
   "metadata": {},
   "outputs": [],
   "source": [
    "18. Which of the following statements is true?\n",
    "ANS=> D) ALL\n",
    "a)In Python, the same operator may behave differently dependsupon the operands.\n",
    "b)You can change the way operators which behave in Python.\n",
    "c)Special method __add()__ is called when + operator"
   ]
  },
  {
   "cell_type": "code",
   "execution_count": null,
   "metadata": {},
   "outputs": [],
   "source": [
    "19. What is the output of the code?"
   ]
  },
  {
   "cell_type": "code",
   "execution_count": 12,
   "metadata": {},
   "outputs": [
    {
     "name": "stdout",
     "output_type": "stream",
     "text": [
      "4 6\n"
     ]
    }
   ],
   "source": [
    "class Point:\n",
    "\tdef __init__(self,x=0,y=0):\n",
    "\t\tself.x=x\n",
    "\t\tself.y=y\n",
    "\tdef __sub__(self,other):\n",
    "\t\tx=self.x+other.x\n",
    "\t\ty=self.y+other.y\n",
    "\t\treturn Point(x,y)\n",
    "p1=Point(3,4)\n",
    "p2=Point(1,2)\n",
    "result=p1-p2\n",
    "print(result.x,result.y)"
   ]
  },
  {
   "cell_type": "code",
   "execution_count": null,
   "metadata": {},
   "outputs": [],
   "source": [
    "ANS => b)4 6"
   ]
  },
  {
   "cell_type": "code",
   "execution_count": null,
   "metadata": {},
   "outputs": [],
   "source": [
    "20. Opening a file in‘a’mode\n",
    "ANS => c)opens thefile for appending,at the end offile"
   ]
  },
  {
   "cell_type": "code",
   "execution_count": null,
   "metadata": {},
   "outputs": [],
   "source": [
    "21. What does the following code do?\n",
    "f=open(\"test.txt\")\n",
    "ANS => b)Opens test.txt file for reading only"
   ]
  },
  {
   "cell_type": "code",
   "execution_count": null,
   "metadata": {},
   "outputs": [],
   "source": [
    "22. Which of the codes closes filesautomatically if an exception occurs?\n",
    "ANS => a) with open(\"test.txt\",encoding='utf-8') as f:"
   ]
  },
  {
   "cell_type": "code",
   "execution_count": null,
   "metadata": {},
   "outputs": [],
   "source": [
    "23. For the following code"
   ]
  },
  {
   "cell_type": "code",
   "execution_count": null,
   "metadata": {},
   "outputs": [],
   "source": [
    "f=open('test.txt','r',encoding='utf-8')\n",
    "f.read()\n",
    "a)This program reads the content of the test.txt file.\n",
    "b)If test.txt contains a newline, read() will return the newline as ‘\\n’.\n",
    "c)You can pass an integer to the read() method"
   ]
  },
  {
   "cell_type": "code",
   "execution_count": null,
   "metadata": {},
   "outputs": [],
   "source": [
    "ANS => D) ALL OF THESE"
   ]
  },
  {
   "cell_type": "code",
   "execution_count": null,
   "metadata": {},
   "outputs": [],
   "source": [
    "24. What does the following code do?"
   ]
  },
  {
   "cell_type": "code",
   "execution_count": null,
   "metadata": {},
   "outputs": [],
   "source": [
    "os.listdir()\n",
    "ANS => \n",
    "a)Prints the current working directory.\n",
    "B)Prints the current working directory."
   ]
  },
  {
   "cell_type": "code",
   "execution_count": null,
   "metadata": {},
   "outputs": [],
   "source": [
    "25. Which of the following is correct\n",
    "ANS => a)An exception is an error that occurs inthe runtime."
   ]
  },
  {
   "cell_type": "code",
   "execution_count": null,
   "metadata": {},
   "outputs": [],
   "source": [
    "26.What will happen if we try to open thefile that doesn’t exist?\n",
    "ANS => a)A new file is created."
   ]
  },
  {
   "cell_type": "code",
   "execution_count": null,
   "metadata": {},
   "outputs": [],
   "source": [
    "27. What is the output of the code?"
   ]
  },
  {
   "cell_type": "code",
   "execution_count": 13,
   "metadata": {},
   "outputs": [
    {
     "name": "stdout",
     "output_type": "stream",
     "text": [
      "2.0\n"
     ]
    }
   ],
   "source": [
    "number=5.0\n",
    "try:\n",
    "\tr=10/number\n",
    "\tprint(r)\n",
    "except:\n",
    "\tprint(\"Oops!Erroroccurred.\")"
   ]
  },
  {
   "cell_type": "code",
   "execution_count": null,
   "metadata": {},
   "outputs": [],
   "source": [
    "ANS => b)2.0"
   ]
  },
  {
   "cell_type": "code",
   "execution_count": null,
   "metadata": {},
   "outputs": [],
   "source": [
    "28. What does the following code do?"
   ]
  },
  {
   "cell_type": "code",
   "execution_count": 14,
   "metadata": {},
   "outputs": [],
   "source": [
    "try:\n",
    "\tpass\n",
    "except(TypeError,ZeroDivisionError):\n",
    "\tprint(\"Two\")"
   ]
  },
  {
   "cell_type": "code",
   "execution_count": null,
   "metadata": {},
   "outputs": [],
   "source": [
    "ANS => c)Prints Two iftheTypeError or ZeroDivisionError exception occurs."
   ]
  },
  {
   "cell_type": "code",
   "execution_count": null,
   "metadata": {},
   "outputs": [],
   "source": [
    "29. Which of the following statement is true?\n",
    "ANS => c)You can create a user-defined exception by deriving a class from Error class."
   ]
  },
  {
   "cell_type": "code",
   "execution_count": null,
   "metadata": {},
   "outputs": [],
   "source": [
    "30. Which of the following statement is true?\n",
    "ANS => \n",
    "b)Functions make your program run faster.\n",
    "c)Thefunction is apiece of code that can perform a specific task."
   ]
  },
  {
   "cell_type": "code",
   "execution_count": null,
   "metadata": {},
   "outputs": [],
   "source": [
    "31. What is the output of the code?"
   ]
  },
  {
   "cell_type": "code",
   "execution_count": 16,
   "metadata": {},
   "outputs": [
    {
     "name": "stdout",
     "output_type": "stream",
     "text": [
      "Python is awesome.\n"
     ]
    }
   ],
   "source": [
    "def printLine(text):\n",
    "\tprint(text,'is awesome.')\n",
    "printLine('Python')"
   ]
  },
  {
   "cell_type": "code",
   "execution_count": null,
   "metadata": {},
   "outputs": [],
   "source": [
    "ANS => b)Python is awesome."
   ]
  },
  {
   "cell_type": "code",
   "execution_count": null,
   "metadata": {},
   "outputs": [],
   "source": [
    "32. If the return statement is not used inside the function, the function will return:\n",
    "ANS => b)None object"
   ]
  },
  {
   "cell_type": "code",
   "execution_count": null,
   "metadata": {},
   "outputs": [],
   "source": [
    "33. What is the output of the code?"
   ]
  },
  {
   "cell_type": "code",
   "execution_count": 17,
   "metadata": {},
   "outputs": [
    {
     "name": "stdout",
     "output_type": "stream",
     "text": [
      "Hello ('Frodo', 'Sauron')\n"
     ]
    }
   ],
   "source": [
    "def greetPerson(*name):\n",
    "\tprint('Hello',name)\n",
    "greetPerson('Frodo','Sauron')"
   ]
  },
  {
   "cell_type": "code",
   "execution_count": null,
   "metadata": {},
   "outputs": [],
   "source": [
    "ANS => b)Hello ('Frodo', 'Sauron')"
   ]
  },
  {
   "cell_type": "code",
   "execution_count": null,
   "metadata": {},
   "outputs": [],
   "source": [
    "34. What is a recursive function?\n",
    "ANS => b)A function that calls itself."
   ]
  },
  {
   "cell_type": "code",
   "execution_count": null,
   "metadata": {},
   "outputs": [],
   "source": [
    "35. What is the output of the program?"
   ]
  },
  {
   "cell_type": "code",
   "execution_count": 19,
   "metadata": {},
   "outputs": [
    {
     "name": "stdout",
     "output_type": "stream",
     "text": [
      "25\n"
     ]
    }
   ],
   "source": [
    "result=lambda x:x*x\n",
    "print(result(5))"
   ]
  },
  {
   "cell_type": "code",
   "execution_count": null,
   "metadata": {},
   "outputs": [],
   "source": [
    "ANS => c)25"
   ]
  },
  {
   "cell_type": "code",
   "execution_count": null,
   "metadata": {},
   "outputs": [],
   "source": [
    "36. What is the output of the program?"
   ]
  },
  {
   "cell_type": "code",
   "execution_count": 21,
   "metadata": {},
   "outputs": [
    {
     "name": "stdout",
     "output_type": "stream",
     "text": [
      "10\n"
     ]
    }
   ],
   "source": [
    "def Foo(x):\n",
    "\tif(x==1):\n",
    "\t\treturn 1\n",
    "\telse:\n",
    "\t\treturn x+Foo(x-1)\n",
    "print(Foo(4))"
   ]
  },
  {
   "cell_type": "code",
   "execution_count": null,
   "metadata": {},
   "outputs": [],
   "source": [
    "ANS => a)10"
   ]
  },
  {
   "cell_type": "code",
   "execution_count": null,
   "metadata": {},
   "outputs": [],
   "source": [
    "37. Suppose you need to print pi constant defined in the math module. Which of the following code can do this task?"
   ]
  },
  {
   "cell_type": "code",
   "execution_count": 24,
   "metadata": {},
   "outputs": [
    {
     "name": "stdout",
     "output_type": "stream",
     "text": [
      "3.141592653589793\n",
      "3.141592653589793\n"
     ]
    }
   ],
   "source": [
    "from math import pi\n",
    "print(math.pi)\n",
    "print(pi)"
   ]
  },
  {
   "cell_type": "code",
   "execution_count": null,
   "metadata": {},
   "outputs": [],
   "source": [
    "ANS => C)"
   ]
  },
  {
   "cell_type": "code",
   "execution_count": null,
   "metadata": {},
   "outputs": [],
   "source": [
    "38. Which operator is used in Python to import modules from the packages?\n",
    "ANS => \n",
    "b) * operator\n",
    "d) , operator"
   ]
  },
  {
   "cell_type": "code",
   "execution_count": null,
   "metadata": {},
   "outputs": [],
   "source": [
    "39. What is the output of the code?"
   ]
  },
  {
   "cell_type": "code",
   "execution_count": 25,
   "metadata": {},
   "outputs": [
    {
     "name": "stdout",
     "output_type": "stream",
     "text": [
      "(1, 3, 6)\n"
     ]
    }
   ],
   "source": [
    "numbers=[1,3,6]\n",
    "newNumbers=tuple(map(lambda x:x,numbers))\n",
    "print(newNumbers)"
   ]
  },
  {
   "cell_type": "code",
   "execution_count": null,
   "metadata": {},
   "outputs": [],
   "source": [
    "ANS => b)(1, 3, 6)"
   ]
  },
  {
   "cell_type": "code",
   "execution_count": null,
   "metadata": {},
   "outputs": [],
   "source": [
    "40. What is the output of the code?"
   ]
  },
  {
   "cell_type": "code",
   "execution_count": 27,
   "metadata": {},
   "outputs": [],
   "source": [
    "if None:\n",
    "    print('Hello')"
   ]
  },
  {
   "cell_type": "code",
   "execution_count": null,
   "metadata": {},
   "outputs": [],
   "source": [
    "ANS => c)Nothing will be printed"
   ]
  },
  {
   "cell_type": "code",
   "execution_count": null,
   "metadata": {},
   "outputs": [],
   "source": [
    "41. The if-elif-else executes only one block of code among several blocks.\n",
    "ANS => a)True."
   ]
  },
  {
   "cell_type": "code",
   "execution_count": null,
   "metadata": {},
   "outputs": [],
   "source": [
    "42. What is the output of the code?"
   ]
  },
  {
   "cell_type": "code",
   "execution_count": 29,
   "metadata": {},
   "outputs": [
    {
     "name": "stdout",
     "output_type": "stream",
     "text": [
      "2\n",
      "1\n"
     ]
    }
   ],
   "source": [
    "for i in[1,0]:\n",
    "    print(i+1)"
   ]
  },
  {
   "cell_type": "code",
   "execution_count": null,
   "metadata": {},
   "outputs": [],
   "source": [
    "ANS => A)"
   ]
  },
  {
   "cell_type": "code",
   "execution_count": null,
   "metadata": {},
   "outputs": [],
   "source": [
    "43. In the Python,for and while loop can have the optional else statement?\n",
    "ANS => c)Both loops can have optional else statement"
   ]
  },
  {
   "cell_type": "code",
   "execution_count": null,
   "metadata": {},
   "outputs": [],
   "source": [
    "44. What is the output of the code?"
   ]
  },
  {
   "cell_type": "code",
   "execution_count": 31,
   "metadata": {},
   "outputs": [
    {
     "name": "stdout",
     "output_type": "stream",
     "text": [
      "10\n"
     ]
    }
   ],
   "source": [
    "i=sum=0\n",
    "while i<=4:\n",
    "\tsum+=i\n",
    "\ti=i+1\n",
    "print(sum)"
   ]
  },
  {
   "cell_type": "code",
   "execution_count": null,
   "metadata": {},
   "outputs": [],
   "source": [
    "ANS => b)10"
   ]
  },
  {
   "cell_type": "code",
   "execution_count": null,
   "metadata": {},
   "outputs": [],
   "source": [
    "45. What is the output of the code?"
   ]
  },
  {
   "cell_type": "code",
   "execution_count": null,
   "metadata": {},
   "outputs": [],
   "source": [
    "ANS => c)4is printed infinitely until the program closes"
   ]
  },
  {
   "cell_type": "code",
   "execution_count": null,
   "metadata": {},
   "outputs": [],
   "source": [
    "46. Is it better to use the for loop instead of while if weare iterating through a sequence?\n",
    "ANS => b)Yes, for loop is more pythonic choice."
   ]
  },
  {
   "cell_type": "code",
   "execution_count": null,
   "metadata": {},
   "outputs": [],
   "source": [
    "47. Which of the following statement is true?\n",
    "ANS => D) ALL\n",
    "a)“break”-It terminatesthe loop containing it.\n",
    "b)“continue”-Itis used to skip the rest ofthe code insidethe loops.\n",
    "c)break and continue: Theseare almost always used with if, if...else and if...elif...else statements."
   ]
  },
  {
   "cell_type": "code",
   "execution_count": null,
   "metadata": {},
   "outputs": [],
   "source": [
    "48. What is the output of the code?"
   ]
  },
  {
   "cell_type": "code",
   "execution_count": 32,
   "metadata": {},
   "outputs": [
    {
     "name": "stdout",
     "output_type": "stream",
     "text": [
      "PYTHONSTRING"
     ]
    }
   ],
   "source": [
    "for char in'PYTHONSTRING':\n",
    "    if char=='':\n",
    "        break\n",
    "    print(char,end='')\n",
    "    if char=='O':\n",
    "        continue"
   ]
  },
  {
   "cell_type": "code",
   "execution_count": null,
   "metadata": {},
   "outputs": [],
   "source": [
    "ANS => b)PYTHONSTRING"
   ]
  },
  {
   "cell_type": "code",
   "execution_count": null,
   "metadata": {},
   "outputs": [],
   "source": [
    "49. Which of the statement is true about the “pass”statement?\n",
    "ANS => c)It is used as theplaceholder for future implementation of functions, loops,etc"
   ]
  },
  {
   "cell_type": "code",
   "execution_count": null,
   "metadata": {},
   "outputs": [],
   "source": [
    "50. In regards to separated value files such as.csvand.tsv, what is the delimiter?\n",
    "ANS => c)Any character such as the comma (,) or tab (\\t) that is used to separate thecolumndata."
   ]
  },
  {
   "cell_type": "code",
   "execution_count": null,
   "metadata": {},
   "outputs": [],
   "source": [
    "51. In separated value files such as.csvand.tsv, what does the first row in the file typically contain?\n",
    "ANS => a)The column names of the data."
   ]
  },
  {
   "cell_type": "code",
   "execution_count": null,
   "metadata": {},
   "outputs": [],
   "source": [
    "52. Assume you have a file object my_data, which has properly opened a separated value file that uses the tab character (\\t) as the delimiter.\n",
    "\tWhat is the proper way to open the file using the PythonCSVmodule and assign it to the variable csv_reader?\n",
    "ANS => c)csv.reader(my_data)"
   ]
  },
  {
   "cell_type": "code",
   "execution_count": null,
   "metadata": {},
   "outputs": [],
   "source": [
    "53. When iterating over an object returned fromcsv.reader(), what is returned with each iteration?\n",
    "ANS => b)The row data as a list"
   ]
  },
  {
   "cell_type": "code",
   "execution_count": null,
   "metadata": {},
   "outputs": [],
   "source": [
    "54. When writing to a CSV file using the.writerow()method of thecsv.DictWriterobject, what must each key in the inputdictrepresent?\n",
    "ANS => d)Each key indicates the column index as an integer for where the value should go"
   ]
  },
  {
   "cell_type": "code",
   "execution_count": null,
   "metadata": {},
   "outputs": [],
   "source": [
    "55. Which is the correct way to open the CSV filehrdata.csvfor reading using thepandaspackage? Assume that thepandaspackagehas already been imported.\n",
    "ANS => c)pandas.read_csv('hrdata.csv')"
   ]
  },
  {
   "cell_type": "code",
   "execution_count": null,
   "metadata": {},
   "outputs": [],
   "source": [
    "56. By default,pandasuses 0-based indices for indexing rows. Which isthe correct way to import the CSV filehrdata.csvforreading and using the'Name'column as the index row instead?\n",
    "ANS => a)pandas.read_csv('hrdata.csv', index_col='Name')"
   ]
  },
  {
   "cell_type": "code",
   "execution_count": null,
   "metadata": {},
   "outputs": [],
   "source": [
    "57. Given the filedog_breeds.txt, which of the following is the correct wayto open the file for reading as atext file? Select all that apply\n",
    "ANS => \n",
    "b)open('dog_breeds.txt', 'r')\n",
    "c)open('dog_breeds.txt')\n",
    "e)open('dog_breeds.txt', 'rb') => \"READ IN BINARY DATA\""
   ]
  },
  {
   "cell_type": "code",
   "execution_count": null,
   "metadata": {},
   "outputs": [],
   "source": [
    "58. Given the following directory structure:\n",
    "ANS => animals/eline"
   ]
  },
  {
   "cell_type": "code",
   "execution_count": null,
   "metadata": {},
   "outputs": [],
   "source": [
    "59. Given the filejack_russell.png, which of the following is the correct way to open the file forreading as abuffered binary file? Select all that apply.\n",
    "ANS => open('jack_russell.png', 'rb')"
   ]
  },
  {
   "cell_type": "code",
   "execution_count": null,
   "metadata": {},
   "outputs": [],
   "source": [
    "60. Using the same directory structure as before:\n",
    "ANS => animal/ursine/bears.gif"
   ]
  },
  {
   "cell_type": "code",
   "execution_count": null,
   "metadata": {},
   "outputs": [],
   "source": [
    "61. Whenever possible, what is the recommended way to ensure that a file object is properly closed after usage?\n",
    "ANS => d)By using thewithstatement"
   ]
  },
  {
   "cell_type": "code",
   "execution_count": null,
   "metadata": {},
   "outputs": [],
   "source": [
    "62. Using the same directory structure as before:\n",
    "ANS => ../ursine/bears.gif"
   ]
  },
  {
   "cell_type": "code",
   "execution_count": null,
   "metadata": {},
   "outputs": [],
   "source": [
    "63. When reading a file using the file object, what method is best for reading the entire file into a single string?\n",
    "ANS => b).read()"
   ]
  },
  {
   "cell_type": "code",
   "execution_count": null,
   "metadata": {},
   "outputs": [],
   "source": [
    "64. The value1.73rounded to one decimal place using the “rounding up” strategy is...\n",
    "ANS => a)1.8"
   ]
  },
  {
   "cell_type": "code",
   "execution_count": null,
   "metadata": {},
   "outputs": [],
   "source": [
    "65. The value-2.961rounded to two decimal places using the “rounding down” strategy is...\n",
    "ANS => b)-2.97"
   ]
  },
  {
   "cell_type": "code",
   "execution_count": null,
   "metadata": {},
   "outputs": [],
   "source": [
    "66. When a value is truncated to 3 decimal places, which of the following is true?\n",
    "ANS => c)Both positive and negative numbers are rounded up."
   ]
  },
  {
   "cell_type": "code",
   "execution_count": null,
   "metadata": {},
   "outputs": [],
   "source": [
    "67. The value-0.045rounded to 2 decimal places using the “round half away from zero” strategy is...\n",
    "ANS => b)-0.04"
   ]
  },
  {
   "cell_type": "code",
   "execution_count": null,
   "metadata": {},
   "outputs": [],
   "source": [
    "68. Which rounding strategy does Python’s built-inround()function use?\n",
    "ANS => d)Round half to even"
   ]
  },
  {
   "cell_type": "code",
   "execution_count": null,
   "metadata": {},
   "outputs": [],
   "source": [
    "69. The value 4.65 rounded to one decimal place using the “round half to even” strategy is...\n",
    "ANS => a)4.6"
   ]
  },
  {
   "cell_type": "code",
   "execution_count": null,
   "metadata": {},
   "outputs": [],
   "source": [
    "70. Which problem arises due to the multiple inheritances, if hierarchical inheritance is used previously for its base classes?\n",
    "ANS => a) Diamond"
   ]
  },
  {
   "cell_type": "code",
   "execution_count": null,
   "metadata": {},
   "outputs": [],
   "source": [
    "71. How many classes should a program contain to implement the multiple inheritances?\n",
    "ANS => c) At least 3"
   ]
  },
  {
   "cell_type": "code",
   "execution_count": null,
   "metadata": {},
   "outputs": [],
   "source": [
    "72. If class ainherits class band class c as “class a: public class b, public class c{// class body ;}; ”, which class constructor will be called first?\n",
    "ANS =>b) Class b."
   ]
  },
  {
   "cell_type": "code",
   "execution_count": null,
   "metadata": {},
   "outputs": [],
   "source": [
    "73.If all the members of all baseclasses are private then\n",
    "ANS =>c) Derived class can still access them inthemultiple inheritance"
   ]
  },
  {
   "cell_type": "code",
   "execution_count": null,
   "metadata": {},
   "outputs": [],
   "source": [
    "74. Can the derived class be made abstract if multiple inheritance is used?\n",
    "ANS => d) No, since constructors won’t be there"
   ]
  },
  {
   "cell_type": "code",
   "execution_count": null,
   "metadata": {},
   "outputs": [],
   "source": [
    "75. Which among the following best defines the multilevel inheritance?\n",
    "ANS => c) Continuing single level inheritance"
   ]
  },
  {
   "cell_type": "code",
   "execution_count": null,
   "metadata": {},
   "outputs": [],
   "source": [
    "76. If there are 5 classes, E is derived from D, D from C, C from B and B from A. Which class constructor will be called first if the object of E or D is created?\n",
    "ANS => a) A"
   ]
  },
  {
   "cell_type": "code",
   "execution_count": null,
   "metadata": {},
   "outputs": [],
   "source": [
    "77. Which Class is having the highest degree of abstraction in multilevel inheritance of 5 levels?\n",
    "ANS => a) Class at 1st level"
   ]
  },
  {
   "cell_type": "code",
   "execution_count": null,
   "metadata": {},
   "outputs": [],
   "source": [
    "78. Multilevel inheritance allows _________________ in the program.\n",
    "ANS => d) As many levels of inheritance as required"
   ]
  },
  {
   "cell_type": "code",
   "execution_count": null,
   "metadata": {},
   "outputs": [],
   "source": [
    "79. If all the classes used parameterized constructors and no default constructor then, ___________\n",
    "ANS =>b) Object of lower-level classes must call parent class constructors explicitly"
   ]
  },
  {
   "cell_type": "code",
   "execution_count": null,
   "metadata": {},
   "outputs": [],
   "source": [
    "80. Which is the universal exception handler class?\n",
    "ANS =>d) Exceptions"
   ]
  },
  {
   "cell_type": "code",
   "execution_count": null,
   "metadata": {},
   "outputs": [],
   "source": [
    "81. What are two exception classes in the hierarchy of java exceptions class?\n",
    "ANS => c) Runtime exceptions and other exceptions"
   ]
  },
  {
   "cell_type": "code",
   "execution_count": null,
   "metadata": {},
   "outputs": [],
   "source": [
    "82. Which are the two blocks that are used to check error and handle the error?\n",
    "ANS =>a) Try and catch"
   ]
  },
  {
   "cell_type": "code",
   "execution_count": null,
   "metadata": {},
   "outputs": [],
   "source": [
    "83. To catch the exceptions ___________________\n",
    "ANS => a) An object must be created to catch the exception"
   ]
  },
  {
   "cell_type": "code",
   "execution_count": null,
   "metadata": {},
   "outputs": [],
   "source": [
    "84. Which class is used to handle the input and output exceptions?\n",
    "ANS =>c) IOExceptions"
   ]
  },
  {
   "cell_type": "code",
   "execution_count": null,
   "metadata": {},
   "outputs": [],
   "source": [
    "85. Which among the following is true for the class exceptions?\n",
    "ANS => d) Both base class and derived class may produce exceptions"
   ]
  },
  {
   "cell_type": "code",
   "execution_count": null,
   "metadata": {},
   "outputs": [],
   "source": [
    "86. If both base and derived class caught the exceptions,_____.\n",
    "ANS => a) Then catch block of a derived class must be defined before the base class"
   ]
  },
  {
   "cell_type": "code",
   "execution_count": null,
   "metadata": {},
   "outputs": [],
   "source": [
    "87. The catching of base class the exception _________in java.\n",
    "ANS => b) Before derived class is not allowed by the compiler"
   ]
  },
  {
   "cell_type": "code",
   "execution_count": null,
   "metadata": {},
   "outputs": [],
   "source": [
    "88. Which of the following handles the undefined class in the program?\n",
    "ANS => d) ClassNotFoundException"
   ]
  },
  {
   "cell_type": "code",
   "execution_count": null,
   "metadata": {},
   "outputs": [],
   "source": [
    "89. Which among the following is true?\n",
    "ANS => c) Both the base and derived class catch the blocks are important."
   ]
  },
  {
   "cell_type": "code",
   "execution_count": null,
   "metadata": {},
   "outputs": [],
   "source": [
    "90. Which condition among the following might result in memory exception?\n",
    "ANS => c) Infinite loops"
   ]
  },
  {
   "cell_type": "code",
   "execution_count": null,
   "metadata": {},
   "outputs": [],
   "source": [
    "91. Which among the following is the correct definition for static member functions?\n",
    "ANS => b) Functions made to maintain a single copy of member functions for all the objects"
   ]
  },
  {
   "cell_type": "code",
   "execution_count": null,
   "metadata": {},
   "outputs": [],
   "source": [
    "92. The static member functions __________________\n",
    "ANS => c) Havingaccess to only the static members of a class."
   ]
  },
  {
   "cell_type": "code",
   "execution_count": null,
   "metadata": {},
   "outputs": [],
   "source": [
    "93. Which is the correct syntax to access the static member functions with a class name?\n",
    "ANS => a) className . functionName;"
   ]
  },
  {
   "cell_type": "code",
   "execution_count": null,
   "metadata": {},
   "outputs": [],
   "source": [
    "94. The static members are ______________________\n",
    "ANS => c) Created as many times,theclass is being used."
   ]
  },
  {
   "cell_type": "code",
   "execution_count": null,
   "metadata": {},
   "outputs": [],
   "source": [
    "95. Which among the following is true?\n",
    "ANS =>b) Static member functions can’t be overloaded."
   ]
  },
  {
   "cell_type": "code",
   "execution_count": null,
   "metadata": {},
   "outputs": [],
   "source": [
    "96. The static member functions _______________ \n",
    "ANS => d) Can’t be declared const, volatile,or constantvolatile."
   ]
  },
  {
   "cell_type": "code",
   "execution_count": null,
   "metadata": {},
   "outputs": [],
   "source": [
    "97. Which among the following can’t be used to access the membersin anyway?\n",
    "ANS =>c) Single colon."
   ]
  },
  {
   "cell_type": "code",
   "execution_count": null,
   "metadata": {},
   "outputs": [],
   "source": [
    "98. If static data member are made inline, ______________\n",
    "ANS =>c) Those can be initialised within the class."
   ]
  },
  {
   "cell_type": "code",
   "execution_count": null,
   "metadata": {},
   "outputs": [],
   "source": [
    "99. The static data member _________________\n",
    "ANS =>b) Can’t be mutable."
   ]
  },
  {
   "cell_type": "code",
   "execution_count": null,
   "metadata": {},
   "outputs": [],
   "source": [
    "100. We can use the static member functions and static data member\n",
    "ANS =>a) Even if a class object is not created"
   ]
  },
  {
   "cell_type": "code",
   "execution_count": null,
   "metadata": {},
   "outputs": [],
   "source": [
    "101.Point out the wrong statement\n",
    "ANS => c) rPy provides lotsof scientific routines that work on top of NumPy."
   ]
  },
  {
   "cell_type": "code",
   "execution_count": null,
   "metadata": {},
   "outputs": [],
   "source": [
    "102. The ________ function returns its argument with themodified shape, whereas the ________ method modifies the array itself.\n",
    "ANS => a) reshape,resize."
   ]
  },
  {
   "cell_type": "code",
   "execution_count": null,
   "metadata": {},
   "outputs": [],
   "source": [
    "103. To create sequences of the numbers, NumPy provides a function __________ analogous to range that returns arrays instead of lists.\n",
    "ANS =>a) arrange."
   ]
  },
  {
   "cell_type": "code",
   "execution_count": null,
   "metadata": {},
   "outputs": [],
   "source": [
    "104. Point out the correct statement:\n",
    "ANS => D)ALL OF THESE\n",
    "a) NumPymain object is the Homogeneous -Multidimensional array.\n",
    "b) In Numpy, dimensions are called axes.\n",
    "c) Numpy array class is called ndarray."
   ]
  },
  {
   "cell_type": "code",
   "execution_count": null,
   "metadata": {},
   "outputs": [],
   "source": [
    "105. Which of the following function stack 1D array as the columns into the2D array?\n",
    "ANS => b) column_stack."
   ]
  },
  {
   "cell_type": "code",
   "execution_count": null,
   "metadata": {},
   "outputs": [],
   "source": [
    "106. ndarray is also known as analias array\n",
    "ANS => a) True"
   ]
  },
  {
   "cell_type": "code",
   "execution_count": null,
   "metadata": {},
   "outputs": [],
   "source": [
    "107. Which of the following method creates thenew array object that looks at the same data?\n",
    "ANS => a) view."
   ]
  },
  {
   "cell_type": "code",
   "execution_count": null,
   "metadata": {},
   "outputs": [],
   "source": [
    "108. Which of the functionscan be used to combinethedifferent vectors to obtain the result for each n-uplet?\n",
    "ANS => b) ix_."
   ]
  },
  {
   "cell_type": "code",
   "execution_count": null,
   "metadata": {},
   "outputs": [],
   "source": [
    "109. ndarray.dataitemSize is the buffer containing actual elements of an array.\n",
    "ANS => a) True"
   ]
  },
  {
   "cell_type": "code",
   "execution_count": null,
   "metadata": {},
   "outputs": [],
   "source": [
    "110. Which of the following is in the NumPy library?\n",
    "ANS => c) Fourier transform"
   ]
  },
  {
   "cell_type": "code",
   "execution_count": null,
   "metadata": {},
   "outputs": [],
   "source": [
    "111. Which of the following sets the size of the buffer used in ufuncs ?\n",
    "ANS => c) setbufsize(size)"
   ]
  },
  {
   "cell_type": "code",
   "execution_count": null,
   "metadata": {},
   "outputs": [],
   "source": [
    "112. Point out the wrong statement\n",
    "ANS => b) In Numpy, universal functions arethe instances ofnumpy.ufunction class"
   ]
  },
  {
   "cell_type": "code",
   "execution_count": null,
   "metadata": {},
   "outputs": [],
   "source": [
    "113. Which of the following attribute should be used while checking thetype combination input and output?\n",
    "ANS => a) .types"
   ]
  },
  {
   "cell_type": "code",
   "execution_count": null,
   "metadata": {},
   "outputs": [],
   "source": [
    "114. Which of the following returns an array of “ones”with the same shapeand type as a given array?\n",
    "ANS => b) ones_like"
   ]
  },
  {
   "cell_type": "code",
   "execution_count": null,
   "metadata": {},
   "outputs": [],
   "source": [
    "115. Point out the wrong statement\n",
    "ANS => c) The output of the ufunc is necessarily a ndarray, if all the input arguments are ndarrays"
   ]
  },
  {
   "cell_type": "code",
   "execution_count": null,
   "metadata": {},
   "outputs": [],
   "source": [
    "116. Which of the following set ofa floating-point error callback function or a log object?\n",
    "ANS => b) settercall."
   ]
  },
  {
   "cell_type": "code",
   "execution_count": null,
   "metadata": {},
   "outputs": [],
   "source": [
    "117. Some ufuncs can take output arguments.\n",
    "ANS => b) False"
   ]
  },
  {
   "cell_type": "code",
   "execution_count": null,
   "metadata": {},
   "outputs": [],
   "source": [
    "118. ___________ decompose the elements of x into the mantissa and the two’s exponent.\n",
    "ANS => c) frexp"
   ]
  },
  {
   "cell_type": "code",
   "execution_count": null,
   "metadata": {},
   "outputs": [],
   "source": [
    "119. Which of the following function take the only a single value as input?\n",
    "ANS => a) iscomplex."
   ]
  },
  {
   "cell_type": "code",
   "execution_count": null,
   "metadata": {},
   "outputs": [],
   "source": [
    "120. The array object returned by the _array_prepare_ is passed to ufunc for acomputation.\n",
    "ANS => a) True"
   ]
  },
  {
   "cell_type": "code",
   "execution_count": null,
   "metadata": {},
   "outputs": [],
   "source": [
    "121. All pandas data structures are ___mutable but not always _______-mutable.\n",
    "ANS => c) value,size."
   ]
  },
  {
   "cell_type": "code",
   "execution_count": null,
   "metadata": {},
   "outputs": [],
   "source": [
    "122. Point out the correct statement\n",
    "ANS => D) ALL OF THESE\n",
    "a) Pandas consist of a set of the labelledarray data structures\n",
    "b) Pandas consist of an integrated group by the engine for aggregating and the transforming data sets\n",
    "c) Pandas consist of moving window statistics"
   ]
  },
  {
   "cell_type": "code",
   "execution_count": null,
   "metadata": {},
   "outputs": [],
   "source": [
    "123. Which of the following statement will import the pandas?\n",
    "ANS => a) import pandas as pd"
   ]
  },
  {
   "cell_type": "code",
   "execution_count": null,
   "metadata": {},
   "outputs": [],
   "source": [
    "124. Which of the following object did weget after reading the CSV file?\n",
    "ANS => a) DataFrame."
   ]
  },
  {
   "cell_type": "code",
   "execution_count": null,
   "metadata": {},
   "outputs": [],
   "source": [
    "125. Point out the wrong statement\n",
    "ANS => C) The panel is generally 2D labelled, also a size-mutable array."
   ]
  },
  {
   "cell_type": "code",
   "execution_count": null,
   "metadata": {},
   "outputs": [],
   "source": [
    "126. Which of the following library is similar tothepandas?\n",
    "ANS => a) numpy."
   ]
  },
  {
   "cell_type": "code",
   "execution_count": null,
   "metadata": {},
   "outputs": [],
   "source": [
    "127. Panel is a container for the Series, and DataFrame is a container for DataFrame objects\n",
    "ANS => b) False"
   ]
  },
  {
   "cell_type": "code",
   "execution_count": null,
   "metadata": {},
   "outputs": [],
   "source": [
    "128. Which of the following is the prominent python “statistics and econometrics library”?\n",
    "ANS => c) Statsmodels."
   ]
  },
  {
   "cell_type": "code",
   "execution_count": null,
   "metadata": {},
   "outputs": [],
   "source": [
    "129. Which of the following is thefoundational exploratory visualisation package for the R language in the pandas ecosystem?\n",
    "ANS => a) yhat."
   ]
  },
  {
   "cell_type": "code",
   "execution_count": null,
   "metadata": {},
   "outputs": [],
   "source": [
    "130. Pandas consist of static and the moving window linear and panel regression\n",
    "ANS => a) True"
   ]
  },
  {
   "cell_type": "code",
   "execution_count": null,
   "metadata": {},
   "outputs": [],
   "source": [
    "131. Quandl API for Python wraps the __ REST API to returnsthe pandas DataFrames with time series indexes\n",
    "ANS => a) Quandl."
   ]
  },
  {
   "cell_type": "code",
   "execution_count": null,
   "metadata": {},
   "outputs": [],
   "source": [
    "132. Point out the correct statement\n",
    "ANS => a) Statsmodels provides powerful statistics, econometrics, analysisand the modelling functionality whichis out of pandas’ scope"
   ]
  },
  {
   "cell_type": "code",
   "execution_count": null,
   "metadata": {},
   "outputs": [],
   "source": [
    "133.Which of the following library is used to retrieve andtoacquire statistical data and metadata disseminated in SDMX 2.1?\n",
    "ANS => a) pandaSDMX"
   ]
  },
  {
   "cell_type": "code",
   "execution_count": null,
   "metadata": {},
   "outputs": [],
   "source": [
    "134. Which of the following provides thestandard API for doing computations with MongoDB?\n",
    "ANS => a) Blaze."
   ]
  },
  {
   "cell_type": "code",
   "execution_count": null,
   "metadata": {},
   "outputs": [],
   "source": [
    "135. Point out the wrong statement\n",
    "ANS => c) Spyder is a cross-platform Qt-based open-source R IDE"
   ]
  },
  {
   "cell_type": "code",
   "execution_count": null,
   "metadata": {},
   "outputs": [],
   "source": [
    "136. Which of the following makes use of the pandas and returns data in a Series or DataFrame?\n",
    "ANS => b) freedapi."
   ]
  },
  {
   "cell_type": "code",
   "execution_count": null,
   "metadata": {},
   "outputs": [],
   "source": [
    "137. Spyder can introspect and display Pandas DataFrames\n",
    "ANS => b) False"
   ]
  },
  {
   "cell_type": "code",
   "execution_count": null,
   "metadata": {},
   "outputs": [],
   "source": [
    "138. Which of the following is used for machine learning in the python?\n",
    "ANS => a) sci-kit-learn."
   ]
  },
  {
   "cell_type": "code",
   "execution_count": null,
   "metadata": {},
   "outputs": [],
   "source": [
    "139. The ________ project builds on top of the pandas and matplotlib to provide easy plotting of data.\n",
    "ANS => b) Seaborn."
   ]
  },
  {
   "cell_type": "code",
   "execution_count": null,
   "metadata": {},
   "outputs": [],
   "source": [
    "140 x-ray brings the labelled data power of pandas to the physical sciences.\n",
    "ANS => a) True"
   ]
  },
  {
   "cell_type": "code",
   "execution_count": null,
   "metadata": {},
   "outputs": [],
   "source": [
    "141. Which of the following is the base layer ofall of the sparse has it indexed data structures?\n",
    "ANS => b) SparseArray."
   ]
  },
  {
   "cell_type": "code",
   "execution_count": null,
   "metadata": {},
   "outputs": [],
   "source": [
    "142. Point out the correct statement\n",
    "ANS => D)ALL OF THESE\n",
    "a) All of the standardpandas data structures have to_sparse method\n",
    "b) Any sparse object can be converted back to the standard dense form by calling the to_dense\n",
    "c) The sparse objects exist for memory efficiency reasons."
   ]
  },
  {
   "cell_type": "code",
   "execution_count": null,
   "metadata": {},
   "outputs": [],
   "source": [
    "143. Which of the following is not an indexed object?\n",
    "ANS => D) NONE OF THESE\n",
    "a) SparseSeries.\n",
    "b) SparseDataFrame.\n",
    "c) SparsePanel."
   ]
  },
  {
   "cell_type": "code",
   "execution_count": null,
   "metadata": {},
   "outputs": [],
   "source": [
    "144. Which of the following list like data structure is used for managing thedynamic collection of SparseArrays?\n",
    "ANS => a) SparseList."
   ]
  },
  {
   "cell_type": "code",
   "execution_count": null,
   "metadata": {},
   "outputs": [],
   "source": [
    "145. Point out the wrong statement\n",
    "ANS => a) to_array. append can accept scalar values or any 2-Dsequence."
   ]
  },
  {
   "cell_type": "code",
   "execution_count": null,
   "metadata": {},
   "outputs": [],
   "source": [
    "146. Which of the following methodused for transforming theSparse-series indexby theMultiIndex to a scipy.sparse.coo_matrix?\n",
    "ANS => a) SparseSeries.to_coo()."
   ]
  },
  {
   "cell_type": "code",
   "execution_count": null,
   "metadata": {},
   "outputs": [],
   "source": [
    "147. The integer format tracks only the locations andthesizes of blocks of data.\n",
    "ANS => b) False"
   ]
  },
  {
   "cell_type": "code",
   "execution_count": null,
   "metadata": {},
   "outputs": [],
   "source": [
    "148. Which of the following is used for the testing for membership in the list of column names?\n",
    "ANS => a) in."
   ]
  },
  {
   "cell_type": "code",
   "execution_count": null,
   "metadata": {},
   "outputs": [],
   "source": [
    "149. Which of the following indexing capabilities is used as theconcise means of selecting data from a pandas object?\n",
    "ANS => b) ix."
   ]
  },
  {
   "cell_type": "code",
   "execution_count": null,
   "metadata": {},
   "outputs": [],
   "source": [
    "150. Pandas follow the NumPy convention of raising an error when you try to convert something to a bool. \n",
    "ANS => a) True"
   ]
  }
 ],
 "metadata": {
  "kernelspec": {
   "display_name": "Python 3",
   "language": "python",
   "name": "python3"
  },
  "language_info": {
   "codemirror_mode": {
    "name": "ipython",
    "version": 3
   },
   "file_extension": ".py",
   "mimetype": "text/x-python",
   "name": "python",
   "nbconvert_exporter": "python",
   "pygments_lexer": "ipython3",
   "version": "3.7.1"
  }
 },
 "nbformat": 4,
 "nbformat_minor": 4
}
