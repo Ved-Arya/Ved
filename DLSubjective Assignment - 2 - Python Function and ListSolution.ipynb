{
 "cells": [
  {
   "cell_type": "markdown",
   "metadata": {},
   "source": [
    "# Assignments"
   ]
  },
  {
   "cell_type": "markdown",
   "metadata": {},
   "source": [
    "Q1. Write the Python function to get a string made of 4 copies of the last\n",
    "two characters of the specified string (length must be at least 2).\n",
    "\n",
    "    Sample function and result :\n",
    "    insert-end ('Python') -> abababab\n",
    "    insert-end('Exercises') -> jkjkjkjk"
   ]
  },
  {
   "cell_type": "code",
   "execution_count": 18,
   "metadata": {},
   "outputs": [
    {
     "data": {
      "text/plain": [
       "'abcbcbcbcbc'"
      ]
     },
     "execution_count": 18,
     "metadata": {},
     "output_type": "execute_result"
    }
   ],
   "source": [
    "def psaVedInsertEnd(first1):\n",
    "    stringLength = len(first1)\n",
    "    if stringLength >= 2:\n",
    "        return first1+first1[stringLength-2:]*4\n",
    "    else:\n",
    "        return \"No String Can be Made\"\n",
    "psaVedInsertEnd('abc')"
   ]
  },
  {
   "cell_type": "markdown",
   "metadata": {},
   "source": [
    "Q2. Write the python function to get a string made of its first three\n",
    "characters of a specified string. If the length of the string is less than 3\n",
    "then return the original string.\n",
    "    \n",
    "    Sample function and result :\n",
    "    first-three('ipy') -> ipy\n",
    "    first-three('python') -> pyt"
   ]
  },
  {
   "cell_type": "code",
   "execution_count": 22,
   "metadata": {},
   "outputs": [
    {
     "data": {
      "text/plain": [
       "'abc'"
      ]
     },
     "execution_count": 22,
     "metadata": {},
     "output_type": "execute_result"
    }
   ],
   "source": [
    "def psaVedFirstThree(first2):\n",
    "    stringLength = len(first2)\n",
    "    if stringLength >= 3:\n",
    "        return first2[:3]\n",
    "    else:\n",
    "        return \"No String Can be Made\"\n",
    "psaVedFirstThree('abcdef')"
   ]
  },
  {
   "cell_type": "markdown",
   "metadata": {},
   "source": [
    "Q3. Write the Python program to find smallest window that contains all\n",
    "characters of the given string?\n",
    "\n",
    "    Original Strings:\n",
    "    asdaewsqgtwwsa\n",
    "    Smallest window that contains all characters of the said string:\n",
    "    Daewsqgt"
   ]
  },
  {
   "cell_type": "code",
   "execution_count": 23,
   "metadata": {},
   "outputs": [
    {
     "data": {
      "text/plain": [
       "'bcdefgh'"
      ]
     },
     "execution_count": 23,
     "metadata": {},
     "output_type": "execute_result"
    }
   ],
   "source": [
    "def psaVedMinimumWindow(first3,second3):\n",
    "    splitedData = list(second3)\n",
    "    sortedIndex = []\n",
    "    for a in splitedData:\n",
    "        sortedIndex.append(first3.index(a))\n",
    "    sortedIndex = sorted(sortedIndex)\n",
    "    minimumIndex = min(sortedIndex)\n",
    "    maximumIndex = max(sortedIndex)\n",
    "    return first3[minimumIndex:maximumIndex+1]\n",
    "psaVedMinimumWindow('abcdefghi','hbfd')"
   ]
  },
  {
   "cell_type": "markdown",
   "metadata": {},
   "source": [
    "Q4. Write the Python program to count number of substrings from a\n",
    "given string of lowercase alphabets with exactly k distinct (given)\n",
    "characters?\n",
    "\n",
    "    Input a string (lowercase alphabets): wolf\n",
    "    Input k: 4\n",
    "    Number of substrings with exactly 4 distinct characters: 1"
   ]
  },
  {
   "cell_type": "code",
   "execution_count": 24,
   "metadata": {},
   "outputs": [
    {
     "name": "stdin",
     "output_type": "stream",
     "text": [
      "Enter String adc\n",
      "Enter key 2\n"
     ]
    },
    {
     "data": {
      "text/plain": [
       "2"
      ]
     },
     "execution_count": 24,
     "metadata": {},
     "output_type": "execute_result"
    }
   ],
   "source": [
    "def psaVedSubstringCount():\n",
    "    string = input('Enter String')\n",
    "    k = int(input('Enter key'))\n",
    "    count = 0\n",
    "    distinctCharacterCount = len(list(set(string)))\n",
    "    distinctCharacter = list(set(string))\n",
    "    if distinctCharacterCount < k:\n",
    "        return \"No Substring Can Be Made.\"\n",
    "    elif distinctCharacterCount == k:\n",
    "        return \"Only One Substring Can Be Made.\"\n",
    "    else:\n",
    "        joinedString = ''.join(distinctCharacter)\n",
    "        firstIndex = joinedString.find(joinedString[0])\n",
    "        lastIndex = joinedString.find(joinedString[-1])\n",
    "        incrementedFirstIndex = 0\n",
    "        while ((incrementedFirstIndex+k)<=(lastIndex+1)):\n",
    "               count += 1\n",
    "               incrementedFirstIndex += 1\n",
    "        return count\n",
    "psaVedSubstringCount()"
   ]
  },
  {
   "cell_type": "markdown",
   "metadata": {},
   "source": [
    "Q5. Write the Python program to count number of non-empty\n",
    "substrings of the given string?\n",
    "\n",
    "    Input a string: w3resource\n",
    "    Number of substrings:\n",
    "    55"
   ]
  },
  {
   "cell_type": "code",
   "execution_count": 26,
   "metadata": {},
   "outputs": [
    {
     "name": "stdin",
     "output_type": "stream",
     "text": [
      "Enter String abc\n"
     ]
    },
    {
     "data": {
      "text/plain": [
       "6"
      ]
     },
     "execution_count": 26,
     "metadata": {},
     "output_type": "execute_result"
    }
   ],
   "source": [
    "def psaVedSameSubString():\n",
    "    string = input('Enter String')\n",
    "    stringLength = len(string)\n",
    "    allSubStrings = []\n",
    "    subStrings = []\n",
    "    for a in range(0,stringLength):\n",
    "        for b in range(a,stringLength+1):\n",
    "            if string[a:b] != '':\n",
    "                allSubStrings.append(string[a:b])\n",
    "    return len(allSubStrings)\n",
    "psaVedSameSubString()"
   ]
  },
  {
   "cell_type": "markdown",
   "metadata": {},
   "source": [
    "Q6. Write the Python program to count the number of strings where the\n",
    "string length is 2 or more, and first and last character are same\n",
    "from a given list of strings.\n",
    "\n",
    "    Sample List : ['abc', 'xyz', 'wxw', '1331']\n",
    "    Expected Result: 2"
   ]
  },
  {
   "cell_type": "code",
   "execution_count": 1,
   "metadata": {},
   "outputs": [
    {
     "name": "stdout",
     "output_type": "stream",
     "text": [
      "3\n"
     ]
    }
   ],
   "source": [
    "def psaVedMatchWords(first20):\n",
    "    ctr = 0\n",
    "    for a in first20:\n",
    "        if len(a) > 1 and a[0] == a[-1]:\n",
    "            ctr += 1\n",
    "    return ctr\n",
    "print(psaVedMatchWords(['aam', 'baamb', 'caamc', 'daamd']))"
   ]
  },
  {
   "cell_type": "markdown",
   "metadata": {},
   "source": [
    "Q7. Write the Python program to get a list, sorted in increasing order by\n",
    "the last element in each tuple from the given list of non-empty\n",
    "tuples?\n",
    "\n",
    "    Sample List - [ (2, 5), (1, 2), (4, 4), (2, 3), (2, 1) ]\n",
    "    Expected Result - [ (2, 1), (1, 2), (2, 3), (4, 4), (2, 5) ]"
   ]
  },
  {
   "cell_type": "code",
   "execution_count": 2,
   "metadata": {},
   "outputs": [
    {
     "name": "stdout",
     "output_type": "stream",
     "text": [
      "[(2, 1), (1, 2), (2, 3), (4, 4), (2, 5)]\n"
     ]
    }
   ],
   "source": [
    "def last(n): return n[-1]\n",
    "def psaVedSotedTuple(first21):\n",
    "    return sorted(first21,key=last)\n",
    "print(psaVedSotedTuple([(2, 5), (1, 2), (4, 4), (2, 3), (2, 1)]))"
   ]
  },
  {
   "cell_type": "markdown",
   "metadata": {},
   "source": [
    "Q8. Write the Python program to remove duplicates from a list?"
   ]
  },
  {
   "cell_type": "code",
   "execution_count": 3,
   "metadata": {},
   "outputs": [
    {
     "name": "stdout",
     "output_type": "stream",
     "text": [
      "[40, 10, 80, 50, 20, 60, 30]\n"
     ]
    }
   ],
   "source": [
    "def psaVedDuplicateList(first22):\n",
    "    return list(set(first22))\n",
    "print(psaVedDuplicateList([10,20,30,20,10,50,60,40,80,50,40]))"
   ]
  },
  {
   "cell_type": "markdown",
   "metadata": {},
   "source": [
    "Q9. Write the Python program to find the list of words that are longer\n",
    "than n from a given list of words?"
   ]
  },
  {
   "cell_type": "code",
   "execution_count": 4,
   "metadata": {},
   "outputs": [
    {
     "name": "stdout",
     "output_type": "stream",
     "text": [
      "['Python', 'program', 'longer']\n"
     ]
    }
   ],
   "source": [
    "def psaVedLongerWord(first23,second23):\n",
    "    words=first23.split()\n",
    "    data = []\n",
    "    for x in words:\n",
    "        if len(x) > second23:\n",
    "            data.append(x)\n",
    "    return data\n",
    "print(psaVedLongerWord('Write the Python program to find the list of words that are longer than n from a given list of words',5))"
   ]
  },
  {
   "cell_type": "markdown",
   "metadata": {},
   "source": [
    "Q10. Write the Python program to print a specified list after removing the\n",
    "0th, 4th, and 5th elements?\n",
    "    \n",
    "    Sample List - ['Red', 'Green', 'White', 'Black', 'Pink', 'Yellow']\n",
    "    Expected Output - ['Green', 'White', 'Black']"
   ]
  },
  {
   "cell_type": "code",
   "execution_count": 5,
   "metadata": {},
   "outputs": [
    {
     "name": "stdout",
     "output_type": "stream",
     "text": [
      "['Green', 'White', 'Black']\n"
     ]
    }
   ],
   "source": [
    "def psaVedRemoveIndexValue():\n",
    "    color = ['Red', 'Green', 'White', 'Black', 'Pink', 'Yellow']\n",
    "    color = [x for (i,x) in enumerate(color) if i not in (0,4,5)]\n",
    "    return color\n",
    "print(psaVedRemoveIndexValue())"
   ]
  },
  {
   "cell_type": "markdown",
   "metadata": {},
   "source": [
    "Q11. Write the Python program to generate all permutations of a list in\n",
    "Python?"
   ]
  },
  {
   "cell_type": "code",
   "execution_count": 8,
   "metadata": {},
   "outputs": [
    {
     "name": "stdout",
     "output_type": "stream",
     "text": [
      "[(1, 2, 3), (1, 3, 2), (2, 1, 3), (2, 3, 1), (3, 1, 2), (3, 2, 1)]\n"
     ]
    }
   ],
   "source": [
    "def psaVedAllPermutations():\n",
    "    import itertools\n",
    "    return list(itertools.permutations([1,2,3]))\n",
    "print(psaVedAllPermutations())"
   ]
  },
  {
   "cell_type": "markdown",
   "metadata": {},
   "source": [
    "Q12. Write the Python program to convert a pair of values into a sorted\n",
    "unique array?\n",
    " \n",
    "    Original List- [ (1, 2), (3, 4), (1, 2), (5, 6), (7, 8), (1, 2), (3, 4), (3, 4), (7, 8), (9, 10) ]\n",
    "    Sorted Unique Data- [ 1, 2, 3, 4, 5, 6, 7, 8, 9, 10 ] \n"
   ]
  },
  {
   "cell_type": "code",
   "execution_count": 9,
   "metadata": {},
   "outputs": [
    {
     "name": "stdout",
     "output_type": "stream",
     "text": [
      "Original List:  [(1, 2), (3, 4), (1, 2), (5, 6), (7, 8), (1, 2), (3, 4), (3, 4), (7, 8), (9, 10)]\n",
      "Sorted Unique Data: [1, 2, 3, 4, 5, 6, 7, 8, 9, 10]\n"
     ]
    }
   ],
   "source": [
    "def psaVedSortedTupleIntoList():\n",
    "    L = [(1, 2), (3, 4), (1, 2), (5, 6), (7, 8), (1, 2), (3, 4), (3, 4), (7, 8), (9, 10)]\n",
    "    print(\"Original List: \", L)\n",
    "    print(\"Sorted Unique Data:\",sorted(set().union(*L)))\n",
    "psaVedSortedTupleIntoList()"
   ]
  },
  {
   "cell_type": "markdown",
   "metadata": {},
   "source": [
    "## Great job!"
   ]
  }
 ],
 "metadata": {
  "kernelspec": {
   "display_name": "Python 3",
   "language": "python",
   "name": "python3"
  },
  "language_info": {
   "codemirror_mode": {
    "name": "ipython",
    "version": 3
   },
   "file_extension": ".py",
   "mimetype": "text/x-python",
   "name": "python",
   "nbconvert_exporter": "python",
   "pygments_lexer": "ipython3",
   "version": "3.7.1"
  }
 },
 "nbformat": 4,
 "nbformat_minor": 2
}
