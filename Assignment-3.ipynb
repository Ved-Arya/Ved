{
 "cells": [
  {
   "cell_type": "markdown",
   "metadata": {},
   "source": [
    "Task 1 Q no. 1 \n",
    "    Write a function to compute 5/0 and use try/except to catch the exceptions."
   ]
  },
  {
   "cell_type": "code",
   "execution_count": 1,
   "metadata": {},
   "outputs": [
    {
     "name": "stdout",
     "output_type": "stream",
     "text": [
      "Can not divide by zero\n"
     ]
    }
   ],
   "source": [
    "def compute():\n",
    "    a=5\n",
    "    b=0\n",
    "    try:\n",
    "        return a/b\n",
    "    except:\n",
    "        print('Can not divide by zero')\n",
    "compute()"
   ]
  },
  {
   "cell_type": "markdown",
   "metadata": {},
   "source": [
    "Task 1 Q no. 2 \n",
    "    Implement a Python program to generate all sentences where subject is in [\"Americans\",\"Indians\"] and verb is in \n",
    "    [\"Play\", \"watch\"] and the object is in [\"Baseball\",\"cricket\"]."
   ]
  },
  {
   "cell_type": "code",
   "execution_count": 2,
   "metadata": {},
   "outputs": [
    {
     "name": "stdout",
     "output_type": "stream",
     "text": [
      "Americans  play Baseball \n",
      "\n",
      "Americans  play Cricket \n",
      "\n",
      "Americans  watch Baseball \n",
      "\n",
      "Americans  watch Cricket \n",
      "\n",
      "Indians play Baseball \n",
      "\n",
      "Indians play Cricket \n",
      "\n",
      "Indians watch Baseball \n",
      "\n",
      "Indians watch Cricket \n",
      "\n"
     ]
    }
   ],
   "source": [
    "subjects=[\"Americans \",\"Indians\"]\n",
    "verbs=[\"play\",\"watch\"]\n",
    "objects=[\"Baseball\",\"Cricket\"]\n",
    "def makeSentance():\n",
    "    for a in subjects:\n",
    "        for b in verbs:\n",
    "            for c in objects:\n",
    "                print(a,b,c,end=' ')\n",
    "                print('\\n')\n",
    "makeSentance()"
   ]
  },
  {
   "cell_type": "code",
   "execution_count": null,
   "metadata": {},
   "outputs": [],
   "source": [
    "Task 2 Q no 1 \n",
    "    Write a function so that the columns of the output matrix are powers of the input vector. The order of the powers is determined by the \n",
    "    increasing boolean argument. \n",
    "    Specifically when increasing is False, the i-th output column is the input vector raised element - wise to the power of N - i - 1."
   ]
  },
  {
   "cell_type": "code",
   "execution_count": 15,
   "metadata": {},
   "outputs": [
    {
     "data": {
      "text/plain": [
       "array([[ 1,  1,  1,  1],\n",
       "       [ 8,  4,  2,  1],\n",
       "       [27,  9,  3,  1],\n",
       "       [64, 16,  4,  1]])"
      ]
     },
     "execution_count": 15,
     "metadata": {},
     "output_type": "execute_result"
    }
   ],
   "source": [
    "import numpy as a\n",
    "b = a.array([1,2,3,4])\n",
    "no_of_col = 4\n",
    "a.vander(b, no_of_col)"
   ]
  },
  {
   "cell_type": "code",
   "execution_count": null,
   "metadata": {},
   "outputs": [],
   "source": []
  }
 ],
 "metadata": {
  "kernelspec": {
   "display_name": "Python 3",
   "language": "python",
   "name": "python3"
  },
  "language_info": {
   "codemirror_mode": {
    "name": "ipython",
    "version": 3
   },
   "file_extension": ".py",
   "mimetype": "text/x-python",
   "name": "python",
   "nbconvert_exporter": "python",
   "pygments_lexer": "ipython3",
   "version": "3.7.1"
  }
 },
 "nbformat": 4,
 "nbformat_minor": 4
}
